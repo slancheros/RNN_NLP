{
  "nbformat": 4,
  "nbformat_minor": 0,
  "metadata": {
    "colab": {
      "provenance": [],
      "gpuType": "L4",
      "machine_shape": "hm",
      "toc_visible": true,
      "include_colab_link": true
    },
    "kernelspec": {
      "name": "python3",
      "display_name": "Python 3"
    },
    "language_info": {
      "name": "python"
    },
    "accelerator": "GPU"
  },
  "cells": [
    {
      "cell_type": "markdown",
      "metadata": {
        "id": "view-in-github",
        "colab_type": "text"
      },
      "source": [
        "<a href=\"https://colab.research.google.com/github/slancheros/RNN_NLP/blob/main/Microproyecto2_Entregable.ipynb\" target=\"_parent\"><img src=\"https://colab.research.google.com/assets/colab-badge.svg\" alt=\"Open In Colab\"/></a>"
      ]
    },
    {
      "cell_type": "markdown",
      "source": [
        "# Técnicas de Deep Learning - Microproyecto 2 - RNN"
      ],
      "metadata": {
        "id": "TfWUjUopHQMG"
      }
    },
    {
      "cell_type": "markdown",
      "source": [
        "Por: Sandra Lancheros y Pilar Muñoz."
      ],
      "metadata": {
        "id": "XSG1oHGyLV87"
      }
    },
    {
      "cell_type": "markdown",
      "source": [
        "# Objetivo General"
      ],
      "metadata": {
        "id": "xiXMUOKwLX9i"
      }
    },
    {
      "cell_type": "markdown",
      "source": [
        "Afianzar el conocimiento de las arquitecturas RNN en DeepLearning. Específicamente, vamos a utilizar una arquitectura RNN para predicción de Análisis de Sentimientos en clasificación binaria: Positivo o Negativo."
      ],
      "metadata": {
        "id": "WFC8Ri3hLdhk"
      }
    },
    {
      "cell_type": "markdown",
      "source": [
        "# Exploración y Perfilamiento de datos"
      ],
      "metadata": {
        "id": "02O2JY_ALCNq"
      }
    },
    {
      "cell_type": "markdown",
      "source": [
        "Desarrollar un método basado en redes neuronales recurrentes que permita\n",
        "clasificar con precisión las reseñas de películas en IMDb en una de las dos\n",
        "categorías: positiva o negativa.\n",
        "B. Conjunto de datos\n",
        "- Los datos corresponden a un dataset de reseñas de películas en IMDb,\n",
        "disponibles en el siguiente [enlace](https://www.kaggle.com/datasets/yasserh/imdb-movie-ratings-sentiment-analysis/data). El dataset contiene miles de reseñas\n",
        "etiquetadas con su correspondiente rating y etiqueta de sentimiento (positivo o\n",
        "negativo)"
      ],
      "metadata": {
        "id": "axk6ErQ9OukL"
      }
    },
    {
      "cell_type": "code",
      "source": [
        "from google.colab import drive\n",
        "drive.mount('/content/drive')"
      ],
      "metadata": {
        "id": "MBMn5Vl2MEGl",
        "colab": {
          "base_uri": "https://localhost:8080/"
        },
        "outputId": "564e0c62-044b-410b-e32a-e356ec9e0c0d"
      },
      "execution_count": 1,
      "outputs": [
        {
          "output_type": "stream",
          "name": "stdout",
          "text": [
            "Drive already mounted at /content/drive; to attempt to forcibly remount, call drive.mount(\"/content/drive\", force_remount=True).\n"
          ]
        }
      ]
    },
    {
      "cell_type": "code",
      "source": [
        "import pandas as pd\n",
        "import numpy as np"
      ],
      "metadata": {
        "id": "dbSJvj7eNZRQ"
      },
      "execution_count": 2,
      "outputs": []
    },
    {
      "cell_type": "code",
      "source": [
        "imdb_df = pd.read_csv('/content/drive/MyDrive/MasterIA/DeepLearning/Microproy2/movie.csv')"
      ],
      "metadata": {
        "id": "dMQ3zD_YNbi0"
      },
      "execution_count": 3,
      "outputs": []
    },
    {
      "cell_type": "code",
      "source": [
        "imdb_df"
      ],
      "metadata": {
        "id": "nXdAmxXVN-MP",
        "colab": {
          "base_uri": "https://localhost:8080/",
          "height": 423
        },
        "outputId": "78845c4c-d5a6-4eea-90b8-4ecb331a6b74"
      },
      "execution_count": 4,
      "outputs": [
        {
          "output_type": "execute_result",
          "data": {
            "text/plain": [
              "                                                    text  label\n",
              "0      I grew up (b. 1965) watching and loving the Th...      0\n",
              "1      When I put this movie in my DVD player, and sa...      0\n",
              "2      Why do people who do not know what a particula...      0\n",
              "3      Even though I have great interest in Biblical ...      0\n",
              "4      Im a die hard Dads Army fan and nothing will e...      1\n",
              "...                                                  ...    ...\n",
              "39995  \"Western Union\" is something of a forgotten cl...      1\n",
              "39996  This movie is an incredible piece of work. It ...      1\n",
              "39997  My wife and I watched this movie because we pl...      0\n",
              "39998  When I first watched Flatliners, I was amazed....      1\n",
              "39999  Why would this film be so good, but only gross...      1\n",
              "\n",
              "[40000 rows x 2 columns]"
            ],
            "text/html": [
              "\n",
              "  <div id=\"df-7690ed58-e0bc-411d-84dd-b08258b27b36\" class=\"colab-df-container\">\n",
              "    <div>\n",
              "<style scoped>\n",
              "    .dataframe tbody tr th:only-of-type {\n",
              "        vertical-align: middle;\n",
              "    }\n",
              "\n",
              "    .dataframe tbody tr th {\n",
              "        vertical-align: top;\n",
              "    }\n",
              "\n",
              "    .dataframe thead th {\n",
              "        text-align: right;\n",
              "    }\n",
              "</style>\n",
              "<table border=\"1\" class=\"dataframe\">\n",
              "  <thead>\n",
              "    <tr style=\"text-align: right;\">\n",
              "      <th></th>\n",
              "      <th>text</th>\n",
              "      <th>label</th>\n",
              "    </tr>\n",
              "  </thead>\n",
              "  <tbody>\n",
              "    <tr>\n",
              "      <th>0</th>\n",
              "      <td>I grew up (b. 1965) watching and loving the Th...</td>\n",
              "      <td>0</td>\n",
              "    </tr>\n",
              "    <tr>\n",
              "      <th>1</th>\n",
              "      <td>When I put this movie in my DVD player, and sa...</td>\n",
              "      <td>0</td>\n",
              "    </tr>\n",
              "    <tr>\n",
              "      <th>2</th>\n",
              "      <td>Why do people who do not know what a particula...</td>\n",
              "      <td>0</td>\n",
              "    </tr>\n",
              "    <tr>\n",
              "      <th>3</th>\n",
              "      <td>Even though I have great interest in Biblical ...</td>\n",
              "      <td>0</td>\n",
              "    </tr>\n",
              "    <tr>\n",
              "      <th>4</th>\n",
              "      <td>Im a die hard Dads Army fan and nothing will e...</td>\n",
              "      <td>1</td>\n",
              "    </tr>\n",
              "    <tr>\n",
              "      <th>...</th>\n",
              "      <td>...</td>\n",
              "      <td>...</td>\n",
              "    </tr>\n",
              "    <tr>\n",
              "      <th>39995</th>\n",
              "      <td>\"Western Union\" is something of a forgotten cl...</td>\n",
              "      <td>1</td>\n",
              "    </tr>\n",
              "    <tr>\n",
              "      <th>39996</th>\n",
              "      <td>This movie is an incredible piece of work. It ...</td>\n",
              "      <td>1</td>\n",
              "    </tr>\n",
              "    <tr>\n",
              "      <th>39997</th>\n",
              "      <td>My wife and I watched this movie because we pl...</td>\n",
              "      <td>0</td>\n",
              "    </tr>\n",
              "    <tr>\n",
              "      <th>39998</th>\n",
              "      <td>When I first watched Flatliners, I was amazed....</td>\n",
              "      <td>1</td>\n",
              "    </tr>\n",
              "    <tr>\n",
              "      <th>39999</th>\n",
              "      <td>Why would this film be so good, but only gross...</td>\n",
              "      <td>1</td>\n",
              "    </tr>\n",
              "  </tbody>\n",
              "</table>\n",
              "<p>40000 rows × 2 columns</p>\n",
              "</div>\n",
              "    <div class=\"colab-df-buttons\">\n",
              "\n",
              "  <div class=\"colab-df-container\">\n",
              "    <button class=\"colab-df-convert\" onclick=\"convertToInteractive('df-7690ed58-e0bc-411d-84dd-b08258b27b36')\"\n",
              "            title=\"Convert this dataframe to an interactive table.\"\n",
              "            style=\"display:none;\">\n",
              "\n",
              "  <svg xmlns=\"http://www.w3.org/2000/svg\" height=\"24px\" viewBox=\"0 -960 960 960\">\n",
              "    <path d=\"M120-120v-720h720v720H120Zm60-500h600v-160H180v160Zm220 220h160v-160H400v160Zm0 220h160v-160H400v160ZM180-400h160v-160H180v160Zm440 0h160v-160H620v160ZM180-180h160v-160H180v160Zm440 0h160v-160H620v160Z\"/>\n",
              "  </svg>\n",
              "    </button>\n",
              "\n",
              "  <style>\n",
              "    .colab-df-container {\n",
              "      display:flex;\n",
              "      gap: 12px;\n",
              "    }\n",
              "\n",
              "    .colab-df-convert {\n",
              "      background-color: #E8F0FE;\n",
              "      border: none;\n",
              "      border-radius: 50%;\n",
              "      cursor: pointer;\n",
              "      display: none;\n",
              "      fill: #1967D2;\n",
              "      height: 32px;\n",
              "      padding: 0 0 0 0;\n",
              "      width: 32px;\n",
              "    }\n",
              "\n",
              "    .colab-df-convert:hover {\n",
              "      background-color: #E2EBFA;\n",
              "      box-shadow: 0px 1px 2px rgba(60, 64, 67, 0.3), 0px 1px 3px 1px rgba(60, 64, 67, 0.15);\n",
              "      fill: #174EA6;\n",
              "    }\n",
              "\n",
              "    .colab-df-buttons div {\n",
              "      margin-bottom: 4px;\n",
              "    }\n",
              "\n",
              "    [theme=dark] .colab-df-convert {\n",
              "      background-color: #3B4455;\n",
              "      fill: #D2E3FC;\n",
              "    }\n",
              "\n",
              "    [theme=dark] .colab-df-convert:hover {\n",
              "      background-color: #434B5C;\n",
              "      box-shadow: 0px 1px 3px 1px rgba(0, 0, 0, 0.15);\n",
              "      filter: drop-shadow(0px 1px 2px rgba(0, 0, 0, 0.3));\n",
              "      fill: #FFFFFF;\n",
              "    }\n",
              "  </style>\n",
              "\n",
              "    <script>\n",
              "      const buttonEl =\n",
              "        document.querySelector('#df-7690ed58-e0bc-411d-84dd-b08258b27b36 button.colab-df-convert');\n",
              "      buttonEl.style.display =\n",
              "        google.colab.kernel.accessAllowed ? 'block' : 'none';\n",
              "\n",
              "      async function convertToInteractive(key) {\n",
              "        const element = document.querySelector('#df-7690ed58-e0bc-411d-84dd-b08258b27b36');\n",
              "        const dataTable =\n",
              "          await google.colab.kernel.invokeFunction('convertToInteractive',\n",
              "                                                    [key], {});\n",
              "        if (!dataTable) return;\n",
              "\n",
              "        const docLinkHtml = 'Like what you see? Visit the ' +\n",
              "          '<a target=\"_blank\" href=https://colab.research.google.com/notebooks/data_table.ipynb>data table notebook</a>'\n",
              "          + ' to learn more about interactive tables.';\n",
              "        element.innerHTML = '';\n",
              "        dataTable['output_type'] = 'display_data';\n",
              "        await google.colab.output.renderOutput(dataTable, element);\n",
              "        const docLink = document.createElement('div');\n",
              "        docLink.innerHTML = docLinkHtml;\n",
              "        element.appendChild(docLink);\n",
              "      }\n",
              "    </script>\n",
              "  </div>\n",
              "\n",
              "\n",
              "    <div id=\"df-ec819db2-f127-4683-b364-31f04f61b12c\">\n",
              "      <button class=\"colab-df-quickchart\" onclick=\"quickchart('df-ec819db2-f127-4683-b364-31f04f61b12c')\"\n",
              "                title=\"Suggest charts\"\n",
              "                style=\"display:none;\">\n",
              "\n",
              "<svg xmlns=\"http://www.w3.org/2000/svg\" height=\"24px\"viewBox=\"0 0 24 24\"\n",
              "     width=\"24px\">\n",
              "    <g>\n",
              "        <path d=\"M19 3H5c-1.1 0-2 .9-2 2v14c0 1.1.9 2 2 2h14c1.1 0 2-.9 2-2V5c0-1.1-.9-2-2-2zM9 17H7v-7h2v7zm4 0h-2V7h2v10zm4 0h-2v-4h2v4z\"/>\n",
              "    </g>\n",
              "</svg>\n",
              "      </button>\n",
              "\n",
              "<style>\n",
              "  .colab-df-quickchart {\n",
              "      --bg-color: #E8F0FE;\n",
              "      --fill-color: #1967D2;\n",
              "      --hover-bg-color: #E2EBFA;\n",
              "      --hover-fill-color: #174EA6;\n",
              "      --disabled-fill-color: #AAA;\n",
              "      --disabled-bg-color: #DDD;\n",
              "  }\n",
              "\n",
              "  [theme=dark] .colab-df-quickchart {\n",
              "      --bg-color: #3B4455;\n",
              "      --fill-color: #D2E3FC;\n",
              "      --hover-bg-color: #434B5C;\n",
              "      --hover-fill-color: #FFFFFF;\n",
              "      --disabled-bg-color: #3B4455;\n",
              "      --disabled-fill-color: #666;\n",
              "  }\n",
              "\n",
              "  .colab-df-quickchart {\n",
              "    background-color: var(--bg-color);\n",
              "    border: none;\n",
              "    border-radius: 50%;\n",
              "    cursor: pointer;\n",
              "    display: none;\n",
              "    fill: var(--fill-color);\n",
              "    height: 32px;\n",
              "    padding: 0;\n",
              "    width: 32px;\n",
              "  }\n",
              "\n",
              "  .colab-df-quickchart:hover {\n",
              "    background-color: var(--hover-bg-color);\n",
              "    box-shadow: 0 1px 2px rgba(60, 64, 67, 0.3), 0 1px 3px 1px rgba(60, 64, 67, 0.15);\n",
              "    fill: var(--button-hover-fill-color);\n",
              "  }\n",
              "\n",
              "  .colab-df-quickchart-complete:disabled,\n",
              "  .colab-df-quickchart-complete:disabled:hover {\n",
              "    background-color: var(--disabled-bg-color);\n",
              "    fill: var(--disabled-fill-color);\n",
              "    box-shadow: none;\n",
              "  }\n",
              "\n",
              "  .colab-df-spinner {\n",
              "    border: 2px solid var(--fill-color);\n",
              "    border-color: transparent;\n",
              "    border-bottom-color: var(--fill-color);\n",
              "    animation:\n",
              "      spin 1s steps(1) infinite;\n",
              "  }\n",
              "\n",
              "  @keyframes spin {\n",
              "    0% {\n",
              "      border-color: transparent;\n",
              "      border-bottom-color: var(--fill-color);\n",
              "      border-left-color: var(--fill-color);\n",
              "    }\n",
              "    20% {\n",
              "      border-color: transparent;\n",
              "      border-left-color: var(--fill-color);\n",
              "      border-top-color: var(--fill-color);\n",
              "    }\n",
              "    30% {\n",
              "      border-color: transparent;\n",
              "      border-left-color: var(--fill-color);\n",
              "      border-top-color: var(--fill-color);\n",
              "      border-right-color: var(--fill-color);\n",
              "    }\n",
              "    40% {\n",
              "      border-color: transparent;\n",
              "      border-right-color: var(--fill-color);\n",
              "      border-top-color: var(--fill-color);\n",
              "    }\n",
              "    60% {\n",
              "      border-color: transparent;\n",
              "      border-right-color: var(--fill-color);\n",
              "    }\n",
              "    80% {\n",
              "      border-color: transparent;\n",
              "      border-right-color: var(--fill-color);\n",
              "      border-bottom-color: var(--fill-color);\n",
              "    }\n",
              "    90% {\n",
              "      border-color: transparent;\n",
              "      border-bottom-color: var(--fill-color);\n",
              "    }\n",
              "  }\n",
              "</style>\n",
              "\n",
              "      <script>\n",
              "        async function quickchart(key) {\n",
              "          const quickchartButtonEl =\n",
              "            document.querySelector('#' + key + ' button');\n",
              "          quickchartButtonEl.disabled = true;  // To prevent multiple clicks.\n",
              "          quickchartButtonEl.classList.add('colab-df-spinner');\n",
              "          try {\n",
              "            const charts = await google.colab.kernel.invokeFunction(\n",
              "                'suggestCharts', [key], {});\n",
              "          } catch (error) {\n",
              "            console.error('Error during call to suggestCharts:', error);\n",
              "          }\n",
              "          quickchartButtonEl.classList.remove('colab-df-spinner');\n",
              "          quickchartButtonEl.classList.add('colab-df-quickchart-complete');\n",
              "        }\n",
              "        (() => {\n",
              "          let quickchartButtonEl =\n",
              "            document.querySelector('#df-ec819db2-f127-4683-b364-31f04f61b12c button');\n",
              "          quickchartButtonEl.style.display =\n",
              "            google.colab.kernel.accessAllowed ? 'block' : 'none';\n",
              "        })();\n",
              "      </script>\n",
              "    </div>\n",
              "\n",
              "  <div id=\"id_87b96aad-da50-44da-8d25-a5ed351f0687\">\n",
              "    <style>\n",
              "      .colab-df-generate {\n",
              "        background-color: #E8F0FE;\n",
              "        border: none;\n",
              "        border-radius: 50%;\n",
              "        cursor: pointer;\n",
              "        display: none;\n",
              "        fill: #1967D2;\n",
              "        height: 32px;\n",
              "        padding: 0 0 0 0;\n",
              "        width: 32px;\n",
              "      }\n",
              "\n",
              "      .colab-df-generate:hover {\n",
              "        background-color: #E2EBFA;\n",
              "        box-shadow: 0px 1px 2px rgba(60, 64, 67, 0.3), 0px 1px 3px 1px rgba(60, 64, 67, 0.15);\n",
              "        fill: #174EA6;\n",
              "      }\n",
              "\n",
              "      [theme=dark] .colab-df-generate {\n",
              "        background-color: #3B4455;\n",
              "        fill: #D2E3FC;\n",
              "      }\n",
              "\n",
              "      [theme=dark] .colab-df-generate:hover {\n",
              "        background-color: #434B5C;\n",
              "        box-shadow: 0px 1px 3px 1px rgba(0, 0, 0, 0.15);\n",
              "        filter: drop-shadow(0px 1px 2px rgba(0, 0, 0, 0.3));\n",
              "        fill: #FFFFFF;\n",
              "      }\n",
              "    </style>\n",
              "    <button class=\"colab-df-generate\" onclick=\"generateWithVariable('imdb_df')\"\n",
              "            title=\"Generate code using this dataframe.\"\n",
              "            style=\"display:none;\">\n",
              "\n",
              "  <svg xmlns=\"http://www.w3.org/2000/svg\" height=\"24px\"viewBox=\"0 0 24 24\"\n",
              "       width=\"24px\">\n",
              "    <path d=\"M7,19H8.4L18.45,9,17,7.55,7,17.6ZM5,21V16.75L18.45,3.32a2,2,0,0,1,2.83,0l1.4,1.43a1.91,1.91,0,0,1,.58,1.4,1.91,1.91,0,0,1-.58,1.4L9.25,21ZM18.45,9,17,7.55Zm-12,3A5.31,5.31,0,0,0,4.9,8.1,5.31,5.31,0,0,0,1,6.5,5.31,5.31,0,0,0,4.9,4.9,5.31,5.31,0,0,0,6.5,1,5.31,5.31,0,0,0,8.1,4.9,5.31,5.31,0,0,0,12,6.5,5.46,5.46,0,0,0,6.5,12Z\"/>\n",
              "  </svg>\n",
              "    </button>\n",
              "    <script>\n",
              "      (() => {\n",
              "      const buttonEl =\n",
              "        document.querySelector('#id_87b96aad-da50-44da-8d25-a5ed351f0687 button.colab-df-generate');\n",
              "      buttonEl.style.display =\n",
              "        google.colab.kernel.accessAllowed ? 'block' : 'none';\n",
              "\n",
              "      buttonEl.onclick = () => {\n",
              "        google.colab.notebook.generateWithVariable('imdb_df');\n",
              "      }\n",
              "      })();\n",
              "    </script>\n",
              "  </div>\n",
              "\n",
              "    </div>\n",
              "  </div>\n"
            ],
            "application/vnd.google.colaboratory.intrinsic+json": {
              "type": "dataframe",
              "variable_name": "imdb_df",
              "summary": "{\n  \"name\": \"imdb_df\",\n  \"rows\": 40000,\n  \"fields\": [\n    {\n      \"column\": \"text\",\n      \"properties\": {\n        \"dtype\": \"string\",\n        \"num_unique_values\": 39723,\n        \"samples\": [\n          \"There are similarities between Ray Lawrence's \\\"Jindabyne\\\" and his last movie \\\"Lantana\\\" \\u0096 a dead body and its repercussions for already dysfunctional lives. But whereas \\\"Lantana\\\" offered some hope and resolution, \\\"Jindabyne\\\" leaves everything unresolved in a bleak way that will leave most viewers unsatisfied, perhaps even cheated.<br /><br />The storyline - the aftermath of a fisherman's discovery of a corpse floating in a remote river - is based on a short story by Raymond Carver. It became an element in Robert Altman's classic 1993 ensemble \\\"Short Cuts\\\". Lawrence uses this theme for an exploration and exposition of relationships within a small Australian community under stress. The movie poses some moral questions \\\"Would you let the discovery of a dead body ruin your good weekend?\\\" and more poignantly for Australians \\\"Would it make any difference if the dead person was an aboriginal?\\\" The acting, especially by Gabriel Byrne and Laura Linney, is commendable. And there are elements of mysticism reinforced by haunting music, not unlike \\\"Picnic at Hanging Rock\\\".<br /><br />If all this sounds like the basis for a great movie - be prepared for a let down, the pace is very slow and the murder is shown near the beginning, thereby eliminating the element of mystery. And so we are left with these desolate lives and a blank finale.\",\n          \"Hammer House of Horror: Witching Time is set in rural England on Woodstock farm where stressed musician David Winter (Jon Finch) lives with his actress wife Mary (Prunella Gee) & is currently composing the music for a horror film. One night while looking for his dog Billy David finds a mysterious woman in his barn, calling herself Lucinda Jessop (Patricia Quinn) she claims to be a witch who has transported herself from 300 years in the past to now. Obviously rather sceptical David has a hard time believing her so he locks her in a room in his farmhouse & calls his doctor Charles (Ian McCulloch) to come examine her, however once he arrives & they enter the room Lucinda has disappeared. Charles puts it down to David drinking too much but over the next few day strange & disturbing things begin to happen to David & Mary...<br /><br />Witching Time was episode 1 from the short lived British anthology horror series produced by Hammer studios for TV & originally aired here in the UK during September 1980, the first of two Hammer House of Horror episodes to be directed by Don Leaver (episode 13 The Mark of Satan being the other) I actually rather liked this. As a series Hammer House of Horror dealt with various different themes & were all unconnected to each other except in name & unsurprisingly Watching Time is a sinister & effective little tale about a witch, the script by Anthony Read benefits from it's slight 50 odd minute duration & moves along at a nice pace. The character's are pretty good as is the dialogue, there are some nice scenes here & I liked the way it never quite reveals whether David & Mary are going crazy or not. I think it's a well structured, entertaining & reasonably creepy horror themed TV show that I enjoyed more than I thought I would.<br /><br />Being made for British TV meant the boys at Hammer had a lower budget than usual, if that was even possible, & as such there is no gorgeous period settings here as in their most well know Frankenstein & Dracula films although the contemporary English setting does give it a certain atmosphere that you can relate to a bit more. Another TV based restriction is that the exploitation levels are lower than you might hope for, there's some nudity & gore but not much although I didn't mind too much as the story here is pretty good. It's well made for what it is & Hammer's experience on their feature films probably helped make these look pretty good, the acting is good as well with genre favourite Ian McCulloch making a bit-part appearance.<br /><br />Witching Time is a good start to the Hammer House of Horror series, as a 50 minute piece of British TV it's pretty damned good, now why don't they make show's like this over here anymore?\",\n          \"What a great cast for this movie. The timing was excellent and there were so many clever lines-several times I was still laughing minutes after they were delivered. I found Manna From Heaven to have some surprising moments and while there were things I was thinking would happen, the way they came together was anything but predictable. This movie is about hope and righting wrongs. I left the theater feeling inspired to do the right thing. Bravo to the Five Sisters.\"\n        ],\n        \"semantic_type\": \"\",\n        \"description\": \"\"\n      }\n    },\n    {\n      \"column\": \"label\",\n      \"properties\": {\n        \"dtype\": \"number\",\n        \"std\": 0,\n        \"min\": 0,\n        \"max\": 1,\n        \"num_unique_values\": 2,\n        \"samples\": [\n          1,\n          0\n        ],\n        \"semantic_type\": \"\",\n        \"description\": \"\"\n      }\n    }\n  ]\n}"
            }
          },
          "metadata": {},
          "execution_count": 4
        }
      ]
    },
    {
      "cell_type": "code",
      "source": [
        "imdb_df.shape"
      ],
      "metadata": {
        "id": "t8h-mUNwOJFw",
        "colab": {
          "base_uri": "https://localhost:8080/"
        },
        "outputId": "2c54db68-340b-4cb5-fadc-01919c57c9eb"
      },
      "execution_count": 5,
      "outputs": [
        {
          "output_type": "execute_result",
          "data": {
            "text/plain": [
              "(40000, 2)"
            ]
          },
          "metadata": {},
          "execution_count": 5
        }
      ]
    },
    {
      "cell_type": "code",
      "source": [
        "imdb_df.info()"
      ],
      "metadata": {
        "id": "4ZMrdjdsOOq5",
        "colab": {
          "base_uri": "https://localhost:8080/"
        },
        "outputId": "7d27ecda-9a7e-4d89-bf35-10d9a60d89e6"
      },
      "execution_count": 6,
      "outputs": [
        {
          "output_type": "stream",
          "name": "stdout",
          "text": [
            "<class 'pandas.core.frame.DataFrame'>\n",
            "RangeIndex: 40000 entries, 0 to 39999\n",
            "Data columns (total 2 columns):\n",
            " #   Column  Non-Null Count  Dtype \n",
            "---  ------  --------------  ----- \n",
            " 0   text    40000 non-null  object\n",
            " 1   label   40000 non-null  int64 \n",
            "dtypes: int64(1), object(1)\n",
            "memory usage: 625.1+ KB\n"
          ]
        }
      ]
    },
    {
      "cell_type": "code",
      "source": [
        "imdb_df.describe()"
      ],
      "metadata": {
        "id": "mjY8pBN8OTEJ",
        "colab": {
          "base_uri": "https://localhost:8080/",
          "height": 300
        },
        "outputId": "70590015-f9d6-4c27-952e-26e95a3fceaf"
      },
      "execution_count": 7,
      "outputs": [
        {
          "output_type": "execute_result",
          "data": {
            "text/plain": [
              "              label\n",
              "count  40000.000000\n",
              "mean       0.499525\n",
              "std        0.500006\n",
              "min        0.000000\n",
              "25%        0.000000\n",
              "50%        0.000000\n",
              "75%        1.000000\n",
              "max        1.000000"
            ],
            "text/html": [
              "\n",
              "  <div id=\"df-afc8a4f8-9eac-4ba1-80dc-d7d4fed2b583\" class=\"colab-df-container\">\n",
              "    <div>\n",
              "<style scoped>\n",
              "    .dataframe tbody tr th:only-of-type {\n",
              "        vertical-align: middle;\n",
              "    }\n",
              "\n",
              "    .dataframe tbody tr th {\n",
              "        vertical-align: top;\n",
              "    }\n",
              "\n",
              "    .dataframe thead th {\n",
              "        text-align: right;\n",
              "    }\n",
              "</style>\n",
              "<table border=\"1\" class=\"dataframe\">\n",
              "  <thead>\n",
              "    <tr style=\"text-align: right;\">\n",
              "      <th></th>\n",
              "      <th>label</th>\n",
              "    </tr>\n",
              "  </thead>\n",
              "  <tbody>\n",
              "    <tr>\n",
              "      <th>count</th>\n",
              "      <td>40000.000000</td>\n",
              "    </tr>\n",
              "    <tr>\n",
              "      <th>mean</th>\n",
              "      <td>0.499525</td>\n",
              "    </tr>\n",
              "    <tr>\n",
              "      <th>std</th>\n",
              "      <td>0.500006</td>\n",
              "    </tr>\n",
              "    <tr>\n",
              "      <th>min</th>\n",
              "      <td>0.000000</td>\n",
              "    </tr>\n",
              "    <tr>\n",
              "      <th>25%</th>\n",
              "      <td>0.000000</td>\n",
              "    </tr>\n",
              "    <tr>\n",
              "      <th>50%</th>\n",
              "      <td>0.000000</td>\n",
              "    </tr>\n",
              "    <tr>\n",
              "      <th>75%</th>\n",
              "      <td>1.000000</td>\n",
              "    </tr>\n",
              "    <tr>\n",
              "      <th>max</th>\n",
              "      <td>1.000000</td>\n",
              "    </tr>\n",
              "  </tbody>\n",
              "</table>\n",
              "</div>\n",
              "    <div class=\"colab-df-buttons\">\n",
              "\n",
              "  <div class=\"colab-df-container\">\n",
              "    <button class=\"colab-df-convert\" onclick=\"convertToInteractive('df-afc8a4f8-9eac-4ba1-80dc-d7d4fed2b583')\"\n",
              "            title=\"Convert this dataframe to an interactive table.\"\n",
              "            style=\"display:none;\">\n",
              "\n",
              "  <svg xmlns=\"http://www.w3.org/2000/svg\" height=\"24px\" viewBox=\"0 -960 960 960\">\n",
              "    <path d=\"M120-120v-720h720v720H120Zm60-500h600v-160H180v160Zm220 220h160v-160H400v160Zm0 220h160v-160H400v160ZM180-400h160v-160H180v160Zm440 0h160v-160H620v160ZM180-180h160v-160H180v160Zm440 0h160v-160H620v160Z\"/>\n",
              "  </svg>\n",
              "    </button>\n",
              "\n",
              "  <style>\n",
              "    .colab-df-container {\n",
              "      display:flex;\n",
              "      gap: 12px;\n",
              "    }\n",
              "\n",
              "    .colab-df-convert {\n",
              "      background-color: #E8F0FE;\n",
              "      border: none;\n",
              "      border-radius: 50%;\n",
              "      cursor: pointer;\n",
              "      display: none;\n",
              "      fill: #1967D2;\n",
              "      height: 32px;\n",
              "      padding: 0 0 0 0;\n",
              "      width: 32px;\n",
              "    }\n",
              "\n",
              "    .colab-df-convert:hover {\n",
              "      background-color: #E2EBFA;\n",
              "      box-shadow: 0px 1px 2px rgba(60, 64, 67, 0.3), 0px 1px 3px 1px rgba(60, 64, 67, 0.15);\n",
              "      fill: #174EA6;\n",
              "    }\n",
              "\n",
              "    .colab-df-buttons div {\n",
              "      margin-bottom: 4px;\n",
              "    }\n",
              "\n",
              "    [theme=dark] .colab-df-convert {\n",
              "      background-color: #3B4455;\n",
              "      fill: #D2E3FC;\n",
              "    }\n",
              "\n",
              "    [theme=dark] .colab-df-convert:hover {\n",
              "      background-color: #434B5C;\n",
              "      box-shadow: 0px 1px 3px 1px rgba(0, 0, 0, 0.15);\n",
              "      filter: drop-shadow(0px 1px 2px rgba(0, 0, 0, 0.3));\n",
              "      fill: #FFFFFF;\n",
              "    }\n",
              "  </style>\n",
              "\n",
              "    <script>\n",
              "      const buttonEl =\n",
              "        document.querySelector('#df-afc8a4f8-9eac-4ba1-80dc-d7d4fed2b583 button.colab-df-convert');\n",
              "      buttonEl.style.display =\n",
              "        google.colab.kernel.accessAllowed ? 'block' : 'none';\n",
              "\n",
              "      async function convertToInteractive(key) {\n",
              "        const element = document.querySelector('#df-afc8a4f8-9eac-4ba1-80dc-d7d4fed2b583');\n",
              "        const dataTable =\n",
              "          await google.colab.kernel.invokeFunction('convertToInteractive',\n",
              "                                                    [key], {});\n",
              "        if (!dataTable) return;\n",
              "\n",
              "        const docLinkHtml = 'Like what you see? Visit the ' +\n",
              "          '<a target=\"_blank\" href=https://colab.research.google.com/notebooks/data_table.ipynb>data table notebook</a>'\n",
              "          + ' to learn more about interactive tables.';\n",
              "        element.innerHTML = '';\n",
              "        dataTable['output_type'] = 'display_data';\n",
              "        await google.colab.output.renderOutput(dataTable, element);\n",
              "        const docLink = document.createElement('div');\n",
              "        docLink.innerHTML = docLinkHtml;\n",
              "        element.appendChild(docLink);\n",
              "      }\n",
              "    </script>\n",
              "  </div>\n",
              "\n",
              "\n",
              "    <div id=\"df-9684186b-83a5-4a8e-96e8-af0f8d137b10\">\n",
              "      <button class=\"colab-df-quickchart\" onclick=\"quickchart('df-9684186b-83a5-4a8e-96e8-af0f8d137b10')\"\n",
              "                title=\"Suggest charts\"\n",
              "                style=\"display:none;\">\n",
              "\n",
              "<svg xmlns=\"http://www.w3.org/2000/svg\" height=\"24px\"viewBox=\"0 0 24 24\"\n",
              "     width=\"24px\">\n",
              "    <g>\n",
              "        <path d=\"M19 3H5c-1.1 0-2 .9-2 2v14c0 1.1.9 2 2 2h14c1.1 0 2-.9 2-2V5c0-1.1-.9-2-2-2zM9 17H7v-7h2v7zm4 0h-2V7h2v10zm4 0h-2v-4h2v4z\"/>\n",
              "    </g>\n",
              "</svg>\n",
              "      </button>\n",
              "\n",
              "<style>\n",
              "  .colab-df-quickchart {\n",
              "      --bg-color: #E8F0FE;\n",
              "      --fill-color: #1967D2;\n",
              "      --hover-bg-color: #E2EBFA;\n",
              "      --hover-fill-color: #174EA6;\n",
              "      --disabled-fill-color: #AAA;\n",
              "      --disabled-bg-color: #DDD;\n",
              "  }\n",
              "\n",
              "  [theme=dark] .colab-df-quickchart {\n",
              "      --bg-color: #3B4455;\n",
              "      --fill-color: #D2E3FC;\n",
              "      --hover-bg-color: #434B5C;\n",
              "      --hover-fill-color: #FFFFFF;\n",
              "      --disabled-bg-color: #3B4455;\n",
              "      --disabled-fill-color: #666;\n",
              "  }\n",
              "\n",
              "  .colab-df-quickchart {\n",
              "    background-color: var(--bg-color);\n",
              "    border: none;\n",
              "    border-radius: 50%;\n",
              "    cursor: pointer;\n",
              "    display: none;\n",
              "    fill: var(--fill-color);\n",
              "    height: 32px;\n",
              "    padding: 0;\n",
              "    width: 32px;\n",
              "  }\n",
              "\n",
              "  .colab-df-quickchart:hover {\n",
              "    background-color: var(--hover-bg-color);\n",
              "    box-shadow: 0 1px 2px rgba(60, 64, 67, 0.3), 0 1px 3px 1px rgba(60, 64, 67, 0.15);\n",
              "    fill: var(--button-hover-fill-color);\n",
              "  }\n",
              "\n",
              "  .colab-df-quickchart-complete:disabled,\n",
              "  .colab-df-quickchart-complete:disabled:hover {\n",
              "    background-color: var(--disabled-bg-color);\n",
              "    fill: var(--disabled-fill-color);\n",
              "    box-shadow: none;\n",
              "  }\n",
              "\n",
              "  .colab-df-spinner {\n",
              "    border: 2px solid var(--fill-color);\n",
              "    border-color: transparent;\n",
              "    border-bottom-color: var(--fill-color);\n",
              "    animation:\n",
              "      spin 1s steps(1) infinite;\n",
              "  }\n",
              "\n",
              "  @keyframes spin {\n",
              "    0% {\n",
              "      border-color: transparent;\n",
              "      border-bottom-color: var(--fill-color);\n",
              "      border-left-color: var(--fill-color);\n",
              "    }\n",
              "    20% {\n",
              "      border-color: transparent;\n",
              "      border-left-color: var(--fill-color);\n",
              "      border-top-color: var(--fill-color);\n",
              "    }\n",
              "    30% {\n",
              "      border-color: transparent;\n",
              "      border-left-color: var(--fill-color);\n",
              "      border-top-color: var(--fill-color);\n",
              "      border-right-color: var(--fill-color);\n",
              "    }\n",
              "    40% {\n",
              "      border-color: transparent;\n",
              "      border-right-color: var(--fill-color);\n",
              "      border-top-color: var(--fill-color);\n",
              "    }\n",
              "    60% {\n",
              "      border-color: transparent;\n",
              "      border-right-color: var(--fill-color);\n",
              "    }\n",
              "    80% {\n",
              "      border-color: transparent;\n",
              "      border-right-color: var(--fill-color);\n",
              "      border-bottom-color: var(--fill-color);\n",
              "    }\n",
              "    90% {\n",
              "      border-color: transparent;\n",
              "      border-bottom-color: var(--fill-color);\n",
              "    }\n",
              "  }\n",
              "</style>\n",
              "\n",
              "      <script>\n",
              "        async function quickchart(key) {\n",
              "          const quickchartButtonEl =\n",
              "            document.querySelector('#' + key + ' button');\n",
              "          quickchartButtonEl.disabled = true;  // To prevent multiple clicks.\n",
              "          quickchartButtonEl.classList.add('colab-df-spinner');\n",
              "          try {\n",
              "            const charts = await google.colab.kernel.invokeFunction(\n",
              "                'suggestCharts', [key], {});\n",
              "          } catch (error) {\n",
              "            console.error('Error during call to suggestCharts:', error);\n",
              "          }\n",
              "          quickchartButtonEl.classList.remove('colab-df-spinner');\n",
              "          quickchartButtonEl.classList.add('colab-df-quickchart-complete');\n",
              "        }\n",
              "        (() => {\n",
              "          let quickchartButtonEl =\n",
              "            document.querySelector('#df-9684186b-83a5-4a8e-96e8-af0f8d137b10 button');\n",
              "          quickchartButtonEl.style.display =\n",
              "            google.colab.kernel.accessAllowed ? 'block' : 'none';\n",
              "        })();\n",
              "      </script>\n",
              "    </div>\n",
              "\n",
              "    </div>\n",
              "  </div>\n"
            ],
            "application/vnd.google.colaboratory.intrinsic+json": {
              "type": "dataframe",
              "summary": "{\n  \"name\": \"imdb_df\",\n  \"rows\": 8,\n  \"fields\": [\n    {\n      \"column\": \"label\",\n      \"properties\": {\n        \"dtype\": \"number\",\n        \"std\": 14141.984130668903,\n        \"min\": 0.0,\n        \"max\": 40000.0,\n        \"num_unique_values\": 5,\n        \"samples\": [\n          0.499525,\n          1.0,\n          0.5000060244893213\n        ],\n        \"semantic_type\": \"\",\n        \"description\": \"\"\n      }\n    }\n  ]\n}"
            }
          },
          "metadata": {},
          "execution_count": 7
        }
      ]
    },
    {
      "cell_type": "code",
      "source": [
        "etiquetas_unicas = imdb_df['label'].unique()\n",
        "etiquetas_unicas"
      ],
      "metadata": {
        "id": "wVlZKNVbOpM_",
        "colab": {
          "base_uri": "https://localhost:8080/"
        },
        "outputId": "d1f4d1be-2d74-4052-b717-51d46fdebbab"
      },
      "execution_count": 8,
      "outputs": [
        {
          "output_type": "execute_result",
          "data": {
            "text/plain": [
              "array([0, 1])"
            ]
          },
          "metadata": {},
          "execution_count": 8
        }
      ]
    },
    {
      "cell_type": "code",
      "source": [
        "print(f\"Cantidad de datos duplicados: {imdb_df.duplicated().sum()}\")\n",
        "print(f\"Cantidad de datos nulos: {imdb_df.isnull().sum().sum()}\")"
      ],
      "metadata": {
        "id": "BU11zPI9YdF5",
        "colab": {
          "base_uri": "https://localhost:8080/"
        },
        "outputId": "755742b4-7cea-48d7-aae3-dcdbbf360850"
      },
      "execution_count": 9,
      "outputs": [
        {
          "output_type": "stream",
          "name": "stdout",
          "text": [
            "Cantidad de datos duplicados: 277\n",
            "Cantidad de datos nulos: 0\n"
          ]
        }
      ]
    },
    {
      "cell_type": "code",
      "source": [
        "duplicated_rows = imdb_df[imdb_df.duplicated(keep='first')]\n",
        "print(duplicated_rows)"
      ],
      "metadata": {
        "id": "BFzNTpz-Ysts",
        "colab": {
          "base_uri": "https://localhost:8080/"
        },
        "outputId": "7db591a9-a7e5-416c-9b57-a0378f09102b"
      },
      "execution_count": 10,
      "outputs": [
        {
          "output_type": "stream",
          "name": "stdout",
          "text": [
            "                                                    text  label\n",
            "2164   I find it rather useless to comment on this \"m...      0\n",
            "3236   An absolutely atrocious adaptation of the wond...      0\n",
            "3428   When I first saw this film it was not an impre...      0\n",
            "3652   Before I watched this tv movie I did not know ...      1\n",
            "3787   What a clunker!<br /><br />It MUST have been m...      0\n",
            "...                                                  ...    ...\n",
            "39229  I Enjoyed Watching This Well Acted Movie Very ...      1\n",
            "39246  You do realize that you've been watching the E...      0\n",
            "39508  (Spoilers)<br /><br />Oh sure it's based on Mo...      0\n",
            "39681  It's been a long time since I last saw a movie...      0\n",
            "39746  Goodnight, Mister Tom begins in an impossibly ...      0\n",
            "\n",
            "[277 rows x 2 columns]\n"
          ]
        }
      ]
    },
    {
      "cell_type": "code",
      "source": [
        "imdb_df.drop_duplicates(inplace=True)"
      ],
      "metadata": {
        "id": "X-pNi2NzZCv8"
      },
      "execution_count": 11,
      "outputs": []
    },
    {
      "cell_type": "markdown",
      "source": [
        "En la celda de abajo podemos ver que 277 registros han sido eliminados del dataset, dado que eran duplicados."
      ],
      "metadata": {
        "id": "nQO5VdePZYzj"
      }
    },
    {
      "cell_type": "code",
      "source": [
        "imdb_df.shape"
      ],
      "metadata": {
        "id": "LV1n_LIKZTXi",
        "colab": {
          "base_uri": "https://localhost:8080/"
        },
        "outputId": "21626057-a3e6-4cab-eef7-b27b2c8a8aa4"
      },
      "execution_count": 12,
      "outputs": [
        {
          "output_type": "execute_result",
          "data": {
            "text/plain": [
              "(39723, 2)"
            ]
          },
          "metadata": {},
          "execution_count": 12
        }
      ]
    },
    {
      "cell_type": "markdown",
      "source": [
        "En la siguiente celda vemos que los labels están bien distribuidos entre los grupos etiquetados como sentimiento positivo y negativo desde el data set original."
      ],
      "metadata": {
        "id": "sIDZ5sDUaBrM"
      }
    },
    {
      "cell_type": "code",
      "source": [
        "imdb_df.label.value_counts().plot(kind='bar', title='Distribución de etiquetas')"
      ],
      "metadata": {
        "id": "Gm8_fAINZ-KM",
        "colab": {
          "base_uri": "https://localhost:8080/",
          "height": 484
        },
        "outputId": "05583394-4427-4c38-c5fb-a62a97732025"
      },
      "execution_count": 13,
      "outputs": [
        {
          "output_type": "execute_result",
          "data": {
            "text/plain": [
              "<Axes: title={'center': 'Distribución de etiquetas'}, xlabel='label'>"
            ]
          },
          "metadata": {},
          "execution_count": 13
        },
        {
          "output_type": "display_data",
          "data": {
            "text/plain": [
              "<Figure size 640x480 with 1 Axes>"
            ],
            "image/png": "[encoded data removed]"
          },
          "metadata": {}
        }
      ]
    },
    {
      "cell_type": "code",
      "source": [
        "imdb_df.columns"
      ],
      "metadata": {
        "id": "cKmgIGY9a-Sp",
        "colab": {
          "base_uri": "https://localhost:8080/"
        },
        "outputId": "fe007e5f-a976-4dff-81e1-934b5d6a1106"
      },
      "execution_count": 14,
      "outputs": [
        {
          "output_type": "execute_result",
          "data": {
            "text/plain": [
              "Index(['text', 'label'], dtype='object')"
            ]
          },
          "metadata": {},
          "execution_count": 14
        }
      ]
    },
    {
      "cell_type": "markdown",
      "source": [
        "# Análisis del Problema"
      ],
      "metadata": {
        "id": "Tn9KAOacbQpl"
      }
    },
    {
      "cell_type": "markdown",
      "source": [
        "### Objetivo"
      ],
      "metadata": {
        "id": "sR7LEfEWbyo9"
      }
    },
    {
      "cell_type": "markdown",
      "source": [
        "Desarrollar un método basado en redes neuronales recurrentes que permita\n",
        "clasificar con precisión las reseñas de películas en IMDb en una de las dos\n",
        "categorías: positiva o negativa."
      ],
      "metadata": {
        "id": "3WtEc-YXbZo4"
      }
    },
    {
      "cell_type": "markdown",
      "source": [
        "### Actividades por realizar"
      ],
      "metadata": {
        "id": "dMKdfVC8c8Uj"
      }
    },
    {
      "cell_type": "markdown",
      "source": [
        "1. **Preprocesamiento de las reseñas:** Construir un pipeline que permita limpiar y\n",
        "tokenizar las reseñas de texto, convirtiéndolas en secuencias numéricas\n",
        "utilizando embeddings (por ejemplo, Word2Vec o GloVe).\n",
        "\n",
        "2. **Desarrollo de la arquitectura de red neuronal recurrente:** Implementar una\n",
        "RNN (por ejemplo, LSTM o GRU) para la clasificación de las reseñas en dos\n",
        "categorías. La arquitectura de la red es de libre elección, pero se sugiere incluir\n",
        "capas de embedding, capas recurrentes y una capa densa de salida con\n",
        "activación sigmoide. Justificar la elección de cada capa del modelo.\n",
        "\n",
        "3. **Entrenamiento y evaluación del modelo:** Dividir el dataset en conjuntos de\n",
        "entrenamiento, validación y prueba. Entrenar el modelo utilizando el conjunto de\n",
        "entrenamiento y evaluar su rendimiento con el conjunto de prueba, reportando"
      ],
      "metadata": {
        "id": "sDl0pi1IdHUK"
      }
    },
    {
      "cell_type": "code",
      "source": [],
      "metadata": {
        "id": "hJAfI5Mbb3Ik"
      },
      "execution_count": 14,
      "outputs": []
    },
    {
      "cell_type": "markdown",
      "source": [
        "# Preprocesamiento de  las reseñas"
      ],
      "metadata": {
        "id": "KVukHn7NdPjB"
      }
    },
    {
      "cell_type": "markdown",
      "source": [
        "Vamos a utilizar Word2Vec como transformer y generar posteriormente un pipeline modular para trabajar con él.\n"
      ],
      "metadata": {
        "id": "tvfv46mBeg-o"
      }
    },
    {
      "cell_type": "code",
      "source": [
        "#!pip install  nltk scikit-learn"
      ],
      "metadata": {
        "id": "DSZDMWgdh8Mt"
      },
      "execution_count": 15,
      "outputs": []
    },
    {
      "cell_type": "code",
      "source": [
        "!pip uninstall -y numpy\n",
        "!pip install numpy==1.26.4 --force-reinstall"
      ],
      "metadata": {
        "colab": {
          "base_uri": "https://localhost:8080/"
        },
        "id": "5cvLSyKUXipS",
        "outputId": "849210b6-6231-4d77-caf9-e4bc9b0ecbe1"
      },
      "execution_count": 16,
      "outputs": [
        {
          "output_type": "stream",
          "name": "stdout",
          "text": [
            "Found existing installation: numpy 1.26.4\n",
            "Uninstalling numpy-1.26.4:\n",
            "  Successfully uninstalled numpy-1.26.4\n",
            "Collecting numpy==1.26.4\n",
            "  Using cached numpy-1.26.4-cp311-cp311-manylinux_2_17_x86_64.manylinux2014_x86_64.whl.metadata (61 kB)\n",
            "Using cached numpy-1.26.4-cp311-cp311-manylinux_2_17_x86_64.manylinux2014_x86_64.whl (18.3 MB)\n",
            "Installing collected packages: numpy\n",
            "\u001b[31mERROR: pip's dependency resolver does not currently take into account all the packages that are installed. This behaviour is the source of the following dependency conflicts.\n",
            "thinc 8.3.6 requires numpy<3.0.0,>=2.0.0, but you have numpy 1.26.4 which is incompatible.\n",
            "tsfresh 0.21.0 requires scipy>=1.14.0; python_version >= \"3.10\", but you have scipy 1.13.1 which is incompatible.\u001b[0m\u001b[31m\n",
            "\u001b[0mSuccessfully installed numpy-1.26.4\n"
          ]
        }
      ]
    },
    {
      "cell_type": "code",
      "source": [
        "!pip install gensim --force-reinstall"
      ],
      "metadata": {
        "colab": {
          "base_uri": "https://localhost:8080/"
        },
        "id": "f7sndVrWYdoZ",
        "outputId": "4c3e60ad-df19-49ca-eb49-78179d5957ec"
      },
      "execution_count": 17,
      "outputs": [
        {
          "output_type": "stream",
          "name": "stdout",
          "text": [
            "Collecting gensim\n",
            "  Using cached gensim-4.3.3-cp311-cp311-manylinux_2_17_x86_64.manylinux2014_x86_64.whl.metadata (8.1 kB)\n",
            "Collecting numpy<2.0,>=1.18.5 (from gensim)\n",
            "  Using cached numpy-1.26.4-cp311-cp311-manylinux_2_17_x86_64.manylinux2014_x86_64.whl.metadata (61 kB)\n",
            "Collecting scipy<1.14.0,>=1.7.0 (from gensim)\n",
            "  Using cached scipy-1.13.1-cp311-cp311-manylinux_2_17_x86_64.manylinux2014_x86_64.whl.metadata (60 kB)\n",
            "Collecting smart-open>=1.8.1 (from gensim)\n",
            "  Using cached smart_open-7.1.0-py3-none-any.whl.metadata (24 kB)\n",
            "Collecting wrapt (from smart-open>=1.8.1->gensim)\n",
            "  Using cached wrapt-1.17.2-cp311-cp311-manylinux_2_5_x86_64.manylinux1_x86_64.manylinux_2_17_x86_64.manylinux2014_x86_64.whl.metadata (6.4 kB)\n",
            "Using cached gensim-4.3.3-cp311-cp311-manylinux_2_17_x86_64.manylinux2014_x86_64.whl (26.7 MB)\n",
            "Using cached numpy-1.26.4-cp311-cp311-manylinux_2_17_x86_64.manylinux2014_x86_64.whl (18.3 MB)\n",
            "Using cached scipy-1.13.1-cp311-cp311-manylinux_2_17_x86_64.manylinux2014_x86_64.whl (38.6 MB)\n",
            "Using cached smart_open-7.1.0-py3-none-any.whl (61 kB)\n",
            "Using cached wrapt-1.17.2-cp311-cp311-manylinux_2_5_x86_64.manylinux1_x86_64.manylinux_2_17_x86_64.manylinux2014_x86_64.whl (83 kB)\n",
            "Installing collected packages: wrapt, numpy, smart-open, scipy, gensim\n",
            "  Attempting uninstall: wrapt\n",
            "    Found existing installation: wrapt 1.17.2\n",
            "    Uninstalling wrapt-1.17.2:\n",
            "      Successfully uninstalled wrapt-1.17.2\n",
            "  Attempting uninstall: numpy\n",
            "    Found existing installation: numpy 1.26.4\n",
            "    Uninstalling numpy-1.26.4:\n",
            "      Successfully uninstalled numpy-1.26.4\n",
            "  Attempting uninstall: smart-open\n",
            "    Found existing installation: smart-open 7.1.0\n",
            "    Uninstalling smart-open-7.1.0:\n",
            "      Successfully uninstalled smart-open-7.1.0\n",
            "  Attempting uninstall: scipy\n",
            "    Found existing installation: scipy 1.13.1\n",
            "    Uninstalling scipy-1.13.1:\n",
            "      Successfully uninstalled scipy-1.13.1\n",
            "  Attempting uninstall: gensim\n",
            "    Found existing installation: gensim 4.3.3\n",
            "    Uninstalling gensim-4.3.3:\n",
            "      Successfully uninstalled gensim-4.3.3\n",
            "\u001b[31mERROR: pip's dependency resolver does not currently take into account all the packages that are installed. This behaviour is the source of the following dependency conflicts.\n",
            "thinc 8.3.6 requires numpy<3.0.0,>=2.0.0, but you have numpy 1.26.4 which is incompatible.\n",
            "tsfresh 0.21.0 requires scipy>=1.14.0; python_version >= \"3.10\", but you have scipy 1.13.1 which is incompatible.\u001b[0m\u001b[31m\n",
            "\u001b[0mSuccessfully installed gensim-4.3.3 numpy-1.26.4 scipy-1.13.1 smart-open-7.1.0 wrapt-1.17.2\n"
          ]
        }
      ]
    },
    {
      "cell_type": "code",
      "source": [],
      "metadata": {
        "id": "Uqsb5k48Xcv1"
      },
      "execution_count": 17,
      "outputs": []
    },
    {
      "cell_type": "code",
      "source": [
        "import gensim.models.word2vec as w2v\n",
        "import multiprocessing"
      ],
      "metadata": {
        "id": "eqc7rJHDj10Y"
      },
      "execution_count": 18,
      "outputs": []
    },
    {
      "cell_type": "code",
      "source": [
        "import re\n",
        "import string\n",
        "import numpy as np\n",
        "import pandas as pd\n",
        "import torch\n",
        "import torch.nn as nn\n",
        "from torch.utils.data import Dataset, DataLoader\n",
        "from gensim.models import KeyedVectors\n",
        "import nltk\n",
        "from nltk.tokenize import word_tokenize\n",
        "from nltk.stem import WordNetLemmatizer\n",
        "from nltk.corpus import stopwords\n",
        "\n",
        "nltk.download('punkt')\n",
        "nltk.download('stopwords')\n",
        "nltk.download('wordnet')\n",
        "nltk.download('punkt_tab')"
      ],
      "metadata": {
        "id": "gIFKv8EYfGc6",
        "colab": {
          "base_uri": "https://localhost:8080/"
        },
        "outputId": "bf30d142-9503-49b3-c4c9-20d547405638"
      },
      "execution_count": 19,
      "outputs": [
        {
          "output_type": "stream",
          "name": "stderr",
          "text": [
            "[nltk_data] Downloading package punkt to /root/nltk_data...\n",
            "[nltk_data]   Unzipping tokenizers/punkt.zip.\n",
            "[nltk_data] Downloading package stopwords to /root/nltk_data...\n",
            "[nltk_data]   Unzipping corpora/stopwords.zip.\n",
            "[nltk_data] Downloading package wordnet to /root/nltk_data...\n",
            "[nltk_data] Downloading package punkt_tab to /root/nltk_data...\n",
            "[nltk_data]   Unzipping tokenizers/punkt_tab.zip.\n"
          ]
        },
        {
          "output_type": "execute_result",
          "data": {
            "text/plain": [
              "True"
            ]
          },
          "metadata": {},
          "execution_count": 19
        }
      ]
    },
    {
      "cell_type": "markdown",
      "source": [
        "# Clase de Preprocesamiento"
      ],
      "metadata": {
        "id": "Ote4Rgf0mQUJ"
      }
    },
    {
      "cell_type": "code",
      "source": [
        "class TextPreprocessor:\n",
        "    def __init__(self):\n",
        "        self.stop_words = set(stopwords.words('english'))\n",
        "        self.lemmatizer = WordNetLemmatizer()\n",
        "\n",
        "    def preprocess(self, text):\n",
        "        text = text.lower()\n",
        "        text = re.sub(r'\\d+', '', text)\n",
        "        text = text.translate(str.maketrans('', '', string.punctuation))\n",
        "        tokens = word_tokenize(text)\n",
        "        tokens = [self.lemmatizer.lemmatize(t) for t in tokens if t not in self.stop_words]\n",
        "        return tokens\n"
      ],
      "metadata": {
        "id": "cLQxSYF4mBcg"
      },
      "execution_count": 20,
      "outputs": []
    },
    {
      "cell_type": "markdown",
      "source": [
        "# Tokenización y Vocabulario"
      ],
      "metadata": {
        "id": "Up-24QwymV72"
      }
    },
    {
      "cell_type": "code",
      "source": [
        "class VocabBuilder():\n",
        "    def __init__(self, min_freq=1):\n",
        "        self.vocab = {'<PAD>': 0, '<UNK>': 1}\n",
        "\n",
        "    def build(self, tokenized_texts):\n",
        "        for tokens in tokenized_texts:\n",
        "            for token in tokens:\n",
        "                if token not in self.vocab:\n",
        "                    self.vocab[token] = len(self.vocab)\n",
        "        return self.vocab\n",
        "\n",
        "    def encode(self, tokens, max_len):\n",
        "        ids = [self.vocab.get(t, self.vocab['<UNK>']) for t in tokens]\n",
        "        ids = ids[:max_len] + [self.vocab['<PAD>']] * max(0, max_len - len(ids))\n",
        "        return ids"
      ],
      "metadata": {
        "id": "nK6-0xlPmKna"
      },
      "execution_count": 21,
      "outputs": []
    },
    {
      "cell_type": "markdown",
      "source": [
        "# Clase para crear los tensores para el dataset"
      ],
      "metadata": {
        "id": "X11_ZCOsneFU"
      }
    },
    {
      "cell_type": "code",
      "source": [
        "class PrepareDataset(Dataset):\n",
        "    def __init__(self, encoded_reviews, labels):\n",
        "        self.X = torch.tensor(encoded_reviews, dtype=torch.long)\n",
        "        self.y = torch.tensor(labels.tolist(), dtype=torch.float)\n",
        "\n",
        "    def __len__(self):\n",
        "        return len(self.y)\n",
        "\n",
        "    def __getitem__(self, idx):\n",
        "        return self.X[idx], self.y[idx]"
      ],
      "metadata": {
        "id": "RWlV7q-wnOgD"
      },
      "execution_count": 22,
      "outputs": []
    },
    {
      "cell_type": "markdown",
      "source": [
        "# Crear la matriz de Embeddings"
      ],
      "metadata": {
        "id": "a_c2nb0Yq1jf"
      }
    },
    {
      "cell_type": "code",
      "source": [
        "def build_embedding_matrix(w2v_model, vocab, embedding_dim):\n",
        "    matrix = np.random.normal(scale=0.6, size=(len(vocab), embedding_dim))\n",
        "    matrix[vocab['<PAD>']] = np.zeros(embedding_dim)\n",
        "    for word, idx in vocab.items():\n",
        "        if word in w2v_model:\n",
        "            matrix[idx] = w2v_model[word]\n",
        "    return torch.tensor(matrix, dtype=torch.float)\n"
      ],
      "metadata": {
        "id": "HMCpqE75qR2P"
      },
      "execution_count": 23,
      "outputs": []
    },
    {
      "cell_type": "markdown",
      "source": [
        "# Arquitectura RNN"
      ],
      "metadata": {
        "id": "wcIOBxkpqLk8"
      }
    },
    {
      "cell_type": "markdown",
      "source": [
        "### Justificación"
      ],
      "metadata": {
        "id": "OTeslIiY20oX"
      }
    },
    {
      "cell_type": "markdown",
      "source": [
        "En esta clase creamos una arquitectura RNN configurable. La arquitectura tiene las siguientes componentes:\n",
        "\n",
        "1. Parámetros de la red:\n",
        "\n",
        "*  **Un número de capas** que es configurable, pero por defecto tenemos una capa.\n",
        "*  **La direccionalidad de la red** también va a ser configurable. Por defecto es unidireccional. Esto nos va a servir para comparar qué conviene más para el análisis de sentimiento con RNN.\n",
        "\n",
        "* **El tipo de red RNN** es configurable y puede ser 'ltsm' o 'gru'. Esta configuración es configurable. Por defecto se utilizará ltsm y lo podremos cambiar dentro de las ablaciones para ver cuál nos conviene más para este caso de uso.\n",
        "\n",
        "2. Tipos de capas:\n",
        "\n",
        "Explicamos aquí los tipos de capas de la red, ya que van a ser configurables dentro de las ablaciones.\n",
        "\n",
        "*   **Una capa de embedding** la cual es la entrada al modelo y en la cual podemos recibir por parámetro, ya que podemos utilizar un modelo pre-entrenado y sus embeddings en un tamaño específico\n",
        "*   **Una serie de capas ocultas** cuya dimensión es configurable y esto nos servirá para configurarlo en nuestras ablaciones. El tipo de red y las dimensiones dependerán de los parámetros de la ablación en concreto.\n",
        "* **Una capa de salida sigmoide** dado que el problema es de clasificación binaria, esta capa nos permitirá generar la respuesta (Positiva/Negativa)\n",
        "\n",
        "\n",
        "\n",
        "\n",
        "\n",
        "\n",
        "---\n",
        "\n",
        "\n",
        "| Acrónimo | Significado            |\n",
        "| -------- | ---------------------- |\n",
        "| **LSTM** | Long Short-Term Memory |\n",
        "| **GRU**  | Gated Recurrent Unit   |\n",
        "\n",
        "\n"
      ],
      "metadata": {
        "id": "Yku5lEcs23RQ"
      }
    },
    {
      "cell_type": "code",
      "source": [],
      "metadata": {
        "id": "R4Q_Ejx398M8"
      },
      "execution_count": 23,
      "outputs": []
    },
    {
      "cell_type": "markdown",
      "source": [],
      "metadata": {
        "id": "lrSmr0H620ms"
      }
    },
    {
      "cell_type": "code",
      "source": [
        "class SentimentRNN(nn.Module):\n",
        "    def __init__(self, embedding_matrix, hidden_dim, num_layers=1, bidirectional=False, rnn_type='lstm'):\n",
        "        super().__init__()\n",
        "        num_embeddings, emb_dim = embedding_matrix.shape\n",
        "        self.embedding = nn.Embedding.from_pretrained(embedding_matrix, freeze=True)\n",
        "\n",
        "        rnn_cls = nn.LSTM if rnn_type == 'lstm' else nn.GRU\n",
        "        self.rnn = rnn_cls(\n",
        "            input_size=emb_dim,\n",
        "            hidden_size=hidden_dim,\n",
        "            num_layers=num_layers,\n",
        "            batch_first=True,\n",
        "            bidirectional=bidirectional\n",
        "        )\n",
        "\n",
        "        direction_factor = 2 if bidirectional else 1\n",
        "        self.fc = nn.Linear(hidden_dim * direction_factor, 1)\n",
        "        self.sigmoid = nn.Sigmoid()\n",
        "\n",
        "    def forward(self, x):\n",
        "        expected_input_dim = self.fc.in_features\n",
        "\n",
        "        embedded = self.embedding(x)\n",
        "        _, hidden = self.rnn(embedded)\n",
        "\n",
        "        if isinstance(hidden, tuple):  # LSTM devuelve (hidden_state, cell_state)\n",
        "            hidden = hidden[0]\n",
        "\n",
        "        # Manejo correcto para RNN bidireccional y unidireccional\n",
        "        if hidden.dim() == 3:\n",
        "            if self.rnn.bidirectional and hidden.shape[0] >= 2:\n",
        "                # Concatenamos la última capa forward y backward\n",
        "                last_hidden = torch.cat((hidden[-2], hidden[-1]), dim=1)\n",
        "            else:\n",
        "                last_hidden = hidden[-1]\n",
        "        else:\n",
        "            last_hidden = hidden.squeeze(0)\n",
        "\n",
        "        # Validación final de dimensiones\n",
        "        if last_hidden.shape[-1] != expected_input_dim:\n",
        "            raise RuntimeError(\n",
        "                f\"La forma del hidden state no es compatible: recibida {last_hidden.shape[-1]}, esperada {expected_input_dim}. \"\n",
        "                f\"Verificación de que hidden_dim es compatible para bidireccionalidad.\"\n",
        "            )\n",
        "\n",
        "        return self.sigmoid(self.fc(last_hidden)).squeeze(1)\n",
        "\n",
        "\n",
        "    def extra_repr(self):\n",
        "        return f\"RNN(hidden_dim={self.rnn.hidden_size}, bidirectional={self.rnn.bidirectional})\"\n",
        "\n"
      ],
      "metadata": {
        "id": "zNkvgaeUqG7Y"
      },
      "execution_count": 24,
      "outputs": []
    },
    {
      "cell_type": "markdown",
      "source": [
        "# Clase que representa el Pipeline para Análisis de Sentimiento"
      ],
      "metadata": {
        "id": "TmhihvG8rLYJ"
      }
    },
    {
      "cell_type": "markdown",
      "source": [
        "Vamos a utilizar Optuna para encontrar los mejores hiperparámetros para la red y el modelo. Por otra parte, en este pipeline podemos cargar flexiblemente el modelo preentrenado."
      ],
      "metadata": {
        "id": "GJBVTwcttfgO"
      }
    },
    {
      "cell_type": "code",
      "source": [
        "!pip install optuna"
      ],
      "metadata": {
        "id": "yGL6ZPxvvVuL",
        "colab": {
          "base_uri": "https://localhost:8080/"
        },
        "outputId": "9766a0b8-5ef7-4578-c404-c17fd7c1a515"
      },
      "execution_count": 25,
      "outputs": [
        {
          "output_type": "stream",
          "name": "stdout",
          "text": [
            "Collecting optuna\n",
            "  Downloading optuna-4.3.0-py3-none-any.whl.metadata (17 kB)\n",
            "Collecting alembic>=1.5.0 (from optuna)\n",
            "  Downloading alembic-1.15.2-py3-none-any.whl.metadata (7.3 kB)\n",
            "Collecting colorlog (from optuna)\n",
            "  Downloading colorlog-6.9.0-py3-none-any.whl.metadata (10 kB)\n",
            "Requirement already satisfied: numpy in /usr/local/lib/python3.11/dist-packages (from optuna) (1.26.4)\n",
            "Requirement already satisfied: packaging>=20.0 in /usr/local/lib/python3.11/dist-packages (from optuna) (24.2)\n",
            "Requirement already satisfied: sqlalchemy>=1.4.2 in /usr/local/lib/python3.11/dist-packages (from optuna) (2.0.40)\n",
            "Requirement already satisfied: tqdm in /usr/local/lib/python3.11/dist-packages (from optuna) (4.67.1)\n",
            "Requirement already satisfied: PyYAML in /usr/local/lib/python3.11/dist-packages (from optuna) (6.0.2)\n",
            "Requirement already satisfied: Mako in /usr/lib/python3/dist-packages (from alembic>=1.5.0->optuna) (1.1.3)\n",
            "Requirement already satisfied: typing-extensions>=4.12 in /usr/local/lib/python3.11/dist-packages (from alembic>=1.5.0->optuna) (4.13.2)\n",
            "Requirement already satisfied: greenlet>=1 in /usr/local/lib/python3.11/dist-packages (from sqlalchemy>=1.4.2->optuna) (3.2.1)\n",
            "Downloading optuna-4.3.0-py3-none-any.whl (386 kB)\n",
            "\u001b[2K   \u001b[90m━━━━━━━━━━━━━━━━━━━━━━━━━━━━━━━━━━━━━━━━\u001b[0m \u001b[32m386.6/386.6 kB\u001b[0m \u001b[31m27.9 MB/s\u001b[0m eta \u001b[36m0:00:00\u001b[0m\n",
            "\u001b[?25hDownloading alembic-1.15.2-py3-none-any.whl (231 kB)\n",
            "\u001b[2K   \u001b[90m━━━━━━━━━━━━━━━━━━━━━━━━━━━━━━━━━━━━━━━━\u001b[0m \u001b[32m231.9/231.9 kB\u001b[0m \u001b[31m25.6 MB/s\u001b[0m eta \u001b[36m0:00:00\u001b[0m\n",
            "\u001b[?25hDownloading colorlog-6.9.0-py3-none-any.whl (11 kB)\n",
            "Installing collected packages: colorlog, alembic, optuna\n",
            "Successfully installed alembic-1.15.2 colorlog-6.9.0 optuna-4.3.0\n"
          ]
        }
      ]
    },
    {
      "cell_type": "code",
      "source": [
        "import optuna"
      ],
      "metadata": {
        "id": "1vlLirfcvQsX"
      },
      "execution_count": 26,
      "outputs": []
    },
    {
      "cell_type": "code",
      "source": [
        "from sklearn.metrics import accuracy_score, precision_score, recall_score, f1_score\n",
        "from sklearn.model_selection import train_test_split"
      ],
      "metadata": {
        "id": "C3Qr6jZJyHz3"
      },
      "execution_count": 27,
      "outputs": []
    },
    {
      "cell_type": "code",
      "source": [
        "import matplotlib.pyplot as plt"
      ],
      "metadata": {
        "id": "MfbZ2F9a8D0l"
      },
      "execution_count": 28,
      "outputs": []
    },
    {
      "cell_type": "code",
      "source": [
        "import matplotlib.ticker as mtick"
      ],
      "metadata": {
        "id": "iDN4D7Dc21PV"
      },
      "execution_count": 29,
      "outputs": []
    },
    {
      "cell_type": "code",
      "source": [
        "from tqdm import tqdm"
      ],
      "metadata": {
        "id": "C8fgZBLQgDpX"
      },
      "execution_count": 30,
      "outputs": []
    },
    {
      "cell_type": "code",
      "source": [
        "import nltk"
      ],
      "metadata": {
        "id": "q8mUl2FOa09M"
      },
      "execution_count": 31,
      "outputs": []
    },
    {
      "cell_type": "code",
      "source": [
        "from sklearn.metrics import classification_report, confusion_matrix, ConfusionMatrixDisplay"
      ],
      "metadata": {
        "id": "v7tKsVQb2E8S"
      },
      "execution_count": 32,
      "outputs": []
    },
    {
      "cell_type": "code",
      "source": [
        "class SentimentPipeline:\n",
        "    def __init__(self, w2v_model, embedding_dim=300, max_len=50, search_space=None, default_archs=None, default_hparams=None):\n",
        "      self.preprocessor = TextPreprocessor()\n",
        "      self.tokenizer = VocabBuilder()\n",
        "      self.max_len = max_len\n",
        "      self.embedding_dim = embedding_dim\n",
        "      self.w2v = w2v_model\n",
        "      self.model = None\n",
        "      self.vocab = None\n",
        "      self.search_space = search_space\n",
        "      self.default_archs = default_archs\n",
        "      self.default_hparams = default_hparams\n",
        "      self.study = None\n",
        "      self.best_params = None\n",
        "      self.best_score = None\n",
        "      self.best_model = None\n",
        "      self.results = []\n",
        "      self.best_result = None\n",
        "\n",
        "        # Espacio de búsqueda de hiperparámetros (por defecto)\n",
        "      self.search_space = search_space or {\n",
        "          \"hidden_dim\": (32, 128),\n",
        "          \"lr\": (1e-4, 1e-2),\n",
        "          \"freeze\": [True, False]\n",
        "      }\n",
        "\n",
        "      # Arquitecturas por defecto para ablación\n",
        "      self.default_archs = default_archs or [\n",
        "          {\"rnn_type\": \"gru\", \"num_layers\": 1, \"bidirectional\": False},\n",
        "          {\"rnn_type\": \"gru\", \"num_layers\": 2, \"bidirectional\": True},\n",
        "          {\"rnn_type\": \"lstm\", \"num_layers\": 1, \"bidirectional\": False}\n",
        "      ]\n",
        "\n",
        "      # Hiperparámetros fijos por defecto\n",
        "      self.default_hparams = default_hparams or {\n",
        "          \"n_trials\": 5,\n",
        "          \"epochs\": 3,\n",
        "          \"batch_size\": 4\n",
        "      }\n",
        "      return None\n",
        "\n",
        "    def preprocess_and_tokenize(self, df, build_vocab=True):\n",
        "        df['tokens'] = df['text'].apply(self.preprocessor.preprocess)\n",
        "        if build_vocab:\n",
        "            self.vocab = self.tokenizer.build(df['tokens'])\n",
        "        df['encoded'] = df['tokens'].apply(lambda x: self.tokenizer.encode(x, self.max_len))\n",
        "        return df\n",
        "\n",
        "    def create_dataset(self, df):\n",
        "      return PrepareDataset(df['encoded'].tolist(), df['label'])\n",
        "\n",
        "    def train_test_split(self, df, test_size=0.2):\n",
        "      return train_test_split(df, test_size=test_size, stratify=df['label'], random_state=42)\n",
        "\n",
        "\n",
        "\n",
        "    def evaluate(self, dataset, device=None):\n",
        "      device = device or torch.device(\"cuda\" if torch.cuda.is_available() else \"cpu\")\n",
        "      print(f\"Evaluating on device: {device}\")\n",
        "      dataloader = DataLoader(dataset, batch_size=2)\n",
        "      self.model.eval()\n",
        "      all_preds = []\n",
        "      all_labels = []\n",
        "      with torch.no_grad():\n",
        "          for X_batch, y_batch in dataloader:\n",
        "              X_batch = X_batch.to(device)\n",
        "              y_batch = y_batch.to(device)\n",
        "              preds = self.model(X_batch)\n",
        "              predicted = (preds >= 0.5).float()\n",
        "              all_preds.extend(predicted.tolist())\n",
        "              all_labels.extend(y_batch.tolist())\n",
        "\n",
        "      acc = accuracy_score(all_labels, all_preds)\n",
        "      prec = precision_score(all_labels, all_preds)\n",
        "      rec = recall_score(all_labels, all_preds)\n",
        "      f1 = f1_score(all_labels, all_preds)\n",
        "\n",
        "      print(f\"Accuracy:  {acc:.2f}\")\n",
        "      print(f\"Precision: {prec:.2f}\")\n",
        "      print(f\"Recall:    {rec:.2f}\")\n",
        "      print(f\"F1-score:  {f1:.2f}\")\n",
        "\n",
        "      return {\"accuracy\": acc, \"precision\": prec, \"recall\": rec, \"f1\": f1}\n",
        "\n",
        "    def train(self, dataset, hidden_dim=64, lr=0.001, freeze=True, epochs=5,\n",
        "          num_layers=1, bidirectional=False, rnn_type='lstm', batch_size=2, device=None):\n",
        "      device = device or torch.device(\"cuda\" if torch.cuda.is_available() else \"cpu\")\n",
        "      print(f\"Training on device: {device}\")\n",
        "\n",
        "      # Ajustar hidden_dim si es necesario\n",
        "      if bidirectional and hidden_dim % 2 != 0:\n",
        "          print(f\"Ajustando hidden_dim de {hidden_dim} to {hidden_dim + 1} para compatibilidad bidireccional.\")\n",
        "          hidden_dim += 1\n",
        "\n",
        "      dataloader = DataLoader(dataset, batch_size=batch_size, shuffle=True)\n",
        "      embedding_matrix = build_embedding_matrix(self.w2v, self.vocab, self.embedding_dim)\n",
        "\n",
        "      self.model = SentimentRNN(\n",
        "          embedding_matrix,\n",
        "          hidden_dim=hidden_dim,\n",
        "          num_layers=num_layers,\n",
        "          bidirectional=bidirectional,\n",
        "          rnn_type=rnn_type\n",
        "      ).to(device)\n",
        "\n",
        "      self.model.embedding.weight.requires_grad = not freeze\n",
        "\n",
        "      criterion = nn.BCELoss()\n",
        "      optimizer = torch.optim.Adam(self.model.parameters(), lr=lr)\n",
        "\n",
        "      self.model.train()\n",
        "      for epoch in range(epochs):\n",
        "          total_loss = 0\n",
        "          correct = 0\n",
        "          for X_batch, y_batch in dataloader:\n",
        "              X_batch, y_batch = X_batch.to(device), y_batch.to(device)\n",
        "              optimizer.zero_grad()\n",
        "              preds = self.model(X_batch)\n",
        "              loss = criterion(preds, y_batch)\n",
        "              loss.backward()\n",
        "              optimizer.step()\n",
        "\n",
        "              total_loss += loss.item()\n",
        "              correct += ((preds >= 0.5).float() == y_batch).sum().item()\n",
        "\n",
        "          acc = correct / len(dataset)\n",
        "          print(f\"Epoch {epoch+1} | Loss: {total_loss:.4f} | Accuracy: {acc:.2f}\")\n",
        "      return self.model\n",
        "\n",
        "\n",
        "    def evaluate_model(self, model, dataset, batch_size):\n",
        "      dataloader = DataLoader(dataset, batch_size=batch_size)\n",
        "      model.eval()\n",
        "      all_preds, all_labels = [], []\n",
        "      with torch.no_grad():\n",
        "          for X_batch, y_batch in dataloader:\n",
        "              preds = model(X_batch)\n",
        "              predicted = (preds >= 0.5).float()\n",
        "              all_preds.extend(predicted.tolist())\n",
        "              all_labels.extend(y_batch.tolist())\n",
        "      f1 = f1_score(all_labels, all_preds)\n",
        "      return f1\n",
        "\n",
        "    def predict(self, text, device=None):\n",
        "        device = device or torch.device(\"cuda\" if torch.cuda.is_available() else \"cpu\")\n",
        "        print(f\"Predicting on device: {device}\")\n",
        "        tokens = self.preprocessor.preprocess(text)\n",
        "        encoded = self.tokenizer.encode(tokens, self.max_len)\n",
        "        input_tensor = torch.tensor([encoded], dtype=torch.long).to(device)\n",
        "        self.model.eval()\n",
        "        with torch.no_grad():\n",
        "            output = self.model(input_tensor)\n",
        "        return \"Positive\" if output.item() >= 0.5 else \"Negative\"\n",
        "\n",
        "    def optimize(self, df, n_trials=10):\n",
        "        df_train, df_val = self.train_test_split(df)\n",
        "        df_train = self.preprocess_and_tokenize(df_train, build_vocab=True)\n",
        "        df_val = self.preprocess_and_tokenize(df_val, build_vocab=False)\n",
        "        train_dataset = self.create_dataset(df_train)\n",
        "        val_dataset = self.create_dataset(df_val)\n",
        "\n",
        "        device = torch.device(\"cuda\" if torch.cuda.is_available() else \"cpu\")\n",
        "\n",
        "        def objective(trial):\n",
        "            hidden_dim = trial.suggest_int(\"hidden_dim\", 64, 128)\n",
        "            lr = trial.suggest_float(\"lr\", 1e-4, 1e-2, log=True)\n",
        "            freeze = trial.suggest_categorical(\"freeze\", [True, False])\n",
        "            rnn_type = trial.suggest_categorical(\"rnn_type\", [\"gru\", \"lstm\"])\n",
        "            num_layers = trial.suggest_int(\"num_layers\", 1, 2)\n",
        "            bidirectional = trial.suggest_categorical(\"bidirectional\", [True, False])\n",
        "\n",
        "            # Ajuste de hidden_dim si es necesario\n",
        "            if bidirectional and hidden_dim % 2 != 0:\n",
        "                hidden_dim += 1\n",
        "\n",
        "            self.train(\n",
        "                train_dataset,\n",
        "                hidden_dim=hidden_dim,\n",
        "                lr=lr,\n",
        "                freeze=freeze,\n",
        "                epochs=3,\n",
        "                num_layers=num_layers,\n",
        "                bidirectional=bidirectional,\n",
        "                rnn_type=rnn_type,\n",
        "                batch_size=4,\n",
        "                device=device\n",
        "            )\n",
        "            metrics = self.evaluate(val_dataset, device=device)\n",
        "            return metrics[\"f1\"]\n",
        "\n",
        "        study = optuna.create_study(direction=\"maximize\")\n",
        "        study.optimize(objective, n_trials=n_trials)\n",
        "        print(\"Mejores hiperparámetros:\", study.best_params)\n",
        "        return study.best_params\n",
        "\n",
        "\n",
        "    def run_ablation(self, df, configs, visualize=False, parallel=False):\n",
        "        import concurrent.futures\n",
        "        from functools import partial\n",
        "\n",
        "        device = torch.device(\"cuda\" if torch.cuda.is_available() else \"cpu\")\n",
        "\n",
        "        df_train, df_val = self.train_test_split(df)\n",
        "        df_train = self.preprocess_and_tokenize(df_train, build_vocab=True)\n",
        "        df_val = self.preprocess_and_tokenize(df_val, build_vocab=False)\n",
        "        train_dataset = self.create_dataset(df_train)\n",
        "        val_dataset = self.create_dataset(df_val)\n",
        "\n",
        "        def run_config(config):\n",
        "            print(f\"\\nProbando Configuración: {config}\")\n",
        "            self.train(\n",
        "                train_dataset,\n",
        "                hidden_dim=self.search_space.get(\"hidden_dim\", 64),\n",
        "                lr=self.default_hparams.get(\"lr\", 0.001),\n",
        "                freeze=self.default_hparams.get(\"freeze\", True),\n",
        "                epochs=self.default_hparams.get(\"epochs\", 5),\n",
        "                num_layers=config.get(\"num_layers\", 1),\n",
        "                bidirectional=config.get(\"bidirectional\", False),\n",
        "                rnn_type=config.get(\"rnn_type\", \"lstm\"),\n",
        "                device=device\n",
        "            )\n",
        "            metrics = self.evaluate(val_dataset, device=device)\n",
        "            return {\"config\": config, **metrics}\n",
        "\n",
        "        if parallel:\n",
        "            with concurrent.futures.ProcessPoolExecutor() as executor:\n",
        "                results = list(tqdm(executor.map(partial(run_config), configs), total=len(configs), desc=\"Corriendo ablación en paralelo\"))\n",
        "        else:\n",
        "            results = [run_config(config) for config in tqdm(configs, desc=\"Corriendo Ablación\")]\n",
        "\n",
        "        results = sorted(results, key=lambda r: r['f1'], reverse=True)\n",
        "\n",
        "        if visualize:\n",
        "            self.visualize_results(results)\n",
        "\n",
        "        return results\n",
        "\n",
        "\n",
        "    def visualize_results(self, results):\n",
        "        import matplotlib.pyplot as plt\n",
        "        import matplotlib.ticker as mtick\n",
        "\n",
        "        if not results:\n",
        "            print(\"No hay resultados para visualizar.\")\n",
        "            return\n",
        "\n",
        "        df = pd.DataFrame(results)\n",
        "        #df['label'] = df['architecture'].apply(lambda x: f\"{x['rnn_type']}-{x['num_layers']}x{'bi' if x['bidirectional'] else 'uni'}\")\n",
        "        df = df.sort_values(by=\"f1\", ascending=False)\n",
        "\n",
        "        plt.figure(figsize=(10, 5))\n",
        "        bars = plt.bar(df['label'], df['f1'], color='skyblue')\n",
        "        plt.title(\"F1-score por arquitectura optimizada\")\n",
        "        plt.ylabel(\"F1-score\")\n",
        "        plt.ylim(0, 1)\n",
        "        plt.gca().yaxis.set_major_formatter(mtick.PercentFormatter(1.0))\n",
        "        plt.xticks(rotation=45)\n",
        "\n",
        "        for bar, f1 in zip(bars, df['f1']):\n",
        "            plt.text(bar.get_x() + bar.get_width()/2, bar.get_height(), f\"{f1:.2f}\", ha='center', va='bottom')\n",
        "\n",
        "        plt.tight_layout()\n",
        "        plt.show()\n",
        "\n",
        "    def optimize_from_ablation(self, df, ablated_archs, n_trials=5, epochs=3, save_path=None, batch_size=2):\n",
        "        import time\n",
        "        if not hasattr(self.w2v, '__contains__'):\n",
        "            raise TypeError(\"El modelo de embeddings proporcionado no es válido. Asegúrate de usar api.load(...) y no el módulo gensim.downloader.\")\n",
        "\n",
        "        df_train, df_val = self.train_test_split(df)\n",
        "        df_train = self.preprocess_and_tokenize(df_train, build_vocab=True)\n",
        "        df_val = self.preprocess_and_tokenize(df_val, build_vocab=False)\n",
        "        train_dataset = self.create_dataset(df_train)\n",
        "        val_dataset = self.create_dataset(df_val)\n",
        "\n",
        "        all_results = []\n",
        "\n",
        "        for arch in tqdm(ablated_archs, desc=\"Architectures\"):\n",
        "            print(f\"\\nOptimizing for architecture: {arch}\")\n",
        "\n",
        "            def objective(trial):\n",
        "                hidden_dim = trial.suggest_int(\"hidden_dim\", 32, 128)\n",
        "                lr = trial.suggest_float(\"lr\", 1e-4, 1e-2, log=True)\n",
        "                freeze = trial.suggest_categorical(\"freeze\", [True, False])\n",
        "\n",
        "                model = self.train_model(\n",
        "                    train_dataset,\n",
        "                    hidden_dim=hidden_dim,\n",
        "                    lr=lr,\n",
        "                    freeze=freeze,\n",
        "                    epochs=epochs,\n",
        "                    num_layers=arch[\"num_layers\"],\n",
        "                    bidirectional=arch[\"bidirectional\"],\n",
        "                    rnn_type=arch[\"rnn_type\"],\n",
        "                    batch_size=batch_size\n",
        "                )\n",
        "                f1 = self.evaluate_model(model, val_dataset, batch_size=batch_size)\n",
        "                return f1\n",
        "\n",
        "            start_time = time.time()\n",
        "            study = optuna.create_study(direction=\"maximize\")\n",
        "            study.optimize(objective, n_trials=n_trials, show_progress_bar=True)\n",
        "            elapsed_time = time.time() - start_time\n",
        "\n",
        "            best_params = study.best_params\n",
        "            best_score = study.best_value\n",
        "\n",
        "            result = {\n",
        "               # \"architecture\": arch,\n",
        "                **best_params,\n",
        "                \"f1\": best_score,\n",
        "                \"time_sec\": round(elapsed_time, 2)\n",
        "            }\n",
        "            all_results.append(result)\n",
        "            print(f\"Mejor resultado para la arquitectura {arch}: {result}\")\n",
        "\n",
        "        if save_path:\n",
        "            pd.DataFrame(all_results).to_csv(save_path, index=False)\n",
        "            print(f\"Resultados guardados en: {save_path}\")\n",
        "\n",
        "        return all_results\n",
        "\n",
        "    def visualize_ablation_results(self,results):\n",
        "\n",
        "      if not results:\n",
        "          print(\"No hay resultados para visualizar.\")\n",
        "          return\n",
        "\n",
        "      df = pd.DataFrame(results)\n",
        "      df['label'] = df['config'].apply(lambda cfg: f\"{cfg.get('rnn_type', '')}-{cfg.get('num_layers', '')}x{'bi' if cfg.get('bidirectional', False) else 'uni'}\")\n",
        "\n",
        "      df = df.sort_values(by=\"f1\", ascending=False)\n",
        "\n",
        "      plt.figure(figsize=(10, 5))\n",
        "      bars = plt.bar(df['label'], df['f1'], color='skyblue')\n",
        "      plt.title(\"F1-score por configuración (ablation)\")\n",
        "      plt.ylabel(\"F1-score\")\n",
        "      plt.ylim(0, 1)\n",
        "      plt.gca().yaxis.set_major_formatter(mtick.PercentFormatter(1.0))\n",
        "      plt.xticks(rotation=45)\n",
        "\n",
        "      for bar, f1 in zip(bars, df['f1']):\n",
        "          plt.text(bar.get_x() + bar.get_width()/2, bar.get_height(), f\"{f1:.2f}\", ha='center', va='bottom')\n",
        "\n",
        "      plt.tight_layout()\n",
        "      plt.show()\n",
        "\n",
        "    def run_and_compare(self, df, configs, epochs=3, batch_size=4):\n",
        "        \"\"\"\n",
        "        Ejecuta el pipeline para cada configuración y guarda métricas.\n",
        "        \"\"\"\n",
        "        df_train, df_val = self.train_test_split(df)\n",
        "        df_train = self.preprocess_and_tokenize(df_train, build_vocab=True)\n",
        "        df_val = self.preprocess_and_tokenize(df_val, build_vocab=False)\n",
        "        train_dataset = self.create_dataset(df_train)\n",
        "        val_dataset = self.create_dataset(df_val)\n",
        "\n",
        "        device = torch.device(\"cuda\" if torch.cuda.is_available() else \"cpu\")\n",
        "        print(f\"Running on device: {device}\")\n",
        "\n",
        "        results = []\n",
        "        best_score = -1\n",
        "        best_model = None\n",
        "        best_config = None\n",
        "\n",
        "        for cfg in configs:\n",
        "            print(f\"\\nProbando configuración: {cfg}\")\n",
        "            hidden_dim = cfg.get(\"hidden_dim\", 64)\n",
        "\n",
        "            if cfg.get(\"bidirectional\") and hidden_dim % 2 != 0:\n",
        "                print(f\"hidden_dim ajustado de {hidden_dim} a {hidden_dim + 1}\")\n",
        "                hidden_dim += 1\n",
        "\n",
        "            self.train(\n",
        "                train_dataset,\n",
        "                hidden_dim=hidden_dim,\n",
        "                lr=cfg.get(\"lr\", 0.001),\n",
        "                freeze=cfg.get(\"freeze\", True),\n",
        "                epochs=epochs,\n",
        "                num_layers=cfg.get(\"num_layers\", 1),\n",
        "                bidirectional=cfg.get(\"bidirectional\", False),\n",
        "                rnn_type=cfg.get(\"rnn_type\", \"lstm\"),\n",
        "                batch_size=batch_size,\n",
        "                device=device\n",
        "            )\n",
        "\n",
        "            metrics = self.evaluate(val_dataset, device=device)\n",
        "            metrics[\"config\"] = cfg\n",
        "            results.append(metrics)\n",
        "\n",
        "            if metrics[\"f1\"] > best_score:\n",
        "                best_score = metrics[\"f1\"]\n",
        "                best_model = self.model\n",
        "                best_config = cfg\n",
        "\n",
        "        self.plot_comparison(results)\n",
        "\n",
        "        return {\n",
        "            \"results\": results,\n",
        "            \"best_model\": best_model,\n",
        "            \"best_config\": best_config\n",
        "        }\n",
        "\n",
        "    def evaluate_with_confusion(self, dataset, device=None):\n",
        "      device = device or torch.device(\"cuda\" if torch.cuda.is_available() else \"cpu\")\n",
        "      print(f\"Evaluating on device: {device}\")\n",
        "\n",
        "      dataloader = DataLoader(dataset, batch_size=2)\n",
        "      self.model.eval()\n",
        "      all_preds = []\n",
        "      all_labels = []\n",
        "\n",
        "      with torch.no_grad():\n",
        "          for X_batch, y_batch in dataloader:\n",
        "              X_batch, y_batch = X_batch.to(device), y_batch.to(device)\n",
        "              preds = self.model(X_batch)\n",
        "              predicted = (preds >= 0.5).float()\n",
        "              all_preds.extend(predicted.cpu().numpy())\n",
        "              all_labels.extend(y_batch.cpu().numpy())\n",
        "\n",
        "      print(classification_report(all_labels, all_preds))\n",
        "      cm = confusion_matrix(all_labels, all_preds)\n",
        "      disp = ConfusionMatrixDisplay(confusion_matrix=cm)\n",
        "      disp.plot()\n",
        "\n",
        "    def plot_comparison(self, results):\n",
        "        import matplotlib.pyplot as plt\n",
        "        import pandas as pd\n",
        "\n",
        "        if not results:\n",
        "            print(\"No hay resultados para graficar.\")\n",
        "            return\n",
        "\n",
        "        # Convertir resultados a DataFrame\n",
        "        df = pd.DataFrame(results)\n",
        "        df[\"config_str\"] = df[\"config\"].apply(\n",
        "            lambda cfg: f\"{cfg['rnn_type']}-{cfg['num_layers']}x{'bi' if cfg['bidirectional'] else 'uni'}\"\n",
        "        )\n",
        "\n",
        "        metrics = [\"accuracy\", \"f1\", \"recall\", \"precision\"]\n",
        "        x_labels = df[\"config_str\"]\n",
        "        x = range(len(x_labels))\n",
        "        width = 0.2\n",
        "\n",
        "        plt.figure(figsize=(12, 6))\n",
        "        for i, metric in enumerate(metrics):\n",
        "            values = df[metric]\n",
        "            bar_positions = [p + i * width for p in x]\n",
        "            plt.bar(bar_positions, values, width=width, label=metric)\n",
        "\n",
        "        plt.xticks([p + width * 1.5 for p in x], x_labels, rotation=45)\n",
        "        plt.ylabel(\"Score\")\n",
        "        plt.ylim(0, 1.05)\n",
        "        plt.title(\"Comparación de métricas por arquitectura\")\n",
        "        plt.legend()\n",
        "        plt.grid(axis='y', linestyle='--', alpha=0.6)\n",
        "        plt.tight_layout()\n",
        "        plt.show()\n",
        "\n",
        "        # Guardar como atributo del pipeline\n",
        "        self.last_comparison_df = df\n",
        "\n",
        "\n"
      ],
      "metadata": {
        "id": "4w_iw7ujrTYQ"
      },
      "execution_count": 33,
      "outputs": []
    },
    {
      "cell_type": "markdown",
      "source": [
        "# Entrenamiento del modelo con el Pipeline"
      ],
      "metadata": {
        "id": "nJvTGt4AwR2T"
      }
    },
    {
      "cell_type": "code",
      "source": [
        "df = imdb_df.copy()"
      ],
      "metadata": {
        "id": "WNg_UajjxcOh"
      },
      "execution_count": 34,
      "outputs": []
    },
    {
      "cell_type": "markdown",
      "source": [
        "Bajamos el modelo pre-entrenado de glove para agregar nuestro entrenamiento posteriormente."
      ],
      "metadata": {
        "id": "-uHEbxjOywaR"
      }
    },
    {
      "cell_type": "code",
      "source": [
        "import gensim.downloader as api\n",
        "w2v= api.load(\"glove-wiki-gigaword-100\")  # ~130 MB"
      ],
      "metadata": {
        "id": "nxza2VWXyqmG",
        "colab": {
          "base_uri": "https://localhost:8080/"
        },
        "outputId": "d1ef27d8-b76d-4b97-ecc0-43e945f5d229"
      },
      "execution_count": 35,
      "outputs": [
        {
          "output_type": "stream",
          "name": "stdout",
          "text": [
            "[==================================================] 100.0% 128.1/128.1MB downloaded\n"
          ]
        }
      ]
    },
    {
      "cell_type": "markdown",
      "source": [
        "Utilizamos el modelo Glove para utilizar con 100 dimensiones de embedding (esto va en nuestros parámetros del pipeline). Dado que encontrar los mejores parámetros con optuna nos está tardando demasiado, vamos hacer dos \"trials\". Con estos esperamos optimizar los hiperparámetros y Hemos equipado al pipeline con un método para correr la ablación, el cual estaremos utilizando más adelante."
      ],
      "metadata": {
        "id": "KUbmXBRu8OgZ"
      }
    },
    {
      "cell_type": "code",
      "source": [
        "# 1. Inicializar pipeline\n",
        "pipeline = SentimentPipeline(w2v_model=w2v, embedding_dim=100, max_len=50)\n",
        "\n",
        "# 2. Buscar mejores hiperparámetros\n",
        "best_params = pipeline.optimize(df, n_trials=2)\n",
        "\n"
      ],
      "metadata": {
        "id": "5HYovZepwbNR",
        "colab": {
          "base_uri": "https://localhost:8080/"
        },
        "outputId": "25c4ea72-2986-4e19-8712-0360e28712f3"
      },
      "execution_count": 36,
      "outputs": [
        {
          "output_type": "stream",
          "name": "stderr",
          "text": [
            "[I 2025-05-13 11:37:25,905] A new study created in memory with name: no-name-4fe41a2d-b69c-41e6-9b1d-30361e162e6c\n"
          ]
        },
        {
          "output_type": "stream",
          "name": "stdout",
          "text": [
            "Training on device: cuda\n",
            "Epoch 1 | Loss: 3375.3602 | Accuracy: 0.80\n",
            "Epoch 2 | Loss: 1681.8996 | Accuracy: 0.92\n",
            "Epoch 3 | Loss: 544.4200 | Accuracy: 0.98\n",
            "Evaluating on device: cuda\n"
          ]
        },
        {
          "output_type": "stream",
          "name": "stderr",
          "text": [
            "[I 2025-05-13 11:40:25,239] Trial 0 finished with value: 0.8155219439623109 and parameters: {'hidden_dim': 113, 'lr': 0.0011521998363690483, 'freeze': False, 'rnn_type': 'gru', 'num_layers': 2, 'bidirectional': True}. Best is trial 0 with value: 0.8155219439623109.\n"
          ]
        },
        {
          "output_type": "stream",
          "name": "stdout",
          "text": [
            "Accuracy:  0.81\n",
            "Precision: 0.81\n",
            "Recall:    0.83\n",
            "F1-score:  0.82\n",
            "Training on device: cuda\n",
            "Epoch 1 | Loss: 3446.9493 | Accuracy: 0.80\n",
            "Epoch 2 | Loss: 1940.8486 | Accuracy: 0.90\n",
            "Epoch 3 | Loss: 908.4171 | Accuracy: 0.96\n",
            "Evaluating on device: cuda\n"
          ]
        },
        {
          "output_type": "stream",
          "name": "stderr",
          "text": [
            "[I 2025-05-13 11:42:58,618] Trial 1 finished with value: 0.82574184882159 and parameters: {'hidden_dim': 74, 'lr': 0.0006205974133218978, 'freeze': False, 'rnn_type': 'gru', 'num_layers': 1, 'bidirectional': True}. Best is trial 1 with value: 0.82574184882159.\n"
          ]
        },
        {
          "output_type": "stream",
          "name": "stdout",
          "text": [
            "Accuracy:  0.82\n",
            "Precision: 0.80\n",
            "Recall:    0.85\n",
            "F1-score:  0.83\n",
            "Mejores hiperparámetros: {'hidden_dim': 74, 'lr': 0.0006205974133218978, 'freeze': False, 'rnn_type': 'gru', 'num_layers': 1, 'bidirectional': True}\n"
          ]
        }
      ]
    },
    {
      "cell_type": "markdown",
      "source": [
        "Aunque en cada ejecución hemos visto que los \"trials\" ejecutan parámetros diferentes, quisimos guardar esta ejecución que funcionó particularmente bien al primer intento:\n",
        "\n",
        "\n",
        "```\n",
        "[I 2025-05-13 11:37:25,905] A new study created in memory with name: no-name-4fe41a2d-b69c-41e6-9b1d-30361e162e6c\n",
        "Training on device: cuda\n",
        "Epoch 1 | Loss: 3375.3602 | Accuracy: 0.80\n",
        "Epoch 2 | Loss: 1681.8996 | Accuracy: 0.92\n",
        "Epoch 3 | Loss: 544.4200 | Accuracy: 0.98\n",
        "Evaluating on device: cuda\n",
        "[I 2025-05-13 11:40:25,239] Trial 0 finished with value: 0.8155219439623109 and parameters: {'hidden_dim': 113, 'lr': 0.0011521998363690483, 'freeze': False, 'rnn_type': 'gru', 'num_layers': 2, 'bidirectional': True}. Best is trial 0 with value: 0.8155219439623109.\n",
        "Accuracy:  0.81\n",
        "Precision: 0.81\n",
        "Recall:    0.83\n",
        "F1-score:  0.82\n",
        "```\n",
        "\n"
      ],
      "metadata": {
        "id": "-PQd9RfwCFq8"
      }
    },
    {
      "cell_type": "markdown",
      "source": [
        "En estas celdas entrenamos el modelo con los mejores parámetros encontrados."
      ],
      "metadata": {
        "id": "daeIJbS03j02"
      }
    },
    {
      "cell_type": "code",
      "source": [
        "# 3. Preprocesar, codificar y crear dataset\n",
        "df = pipeline.preprocess_and_tokenize(df)\n",
        "dataset = pipeline.create_dataset(df)\n",
        "\n",
        "# 4. Entrenar modelo con mejores parámetros\n",
        "pipeline.train(\n",
        "    dataset,\n",
        "    hidden_dim=best_params[\"hidden_dim\"],\n",
        "    lr=best_params[\"lr\"],\n",
        "    num_layers=best_params[\"num_layers\"],\n",
        "    bidirectional=best_params[\"bidirectional\"],\n",
        "    rnn_type=best_params[\"rnn_type\"],\n",
        "    freeze=best_params[\"freeze\"],\n",
        "    epochs=5\n",
        ")\n",
        "\n",
        "# 5. Evaluar el modelo\n",
        "pipeline.evaluate(dataset)\n",
        "\n",
        "# 6. Probar con nuevo texto\n",
        "print(pipeline.predict(\"This was a wonderful film with great characters\"))\n",
        "print(pipeline.predict(\"Awful movie, I couldn't even finish it\"))"
      ],
      "metadata": {
        "id": "bFsg888f67pj",
        "colab": {
          "base_uri": "https://localhost:8080/"
        },
        "outputId": "24c9eab7-7788-46f5-f639-ad1ce6e95425"
      },
      "execution_count": 37,
      "outputs": [
        {
          "output_type": "stream",
          "name": "stdout",
          "text": [
            "Training on device: cuda\n",
            "Epoch 1 | Loss: 8184.5340 | Accuracy: 0.81\n",
            "Epoch 2 | Loss: 4780.7636 | Accuracy: 0.90\n",
            "Epoch 3 | Loss: 2353.7294 | Accuracy: 0.96\n",
            "Epoch 4 | Loss: 761.5765 | Accuracy: 0.99\n",
            "Epoch 5 | Loss: 175.0710 | Accuracy: 1.00\n",
            "Evaluating on device: cuda\n",
            "Accuracy:  1.00\n",
            "Precision: 1.00\n",
            "Recall:    1.00\n",
            "F1-score:  1.00\n",
            "Predicting on device: cuda\n",
            "Positive\n",
            "Predicting on device: cuda\n",
            "Negative\n"
          ]
        }
      ]
    },
    {
      "cell_type": "markdown",
      "source": [
        "Vemos que con los mejores hiper parámetros encontrados por optuna hemos logrado unas métricas buenas. Sin embargo vamos a intentar optimizar por medio de la ablación. Para esto vamos a generar una función para optimizar con respecto a esta ablación."
      ],
      "metadata": {
        "id": "S_rjcFhcB_Wc"
      }
    },
    {
      "cell_type": "markdown",
      "source": [
        "Guardamos el mejor modelo aquí para poder utilizarlo después si"
      ],
      "metadata": {
        "id": "mt87I44z94GW"
      }
    },
    {
      "cell_type": "code",
      "source": [
        "mejor_modelo = pipeline.model"
      ],
      "metadata": {
        "id": "pTCUl08I36gI"
      },
      "execution_count": 38,
      "outputs": []
    },
    {
      "cell_type": "code",
      "source": [
        "pipeline.evaluate_with_confusion(dataset)"
      ],
      "metadata": {
        "colab": {
          "base_uri": "https://localhost:8080/",
          "height": 623
        },
        "id": "tkyQulk9-Op-",
        "outputId": "dccf8496-e884-4ae5-dd46-f534815cb1ac"
      },
      "execution_count": 40,
      "outputs": [
        {
          "output_type": "stream",
          "name": "stdout",
          "text": [
            "Evaluating on device: cuda\n",
            "              precision    recall  f1-score   support\n",
            "\n",
            "         0.0       1.00      1.00      1.00     19815\n",
            "         1.0       1.00      1.00      1.00     19908\n",
            "\n",
            "    accuracy                           1.00     39723\n",
            "   macro avg       1.00      1.00      1.00     39723\n",
            "weighted avg       1.00      1.00      1.00     39723\n",
            "\n"
          ]
        },
        {
          "output_type": "display_data",
          "data": {
            "text/plain": [
              "<Figure size 640x480 with 2 Axes>"
            ],
            "image/png": "[encoded data removed]"
          },
          "metadata": {}
        }
      ]
    },
    {
      "cell_type": "markdown",
      "source": [
        "Vemos que este modelo tiene un muy buen rendimiento sobre el dataset. Podemos utilizar este modelo para predecir cualquier nuevo texto para clasificarlo como Positivo o Negativo."
      ],
      "metadata": {
        "id": "p72FL0mG_Ndp"
      }
    },
    {
      "cell_type": "markdown",
      "source": [
        "### Celdas auxiiliares para revisar que la clase ha sido bien definida"
      ],
      "metadata": {
        "id": "FVDbw6qB3zw3"
      }
    },
    {
      "cell_type": "code",
      "source": [
        "df = imdb_df.copy()"
      ],
      "metadata": {
        "id": "qTNiKz0LEXgo"
      },
      "execution_count": 44,
      "outputs": []
    },
    {
      "cell_type": "code",
      "source": [
        "method_list = [func for func in dir(SentimentPipeline) if callable(getattr(SentimentPipeline, func))]"
      ],
      "metadata": {
        "id": "EY7lyFw8LAmK"
      },
      "execution_count": 45,
      "outputs": []
    },
    {
      "cell_type": "code",
      "source": [
        "method_list"
      ],
      "metadata": {
        "id": "6N6TqC8nLG-e",
        "colab": {
          "base_uri": "https://localhost:8080/"
        },
        "outputId": "a9012b5f-8b7e-4c8e-e647-582d3440fa64"
      },
      "execution_count": 46,
      "outputs": [
        {
          "output_type": "execute_result",
          "data": {
            "text/plain": [
              "['__class__',\n",
              " '__delattr__',\n",
              " '__dir__',\n",
              " '__eq__',\n",
              " '__format__',\n",
              " '__ge__',\n",
              " '__getattribute__',\n",
              " '__getstate__',\n",
              " '__gt__',\n",
              " '__hash__',\n",
              " '__init__',\n",
              " '__init_subclass__',\n",
              " '__le__',\n",
              " '__lt__',\n",
              " '__ne__',\n",
              " '__new__',\n",
              " '__reduce__',\n",
              " '__reduce_ex__',\n",
              " '__repr__',\n",
              " '__setattr__',\n",
              " '__sizeof__',\n",
              " '__str__',\n",
              " '__subclasshook__',\n",
              " 'create_dataset',\n",
              " 'evaluate',\n",
              " 'evaluate_model',\n",
              " 'evaluate_with_confusion',\n",
              " 'optimize',\n",
              " 'optimize_from_ablation',\n",
              " 'plot_comparison',\n",
              " 'predict',\n",
              " 'preprocess_and_tokenize',\n",
              " 'run_ablation',\n",
              " 'run_and_compare',\n",
              " 'train',\n",
              " 'train_test_split',\n",
              " 'visualize_ablation_results',\n",
              " 'visualize_results']"
            ]
          },
          "metadata": {},
          "execution_count": 46
        }
      ]
    },
    {
      "cell_type": "markdown",
      "source": [
        "A pesar de que Optuna nos ha ayudado a encontrar el mejor modelo, este pipeline también nos permite explorar otras arquitecturas pasando la configuración como parámetro y dando un search space para encontrar los parámetros para esta configuración."
      ],
      "metadata": {
        "id": "m31Vfvwp9nfu"
      }
    },
    {
      "cell_type": "markdown",
      "source": [
        "# Ablaciones - Utilización del pipeline"
      ],
      "metadata": {
        "id": "uFUMotsXzHts"
      }
    },
    {
      "cell_type": "markdown",
      "source": [
        "# Arquitectura 1 - GRU - 1 layer - unidirectional - hidden dimmensions"
      ],
      "metadata": {
        "id": "aj15l7BozRLT"
      }
    },
    {
      "cell_type": "code",
      "source": [
        "search_space = {\n",
        "    \"hidden_dim\": best_params['hidden_dim'],\n",
        "    \"lr\": best_params['lr'],\n",
        "    \"freeze\": best_params['freeze']\n",
        "}\n",
        "\n",
        "ablated_archs = [\n",
        "        {\"rnn_type\": \"gru\", \"num_layers\": 1, \"bidirectional\": False},\n",
        "    ]\n",
        "\n",
        "pipeline = SentimentPipeline(\n",
        "    w2v_model=w2v,\n",
        "    embedding_dim=100,\n",
        "    search_space=search_space,\n",
        "    default_archs=ablated_archs,\n",
        "    default_hparams={\"n_trials\": 2, \"epochs\": 5, \"batch_size\": 4}\n",
        ")\n",
        "\n",
        "results = pipeline.run_ablation(df,configs=ablated_archs)  # usa todo lo parametrizado\n"
      ],
      "metadata": {
        "id": "vhqCaXo-TBAq",
        "colab": {
          "base_uri": "https://localhost:8080/"
        },
        "outputId": "679ad16b-fe0a-4ee6-be6e-95cecac6df9e"
      },
      "execution_count": 47,
      "outputs": [
        {
          "output_type": "stream",
          "name": "stderr",
          "text": [
            "\rRunning Ablation:   0%|          | 0/1 [00:00<?, ?it/s]"
          ]
        },
        {
          "output_type": "stream",
          "name": "stdout",
          "text": [
            "\n",
            "Testing config: {'rnn_type': 'gru', 'num_layers': 1, 'bidirectional': False}\n",
            "Training on device: cuda\n",
            "Epoch 1 | Loss: 7673.0002 | Accuracy: 0.76\n",
            "Epoch 2 | Loss: 6359.6145 | Accuracy: 0.82\n",
            "Epoch 3 | Loss: 5587.1334 | Accuracy: 0.84\n",
            "Epoch 4 | Loss: 4800.1816 | Accuracy: 0.87\n",
            "Epoch 5 | Loss: 3994.0715 | Accuracy: 0.89\n",
            "Evaluating on device: cuda\n"
          ]
        },
        {
          "output_type": "stream",
          "name": "stderr",
          "text": [
            "Running Ablation: 100%|██████████| 1/1 [03:05<00:00, 185.31s/it]"
          ]
        },
        {
          "output_type": "stream",
          "name": "stdout",
          "text": [
            "Accuracy:  0.80\n",
            "Precision: 0.77\n",
            "Recall:    0.86\n",
            "F1-score:  0.81\n"
          ]
        },
        {
          "output_type": "stream",
          "name": "stderr",
          "text": [
            "\n"
          ]
        }
      ]
    },
    {
      "cell_type": "code",
      "source": [
        "model1 = pipeline.model"
      ],
      "metadata": {
        "id": "nZwqYB_7t2v_"
      },
      "execution_count": 48,
      "outputs": []
    },
    {
      "cell_type": "code",
      "source": [
        "model1"
      ],
      "metadata": {
        "id": "hDexul-VueAb",
        "colab": {
          "base_uri": "https://localhost:8080/"
        },
        "outputId": "a22c2def-3095-4192-d2b8-c3883c080d43"
      },
      "execution_count": 49,
      "outputs": [
        {
          "output_type": "execute_result",
          "data": {
            "text/plain": [
              "SentimentRNN(\n",
              "  RNN(hidden_dim=74, bidirectional=False)\n",
              "  (embedding): Embedding(128180, 100)\n",
              "  (rnn): GRU(100, 74, batch_first=True)\n",
              "  (fc): Linear(in_features=74, out_features=1, bias=True)\n",
              "  (sigmoid): Sigmoid()\n",
              ")"
            ]
          },
          "metadata": {},
          "execution_count": 49
        }
      ]
    },
    {
      "cell_type": "code",
      "source": [
        "print(\"\\nResumen de resultados:\")\n",
        "for r in results:\n",
        "    print(r)"
      ],
      "metadata": {
        "id": "GRP7wsY9KAmT",
        "colab": {
          "base_uri": "https://localhost:8080/"
        },
        "outputId": "11cda531-900f-4f90-93e3-66dcd2cd02a6"
      },
      "execution_count": 50,
      "outputs": [
        {
          "output_type": "stream",
          "name": "stdout",
          "text": [
            "\n",
            "Resumen de resultados:\n",
            "{'config': {'rnn_type': 'gru', 'num_layers': 1, 'bidirectional': False}, 'accuracy': 0.7991189427312775, 'precision': 0.7657015590200446, 'recall': 0.8633852335509794, 'f1': 0.8116147308781869}\n"
          ]
        }
      ]
    },
    {
      "cell_type": "code",
      "source": [
        "pipeline.visualize_ablation_results(results)"
      ],
      "metadata": {
        "colab": {
          "base_uri": "https://localhost:8080/",
          "height": 507
        },
        "id": "7g7ggPGnATUz",
        "outputId": "7717919b-60bd-4d20-960b-d2c03f5f6254"
      },
      "execution_count": 51,
      "outputs": [
        {
          "output_type": "display_data",
          "data": {
            "text/plain": [
              "<Figure size 1000x500 with 1 Axes>"
            ],
            "image/png": "[encoded data removed]"
          },
          "metadata": {}
        }
      ]
    },
    {
      "cell_type": "code",
      "source": [
        "#pipeline.model = pipeline.best_model  # o el que quieras evaluar\n",
        "\n",
        "df_val = pipeline.preprocess_and_tokenize(df, build_vocab=False)\n",
        "val_dataset = pipeline.create_dataset(df_val)\n",
        "\n"
      ],
      "metadata": {
        "id": "R07I0fPYDFOx"
      },
      "execution_count": 52,
      "outputs": []
    },
    {
      "cell_type": "code",
      "source": [
        "pipeline.evaluate_with_confusion(val_dataset)"
      ],
      "metadata": {
        "colab": {
          "base_uri": "https://localhost:8080/",
          "height": 623
        },
        "id": "bGcMAdAsJlVY",
        "outputId": "5d9bcf18-7ab2-45e6-cb4f-d98f1a255060"
      },
      "execution_count": 53,
      "outputs": [
        {
          "output_type": "stream",
          "name": "stdout",
          "text": [
            "Evaluating on device: cuda\n",
            "              precision    recall  f1-score   support\n",
            "\n",
            "         0.0       0.94      0.85      0.89     19815\n",
            "         1.0       0.86      0.95      0.90     19908\n",
            "\n",
            "    accuracy                           0.90     39723\n",
            "   macro avg       0.90      0.90      0.90     39723\n",
            "weighted avg       0.90      0.90      0.90     39723\n",
            "\n"
          ]
        },
        {
          "output_type": "display_data",
          "data": {
            "text/plain": [
              "<Figure size 640x480 with 2 Axes>"
            ],
            "image/png": "[encoded data removed]"
          },
          "metadata": {}
        }
      ]
    },
    {
      "cell_type": "code",
      "source": [
        "pipeline.best_model = model1"
      ],
      "metadata": {
        "id": "OI9D6ywi8CS4"
      },
      "execution_count": 54,
      "outputs": []
    },
    {
      "cell_type": "code",
      "source": [],
      "metadata": {
        "id": "vTd7bTUSAGKW"
      },
      "execution_count": null,
      "outputs": []
    },
    {
      "cell_type": "markdown",
      "source": [
        "# Arquitectura 2 - GRU - 2 layers - Bidirectional  (68 hidden- units)"
      ],
      "metadata": {
        "id": "IDIWBViDyfca"
      }
    },
    {
      "cell_type": "code",
      "source": [
        "ablated_archs = [\n",
        "        {\"rnn_type\": \"gru\", \"num_layers\": 2, \"bidirectional\": True},\n",
        "    ]\n"
      ],
      "metadata": {
        "id": "W7VhgdjGu4K4"
      },
      "execution_count": 55,
      "outputs": []
    },
    {
      "cell_type": "markdown",
      "source": [
        "En esta ablación colocamos las dimensiones manualmente dado que hubo problemas al tener un número de unidades impar. Seleccionamos 68, dado que fue uno de los valores que encontramos en una de las iteraciones de optimización anteriormente. Cabe anotar que **cada vez que se corren las iteraciones de optimización, las unidades pueden cambiar, por lo que estos parámetros no son fijos** seleccionamos 68 sólo para colocar un valor que pueda funcionar en la ablación."
      ],
      "metadata": {
        "id": "07vnpXswA2An"
      }
    },
    {
      "cell_type": "code",
      "source": [
        "search_space = {\n",
        "    \"hidden_dim\": 68,\n",
        "    #\"hidden_dim\": best_params['hidden_dim'],\n",
        "    \"lr\": best_params['lr'],\n",
        "    \"freeze\": best_params['freeze']\n",
        "}"
      ],
      "metadata": {
        "id": "xAR6QyDDIATQ"
      },
      "execution_count": 56,
      "outputs": []
    },
    {
      "cell_type": "code",
      "source": [
        "pipeline = SentimentPipeline(\n",
        "    w2v_model=w2v,\n",
        "    embedding_dim=100,\n",
        "    search_space=search_space,\n",
        "    default_archs=ablated_archs,\n",
        "    default_hparams={\"n_trials\": 2, \"epochs\": 5, \"batch_size\": 4}\n",
        ")\n",
        "\n",
        "results_2 = pipeline.run_ablation(df,configs=ablated_archs)\n"
      ],
      "metadata": {
        "id": "lFnEzfHau9BV",
        "colab": {
          "base_uri": "https://localhost:8080/"
        },
        "outputId": "cb9cb843-dc2e-4a08-ee41-d7ed3907d5c7"
      },
      "execution_count": 57,
      "outputs": [
        {
          "output_type": "stream",
          "name": "stderr",
          "text": [
            "\rRunning Ablation:   0%|          | 0/1 [00:00<?, ?it/s]"
          ]
        },
        {
          "output_type": "stream",
          "name": "stdout",
          "text": [
            "\n",
            "Testing config: {'rnn_type': 'gru', 'num_layers': 2, 'bidirectional': True}\n",
            "Training on device: cuda\n",
            "Epoch 1 | Loss: 7533.5185 | Accuracy: 0.77\n",
            "Epoch 2 | Loss: 6304.4699 | Accuracy: 0.82\n",
            "Epoch 3 | Loss: 5344.4058 | Accuracy: 0.85\n",
            "Epoch 4 | Loss: 4264.3562 | Accuracy: 0.89\n",
            "Epoch 5 | Loss: 3225.7016 | Accuracy: 0.92\n",
            "Evaluating on device: cuda\n"
          ]
        },
        {
          "output_type": "stream",
          "name": "stderr",
          "text": [
            "Running Ablation: 100%|██████████| 1/1 [04:57<00:00, 298.00s/it]"
          ]
        },
        {
          "output_type": "stream",
          "name": "stdout",
          "text": [
            "Accuracy:  0.80\n",
            "Precision: 0.81\n",
            "Recall:    0.80\n",
            "F1-score:  0.80\n"
          ]
        },
        {
          "output_type": "stream",
          "name": "stderr",
          "text": [
            "\n"
          ]
        }
      ]
    },
    {
      "cell_type": "code",
      "source": [
        "model2 = pipeline.model"
      ],
      "metadata": {
        "id": "Xr5Ll7iGvQmt"
      },
      "execution_count": 58,
      "outputs": []
    },
    {
      "cell_type": "code",
      "source": [
        "model2"
      ],
      "metadata": {
        "colab": {
          "base_uri": "https://localhost:8080/"
        },
        "id": "dtccLnLbDxWJ",
        "outputId": "0b363d36-c68a-4f7d-b1a7-a1ac0b31b28d"
      },
      "execution_count": 60,
      "outputs": [
        {
          "output_type": "execute_result",
          "data": {
            "text/plain": [
              "SentimentRNN(\n",
              "  RNN(hidden_dim=68, bidirectional=True)\n",
              "  (embedding): Embedding(128180, 100)\n",
              "  (rnn): GRU(100, 68, num_layers=2, batch_first=True, bidirectional=True)\n",
              "  (fc): Linear(in_features=136, out_features=1, bias=True)\n",
              "  (sigmoid): Sigmoid()\n",
              ")"
            ]
          },
          "metadata": {},
          "execution_count": 60
        }
      ]
    },
    {
      "cell_type": "code",
      "source": [
        "print(\"\\nResumen de resultados 3ra arquitectura:\")\n",
        "for r in results_2:\n",
        "    print(r)"
      ],
      "metadata": {
        "id": "XvhJmwbCvSzX",
        "colab": {
          "base_uri": "https://localhost:8080/"
        },
        "outputId": "bb1c90ff-d716-49cd-9f27-4fec270612d6"
      },
      "execution_count": 59,
      "outputs": [
        {
          "output_type": "stream",
          "name": "stdout",
          "text": [
            "\n",
            "Resumen de resultados 3ra arquitectura:\n",
            "{'config': {'rnn_type': 'gru', 'num_layers': 2, 'bidirectional': True}, 'accuracy': 0.8042794210195091, 'precision': 0.8066717210007581, 'recall': 0.801607232546459, 'f1': 0.8041315027081496}\n"
          ]
        }
      ]
    },
    {
      "cell_type": "code",
      "source": [
        "pipeline.visualize_ablation_results(results_2)"
      ],
      "metadata": {
        "id": "w0cr6vGeyUmJ",
        "colab": {
          "base_uri": "https://localhost:8080/",
          "height": 507
        },
        "outputId": "c7b99cba-28b7-4b81-e1b7-6aea01e3184f"
      },
      "execution_count": 61,
      "outputs": [
        {
          "output_type": "display_data",
          "data": {
            "text/plain": [
              "<Figure size 1000x500 with 1 Axes>"
            ],
            "image/png": "[encoded data removed]"
          },
          "metadata": {}
        }
      ]
    },
    {
      "cell_type": "code",
      "source": [
        "pipeline.evaluate_with_confusion(val_dataset)"
      ],
      "metadata": {
        "colab": {
          "base_uri": "https://localhost:8080/",
          "height": 623
        },
        "id": "5nOY3DJNJzqQ",
        "outputId": "5ffa7cca-693e-4218-a486-57b534019524"
      },
      "execution_count": 62,
      "outputs": [
        {
          "output_type": "stream",
          "name": "stdout",
          "text": [
            "Evaluating on device: cuda\n",
            "              precision    recall  f1-score   support\n",
            "\n",
            "         0.0       0.92      0.94      0.93     19815\n",
            "         1.0       0.94      0.92      0.93     19908\n",
            "\n",
            "    accuracy                           0.93     39723\n",
            "   macro avg       0.93      0.93      0.93     39723\n",
            "weighted avg       0.93      0.93      0.93     39723\n",
            "\n"
          ]
        },
        {
          "output_type": "display_data",
          "data": {
            "text/plain": [
              "<Figure size 640x480 with 2 Axes>"
            ],
            "image/png": "[encoded data removed]"
          },
          "metadata": {}
        }
      ]
    },
    {
      "cell_type": "markdown",
      "source": [
        "# Arquitectura 3 : LSTM - 1 layer - Unidirectional -  Optimal Hidden Units"
      ],
      "metadata": {
        "id": "Ekt1EF_KzD71"
      }
    },
    {
      "cell_type": "code",
      "source": [
        "search_space = {\n",
        "    \"hidden_dim\": best_params['hidden_dim'],\n",
        "    \"lr\": best_params['lr'],\n",
        "    \"freeze\": best_params['freeze']\n",
        "}"
      ],
      "metadata": {
        "id": "Uk-tEJqJNVmV"
      },
      "execution_count": 63,
      "outputs": []
    },
    {
      "cell_type": "code",
      "source": [
        "ablated_archs = [\n",
        "        {\"rnn_type\": \"lstm\", \"num_layers\": 1, \"bidirectional\": False},\n",
        "    ]\n"
      ],
      "metadata": {
        "id": "sbjAh-nxlJO2"
      },
      "execution_count": 64,
      "outputs": []
    },
    {
      "cell_type": "code",
      "source": [
        "pipeline = SentimentPipeline(\n",
        "    w2v_model=w2v,\n",
        "    embedding_dim=100,\n",
        "    search_space=search_space,\n",
        "    default_archs=ablated_archs,\n",
        "    default_hparams={\"n_trials\": 2, \"epochs\": 5, \"batch_size\": 4}\n",
        ")\n",
        "\n",
        "results_3 = pipeline.run_ablation(df,configs=ablated_archs)  # usa todo lo parametrizado\n"
      ],
      "metadata": {
        "id": "H_iOkicXlT2V",
        "colab": {
          "base_uri": "https://localhost:8080/"
        },
        "outputId": "dec7b400-b2c7-410f-c306-b0aa92a30fb4"
      },
      "execution_count": 65,
      "outputs": [
        {
          "output_type": "stream",
          "name": "stderr",
          "text": [
            "\rRunning Ablation:   0%|          | 0/1 [00:00<?, ?it/s]"
          ]
        },
        {
          "output_type": "stream",
          "name": "stdout",
          "text": [
            "\n",
            "Testing config: {'rnn_type': 'lstm', 'num_layers': 1, 'bidirectional': False}\n",
            "Training on device: cuda\n",
            "Epoch 1 | Loss: 8350.1869 | Accuracy: 0.72\n",
            "Epoch 2 | Loss: 6926.5890 | Accuracy: 0.79\n",
            "Epoch 3 | Loss: 6304.6821 | Accuracy: 0.82\n",
            "Epoch 4 | Loss: 5630.0551 | Accuracy: 0.84\n",
            "Epoch 5 | Loss: 4864.4061 | Accuracy: 0.87\n",
            "Evaluating on device: cuda\n"
          ]
        },
        {
          "output_type": "stream",
          "name": "stderr",
          "text": [
            "Running Ablation: 100%|██████████| 1/1 [03:20<00:00, 200.54s/it]"
          ]
        },
        {
          "output_type": "stream",
          "name": "stdout",
          "text": [
            "Accuracy:  0.79\n",
            "Precision: 0.76\n",
            "Recall:    0.85\n",
            "F1-score:  0.80\n"
          ]
        },
        {
          "output_type": "stream",
          "name": "stderr",
          "text": [
            "\n"
          ]
        }
      ]
    },
    {
      "cell_type": "code",
      "source": [
        "model3 = pipeline.model"
      ],
      "metadata": {
        "id": "pVEyZ82nuIii"
      },
      "execution_count": 66,
      "outputs": []
    },
    {
      "cell_type": "code",
      "source": [
        "model3"
      ],
      "metadata": {
        "id": "O_157T-ivo7t",
        "colab": {
          "base_uri": "https://localhost:8080/"
        },
        "outputId": "a56c5ce1-3fdc-4ed3-e492-f8fbd97e1d71"
      },
      "execution_count": 67,
      "outputs": [
        {
          "output_type": "execute_result",
          "data": {
            "text/plain": [
              "SentimentRNN(\n",
              "  RNN(hidden_dim=74, bidirectional=False)\n",
              "  (embedding): Embedding(128180, 100)\n",
              "  (rnn): LSTM(100, 74, batch_first=True)\n",
              "  (fc): Linear(in_features=74, out_features=1, bias=True)\n",
              "  (sigmoid): Sigmoid()\n",
              ")"
            ]
          },
          "metadata": {},
          "execution_count": 67
        }
      ]
    },
    {
      "cell_type": "code",
      "source": [
        "print(\"\\nResumen de resultados 3ra arquitectura:\")\n",
        "for r in results_3:\n",
        "    print(r)"
      ],
      "metadata": {
        "id": "v484lA2Qq5um",
        "colab": {
          "base_uri": "https://localhost:8080/"
        },
        "outputId": "b6b19662-b7df-4427-a529-e5c923508ddb"
      },
      "execution_count": 68,
      "outputs": [
        {
          "output_type": "stream",
          "name": "stdout",
          "text": [
            "\n",
            "Resumen de resultados 3ra arquitectura:\n",
            "{'config': {'rnn_type': 'lstm', 'num_layers': 1, 'bidirectional': False}, 'accuracy': 0.7893014474512272, 'precision': 0.7596759675967597, 'recall': 0.8478151682571572, 'f1': 0.8013292190837883}\n"
          ]
        }
      ]
    },
    {
      "cell_type": "code",
      "source": [
        "pipeline.visualize_ablation_results(results_3)"
      ],
      "metadata": {
        "id": "_FBo6rsCtTgp",
        "colab": {
          "base_uri": "https://localhost:8080/",
          "height": 507
        },
        "outputId": "cc11d5f0-f407-44aa-c8ae-138c015160f4"
      },
      "execution_count": 69,
      "outputs": [
        {
          "output_type": "display_data",
          "data": {
            "text/plain": [
              "<Figure size 1000x500 with 1 Axes>"
            ],
            "image/png": "[encoded data removed]"
          },
          "metadata": {}
        }
      ]
    },
    {
      "cell_type": "code",
      "source": [
        "pipeline.evaluate_with_confusion(val_dataset)"
      ],
      "metadata": {
        "colab": {
          "base_uri": "https://localhost:8080/",
          "height": 623
        },
        "id": "for9wGohMI8I",
        "outputId": "d150b9e2-9fe1-48a5-bf98-5f530e6c2f3b"
      },
      "execution_count": 70,
      "outputs": [
        {
          "output_type": "stream",
          "name": "stdout",
          "text": [
            "Evaluating on device: cuda\n",
            "              precision    recall  f1-score   support\n",
            "\n",
            "         0.0       0.91      0.84      0.88     19815\n",
            "         1.0       0.85      0.92      0.89     19908\n",
            "\n",
            "    accuracy                           0.88     39723\n",
            "   macro avg       0.88      0.88      0.88     39723\n",
            "weighted avg       0.88      0.88      0.88     39723\n",
            "\n"
          ]
        },
        {
          "output_type": "display_data",
          "data": {
            "text/plain": [
              "<Figure size 640x480 with 2 Axes>"
            ],
            "image/png": "[encoded data removed]"
          },
          "metadata": {}
        }
      ]
    },
    {
      "cell_type": "markdown",
      "source": [
        "# Arquitectura 4 - LSTM - layers-2 - Bidirectional - Optimal Hidden Units"
      ],
      "metadata": {
        "id": "gADpL4L2zwq_"
      }
    },
    {
      "cell_type": "code",
      "source": [
        "search_space = {\n",
        "    \"hidden_dim\": best_params['hidden_dim'],\n",
        "    \"lr\": best_params['lr'],\n",
        "    \"freeze\": best_params['freeze']\n",
        "}"
      ],
      "metadata": {
        "id": "8Skue7nqOS1e"
      },
      "execution_count": 71,
      "outputs": []
    },
    {
      "cell_type": "code",
      "source": [
        "ablated_archs = [\n",
        "        {\"rnn_type\": \"lstm\", \"num_layers\": 2, \"bidirectional\": True}\n",
        "    ]"
      ],
      "metadata": {
        "id": "RCEUlHTNrFK7"
      },
      "execution_count": 72,
      "outputs": []
    },
    {
      "cell_type": "code",
      "source": [
        "pipeline = SentimentPipeline(\n",
        "    w2v_model=w2v,\n",
        "    embedding_dim=100,\n",
        "    search_space=search_space,\n",
        "    default_archs=ablated_archs,\n",
        "    default_hparams={\"n_trials\": 2, \"epochs\": 5, \"batch_size\": 4}\n",
        ")\n",
        "\n",
        "results_4 = pipeline.run_ablation(df,configs=ablated_archs)\n"
      ],
      "metadata": {
        "id": "KftF5AZLrK60",
        "colab": {
          "base_uri": "https://localhost:8080/"
        },
        "outputId": "203c3d27-23be-4fd1-e1c8-df2a3c2c9233"
      },
      "execution_count": 73,
      "outputs": [
        {
          "output_type": "stream",
          "name": "stderr",
          "text": [
            "\rRunning Ablation:   0%|          | 0/1 [00:00<?, ?it/s]"
          ]
        },
        {
          "output_type": "stream",
          "name": "stdout",
          "text": [
            "\n",
            "Testing config: {'rnn_type': 'lstm', 'num_layers': 2, 'bidirectional': True}\n",
            "Training on device: cuda\n",
            "Epoch 1 | Loss: 8285.4175 | Accuracy: 0.74\n",
            "Epoch 2 | Loss: 6712.8633 | Accuracy: 0.80\n",
            "Epoch 3 | Loss: 5759.2880 | Accuracy: 0.84\n",
            "Epoch 4 | Loss: 4756.6365 | Accuracy: 0.87\n",
            "Epoch 5 | Loss: 3630.2589 | Accuracy: 0.91\n",
            "Evaluating on device: cuda\n"
          ]
        },
        {
          "output_type": "stream",
          "name": "stderr",
          "text": [
            "Running Ablation: 100%|██████████| 1/1 [05:17<00:00, 317.07s/it]"
          ]
        },
        {
          "output_type": "stream",
          "name": "stdout",
          "text": [
            "Accuracy:  0.80\n",
            "Precision: 0.78\n",
            "Recall:    0.84\n",
            "F1-score:  0.81\n"
          ]
        },
        {
          "output_type": "stream",
          "name": "stderr",
          "text": [
            "\n"
          ]
        }
      ]
    },
    {
      "cell_type": "code",
      "source": [
        "model4 = pipeline.model"
      ],
      "metadata": {
        "id": "43C76e7CuPRq"
      },
      "execution_count": 74,
      "outputs": []
    },
    {
      "cell_type": "code",
      "source": [
        "model4"
      ],
      "metadata": {
        "id": "7K7_hY7av5zJ",
        "colab": {
          "base_uri": "https://localhost:8080/"
        },
        "outputId": "57316d39-d2c0-4e6d-f247-c7d4680fb470"
      },
      "execution_count": 75,
      "outputs": [
        {
          "output_type": "execute_result",
          "data": {
            "text/plain": [
              "SentimentRNN(\n",
              "  RNN(hidden_dim=74, bidirectional=True)\n",
              "  (embedding): Embedding(128180, 100)\n",
              "  (rnn): LSTM(100, 74, num_layers=2, batch_first=True, bidirectional=True)\n",
              "  (fc): Linear(in_features=148, out_features=1, bias=True)\n",
              "  (sigmoid): Sigmoid()\n",
              ")"
            ]
          },
          "metadata": {},
          "execution_count": 75
        }
      ]
    },
    {
      "cell_type": "code",
      "source": [
        "print(\"\\nResumen de resultados 4a arquitectura:\")\n",
        "for r in results_4:\n",
        "    print(r)"
      ],
      "metadata": {
        "id": "sDjbj1fjrR84",
        "colab": {
          "base_uri": "https://localhost:8080/"
        },
        "outputId": "632c7f39-a6b1-41e8-8f15-9c0908c26042"
      },
      "execution_count": 76,
      "outputs": [
        {
          "output_type": "stream",
          "name": "stdout",
          "text": [
            "\n",
            "Resumen de resultados 4a arquitectura:\n",
            "{'config': {'rnn_type': 'lstm', 'num_layers': 2, 'bidirectional': True}, 'accuracy': 0.7997482693517936, 'precision': 0.7769284225156359, 'recall': 0.8422903063787042, 'f1': 0.8082901554404145}\n"
          ]
        }
      ]
    },
    {
      "cell_type": "code",
      "source": [
        "pipeline.visualize_ablation_results(results_4)"
      ],
      "metadata": {
        "id": "zx-Q8aIptadR",
        "colab": {
          "base_uri": "https://localhost:8080/",
          "height": 507
        },
        "outputId": "1f3f0e8f-b1e3-4f3e-b00c-938f9814b57c"
      },
      "execution_count": 77,
      "outputs": [
        {
          "output_type": "display_data",
          "data": {
            "text/plain": [
              "<Figure size 1000x500 with 1 Axes>"
            ],
            "image/png": "[encoded data removed]"
          },
          "metadata": {}
        }
      ]
    },
    {
      "cell_type": "code",
      "source": [
        "pipeline.evaluate_with_confusion(val_dataset)"
      ],
      "metadata": {
        "id": "Nm63JAK66jCc",
        "colab": {
          "base_uri": "https://localhost:8080/",
          "height": 623
        },
        "outputId": "99765e28-9c56-44e9-ae9f-1764b83fa172"
      },
      "execution_count": 78,
      "outputs": [
        {
          "output_type": "stream",
          "name": "stdout",
          "text": [
            "Evaluating on device: cuda\n",
            "              precision    recall  f1-score   support\n",
            "\n",
            "         0.0       0.94      0.90      0.92     19815\n",
            "         1.0       0.91      0.94      0.92     19908\n",
            "\n",
            "    accuracy                           0.92     39723\n",
            "   macro avg       0.92      0.92      0.92     39723\n",
            "weighted avg       0.92      0.92      0.92     39723\n",
            "\n"
          ]
        },
        {
          "output_type": "display_data",
          "data": {
            "text/plain": [
              "<Figure size 640x480 with 2 Axes>"
            ],
            "image/png": "[encoded data removed]"
          },
          "metadata": {}
        }
      ]
    },
    {
      "cell_type": "markdown",
      "source": [
        "# Arquitectura 5 - GRU- layers-2- Bidirectional - Optimal Hidden Units"
      ],
      "metadata": {
        "id": "Ifs2SJ0P6jxn"
      }
    },
    {
      "cell_type": "code",
      "source": [
        "ablated_archs = [\n",
        "        {\"rnn_type\": \"gru\", \"num_layers\": 2, \"bidirectional\": True},\n",
        "    ]"
      ],
      "metadata": {
        "id": "tKgA4lr06swC"
      },
      "execution_count": 79,
      "outputs": []
    },
    {
      "cell_type": "code",
      "source": [
        "search_space = {\n",
        "    \"hidden_dim\": best_params['hidden_dim'],\n",
        "    \"lr\": best_params['lr'],\n",
        "    \"freeze\": best_params['freeze']\n",
        "}\n",
        "\n",
        "pipeline = SentimentPipeline(\n",
        "    w2v_model=w2v,\n",
        "    embedding_dim=100,\n",
        "    search_space=search_space,\n",
        "    default_archs=ablated_archs,\n",
        "    default_hparams={\"n_trials\": 2, \"epochs\": 5, \"batch_size\": 4}\n",
        ")\n",
        "\n",
        "results_5 = pipeline.run_ablation(df,configs=ablated_archs)  # usa todo lo parametrizado"
      ],
      "metadata": {
        "id": "elzOg_Gy60y7",
        "colab": {
          "base_uri": "https://localhost:8080/"
        },
        "outputId": "3e94eabf-efa6-4823-a209-1e47a1ab5f28"
      },
      "execution_count": 80,
      "outputs": [
        {
          "output_type": "stream",
          "name": "stderr",
          "text": [
            "\rRunning Ablation:   0%|          | 0/1 [00:00<?, ?it/s]"
          ]
        },
        {
          "output_type": "stream",
          "name": "stdout",
          "text": [
            "\n",
            "Testing config: {'rnn_type': 'gru', 'num_layers': 2, 'bidirectional': True}\n",
            "Training on device: cuda\n",
            "Epoch 1 | Loss: 7621.0657 | Accuracy: 0.77\n",
            "Epoch 2 | Loss: 6328.8100 | Accuracy: 0.82\n",
            "Epoch 3 | Loss: 5365.6488 | Accuracy: 0.85\n",
            "Epoch 4 | Loss: 4211.2061 | Accuracy: 0.89\n",
            "Epoch 5 | Loss: 3150.5237 | Accuracy: 0.92\n",
            "Evaluating on device: cuda\n"
          ]
        },
        {
          "output_type": "stream",
          "name": "stderr",
          "text": [
            "Running Ablation: 100%|██████████| 1/1 [04:54<00:00, 294.01s/it]"
          ]
        },
        {
          "output_type": "stream",
          "name": "stdout",
          "text": [
            "Accuracy:  0.80\n",
            "Precision: 0.83\n",
            "Recall:    0.75\n",
            "F1-score:  0.79\n"
          ]
        },
        {
          "output_type": "stream",
          "name": "stderr",
          "text": [
            "\n"
          ]
        }
      ]
    },
    {
      "cell_type": "code",
      "source": [
        "model5 = pipeline.model"
      ],
      "metadata": {
        "id": "qR-CPuiP63eg"
      },
      "execution_count": 81,
      "outputs": []
    },
    {
      "cell_type": "code",
      "source": [
        "model5"
      ],
      "metadata": {
        "colab": {
          "base_uri": "https://localhost:8080/"
        },
        "id": "AT96viDCTFEI",
        "outputId": "25b29feb-acec-49fe-cd8e-2b4700b3368b"
      },
      "execution_count": 82,
      "outputs": [
        {
          "output_type": "execute_result",
          "data": {
            "text/plain": [
              "SentimentRNN(\n",
              "  RNN(hidden_dim=74, bidirectional=True)\n",
              "  (embedding): Embedding(128180, 100)\n",
              "  (rnn): GRU(100, 74, num_layers=2, batch_first=True, bidirectional=True)\n",
              "  (fc): Linear(in_features=148, out_features=1, bias=True)\n",
              "  (sigmoid): Sigmoid()\n",
              ")"
            ]
          },
          "metadata": {},
          "execution_count": 82
        }
      ]
    },
    {
      "cell_type": "code",
      "source": [
        "print(\"\\nResumen de resultados 4a arquitectura:\")\n",
        "for r in results_5:\n",
        "    print(r)"
      ],
      "metadata": {
        "colab": {
          "base_uri": "https://localhost:8080/"
        },
        "id": "JC3-wo4JRFLp",
        "outputId": "781fd2c7-f2fa-450b-c587-bf5d282d733a"
      },
      "execution_count": 152,
      "outputs": [
        {
          "output_type": "stream",
          "name": "stdout",
          "text": [
            "\n",
            "Resumen de resultados 4a arquitectura:\n",
            "{'config': {'rnn_type': 'gru', 'num_layers': 2, 'bidirectional': True}, 'accuracy': 0.798237885462555, 'precision': 0.8286819563415309, 'recall': 0.7531391260673028, 'f1': 0.7891066964873042}\n"
          ]
        }
      ]
    },
    {
      "cell_type": "code",
      "source": [
        "pipeline.visualize_ablation_results(results_5)"
      ],
      "metadata": {
        "colab": {
          "base_uri": "https://localhost:8080/",
          "height": 507
        },
        "id": "X3Ylku51RFnI",
        "outputId": "eab7ecf8-9b49-4487-f528-0764e2daa0ed"
      },
      "execution_count": 153,
      "outputs": [
        {
          "output_type": "display_data",
          "data": {
            "text/plain": [
              "<Figure size 1000x500 with 1 Axes>"
            ],
            "image/png": "[encoded data removed]"
          },
          "metadata": {}
        }
      ]
    },
    {
      "cell_type": "code",
      "source": [
        "pipeline.evaluate_with_confusion(val_dataset)"
      ],
      "metadata": {
        "colab": {
          "base_uri": "https://localhost:8080/",
          "height": 623
        },
        "id": "1EDvuVKUTfPx",
        "outputId": "180f3c87-cc25-4556-d545-bba56f413dfa"
      },
      "execution_count": 154,
      "outputs": [
        {
          "output_type": "stream",
          "name": "stdout",
          "text": [
            "Evaluating on device: cuda\n",
            "              precision    recall  f1-score   support\n",
            "\n",
            "         0.0       1.00      0.99      1.00     19815\n",
            "         1.0       0.99      1.00      1.00     19908\n",
            "\n",
            "    accuracy                           1.00     39723\n",
            "   macro avg       1.00      1.00      1.00     39723\n",
            "weighted avg       1.00      1.00      1.00     39723\n",
            "\n"
          ]
        },
        {
          "output_type": "display_data",
          "data": {
            "text/plain": [
              "<Figure size 640x480 with 2 Axes>"
            ],
            "image/png": "[encoded data removed]"
          },
          "metadata": {}
        }
      ]
    },
    {
      "cell_type": "markdown",
      "source": [
        "# Comparativos de Arquitecturas y Modelos encontrados"
      ],
      "metadata": {
        "id": "JIdc4uqWpxyF"
      }
    },
    {
      "cell_type": "code",
      "source": [
        "data = {\n",
        "    'Architecture': ['GRU-1xuni', 'GRU-2xuni', 'LSTM-1xuni', 'LSTM-2xuni', 'GRU-2xbi'],\n",
        "    'F1-score': [results[0]['f1'], results_2[0]['f1'], results_3[0]['f1'], results_4[0]['f1'], results_5[0]['f1']],\n",
        "    'Accuracy': [results[0]['accuracy'], results_2[0]['accuracy'], results_3[0]['accuracy'], results_4[0]['accuracy'], results_5[0]['accuracy']],\n",
        "    'Precision': [results[0]['precision'], results_2[0]['precision'], results_3[0]['precision'], results_4[0]['precision'], results_5[0]['precision']],\n",
        "    'Recall': [results[0]['recall'], results_2[0]['recall'], results_3[0]['recall'], results_4[0]['recall'], results_5[0]['recall']]\n",
        "}\n",
        "\n",
        "df_comparison = pd.DataFrame(data)\n",
        "df_comparison = df_comparison.sort_values(by='F1-score', ascending=False)\n",
        "display(df_comparison)\n"
      ],
      "metadata": {
        "colab": {
          "base_uri": "https://localhost:8080/",
          "height": 206
        },
        "id": "DHIIAr825ekL",
        "outputId": "6d6404d8-4815-4486-9379-a878eff693a0"
      },
      "execution_count": 83,
      "outputs": [
        {
          "output_type": "display_data",
          "data": {
            "text/plain": [
              "  Architecture  F1-score  Accuracy  Precision    Recall\n",
              "0    GRU-1xuni  0.811615  0.799119   0.765702  0.863385\n",
              "3   LSTM-2xuni  0.808290  0.799748   0.776928  0.842290\n",
              "1    GRU-2xuni  0.804132  0.804279   0.806672  0.801607\n",
              "2   LSTM-1xuni  0.801329  0.789301   0.759676  0.847815\n",
              "4     GRU-2xbi  0.789107  0.798238   0.828682  0.753139"
            ],
            "text/html": [
              "\n",
              "  <div id=\"df-764bf214-b4df-44d2-a329-9f3fddde4e5b\" class=\"colab-df-container\">\n",
              "    <div>\n",
              "<style scoped>\n",
              "    .dataframe tbody tr th:only-of-type {\n",
              "        vertical-align: middle;\n",
              "    }\n",
              "\n",
              "    .dataframe tbody tr th {\n",
              "        vertical-align: top;\n",
              "    }\n",
              "\n",
              "    .dataframe thead th {\n",
              "        text-align: right;\n",
              "    }\n",
              "</style>\n",
              "<table border=\"1\" class=\"dataframe\">\n",
              "  <thead>\n",
              "    <tr style=\"text-align: right;\">\n",
              "      <th></th>\n",
              "      <th>Architecture</th>\n",
              "      <th>F1-score</th>\n",
              "      <th>Accuracy</th>\n",
              "      <th>Precision</th>\n",
              "      <th>Recall</th>\n",
              "    </tr>\n",
              "  </thead>\n",
              "  <tbody>\n",
              "    <tr>\n",
              "      <th>0</th>\n",
              "      <td>GRU-1xuni</td>\n",
              "      <td>0.811615</td>\n",
              "      <td>0.799119</td>\n",
              "      <td>0.765702</td>\n",
              "      <td>0.863385</td>\n",
              "    </tr>\n",
              "    <tr>\n",
              "      <th>3</th>\n",
              "      <td>LSTM-2xuni</td>\n",
              "      <td>0.808290</td>\n",
              "      <td>0.799748</td>\n",
              "      <td>0.776928</td>\n",
              "      <td>0.842290</td>\n",
              "    </tr>\n",
              "    <tr>\n",
              "      <th>1</th>\n",
              "      <td>GRU-2xuni</td>\n",
              "      <td>0.804132</td>\n",
              "      <td>0.804279</td>\n",
              "      <td>0.806672</td>\n",
              "      <td>0.801607</td>\n",
              "    </tr>\n",
              "    <tr>\n",
              "      <th>2</th>\n",
              "      <td>LSTM-1xuni</td>\n",
              "      <td>0.801329</td>\n",
              "      <td>0.789301</td>\n",
              "      <td>0.759676</td>\n",
              "      <td>0.847815</td>\n",
              "    </tr>\n",
              "    <tr>\n",
              "      <th>4</th>\n",
              "      <td>GRU-2xbi</td>\n",
              "      <td>0.789107</td>\n",
              "      <td>0.798238</td>\n",
              "      <td>0.828682</td>\n",
              "      <td>0.753139</td>\n",
              "    </tr>\n",
              "  </tbody>\n",
              "</table>\n",
              "</div>\n",
              "    <div class=\"colab-df-buttons\">\n",
              "\n",
              "  <div class=\"colab-df-container\">\n",
              "    <button class=\"colab-df-convert\" onclick=\"convertToInteractive('df-764bf214-b4df-44d2-a329-9f3fddde4e5b')\"\n",
              "            title=\"Convert this dataframe to an interactive table.\"\n",
              "            style=\"display:none;\">\n",
              "\n",
              "  <svg xmlns=\"http://www.w3.org/2000/svg\" height=\"24px\" viewBox=\"0 -960 960 960\">\n",
              "    <path d=\"M120-120v-720h720v720H120Zm60-500h600v-160H180v160Zm220 220h160v-160H400v160Zm0 220h160v-160H400v160ZM180-400h160v-160H180v160Zm440 0h160v-160H620v160ZM180-180h160v-160H180v160Zm440 0h160v-160H620v160Z\"/>\n",
              "  </svg>\n",
              "    </button>\n",
              "\n",
              "  <style>\n",
              "    .colab-df-container {\n",
              "      display:flex;\n",
              "      gap: 12px;\n",
              "    }\n",
              "\n",
              "    .colab-df-convert {\n",
              "      background-color: #E8F0FE;\n",
              "      border: none;\n",
              "      border-radius: 50%;\n",
              "      cursor: pointer;\n",
              "      display: none;\n",
              "      fill: #1967D2;\n",
              "      height: 32px;\n",
              "      padding: 0 0 0 0;\n",
              "      width: 32px;\n",
              "    }\n",
              "\n",
              "    .colab-df-convert:hover {\n",
              "      background-color: #E2EBFA;\n",
              "      box-shadow: 0px 1px 2px rgba(60, 64, 67, 0.3), 0px 1px 3px 1px rgba(60, 64, 67, 0.15);\n",
              "      fill: #174EA6;\n",
              "    }\n",
              "\n",
              "    .colab-df-buttons div {\n",
              "      margin-bottom: 4px;\n",
              "    }\n",
              "\n",
              "    [theme=dark] .colab-df-convert {\n",
              "      background-color: #3B4455;\n",
              "      fill: #D2E3FC;\n",
              "    }\n",
              "\n",
              "    [theme=dark] .colab-df-convert:hover {\n",
              "      background-color: #434B5C;\n",
              "      box-shadow: 0px 1px 3px 1px rgba(0, 0, 0, 0.15);\n",
              "      filter: drop-shadow(0px 1px 2px rgba(0, 0, 0, 0.3));\n",
              "      fill: #FFFFFF;\n",
              "    }\n",
              "  </style>\n",
              "\n",
              "    <script>\n",
              "      const buttonEl =\n",
              "        document.querySelector('#df-764bf214-b4df-44d2-a329-9f3fddde4e5b button.colab-df-convert');\n",
              "      buttonEl.style.display =\n",
              "        google.colab.kernel.accessAllowed ? 'block' : 'none';\n",
              "\n",
              "      async function convertToInteractive(key) {\n",
              "        const element = document.querySelector('#df-764bf214-b4df-44d2-a329-9f3fddde4e5b');\n",
              "        const dataTable =\n",
              "          await google.colab.kernel.invokeFunction('convertToInteractive',\n",
              "                                                    [key], {});\n",
              "        if (!dataTable) return;\n",
              "\n",
              "        const docLinkHtml = 'Like what you see? Visit the ' +\n",
              "          '<a target=\"_blank\" href=https://colab.research.google.com/notebooks/data_table.ipynb>data table notebook</a>'\n",
              "          + ' to learn more about interactive tables.';\n",
              "        element.innerHTML = '';\n",
              "        dataTable['output_type'] = 'display_data';\n",
              "        await google.colab.output.renderOutput(dataTable, element);\n",
              "        const docLink = document.createElement('div');\n",
              "        docLink.innerHTML = docLinkHtml;\n",
              "        element.appendChild(docLink);\n",
              "      }\n",
              "    </script>\n",
              "  </div>\n",
              "\n",
              "\n",
              "    <div id=\"df-0e47e635-207a-4d90-bdca-58508f60e079\">\n",
              "      <button class=\"colab-df-quickchart\" onclick=\"quickchart('df-0e47e635-207a-4d90-bdca-58508f60e079')\"\n",
              "                title=\"Suggest charts\"\n",
              "                style=\"display:none;\">\n",
              "\n",
              "<svg xmlns=\"http://www.w3.org/2000/svg\" height=\"24px\"viewBox=\"0 0 24 24\"\n",
              "     width=\"24px\">\n",
              "    <g>\n",
              "        <path d=\"M19 3H5c-1.1 0-2 .9-2 2v14c0 1.1.9 2 2 2h14c1.1 0 2-.9 2-2V5c0-1.1-.9-2-2-2zM9 17H7v-7h2v7zm4 0h-2V7h2v10zm4 0h-2v-4h2v4z\"/>\n",
              "    </g>\n",
              "</svg>\n",
              "      </button>\n",
              "\n",
              "<style>\n",
              "  .colab-df-quickchart {\n",
              "      --bg-color: #E8F0FE;\n",
              "      --fill-color: #1967D2;\n",
              "      --hover-bg-color: #E2EBFA;\n",
              "      --hover-fill-color: #174EA6;\n",
              "      --disabled-fill-color: #AAA;\n",
              "      --disabled-bg-color: #DDD;\n",
              "  }\n",
              "\n",
              "  [theme=dark] .colab-df-quickchart {\n",
              "      --bg-color: #3B4455;\n",
              "      --fill-color: #D2E3FC;\n",
              "      --hover-bg-color: #434B5C;\n",
              "      --hover-fill-color: #FFFFFF;\n",
              "      --disabled-bg-color: #3B4455;\n",
              "      --disabled-fill-color: #666;\n",
              "  }\n",
              "\n",
              "  .colab-df-quickchart {\n",
              "    background-color: var(--bg-color);\n",
              "    border: none;\n",
              "    border-radius: 50%;\n",
              "    cursor: pointer;\n",
              "    display: none;\n",
              "    fill: var(--fill-color);\n",
              "    height: 32px;\n",
              "    padding: 0;\n",
              "    width: 32px;\n",
              "  }\n",
              "\n",
              "  .colab-df-quickchart:hover {\n",
              "    background-color: var(--hover-bg-color);\n",
              "    box-shadow: 0 1px 2px rgba(60, 64, 67, 0.3), 0 1px 3px 1px rgba(60, 64, 67, 0.15);\n",
              "    fill: var(--button-hover-fill-color);\n",
              "  }\n",
              "\n",
              "  .colab-df-quickchart-complete:disabled,\n",
              "  .colab-df-quickchart-complete:disabled:hover {\n",
              "    background-color: var(--disabled-bg-color);\n",
              "    fill: var(--disabled-fill-color);\n",
              "    box-shadow: none;\n",
              "  }\n",
              "\n",
              "  .colab-df-spinner {\n",
              "    border: 2px solid var(--fill-color);\n",
              "    border-color: transparent;\n",
              "    border-bottom-color: var(--fill-color);\n",
              "    animation:\n",
              "      spin 1s steps(1) infinite;\n",
              "  }\n",
              "\n",
              "  @keyframes spin {\n",
              "    0% {\n",
              "      border-color: transparent;\n",
              "      border-bottom-color: var(--fill-color);\n",
              "      border-left-color: var(--fill-color);\n",
              "    }\n",
              "    20% {\n",
              "      border-color: transparent;\n",
              "      border-left-color: var(--fill-color);\n",
              "      border-top-color: var(--fill-color);\n",
              "    }\n",
              "    30% {\n",
              "      border-color: transparent;\n",
              "      border-left-color: var(--fill-color);\n",
              "      border-top-color: var(--fill-color);\n",
              "      border-right-color: var(--fill-color);\n",
              "    }\n",
              "    40% {\n",
              "      border-color: transparent;\n",
              "      border-right-color: var(--fill-color);\n",
              "      border-top-color: var(--fill-color);\n",
              "    }\n",
              "    60% {\n",
              "      border-color: transparent;\n",
              "      border-right-color: var(--fill-color);\n",
              "    }\n",
              "    80% {\n",
              "      border-color: transparent;\n",
              "      border-right-color: var(--fill-color);\n",
              "      border-bottom-color: var(--fill-color);\n",
              "    }\n",
              "    90% {\n",
              "      border-color: transparent;\n",
              "      border-bottom-color: var(--fill-color);\n",
              "    }\n",
              "  }\n",
              "</style>\n",
              "\n",
              "      <script>\n",
              "        async function quickchart(key) {\n",
              "          const quickchartButtonEl =\n",
              "            document.querySelector('#' + key + ' button');\n",
              "          quickchartButtonEl.disabled = true;  // To prevent multiple clicks.\n",
              "          quickchartButtonEl.classList.add('colab-df-spinner');\n",
              "          try {\n",
              "            const charts = await google.colab.kernel.invokeFunction(\n",
              "                'suggestCharts', [key], {});\n",
              "          } catch (error) {\n",
              "            console.error('Error during call to suggestCharts:', error);\n",
              "          }\n",
              "          quickchartButtonEl.classList.remove('colab-df-spinner');\n",
              "          quickchartButtonEl.classList.add('colab-df-quickchart-complete');\n",
              "        }\n",
              "        (() => {\n",
              "          let quickchartButtonEl =\n",
              "            document.querySelector('#df-0e47e635-207a-4d90-bdca-58508f60e079 button');\n",
              "          quickchartButtonEl.style.display =\n",
              "            google.colab.kernel.accessAllowed ? 'block' : 'none';\n",
              "        })();\n",
              "      </script>\n",
              "    </div>\n",
              "\n",
              "  <div id=\"id_78a7922e-1869-4dbc-ac50-9b7823a545a9\">\n",
              "    <style>\n",
              "      .colab-df-generate {\n",
              "        background-color: #E8F0FE;\n",
              "        border: none;\n",
              "        border-radius: 50%;\n",
              "        cursor: pointer;\n",
              "        display: none;\n",
              "        fill: #1967D2;\n",
              "        height: 32px;\n",
              "        padding: 0 0 0 0;\n",
              "        width: 32px;\n",
              "      }\n",
              "\n",
              "      .colab-df-generate:hover {\n",
              "        background-color: #E2EBFA;\n",
              "        box-shadow: 0px 1px 2px rgba(60, 64, 67, 0.3), 0px 1px 3px 1px rgba(60, 64, 67, 0.15);\n",
              "        fill: #174EA6;\n",
              "      }\n",
              "\n",
              "      [theme=dark] .colab-df-generate {\n",
              "        background-color: #3B4455;\n",
              "        fill: #D2E3FC;\n",
              "      }\n",
              "\n",
              "      [theme=dark] .colab-df-generate:hover {\n",
              "        background-color: #434B5C;\n",
              "        box-shadow: 0px 1px 3px 1px rgba(0, 0, 0, 0.15);\n",
              "        filter: drop-shadow(0px 1px 2px rgba(0, 0, 0, 0.3));\n",
              "        fill: #FFFFFF;\n",
              "      }\n",
              "    </style>\n",
              "    <button class=\"colab-df-generate\" onclick=\"generateWithVariable('df_comparison')\"\n",
              "            title=\"Generate code using this dataframe.\"\n",
              "            style=\"display:none;\">\n",
              "\n",
              "  <svg xmlns=\"http://www.w3.org/2000/svg\" height=\"24px\"viewBox=\"0 0 24 24\"\n",
              "       width=\"24px\">\n",
              "    <path d=\"M7,19H8.4L18.45,9,17,7.55,7,17.6ZM5,21V16.75L18.45,3.32a2,2,0,0,1,2.83,0l1.4,1.43a1.91,1.91,0,0,1,.58,1.4,1.91,1.91,0,0,1-.58,1.4L9.25,21ZM18.45,9,17,7.55Zm-12,3A5.31,5.31,0,0,0,4.9,8.1,5.31,5.31,0,0,0,1,6.5,5.31,5.31,0,0,0,4.9,4.9,5.31,5.31,0,0,0,6.5,1,5.31,5.31,0,0,0,8.1,4.9,5.31,5.31,0,0,0,12,6.5,5.46,5.46,0,0,0,6.5,12Z\"/>\n",
              "  </svg>\n",
              "    </button>\n",
              "    <script>\n",
              "      (() => {\n",
              "      const buttonEl =\n",
              "        document.querySelector('#id_78a7922e-1869-4dbc-ac50-9b7823a545a9 button.colab-df-generate');\n",
              "      buttonEl.style.display =\n",
              "        google.colab.kernel.accessAllowed ? 'block' : 'none';\n",
              "\n",
              "      buttonEl.onclick = () => {\n",
              "        google.colab.notebook.generateWithVariable('df_comparison');\n",
              "      }\n",
              "      })();\n",
              "    </script>\n",
              "  </div>\n",
              "\n",
              "    </div>\n",
              "  </div>\n"
            ],
            "application/vnd.google.colaboratory.intrinsic+json": {
              "type": "dataframe",
              "variable_name": "df_comparison",
              "summary": "{\n  \"name\": \"df_comparison\",\n  \"rows\": 5,\n  \"fields\": [\n    {\n      \"column\": \"Architecture\",\n      \"properties\": {\n        \"dtype\": \"string\",\n        \"num_unique_values\": 5,\n        \"samples\": [\n          \"LSTM-2xuni\",\n          \"GRU-2xbi\",\n          \"GRU-2xuni\"\n        ],\n        \"semantic_type\": \"\",\n        \"description\": \"\"\n      }\n    },\n    {\n      \"column\": \"F1-score\",\n      \"properties\": {\n        \"dtype\": \"number\",\n        \"std\": 0.008649267742766639,\n        \"min\": 0.7891066964873042,\n        \"max\": 0.8116147308781869,\n        \"num_unique_values\": 5,\n        \"samples\": [\n          0.8082901554404145,\n          0.7891066964873042,\n          0.8041315027081496\n        ],\n        \"semantic_type\": \"\",\n        \"description\": \"\"\n      }\n    },\n    {\n      \"column\": \"Accuracy\",\n      \"properties\": {\n        \"dtype\": \"number\",\n        \"std\": 0.005462758070894408,\n        \"min\": 0.7893014474512272,\n        \"max\": 0.8042794210195091,\n        \"num_unique_values\": 5,\n        \"samples\": [\n          0.7997482693517936,\n          0.798237885462555,\n          0.8042794210195091\n        ],\n        \"semantic_type\": \"\",\n        \"description\": \"\"\n      }\n    },\n    {\n      \"column\": \"Precision\",\n      \"properties\": {\n        \"dtype\": \"number\",\n        \"std\": 0.029260085342345886,\n        \"min\": 0.7596759675967597,\n        \"max\": 0.8286819563415309,\n        \"num_unique_values\": 5,\n        \"samples\": [\n          0.7769284225156359,\n          0.8286819563415309,\n          0.8066717210007581\n        ],\n        \"semantic_type\": \"\",\n        \"description\": \"\"\n      }\n    },\n    {\n      \"column\": \"Recall\",\n      \"properties\": {\n        \"dtype\": \"number\",\n        \"std\": 0.044575554785252075,\n        \"min\": 0.7531391260673028,\n        \"max\": 0.8633852335509794,\n        \"num_unique_values\": 5,\n        \"samples\": [\n          0.8422903063787042,\n          0.7531391260673028,\n          0.801607232546459\n        ],\n        \"semantic_type\": \"\",\n        \"description\": \"\"\n      }\n    }\n  ]\n}"
            }
          },
          "metadata": {}
        }
      ]
    },
    {
      "cell_type": "markdown",
      "source": [
        "A continuación, tenemos una gráfica de comparación de resultados, tanto los de la ablación, como los hallados con el pipeline."
      ],
      "metadata": {
        "id": "CPpStLEkS9fS"
      }
    },
    {
      "cell_type": "markdown",
      "source": [
        "Vamos a tener varios subplots con las métricas de cada arquitectura."
      ],
      "metadata": {
        "id": "RxdlL5QPW5I2"
      }
    },
    {
      "cell_type": "code",
      "source": [
        "fig, axs = plt.subplots(1, 4, figsize=(15, 5))\n",
        "\n",
        "\n",
        "# Plot bar charts for each dataframe\n",
        "axs[0].bar(df_comparison['Architecture'], df_comparison['F1-score'], alpha=0.7)\n",
        "axs[0].set_title('F1 Score')\n",
        "axs[0].set_xticklabels(df_comparison['Architecture'], rotation=45, ha='right')\n",
        "axs[0].cmap = 'viridis'\n",
        "for p in axs[0].patches:\n",
        "    x = p.get_x() + p.get_width() / 2\n",
        "    y = p.get_height()\n",
        "    # Agregar el texto con el valor\n",
        "    axs[0].annotate(f\"{y * 100:.2f}%\", (x,y),ha='center', va='bottom', fontsize=8)\n",
        "\n",
        "axs[1].bar(df_comparison['Architecture'], df_comparison['Recall'], color='r', alpha=0.7)\n",
        "axs[1].set_title('Recall')\n",
        "axs[1].set_xticklabels(df_comparison['Architecture'], rotation=45, ha='right')\n",
        "for p in axs[1].patches:\n",
        "    x = p.get_x() + p.get_width() / 2\n",
        "    y = p.get_height()\n",
        "    # Agregar el texto con el valor\n",
        "    axs[1].annotate(f\"{y * 100:.2f}%\", (x,y),ha='center', va='bottom', fontsize=8)\n",
        "\n",
        "\n",
        "axs[2].bar(df_comparison['Architecture'], df_comparison['Precision'], color='y', alpha=0.7)\n",
        "axs[2].set_title('Precision')\n",
        "axs[2].set_xticklabels(df_comparison['Architecture'], rotation=45, ha='right')\n",
        "for p in axs[2].patches:\n",
        "    x = p.get_x() + p.get_width() / 2\n",
        "    y = p.get_height()\n",
        "    # Agregar el texto con el valor\n",
        "    axs[2].annotate(f\"{y * 100:.2f}%\", (x,y),ha='center', va='bottom', fontsize=8)\n",
        "\n",
        "\n",
        "axs[3].bar(df_comparison['Architecture'], df_comparison['Accuracy'], color='g', alpha=0.7)\n",
        "axs[3].set_title('Accuracy')\n",
        "axs[3].set_xticklabels(df_comparison['Architecture'], rotation=45, ha='right')\n",
        "for p in axs[3].patches:\n",
        "    x = p.get_x() + p.get_width() / 2\n",
        "    y = p.get_height()\n",
        "    # Agregar el texto con el valor\n",
        "    axs[3].annotate(f\"{y * 100:.2f}%\", (x,y),ha='center', va='bottom', fontsize=8)\n",
        "\n",
        "\n",
        "\n",
        "plt.tight_layout()\n",
        "\n",
        "\n",
        "# Adjust layout and display the plot\n",
        "\n",
        "plt.show()\n",
        "\n",
        "plt.savefig('/content/drive/MyDrive/MasterIA/DeepLearning/Microproy2/comparison.png')"
      ],
      "metadata": {
        "colab": {
          "base_uri": "https://localhost:8080/",
          "height": 628
        },
        "id": "uC8ZGr1uW-RX",
        "outputId": "63e255cc-ca31-4941-bff8-2c0bf1a9d6cb"
      },
      "execution_count": 151,
      "outputs": [
        {
          "output_type": "stream",
          "name": "stderr",
          "text": [
            "<ipython-input-151-9e57d0225477>:7: UserWarning: set_ticklabels() should only be used with a fixed number of ticks, i.e. after set_ticks() or using a FixedLocator.\n",
            "  axs[0].set_xticklabels(df_comparison['Architecture'], rotation=45, ha='right')\n",
            "<ipython-input-151-9e57d0225477>:17: UserWarning: set_ticklabels() should only be used with a fixed number of ticks, i.e. after set_ticks() or using a FixedLocator.\n",
            "  axs[1].set_xticklabels(df_comparison['Architecture'], rotation=45, ha='right')\n",
            "<ipython-input-151-9e57d0225477>:27: UserWarning: set_ticklabels() should only be used with a fixed number of ticks, i.e. after set_ticks() or using a FixedLocator.\n",
            "  axs[2].set_xticklabels(df_comparison['Architecture'], rotation=45, ha='right')\n",
            "<ipython-input-151-9e57d0225477>:37: UserWarning: set_ticklabels() should only be used with a fixed number of ticks, i.e. after set_ticks() or using a FixedLocator.\n",
            "  axs[3].set_xticklabels(df_comparison['Architecture'], rotation=45, ha='right')\n"
          ]
        },
        {
          "output_type": "display_data",
          "data": {
            "text/plain": [
              "<Figure size 1500x500 with 4 Axes>"
            ],
            "image/png": "[encoded data removed]"
          },
          "metadata": {}
        },
        {
          "output_type": "display_data",
          "data": {
            "text/plain": [
              "<Figure size 640x480 with 0 Axes>"
            ]
          },
          "metadata": {}
        }
      ]
    },
    {
      "cell_type": "markdown",
      "source": [
        "Vamos a tener una gráfica más clara que permita comparar los porcentajes de cada una de las métricas para cada arquitectura."
      ],
      "metadata": {
        "id": "zMn1AO6aUL18"
      }
    },
    {
      "cell_type": "markdown",
      "source": [
        "# Una última prueba del Pipeline"
      ],
      "metadata": {
        "id": "-U_aJlZiw6zt"
      }
    },
    {
      "cell_type": "markdown",
      "source": [
        "Hemos creado un método para reportar los resultados del pipeline automáticamente. Si quisiéramos comparar nuevamente estas arquitecturas, el Pipeline correría la comparación."
      ],
      "metadata": {
        "id": "ZMUvYsMjxBdp"
      }
    },
    {
      "cell_type": "code",
      "source": [],
      "metadata": {
        "id": "eoZsUZEvxAye"
      },
      "execution_count": null,
      "outputs": []
    },
    {
      "cell_type": "code",
      "source": [
        "ablated_archs = [\n",
        "    {\"rnn_type\": \"gru\", \"num_layers\": 1, \"bidirectional\": False, \"hidden_dim\": 64, \"lr\": 0.001, \"freeze\": True},\n",
        "    {\"rnn_type\": \"lstm\", \"num_layers\": 2, \"bidirectional\": True, \"hidden_dim\": 128, \"lr\": 0.0005, \"freeze\": False},\n",
        "    {\"rnn_type\": \"gru\", \"num_layers\": 2, \"bidirectional\": True, \"hidden_dim\": 96, \"lr\": 0.0008, \"freeze\": True}\n",
        "]\n",
        "\n",
        "summary = pipeline.run_and_compare(df, configs=ablated_archs)\n"
      ],
      "metadata": {
        "colab": {
          "base_uri": "https://localhost:8080/",
          "height": 1000
        },
        "id": "r7n2SgmVwfde",
        "outputId": "7d44a5bd-0daf-4d3e-8864-4b7620ccf4a3"
      },
      "execution_count": 88,
      "outputs": [
        {
          "output_type": "stream",
          "name": "stdout",
          "text": [
            "Running on device: cuda\n",
            "\n",
            "Probando configuración: {'rnn_type': 'gru', 'num_layers': 1, 'bidirectional': False, 'hidden_dim': 64, 'lr': 0.001, 'freeze': True}\n",
            "Training on device: cuda\n",
            "Epoch 1 | Loss: 3854.6089 | Accuracy: 0.76\n",
            "Epoch 2 | Loss: 3258.1324 | Accuracy: 0.81\n",
            "Epoch 3 | Loss: 2928.5598 | Accuracy: 0.83\n",
            "Evaluating on device: cuda\n",
            "Accuracy:  0.81\n",
            "Precision: 0.83\n",
            "Recall:    0.77\n",
            "F1-score:  0.80\n",
            "\n",
            "Probando configuración: {'rnn_type': 'lstm', 'num_layers': 2, 'bidirectional': True, 'hidden_dim': 128, 'lr': 0.0005, 'freeze': False}\n",
            "Training on device: cuda\n",
            "Epoch 1 | Loss: 3750.5801 | Accuracy: 0.77\n",
            "Epoch 2 | Loss: 2406.6121 | Accuracy: 0.87\n",
            "Epoch 3 | Loss: 1508.0010 | Accuracy: 0.93\n",
            "Evaluating on device: cuda\n",
            "Accuracy:  0.81\n",
            "Precision: 0.83\n",
            "Recall:    0.78\n",
            "F1-score:  0.80\n",
            "\n",
            "Probando configuración: {'rnn_type': 'gru', 'num_layers': 2, 'bidirectional': True, 'hidden_dim': 96, 'lr': 0.0008, 'freeze': True}\n",
            "Training on device: cuda\n",
            "Epoch 1 | Loss: 3850.2215 | Accuracy: 0.76\n",
            "Epoch 2 | Loss: 3261.9396 | Accuracy: 0.81\n",
            "Epoch 3 | Loss: 2811.0628 | Accuracy: 0.84\n",
            "Evaluating on device: cuda\n",
            "Accuracy:  0.81\n",
            "Precision: 0.81\n",
            "Recall:    0.81\n",
            "F1-score:  0.81\n"
          ]
        },
        {
          "output_type": "display_data",
          "data": {
            "text/plain": [
              "<Figure size 1200x600 with 1 Axes>"
            ],
            "image/png": "[encoded data removed]"
          },
          "metadata": {}
        }
      ]
    },
    {
      "cell_type": "code",
      "source": [
        "summary"
      ],
      "metadata": {
        "colab": {
          "base_uri": "https://localhost:8080/"
        },
        "id": "WukQQk-FVH2i",
        "outputId": "7e324e2d-f037-43e5-ce13-e5a1f221bc95"
      },
      "execution_count": 89,
      "outputs": [
        {
          "output_type": "execute_result",
          "data": {
            "text/plain": [
              "{'results': [{'accuracy': 0.8076777847702958,\n",
              "   'precision': 0.8330618892508144,\n",
              "   'recall': 0.7707182320441989,\n",
              "   'f1': 0.8006783198539004,\n",
              "   'config': {'rnn_type': 'gru',\n",
              "    'num_layers': 1,\n",
              "    'bidirectional': False,\n",
              "    'hidden_dim': 64,\n",
              "    'lr': 0.001,\n",
              "    'freeze': True}},\n",
              "  {'accuracy': 0.8075519194461925,\n",
              "   'precision': 0.8287322433663897,\n",
              "   'recall': 0.7764942240080361,\n",
              "   'f1': 0.8017632568391028,\n",
              "   'config': {'rnn_type': 'lstm',\n",
              "    'num_layers': 2,\n",
              "    'bidirectional': True,\n",
              "    'hidden_dim': 128,\n",
              "    'lr': 0.0005,\n",
              "    'freeze': False}},\n",
              "  {'accuracy': 0.8096916299559471,\n",
              "   'precision': 0.8126582278481013,\n",
              "   'recall': 0.8061275740833752,\n",
              "   'f1': 0.8093797276853253,\n",
              "   'config': {'rnn_type': 'gru',\n",
              "    'num_layers': 2,\n",
              "    'bidirectional': True,\n",
              "    'hidden_dim': 96,\n",
              "    'lr': 0.0008,\n",
              "    'freeze': True}}],\n",
              " 'best_model': SentimentRNN(\n",
              "   RNN(hidden_dim=96, bidirectional=True)\n",
              "   (embedding): Embedding(128180, 100)\n",
              "   (rnn): GRU(100, 96, num_layers=2, batch_first=True, bidirectional=True)\n",
              "   (fc): Linear(in_features=192, out_features=1, bias=True)\n",
              "   (sigmoid): Sigmoid()\n",
              " ),\n",
              " 'best_config': {'rnn_type': 'gru',\n",
              "  'num_layers': 2,\n",
              "  'bidirectional': True,\n",
              "  'hidden_dim': 96,\n",
              "  'lr': 0.0008,\n",
              "  'freeze': True}}"
            ]
          },
          "metadata": {},
          "execution_count": 89
        }
      ]
    },
    {
      "cell_type": "code",
      "source": [
        "mejor_modelo = summary[\"best_model\"]"
      ],
      "metadata": {
        "id": "BJEWIjbi08ZC"
      },
      "execution_count": null,
      "outputs": []
    },
    {
      "cell_type": "code",
      "source": [
        "summary"
      ],
      "metadata": {
        "id": "lYzWNGAMI5GC"
      },
      "execution_count": null,
      "outputs": []
    },
    {
      "cell_type": "code",
      "source": [
        "df_results = pd.DataFrame(summary[\"results\"])\n",
        "df_results"
      ],
      "metadata": {
        "colab": {
          "base_uri": "https://localhost:8080/",
          "height": 143
        },
        "id": "bLBuCQdUKrN1",
        "outputId": "d5ed66c0-4a51-488d-e613-d3948f5256c8"
      },
      "execution_count": 90,
      "outputs": [
        {
          "output_type": "execute_result",
          "data": {
            "text/plain": [
              "   accuracy  precision    recall        f1  \\\n",
              "0  0.807678   0.833062  0.770718  0.800678   \n",
              "1  0.807552   0.828732  0.776494  0.801763   \n",
              "2  0.809692   0.812658  0.806128  0.809380   \n",
              "\n",
              "                                              config  \n",
              "0  {'rnn_type': 'gru', 'num_layers': 1, 'bidirect...  \n",
              "1  {'rnn_type': 'lstm', 'num_layers': 2, 'bidirec...  \n",
              "2  {'rnn_type': 'gru', 'num_layers': 2, 'bidirect...  "
            ],
            "text/html": [
              "\n",
              "  <div id=\"df-775a7cd0-9afa-4875-9212-81ddcc088419\" class=\"colab-df-container\">\n",
              "    <div>\n",
              "<style scoped>\n",
              "    .dataframe tbody tr th:only-of-type {\n",
              "        vertical-align: middle;\n",
              "    }\n",
              "\n",
              "    .dataframe tbody tr th {\n",
              "        vertical-align: top;\n",
              "    }\n",
              "\n",
              "    .dataframe thead th {\n",
              "        text-align: right;\n",
              "    }\n",
              "</style>\n",
              "<table border=\"1\" class=\"dataframe\">\n",
              "  <thead>\n",
              "    <tr style=\"text-align: right;\">\n",
              "      <th></th>\n",
              "      <th>accuracy</th>\n",
              "      <th>precision</th>\n",
              "      <th>recall</th>\n",
              "      <th>f1</th>\n",
              "      <th>config</th>\n",
              "    </tr>\n",
              "  </thead>\n",
              "  <tbody>\n",
              "    <tr>\n",
              "      <th>0</th>\n",
              "      <td>0.807678</td>\n",
              "      <td>0.833062</td>\n",
              "      <td>0.770718</td>\n",
              "      <td>0.800678</td>\n",
              "      <td>{'rnn_type': 'gru', 'num_layers': 1, 'bidirect...</td>\n",
              "    </tr>\n",
              "    <tr>\n",
              "      <th>1</th>\n",
              "      <td>0.807552</td>\n",
              "      <td>0.828732</td>\n",
              "      <td>0.776494</td>\n",
              "      <td>0.801763</td>\n",
              "      <td>{'rnn_type': 'lstm', 'num_layers': 2, 'bidirec...</td>\n",
              "    </tr>\n",
              "    <tr>\n",
              "      <th>2</th>\n",
              "      <td>0.809692</td>\n",
              "      <td>0.812658</td>\n",
              "      <td>0.806128</td>\n",
              "      <td>0.809380</td>\n",
              "      <td>{'rnn_type': 'gru', 'num_layers': 2, 'bidirect...</td>\n",
              "    </tr>\n",
              "  </tbody>\n",
              "</table>\n",
              "</div>\n",
              "    <div class=\"colab-df-buttons\">\n",
              "\n",
              "  <div class=\"colab-df-container\">\n",
              "    <button class=\"colab-df-convert\" onclick=\"convertToInteractive('df-775a7cd0-9afa-4875-9212-81ddcc088419')\"\n",
              "            title=\"Convert this dataframe to an interactive table.\"\n",
              "            style=\"display:none;\">\n",
              "\n",
              "  <svg xmlns=\"http://www.w3.org/2000/svg\" height=\"24px\" viewBox=\"0 -960 960 960\">\n",
              "    <path d=\"M120-120v-720h720v720H120Zm60-500h600v-160H180v160Zm220 220h160v-160H400v160Zm0 220h160v-160H400v160ZM180-400h160v-160H180v160Zm440 0h160v-160H620v160ZM180-180h160v-160H180v160Zm440 0h160v-160H620v160Z\"/>\n",
              "  </svg>\n",
              "    </button>\n",
              "\n",
              "  <style>\n",
              "    .colab-df-container {\n",
              "      display:flex;\n",
              "      gap: 12px;\n",
              "    }\n",
              "\n",
              "    .colab-df-convert {\n",
              "      background-color: #E8F0FE;\n",
              "      border: none;\n",
              "      border-radius: 50%;\n",
              "      cursor: pointer;\n",
              "      display: none;\n",
              "      fill: #1967D2;\n",
              "      height: 32px;\n",
              "      padding: 0 0 0 0;\n",
              "      width: 32px;\n",
              "    }\n",
              "\n",
              "    .colab-df-convert:hover {\n",
              "      background-color: #E2EBFA;\n",
              "      box-shadow: 0px 1px 2px rgba(60, 64, 67, 0.3), 0px 1px 3px 1px rgba(60, 64, 67, 0.15);\n",
              "      fill: #174EA6;\n",
              "    }\n",
              "\n",
              "    .colab-df-buttons div {\n",
              "      margin-bottom: 4px;\n",
              "    }\n",
              "\n",
              "    [theme=dark] .colab-df-convert {\n",
              "      background-color: #3B4455;\n",
              "      fill: #D2E3FC;\n",
              "    }\n",
              "\n",
              "    [theme=dark] .colab-df-convert:hover {\n",
              "      background-color: #434B5C;\n",
              "      box-shadow: 0px 1px 3px 1px rgba(0, 0, 0, 0.15);\n",
              "      filter: drop-shadow(0px 1px 2px rgba(0, 0, 0, 0.3));\n",
              "      fill: #FFFFFF;\n",
              "    }\n",
              "  </style>\n",
              "\n",
              "    <script>\n",
              "      const buttonEl =\n",
              "        document.querySelector('#df-775a7cd0-9afa-4875-9212-81ddcc088419 button.colab-df-convert');\n",
              "      buttonEl.style.display =\n",
              "        google.colab.kernel.accessAllowed ? 'block' : 'none';\n",
              "\n",
              "      async function convertToInteractive(key) {\n",
              "        const element = document.querySelector('#df-775a7cd0-9afa-4875-9212-81ddcc088419');\n",
              "        const dataTable =\n",
              "          await google.colab.kernel.invokeFunction('convertToInteractive',\n",
              "                                                    [key], {});\n",
              "        if (!dataTable) return;\n",
              "\n",
              "        const docLinkHtml = 'Like what you see? Visit the ' +\n",
              "          '<a target=\"_blank\" href=https://colab.research.google.com/notebooks/data_table.ipynb>data table notebook</a>'\n",
              "          + ' to learn more about interactive tables.';\n",
              "        element.innerHTML = '';\n",
              "        dataTable['output_type'] = 'display_data';\n",
              "        await google.colab.output.renderOutput(dataTable, element);\n",
              "        const docLink = document.createElement('div');\n",
              "        docLink.innerHTML = docLinkHtml;\n",
              "        element.appendChild(docLink);\n",
              "      }\n",
              "    </script>\n",
              "  </div>\n",
              "\n",
              "\n",
              "    <div id=\"df-afe3b66c-0c1b-4f6e-b51f-ea0f41c91fff\">\n",
              "      <button class=\"colab-df-quickchart\" onclick=\"quickchart('df-afe3b66c-0c1b-4f6e-b51f-ea0f41c91fff')\"\n",
              "                title=\"Suggest charts\"\n",
              "                style=\"display:none;\">\n",
              "\n",
              "<svg xmlns=\"http://www.w3.org/2000/svg\" height=\"24px\"viewBox=\"0 0 24 24\"\n",
              "     width=\"24px\">\n",
              "    <g>\n",
              "        <path d=\"M19 3H5c-1.1 0-2 .9-2 2v14c0 1.1.9 2 2 2h14c1.1 0 2-.9 2-2V5c0-1.1-.9-2-2-2zM9 17H7v-7h2v7zm4 0h-2V7h2v10zm4 0h-2v-4h2v4z\"/>\n",
              "    </g>\n",
              "</svg>\n",
              "      </button>\n",
              "\n",
              "<style>\n",
              "  .colab-df-quickchart {\n",
              "      --bg-color: #E8F0FE;\n",
              "      --fill-color: #1967D2;\n",
              "      --hover-bg-color: #E2EBFA;\n",
              "      --hover-fill-color: #174EA6;\n",
              "      --disabled-fill-color: #AAA;\n",
              "      --disabled-bg-color: #DDD;\n",
              "  }\n",
              "\n",
              "  [theme=dark] .colab-df-quickchart {\n",
              "      --bg-color: #3B4455;\n",
              "      --fill-color: #D2E3FC;\n",
              "      --hover-bg-color: #434B5C;\n",
              "      --hover-fill-color: #FFFFFF;\n",
              "      --disabled-bg-color: #3B4455;\n",
              "      --disabled-fill-color: #666;\n",
              "  }\n",
              "\n",
              "  .colab-df-quickchart {\n",
              "    background-color: var(--bg-color);\n",
              "    border: none;\n",
              "    border-radius: 50%;\n",
              "    cursor: pointer;\n",
              "    display: none;\n",
              "    fill: var(--fill-color);\n",
              "    height: 32px;\n",
              "    padding: 0;\n",
              "    width: 32px;\n",
              "  }\n",
              "\n",
              "  .colab-df-quickchart:hover {\n",
              "    background-color: var(--hover-bg-color);\n",
              "    box-shadow: 0 1px 2px rgba(60, 64, 67, 0.3), 0 1px 3px 1px rgba(60, 64, 67, 0.15);\n",
              "    fill: var(--button-hover-fill-color);\n",
              "  }\n",
              "\n",
              "  .colab-df-quickchart-complete:disabled,\n",
              "  .colab-df-quickchart-complete:disabled:hover {\n",
              "    background-color: var(--disabled-bg-color);\n",
              "    fill: var(--disabled-fill-color);\n",
              "    box-shadow: none;\n",
              "  }\n",
              "\n",
              "  .colab-df-spinner {\n",
              "    border: 2px solid var(--fill-color);\n",
              "    border-color: transparent;\n",
              "    border-bottom-color: var(--fill-color);\n",
              "    animation:\n",
              "      spin 1s steps(1) infinite;\n",
              "  }\n",
              "\n",
              "  @keyframes spin {\n",
              "    0% {\n",
              "      border-color: transparent;\n",
              "      border-bottom-color: var(--fill-color);\n",
              "      border-left-color: var(--fill-color);\n",
              "    }\n",
              "    20% {\n",
              "      border-color: transparent;\n",
              "      border-left-color: var(--fill-color);\n",
              "      border-top-color: var(--fill-color);\n",
              "    }\n",
              "    30% {\n",
              "      border-color: transparent;\n",
              "      border-left-color: var(--fill-color);\n",
              "      border-top-color: var(--fill-color);\n",
              "      border-right-color: var(--fill-color);\n",
              "    }\n",
              "    40% {\n",
              "      border-color: transparent;\n",
              "      border-right-color: var(--fill-color);\n",
              "      border-top-color: var(--fill-color);\n",
              "    }\n",
              "    60% {\n",
              "      border-color: transparent;\n",
              "      border-right-color: var(--fill-color);\n",
              "    }\n",
              "    80% {\n",
              "      border-color: transparent;\n",
              "      border-right-color: var(--fill-color);\n",
              "      border-bottom-color: var(--fill-color);\n",
              "    }\n",
              "    90% {\n",
              "      border-color: transparent;\n",
              "      border-bottom-color: var(--fill-color);\n",
              "    }\n",
              "  }\n",
              "</style>\n",
              "\n",
              "      <script>\n",
              "        async function quickchart(key) {\n",
              "          const quickchartButtonEl =\n",
              "            document.querySelector('#' + key + ' button');\n",
              "          quickchartButtonEl.disabled = true;  // To prevent multiple clicks.\n",
              "          quickchartButtonEl.classList.add('colab-df-spinner');\n",
              "          try {\n",
              "            const charts = await google.colab.kernel.invokeFunction(\n",
              "                'suggestCharts', [key], {});\n",
              "          } catch (error) {\n",
              "            console.error('Error during call to suggestCharts:', error);\n",
              "          }\n",
              "          quickchartButtonEl.classList.remove('colab-df-spinner');\n",
              "          quickchartButtonEl.classList.add('colab-df-quickchart-complete');\n",
              "        }\n",
              "        (() => {\n",
              "          let quickchartButtonEl =\n",
              "            document.querySelector('#df-afe3b66c-0c1b-4f6e-b51f-ea0f41c91fff button');\n",
              "          quickchartButtonEl.style.display =\n",
              "            google.colab.kernel.accessAllowed ? 'block' : 'none';\n",
              "        })();\n",
              "      </script>\n",
              "    </div>\n",
              "\n",
              "  <div id=\"id_8d93fe17-b202-40d6-ab1a-c98b717195f6\">\n",
              "    <style>\n",
              "      .colab-df-generate {\n",
              "        background-color: #E8F0FE;\n",
              "        border: none;\n",
              "        border-radius: 50%;\n",
              "        cursor: pointer;\n",
              "        display: none;\n",
              "        fill: #1967D2;\n",
              "        height: 32px;\n",
              "        padding: 0 0 0 0;\n",
              "        width: 32px;\n",
              "      }\n",
              "\n",
              "      .colab-df-generate:hover {\n",
              "        background-color: #E2EBFA;\n",
              "        box-shadow: 0px 1px 2px rgba(60, 64, 67, 0.3), 0px 1px 3px 1px rgba(60, 64, 67, 0.15);\n",
              "        fill: #174EA6;\n",
              "      }\n",
              "\n",
              "      [theme=dark] .colab-df-generate {\n",
              "        background-color: #3B4455;\n",
              "        fill: #D2E3FC;\n",
              "      }\n",
              "\n",
              "      [theme=dark] .colab-df-generate:hover {\n",
              "        background-color: #434B5C;\n",
              "        box-shadow: 0px 1px 3px 1px rgba(0, 0, 0, 0.15);\n",
              "        filter: drop-shadow(0px 1px 2px rgba(0, 0, 0, 0.3));\n",
              "        fill: #FFFFFF;\n",
              "      }\n",
              "    </style>\n",
              "    <button class=\"colab-df-generate\" onclick=\"generateWithVariable('df_results')\"\n",
              "            title=\"Generate code using this dataframe.\"\n",
              "            style=\"display:none;\">\n",
              "\n",
              "  <svg xmlns=\"http://www.w3.org/2000/svg\" height=\"24px\"viewBox=\"0 0 24 24\"\n",
              "       width=\"24px\">\n",
              "    <path d=\"M7,19H8.4L18.45,9,17,7.55,7,17.6ZM5,21V16.75L18.45,3.32a2,2,0,0,1,2.83,0l1.4,1.43a1.91,1.91,0,0,1,.58,1.4,1.91,1.91,0,0,1-.58,1.4L9.25,21ZM18.45,9,17,7.55Zm-12,3A5.31,5.31,0,0,0,4.9,8.1,5.31,5.31,0,0,0,1,6.5,5.31,5.31,0,0,0,4.9,4.9,5.31,5.31,0,0,0,6.5,1,5.31,5.31,0,0,0,8.1,4.9,5.31,5.31,0,0,0,12,6.5,5.46,5.46,0,0,0,6.5,12Z\"/>\n",
              "  </svg>\n",
              "    </button>\n",
              "    <script>\n",
              "      (() => {\n",
              "      const buttonEl =\n",
              "        document.querySelector('#id_8d93fe17-b202-40d6-ab1a-c98b717195f6 button.colab-df-generate');\n",
              "      buttonEl.style.display =\n",
              "        google.colab.kernel.accessAllowed ? 'block' : 'none';\n",
              "\n",
              "      buttonEl.onclick = () => {\n",
              "        google.colab.notebook.generateWithVariable('df_results');\n",
              "      }\n",
              "      })();\n",
              "    </script>\n",
              "  </div>\n",
              "\n",
              "    </div>\n",
              "  </div>\n"
            ],
            "application/vnd.google.colaboratory.intrinsic+json": {
              "type": "dataframe",
              "variable_name": "df_results",
              "summary": "{\n  \"name\": \"df_results\",\n  \"rows\": 3,\n  \"fields\": [\n    {\n      \"column\": \"accuracy\",\n      \"properties\": {\n        \"dtype\": \"number\",\n        \"std\": 0.0012006786676109983,\n        \"min\": 0.8075519194461925,\n        \"max\": 0.8096916299559471,\n        \"num_unique_values\": 3,\n        \"samples\": [\n          0.8076777847702958,\n          0.8075519194461925,\n          0.8096916299559471\n        ],\n        \"semantic_type\": \"\",\n        \"description\": \"\"\n      }\n    },\n    {\n      \"column\": \"precision\",\n      \"properties\": {\n        \"dtype\": \"number\",\n        \"std\": 0.010750420201115071,\n        \"min\": 0.8126582278481013,\n        \"max\": 0.8330618892508144,\n        \"num_unique_values\": 3,\n        \"samples\": [\n          0.8330618892508144,\n          0.8287322433663897,\n          0.8126582278481013\n        ],\n        \"semantic_type\": \"\",\n        \"description\": \"\"\n      }\n    },\n    {\n      \"column\": \"recall\",\n      \"properties\": {\n        \"dtype\": \"number\",\n        \"std\": 0.01899701302618077,\n        \"min\": 0.7707182320441989,\n        \"max\": 0.8061275740833752,\n        \"num_unique_values\": 3,\n        \"samples\": [\n          0.7707182320441989,\n          0.7764942240080361,\n          0.8061275740833752\n        ],\n        \"semantic_type\": \"\",\n        \"description\": \"\"\n      }\n    },\n    {\n      \"column\": \"f1\",\n      \"properties\": {\n        \"dtype\": \"number\",\n        \"std\": 0.004741698265776385,\n        \"min\": 0.8006783198539004,\n        \"max\": 0.8093797276853253,\n        \"num_unique_values\": 3,\n        \"samples\": [\n          0.8006783198539004,\n          0.8017632568391028,\n          0.8093797276853253\n        ],\n        \"semantic_type\": \"\",\n        \"description\": \"\"\n      }\n    },\n    {\n      \"column\": \"config\",\n      \"properties\": {\n        \"dtype\": \"object\",\n        \"semantic_type\": \"\",\n        \"description\": \"\"\n      }\n    }\n  ]\n}"
            }
          },
          "metadata": {},
          "execution_count": 90
        }
      ]
    },
    {
      "cell_type": "code",
      "source": [
        "import matplotlib.cm as cm\n",
        "from matplotlib.patches import Patch"
      ],
      "metadata": {
        "id": "H_5R6riAaYxf"
      },
      "execution_count": 167,
      "outputs": []
    },
    {
      "cell_type": "code",
      "source": [
        "fig, axs = plt.subplots(1, 4, figsize=(10,5 ))\n",
        "\n",
        "configs = df_results['config']\n",
        "num_configs = len(configs)\n",
        "colors = cm.get_cmap('tab10', num_configs)(np.arange(num_configs))\n",
        "\n",
        "axs[0].bar(df_results.index, df_results['f1'], alpha=0.7, color=colors)\n",
        "axs[0].set_title('F1 Score')\n",
        "#axs[0].set_xticklabels(df_results['config'], rotation=45, ha='right')\n",
        "for p in axs[0].patches:\n",
        "    x = p.get_x() + p.get_width() / 2\n",
        "    y = p.get_height()\n",
        "\n",
        "    axs[0].annotate(f\"{y * 100:.2f}%\", (x,y),ha='center', va='bottom', fontsize=8)\n",
        "\n",
        "axs[1].bar(df_results.index, df_results['recall'], alpha=0.7,color=colors)\n",
        "axs[1].set_title('Recall')\n",
        "#axs[1].set_xticklabels(df_results['config'], rotation=45, ha='right')\n",
        "for p in axs[1].patches:\n",
        "    x = p.get_x() + p.get_width() / 2\n",
        "    y = p.get_height()\n",
        "    axs[1].annotate(f\"{y * 100:.2f}%\", (x,y),ha='center', va='bottom', fontsize=8)\n",
        "\n",
        "axs[2].bar(df_results.index, df_results['precision'], alpha=0.7,color=colors)\n",
        "axs[2].set_title('Precision')\n",
        "#axs[2].set_xticklabels(df_results['config'], rotation=45, ha='right')\n",
        "for p in axs[2].patches:\n",
        "    x = p.get_x() + p.get_width() / 2\n",
        "    y = p.get_height()\n",
        "    axs[2].annotate(f\"{y * 100:.2f}%\", (x,y),ha='center', va='bottom', fontsize=8)\n",
        "\n",
        "axs[3].bar(df_results.index, df_results['accuracy'], alpha=0.7,color=colors)\n",
        "axs[3].set_title('Accuracy')\n",
        "#axs[3].set_xticklabels(df_results['config'], rotation=45, ha='right')\n",
        "for p in axs[3].patches:\n",
        "    x = p.get_x() + p.get_width() / 2\n",
        "    y = p.get_height()\n",
        "    axs[3].annotate(f\"{y * 100:.2f}%\", (x,y),ha='center', va='bottom', fontsize=8)\n",
        "\n",
        "legend_patches = [\n",
        "    Patch(color=colors[i], label=configs.iloc[i])\n",
        "    for i in range(num_configs)\n",
        "]\n",
        "\n",
        "fig.legend(handles=legend_patches, loc='center',\n",
        "           ncol=1, bbox_to_anchor=(1, 1.05))\n",
        "plt.tight_layout()\n",
        "\n",
        "\n",
        "plt.show()\n",
        "\n"
      ],
      "metadata": {
        "colab": {
          "base_uri": "https://localhost:8080/",
          "height": 609
        },
        "id": "a1YPNau7p7pC",
        "outputId": "ff271cbe-abe2-4f03-c530-37d7f7403a37"
      },
      "execution_count": 174,
      "outputs": [
        {
          "output_type": "stream",
          "name": "stderr",
          "text": [
            "<ipython-input-174-d0e751fbc4c6>:5: MatplotlibDeprecationWarning: The get_cmap function was deprecated in Matplotlib 3.7 and will be removed in 3.11. Use ``matplotlib.colormaps[name]`` or ``matplotlib.colormaps.get_cmap()`` or ``pyplot.get_cmap()`` instead.\n",
            "  colors = cm.get_cmap('tab10', num_configs)(np.arange(num_configs))\n"
          ]
        },
        {
          "output_type": "display_data",
          "data": {
            "text/plain": [
              "<Figure size 1000x500 with 4 Axes>"
            ],
            "image/png": "[encoded data removed]"
          },
          "metadata": {}
        }
      ]
    },
    {
      "cell_type": "markdown",
      "source": [
        "# Entrenando el mejor modelo"
      ],
      "metadata": {
        "id": "eE3emKs2Wr6v"
      }
    },
    {
      "cell_type": "code",
      "source": [
        "pipeline.model = mejor_modelo"
      ],
      "metadata": {
        "id": "ALOROYVoV49k"
      },
      "execution_count": 101,
      "outputs": []
    },
    {
      "cell_type": "code",
      "source": [
        "df = imdb_df.copy()"
      ],
      "metadata": {
        "id": "xQzl7eJbWQSR"
      },
      "execution_count": 102,
      "outputs": []
    },
    {
      "cell_type": "code",
      "source": [
        "# 1. Asegurarse de tener datos de entrenamiento preprocesados\n",
        "df_train = pipeline.preprocess_and_tokenize(df, build_vocab=True)\n",
        "train_dataset = pipeline.create_dataset(df_train)"
      ],
      "metadata": {
        "id": "3J5kY_HDWH72"
      },
      "execution_count": 103,
      "outputs": []
    },
    {
      "cell_type": "code",
      "source": [
        "# 2. Obtener la mejor configuración encontrada previamente\n",
        "#cfg =pipeline. best_params\n",
        "cfg = best_params\n",
        "\n"
      ],
      "metadata": {
        "id": "5eVNCGXqW37U"
      },
      "execution_count": 104,
      "outputs": []
    },
    {
      "cell_type": "code",
      "source": [
        "mejor_modelo"
      ],
      "metadata": {
        "colab": {
          "base_uri": "https://localhost:8080/"
        },
        "id": "f3UFe3FHXbWP",
        "outputId": "2ff142a5-729b-4ecf-d92a-14efefe56bdd"
      },
      "execution_count": 105,
      "outputs": [
        {
          "output_type": "execute_result",
          "data": {
            "text/plain": [
              "SentimentRNN(\n",
              "  RNN(hidden_dim=74, bidirectional=True)\n",
              "  (embedding): Embedding(145675, 100)\n",
              "  (rnn): GRU(100, 74, batch_first=True, bidirectional=True)\n",
              "  (fc): Linear(in_features=148, out_features=1, bias=True)\n",
              "  (sigmoid): Sigmoid()\n",
              ")"
            ]
          },
          "metadata": {},
          "execution_count": 105
        }
      ]
    },
    {
      "cell_type": "markdown",
      "source": [
        "Ya que encontramos el mejor modelo,vamos a entrenarlo por 6 épocas  esto nos debe garantizar un buen desempeño."
      ],
      "metadata": {
        "id": "R_6Cwp3cYPOq"
      }
    },
    {
      "cell_type": "code",
      "source": [
        "# 3. Entrenar el modelo usando esa configuración, pero con 10 épocas\n",
        "trained_model = pipeline.train(\n",
        "    train_dataset,\n",
        "    hidden_dim=best_params['hidden_dim'],\n",
        "    lr=best_params[\"lr\"],\n",
        "    freeze=best_params[\"freeze\"],\n",
        "    epochs=6,  # Número de épocas ajustado\n",
        "    num_layers=2,\n",
        "    bidirectional=True,\n",
        "    rnn_type='lstm',\n",
        "    batch_size=4\n",
        ")"
      ],
      "metadata": {
        "colab": {
          "base_uri": "https://localhost:8080/"
        },
        "id": "2TywZqV7W5nY",
        "outputId": "59d599e0-26b5-486b-e9a8-de38226acb13"
      },
      "execution_count": 107,
      "outputs": [
        {
          "output_type": "stream",
          "name": "stdout",
          "text": [
            "Training on device: cuda\n",
            "Epoch 1 | Loss: 4317.9807 | Accuracy: 0.80\n",
            "Epoch 2 | Loss: 2669.3661 | Accuracy: 0.89\n",
            "Epoch 3 | Loss: 1559.9104 | Accuracy: 0.94\n",
            "Epoch 4 | Loss: 748.1916 | Accuracy: 0.97\n",
            "Epoch 5 | Loss: 294.3032 | Accuracy: 0.99\n",
            "Epoch 6 | Loss: 101.1288 | Accuracy: 1.00\n"
          ]
        }
      ]
    },
    {
      "cell_type": "code",
      "source": [
        "pipeline.evaluate_with_confusion(train_dataset)"
      ],
      "metadata": {
        "colab": {
          "base_uri": "https://localhost:8080/",
          "height": 623
        },
        "id": "_Lqsbj-eZzlO",
        "outputId": "d3df58f6-f12f-46d3-e92d-dfb91cb0319c"
      },
      "execution_count": 139,
      "outputs": [
        {
          "output_type": "stream",
          "name": "stdout",
          "text": [
            "Evaluating on device: cuda\n",
            "              precision    recall  f1-score   support\n",
            "\n",
            "         0.0       1.00      1.00      1.00     19815\n",
            "         1.0       1.00      1.00      1.00     19908\n",
            "\n",
            "    accuracy                           1.00     39723\n",
            "   macro avg       1.00      1.00      1.00     39723\n",
            "weighted avg       1.00      1.00      1.00     39723\n",
            "\n"
          ]
        },
        {
          "output_type": "display_data",
          "data": {
            "text/plain": [
              "<Figure size 640x480 with 2 Axes>"
            ],
            "image/png": "[encoded data removed]"
          },
          "metadata": {}
        }
      ]
    },
    {
      "cell_type": "code",
      "source": [
        "df_results = pd.DataFrame(summary[\"results\"])\n",
        "df_results[\"config_str\"] = df_results[\"config\"].apply(\n",
        "    lambda cfg: f\"{cfg['rnn_type']}-{cfg['num_layers']}x{'bi' if cfg['bidirectional'] else 'uni'}\"\n",
        ")\n",
        "\n",
        "df_results.to_csv(\"comparacion_modelos.csv\", index=False)\n",
        "print(\" Resultados exportados a comparacion_modelos.csv\")"
      ],
      "metadata": {
        "colab": {
          "base_uri": "https://localhost:8080/"
        },
        "id": "ypkm1hppw08j",
        "outputId": "68c97c51-4609-4e5b-e2dd-651f60108d98"
      },
      "execution_count": 140,
      "outputs": [
        {
          "output_type": "stream",
          "name": "stdout",
          "text": [
            " Resultados exportados a comparacion_modelos.csv\n"
          ]
        }
      ]
    },
    {
      "cell_type": "code",
      "source": [
        "!pip freeze > '/content/drive/MyDrive/MasterIA/DeepLearning/Microproy2/requirements.txt'"
      ],
      "metadata": {
        "id": "Q5fubdwkftZB"
      },
      "execution_count": 141,
      "outputs": []
    },
    {
      "cell_type": "markdown",
      "source": [],
      "metadata": {
        "id": "9dHvXUM9xdYu"
      }
    },
    {
      "cell_type": "markdown",
      "source": [
        "# Resultados y Conclusiones"
      ],
      "metadata": {
        "id": "k-ojIVKpxeWo"
      }
    },
    {
      "cell_type": "markdown",
      "source": [
        "\n",
        "\n",
        "1.   **Incidencia de los hiperparámetros**: En la primera parte de este notebook corrimos una optimización de hiperparámetros sobre una arquitectura fija. Pudimos obtener una buen desempeño del modelo, sin embargo esta optimización no nos dio información sobre cómo se comportaba la arquitectura RNN y sus tipos, capas escondidas, bidireccionalidad, etc.\n",
        "2.   **Incidencia de la Arquitectura**: En cuanto a la información de cada arquitectura, cada ablación que hicimos paso a paso nos mostró que el\n",
        "3.   **Ayuda de Optuna**\n",
        "4.   **Ventajas y Desventajas de utilizar RNN para Análisis de sentimiento**\n",
        "\n"
      ],
      "metadata": {
        "id": "90EJllhbxjic"
      }
    },
    {
      "cell_type": "markdown",
      "source": [
        "# Creando una aplicación con Gradio para Análisis de Sentimiento para Reviews de Películas"
      ],
      "metadata": {
        "id": "3EWZ695EC3kc"
      }
    },
    {
      "cell_type": "code",
      "source": [
        "!pip install gradio"
      ],
      "metadata": {
        "colab": {
          "base_uri": "https://localhost:8080/"
        },
        "id": "Kt0i8fJL_xCS",
        "outputId": "7c53225a-5348-486b-96e4-e22f7f3a9bff"
      },
      "execution_count": 142,
      "outputs": [
        {
          "output_type": "stream",
          "name": "stdout",
          "text": [
            "Requirement already satisfied: gradio in /usr/local/lib/python3.11/dist-packages (5.29.0)\n",
            "Requirement already satisfied: aiofiles<25.0,>=22.0 in /usr/local/lib/python3.11/dist-packages (from gradio) (24.1.0)\n",
            "Requirement already satisfied: anyio<5.0,>=3.0 in /usr/local/lib/python3.11/dist-packages (from gradio) (4.9.0)\n",
            "Requirement already satisfied: fastapi<1.0,>=0.115.2 in /usr/local/lib/python3.11/dist-packages (from gradio) (0.115.12)\n",
            "Requirement already satisfied: ffmpy in /usr/local/lib/python3.11/dist-packages (from gradio) (0.5.0)\n",
            "Requirement already satisfied: gradio-client==1.10.0 in /usr/local/lib/python3.11/dist-packages (from gradio) (1.10.0)\n",
            "Requirement already satisfied: groovy~=0.1 in /usr/local/lib/python3.11/dist-packages (from gradio) (0.1.2)\n",
            "Requirement already satisfied: httpx>=0.24.1 in /usr/local/lib/python3.11/dist-packages (from gradio) (0.28.1)\n",
            "Requirement already satisfied: huggingface-hub>=0.28.1 in /usr/local/lib/python3.11/dist-packages (from gradio) (0.31.1)\n",
            "Requirement already satisfied: jinja2<4.0 in /usr/local/lib/python3.11/dist-packages (from gradio) (3.1.6)\n",
            "Requirement already satisfied: markupsafe<4.0,>=2.0 in /usr/local/lib/python3.11/dist-packages (from gradio) (3.0.2)\n",
            "Requirement already satisfied: numpy<3.0,>=1.0 in /usr/local/lib/python3.11/dist-packages (from gradio) (1.26.4)\n",
            "Requirement already satisfied: orjson~=3.0 in /usr/local/lib/python3.11/dist-packages (from gradio) (3.10.18)\n",
            "Requirement already satisfied: packaging in /usr/local/lib/python3.11/dist-packages (from gradio) (24.2)\n",
            "Requirement already satisfied: pandas<3.0,>=1.0 in /usr/local/lib/python3.11/dist-packages (from gradio) (2.2.2)\n",
            "Requirement already satisfied: pillow<12.0,>=8.0 in /usr/local/lib/python3.11/dist-packages (from gradio) (11.2.1)\n",
            "Requirement already satisfied: pydantic<2.12,>=2.0 in /usr/local/lib/python3.11/dist-packages (from gradio) (2.11.4)\n",
            "Requirement already satisfied: pydub in /usr/local/lib/python3.11/dist-packages (from gradio) (0.25.1)\n",
            "Requirement already satisfied: python-multipart>=0.0.18 in /usr/local/lib/python3.11/dist-packages (from gradio) (0.0.20)\n",
            "Requirement already satisfied: pyyaml<7.0,>=5.0 in /usr/local/lib/python3.11/dist-packages (from gradio) (6.0.2)\n",
            "Requirement already satisfied: ruff>=0.9.3 in /usr/local/lib/python3.11/dist-packages (from gradio) (0.11.9)\n",
            "Requirement already satisfied: safehttpx<0.2.0,>=0.1.6 in /usr/local/lib/python3.11/dist-packages (from gradio) (0.1.6)\n",
            "Requirement already satisfied: semantic-version~=2.0 in /usr/local/lib/python3.11/dist-packages (from gradio) (2.10.0)\n",
            "Requirement already satisfied: starlette<1.0,>=0.40.0 in /usr/local/lib/python3.11/dist-packages (from gradio) (0.46.2)\n",
            "Requirement already satisfied: tomlkit<0.14.0,>=0.12.0 in /usr/local/lib/python3.11/dist-packages (from gradio) (0.13.2)\n",
            "Requirement already satisfied: typer<1.0,>=0.12 in /usr/local/lib/python3.11/dist-packages (from gradio) (0.15.3)\n",
            "Requirement already satisfied: typing-extensions~=4.0 in /usr/local/lib/python3.11/dist-packages (from gradio) (4.13.2)\n",
            "Requirement already satisfied: uvicorn>=0.14.0 in /usr/local/lib/python3.11/dist-packages (from gradio) (0.34.2)\n",
            "Requirement already satisfied: fsspec in /usr/local/lib/python3.11/dist-packages (from gradio-client==1.10.0->gradio) (2025.3.2)\n",
            "Requirement already satisfied: websockets<16.0,>=10.0 in /usr/local/lib/python3.11/dist-packages (from gradio-client==1.10.0->gradio) (15.0.1)\n",
            "Requirement already satisfied: idna>=2.8 in /usr/local/lib/python3.11/dist-packages (from anyio<5.0,>=3.0->gradio) (3.10)\n",
            "Requirement already satisfied: sniffio>=1.1 in /usr/local/lib/python3.11/dist-packages (from anyio<5.0,>=3.0->gradio) (1.3.1)\n",
            "Requirement already satisfied: certifi in /usr/local/lib/python3.11/dist-packages (from httpx>=0.24.1->gradio) (2025.4.26)\n",
            "Requirement already satisfied: httpcore==1.* in /usr/local/lib/python3.11/dist-packages (from httpx>=0.24.1->gradio) (1.0.9)\n",
            "Requirement already satisfied: h11>=0.16 in /usr/local/lib/python3.11/dist-packages (from httpcore==1.*->httpx>=0.24.1->gradio) (0.16.0)\n",
            "Requirement already satisfied: filelock in /usr/local/lib/python3.11/dist-packages (from huggingface-hub>=0.28.1->gradio) (3.18.0)\n",
            "Requirement already satisfied: requests in /usr/local/lib/python3.11/dist-packages (from huggingface-hub>=0.28.1->gradio) (2.32.3)\n",
            "Requirement already satisfied: tqdm>=4.42.1 in /usr/local/lib/python3.11/dist-packages (from huggingface-hub>=0.28.1->gradio) (4.67.1)\n",
            "Requirement already satisfied: hf-xet<2.0.0,>=1.1.0 in /usr/local/lib/python3.11/dist-packages (from huggingface-hub>=0.28.1->gradio) (1.1.0)\n",
            "Requirement already satisfied: python-dateutil>=2.8.2 in /usr/local/lib/python3.11/dist-packages (from pandas<3.0,>=1.0->gradio) (2.9.0.post0)\n",
            "Requirement already satisfied: pytz>=2020.1 in /usr/local/lib/python3.11/dist-packages (from pandas<3.0,>=1.0->gradio) (2025.2)\n",
            "Requirement already satisfied: tzdata>=2022.7 in /usr/local/lib/python3.11/dist-packages (from pandas<3.0,>=1.0->gradio) (2025.2)\n",
            "Requirement already satisfied: annotated-types>=0.6.0 in /usr/local/lib/python3.11/dist-packages (from pydantic<2.12,>=2.0->gradio) (0.7.0)\n",
            "Requirement already satisfied: pydantic-core==2.33.2 in /usr/local/lib/python3.11/dist-packages (from pydantic<2.12,>=2.0->gradio) (2.33.2)\n",
            "Requirement already satisfied: typing-inspection>=0.4.0 in /usr/local/lib/python3.11/dist-packages (from pydantic<2.12,>=2.0->gradio) (0.4.0)\n",
            "Requirement already satisfied: click>=8.0.0 in /usr/local/lib/python3.11/dist-packages (from typer<1.0,>=0.12->gradio) (8.1.8)\n",
            "Requirement already satisfied: shellingham>=1.3.0 in /usr/local/lib/python3.11/dist-packages (from typer<1.0,>=0.12->gradio) (1.5.4)\n",
            "Requirement already satisfied: rich>=10.11.0 in /usr/local/lib/python3.11/dist-packages (from typer<1.0,>=0.12->gradio) (13.9.4)\n",
            "Requirement already satisfied: six>=1.5 in /usr/local/lib/python3.11/dist-packages (from python-dateutil>=2.8.2->pandas<3.0,>=1.0->gradio) (1.17.0)\n",
            "Requirement already satisfied: markdown-it-py>=2.2.0 in /usr/local/lib/python3.11/dist-packages (from rich>=10.11.0->typer<1.0,>=0.12->gradio) (3.0.0)\n",
            "Requirement already satisfied: pygments<3.0.0,>=2.13.0 in /usr/local/lib/python3.11/dist-packages (from rich>=10.11.0->typer<1.0,>=0.12->gradio) (2.19.1)\n",
            "Requirement already satisfied: charset-normalizer<4,>=2 in /usr/local/lib/python3.11/dist-packages (from requests->huggingface-hub>=0.28.1->gradio) (3.4.2)\n",
            "Requirement already satisfied: urllib3<3,>=1.21.1 in /usr/local/lib/python3.11/dist-packages (from requests->huggingface-hub>=0.28.1->gradio) (2.4.0)\n",
            "Requirement already satisfied: mdurl~=0.1 in /usr/local/lib/python3.11/dist-packages (from markdown-it-py>=2.2.0->rich>=10.11.0->typer<1.0,>=0.12->gradio) (0.1.2)\n"
          ]
        }
      ]
    },
    {
      "cell_type": "code",
      "source": [
        "import gradio"
      ],
      "metadata": {
        "id": "8jZdOFyH_uxu"
      },
      "execution_count": 143,
      "outputs": []
    },
    {
      "cell_type": "code",
      "source": [
        "gradio.Interface(fn=pipeline.predict, inputs=\"text\", outputs=\"text\").launch(debug=True,share=True)"
      ],
      "metadata": {
        "colab": {
          "base_uri": "https://localhost:8080/",
          "height": 680
        },
        "id": "tzoN2u_t_204",
        "outputId": "bed96a3c-9f5e-497d-a6be-dd94f1893fea"
      },
      "execution_count": 144,
      "outputs": [
        {
          "output_type": "stream",
          "name": "stdout",
          "text": [
            "Colab notebook detected. This cell will run indefinitely so that you can see errors and logs. To turn off, set debug=False in launch().\n",
            "* Running on public URL: https://8a10b1410421c9e8e0.gradio.live\n",
            "\n",
            "This share link expires in 1 week. For free permanent hosting and GPU upgrades, run `gradio deploy` from the terminal in the working directory to deploy to Hugging Face Spaces (https://huggingface.co/spaces)\n"
          ]
        },
        {
          "output_type": "display_data",
          "data": {
            "text/plain": [
              "<IPython.core.display.HTML object>"
            ],
            "text/html": [
              "<div><iframe src=\"https://8a10b1410421c9e8e0.gradio.live\" width=\"100%\" height=\"500\" allow=\"autoplay; camera; microphone; clipboard-read; clipboard-write;\" frameborder=\"0\" allowfullscreen></iframe></div>"
            ]
          },
          "metadata": {}
        },
        {
          "output_type": "stream",
          "name": "stdout",
          "text": [
            "Predicting on device: cuda\n",
            "Predicting on device: cuda\n",
            "Keyboard interruption in main thread... closing server.\n",
            "Killing tunnel 127.0.0.1:7860 <> https://8a10b1410421c9e8e0.gradio.live\n"
          ]
        },
        {
          "output_type": "execute_result",
          "data": {
            "text/plain": []
          },
          "metadata": {},
          "execution_count": 144
        }
      ]
    }
  ]
}