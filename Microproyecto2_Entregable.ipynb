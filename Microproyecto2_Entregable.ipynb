{
  "nbformat": 4,
  "nbformat_minor": 0,
  "metadata": {
    "colab": {
      "provenance": [],
      "gpuType": "L4",
      "machine_shape": "hm",
      "include_colab_link": true
    },
    "kernelspec": {
      "name": "python3",
      "display_name": "Python 3"
    },
    "language_info": {
      "name": "python"
    },
    "accelerator": "GPU"
  },
  "cells": [
    {
      "cell_type": "markdown",
      "metadata": {
        "id": "view-in-github",
        "colab_type": "text"
      },
      "source": [
        "<a href=\"https://colab.research.google.com/github/slancheros/RNN_NLP/blob/main/Microproyecto2_Entregable.ipynb\" target=\"_parent\"><img src=\"https://colab.research.google.com/assets/colab-badge.svg\" alt=\"Open In Colab\"/></a>"
      ]
    },
    {
      "cell_type": "markdown",
      "source": [
        "# Técnicas de Deep Learning - Microproyecto 2 - RNN"
      ],
      "metadata": {
        "id": "TfWUjUopHQMG"
      }
    },
    {
      "cell_type": "markdown",
      "source": [
        "Por: Sandra Lancheros y Pilar Muñoz."
      ],
      "metadata": {
        "id": "XSG1oHGyLV87"
      }
    },
    {
      "cell_type": "markdown",
      "source": [
        "# Objetivo General"
      ],
      "metadata": {
        "id": "xiXMUOKwLX9i"
      }
    },
    {
      "cell_type": "markdown",
      "source": [
        "Afianzar el conocimiento de las arquitecturas RNN en DeepLearning. Específicamente, vamos a utilizar una arquitectura RNN para predicción de Análisis de Sentimientos en clasificación binaria: Positivo o Negativo."
      ],
      "metadata": {
        "id": "WFC8Ri3hLdhk"
      }
    },
    {
      "cell_type": "markdown",
      "source": [
        "# Exploración y Perfilamiento de datos"
      ],
      "metadata": {
        "id": "02O2JY_ALCNq"
      }
    },
    {
      "cell_type": "markdown",
      "source": [
        "Desarrollar un método basado en redes neuronales recurrentes que permita\n",
        "clasificar con precisión las reseñas de películas en IMDb en una de las dos\n",
        "categorías: positiva o negativa.\n",
        "B. Conjunto de datos\n",
        "- Los datos corresponden a un dataset de reseñas de películas en IMDb,\n",
        "disponibles en el siguiente [enlace](https://www.kaggle.com/datasets/yasserh/imdb-movie-ratings-sentiment-analysis/data). El dataset contiene miles de reseñas\n",
        "etiquetadas con su correspondiente rating y etiqueta de sentimiento (positivo o\n",
        "negativo)"
      ],
      "metadata": {
        "id": "axk6ErQ9OukL"
      }
    },
    {
      "cell_type": "code",
      "source": [
        "from google.colab import drive\n",
        "drive.mount('/content/drive')"
      ],
      "metadata": {
        "id": "MBMn5Vl2MEGl",
        "colab": {
          "base_uri": "https://localhost:8080/"
        },
        "outputId": "f0eef3fd-5282-45e8-dc86-b89c339ebc08"
      },
      "execution_count": 1,
      "outputs": [
        {
          "output_type": "stream",
          "name": "stdout",
          "text": [
            "Drive already mounted at /content/drive; to attempt to forcibly remount, call drive.mount(\"/content/drive\", force_remount=True).\n"
          ]
        }
      ]
    },
    {
      "cell_type": "code",
      "source": [
        "import pandas as pd\n",
        "import numpy as np"
      ],
      "metadata": {
        "id": "dbSJvj7eNZRQ"
      },
      "execution_count": 2,
      "outputs": []
    },
    {
      "cell_type": "code",
      "source": [
        "imdb_df = pd.read_csv('/content/drive/MyDrive/MasterIA/DeepLearning/Microproy2/movie.csv')"
      ],
      "metadata": {
        "id": "dMQ3zD_YNbi0"
      },
      "execution_count": 3,
      "outputs": []
    },
    {
      "cell_type": "code",
      "source": [
        "imdb_df"
      ],
      "metadata": {
        "id": "nXdAmxXVN-MP",
        "colab": {
          "base_uri": "https://localhost:8080/",
          "height": 423
        },
        "outputId": "8bb3b013-250c-4498-ff7d-3eaad58336dc"
      },
      "execution_count": 4,
      "outputs": [
        {
          "output_type": "execute_result",
          "data": {
            "text/plain": [
              "                                                    text  label\n",
              "0      I grew up (b. 1965) watching and loving the Th...      0\n",
              "1      When I put this movie in my DVD player, and sa...      0\n",
              "2      Why do people who do not know what a particula...      0\n",
              "3      Even though I have great interest in Biblical ...      0\n",
              "4      Im a die hard Dads Army fan and nothing will e...      1\n",
              "...                                                  ...    ...\n",
              "39995  \"Western Union\" is something of a forgotten cl...      1\n",
              "39996  This movie is an incredible piece of work. It ...      1\n",
              "39997  My wife and I watched this movie because we pl...      0\n",
              "39998  When I first watched Flatliners, I was amazed....      1\n",
              "39999  Why would this film be so good, but only gross...      1\n",
              "\n",
              "[40000 rows x 2 columns]"
            ],
            "text/html": [
              "\n",
              "  <div id=\"df-d5374da3-97c0-4fa5-8112-afd6ec6f0549\" class=\"colab-df-container\">\n",
              "    <div>\n",
              "<style scoped>\n",
              "    .dataframe tbody tr th:only-of-type {\n",
              "        vertical-align: middle;\n",
              "    }\n",
              "\n",
              "    .dataframe tbody tr th {\n",
              "        vertical-align: top;\n",
              "    }\n",
              "\n",
              "    .dataframe thead th {\n",
              "        text-align: right;\n",
              "    }\n",
              "</style>\n",
              "<table border=\"1\" class=\"dataframe\">\n",
              "  <thead>\n",
              "    <tr style=\"text-align: right;\">\n",
              "      <th></th>\n",
              "      <th>text</th>\n",
              "      <th>label</th>\n",
              "    </tr>\n",
              "  </thead>\n",
              "  <tbody>\n",
              "    <tr>\n",
              "      <th>0</th>\n",
              "      <td>I grew up (b. 1965) watching and loving the Th...</td>\n",
              "      <td>0</td>\n",
              "    </tr>\n",
              "    <tr>\n",
              "      <th>1</th>\n",
              "      <td>When I put this movie in my DVD player, and sa...</td>\n",
              "      <td>0</td>\n",
              "    </tr>\n",
              "    <tr>\n",
              "      <th>2</th>\n",
              "      <td>Why do people who do not know what a particula...</td>\n",
              "      <td>0</td>\n",
              "    </tr>\n",
              "    <tr>\n",
              "      <th>3</th>\n",
              "      <td>Even though I have great interest in Biblical ...</td>\n",
              "      <td>0</td>\n",
              "    </tr>\n",
              "    <tr>\n",
              "      <th>4</th>\n",
              "      <td>Im a die hard Dads Army fan and nothing will e...</td>\n",
              "      <td>1</td>\n",
              "    </tr>\n",
              "    <tr>\n",
              "      <th>...</th>\n",
              "      <td>...</td>\n",
              "      <td>...</td>\n",
              "    </tr>\n",
              "    <tr>\n",
              "      <th>39995</th>\n",
              "      <td>\"Western Union\" is something of a forgotten cl...</td>\n",
              "      <td>1</td>\n",
              "    </tr>\n",
              "    <tr>\n",
              "      <th>39996</th>\n",
              "      <td>This movie is an incredible piece of work. It ...</td>\n",
              "      <td>1</td>\n",
              "    </tr>\n",
              "    <tr>\n",
              "      <th>39997</th>\n",
              "      <td>My wife and I watched this movie because we pl...</td>\n",
              "      <td>0</td>\n",
              "    </tr>\n",
              "    <tr>\n",
              "      <th>39998</th>\n",
              "      <td>When I first watched Flatliners, I was amazed....</td>\n",
              "      <td>1</td>\n",
              "    </tr>\n",
              "    <tr>\n",
              "      <th>39999</th>\n",
              "      <td>Why would this film be so good, but only gross...</td>\n",
              "      <td>1</td>\n",
              "    </tr>\n",
              "  </tbody>\n",
              "</table>\n",
              "<p>40000 rows × 2 columns</p>\n",
              "</div>\n",
              "    <div class=\"colab-df-buttons\">\n",
              "\n",
              "  <div class=\"colab-df-container\">\n",
              "    <button class=\"colab-df-convert\" onclick=\"convertToInteractive('df-d5374da3-97c0-4fa5-8112-afd6ec6f0549')\"\n",
              "            title=\"Convert this dataframe to an interactive table.\"\n",
              "            style=\"display:none;\">\n",
              "\n",
              "  <svg xmlns=\"http://www.w3.org/2000/svg\" height=\"24px\" viewBox=\"0 -960 960 960\">\n",
              "    <path d=\"M120-120v-720h720v720H120Zm60-500h600v-160H180v160Zm220 220h160v-160H400v160Zm0 220h160v-160H400v160ZM180-400h160v-160H180v160Zm440 0h160v-160H620v160ZM180-180h160v-160H180v160Zm440 0h160v-160H620v160Z\"/>\n",
              "  </svg>\n",
              "    </button>\n",
              "\n",
              "  <style>\n",
              "    .colab-df-container {\n",
              "      display:flex;\n",
              "      gap: 12px;\n",
              "    }\n",
              "\n",
              "    .colab-df-convert {\n",
              "      background-color: #E8F0FE;\n",
              "      border: none;\n",
              "      border-radius: 50%;\n",
              "      cursor: pointer;\n",
              "      display: none;\n",
              "      fill: #1967D2;\n",
              "      height: 32px;\n",
              "      padding: 0 0 0 0;\n",
              "      width: 32px;\n",
              "    }\n",
              "\n",
              "    .colab-df-convert:hover {\n",
              "      background-color: #E2EBFA;\n",
              "      box-shadow: 0px 1px 2px rgba(60, 64, 67, 0.3), 0px 1px 3px 1px rgba(60, 64, 67, 0.15);\n",
              "      fill: #174EA6;\n",
              "    }\n",
              "\n",
              "    .colab-df-buttons div {\n",
              "      margin-bottom: 4px;\n",
              "    }\n",
              "\n",
              "    [theme=dark] .colab-df-convert {\n",
              "      background-color: #3B4455;\n",
              "      fill: #D2E3FC;\n",
              "    }\n",
              "\n",
              "    [theme=dark] .colab-df-convert:hover {\n",
              "      background-color: #434B5C;\n",
              "      box-shadow: 0px 1px 3px 1px rgba(0, 0, 0, 0.15);\n",
              "      filter: drop-shadow(0px 1px 2px rgba(0, 0, 0, 0.3));\n",
              "      fill: #FFFFFF;\n",
              "    }\n",
              "  </style>\n",
              "\n",
              "    <script>\n",
              "      const buttonEl =\n",
              "        document.querySelector('#df-d5374da3-97c0-4fa5-8112-afd6ec6f0549 button.colab-df-convert');\n",
              "      buttonEl.style.display =\n",
              "        google.colab.kernel.accessAllowed ? 'block' : 'none';\n",
              "\n",
              "      async function convertToInteractive(key) {\n",
              "        const element = document.querySelector('#df-d5374da3-97c0-4fa5-8112-afd6ec6f0549');\n",
              "        const dataTable =\n",
              "          await google.colab.kernel.invokeFunction('convertToInteractive',\n",
              "                                                    [key], {});\n",
              "        if (!dataTable) return;\n",
              "\n",
              "        const docLinkHtml = 'Like what you see? Visit the ' +\n",
              "          '<a target=\"_blank\" href=https://colab.research.google.com/notebooks/data_table.ipynb>data table notebook</a>'\n",
              "          + ' to learn more about interactive tables.';\n",
              "        element.innerHTML = '';\n",
              "        dataTable['output_type'] = 'display_data';\n",
              "        await google.colab.output.renderOutput(dataTable, element);\n",
              "        const docLink = document.createElement('div');\n",
              "        docLink.innerHTML = docLinkHtml;\n",
              "        element.appendChild(docLink);\n",
              "      }\n",
              "    </script>\n",
              "  </div>\n",
              "\n",
              "\n",
              "    <div id=\"df-62a96d44-d5bf-4500-82ac-dfacc0ede534\">\n",
              "      <button class=\"colab-df-quickchart\" onclick=\"quickchart('df-62a96d44-d5bf-4500-82ac-dfacc0ede534')\"\n",
              "                title=\"Suggest charts\"\n",
              "                style=\"display:none;\">\n",
              "\n",
              "<svg xmlns=\"http://www.w3.org/2000/svg\" height=\"24px\"viewBox=\"0 0 24 24\"\n",
              "     width=\"24px\">\n",
              "    <g>\n",
              "        <path d=\"M19 3H5c-1.1 0-2 .9-2 2v14c0 1.1.9 2 2 2h14c1.1 0 2-.9 2-2V5c0-1.1-.9-2-2-2zM9 17H7v-7h2v7zm4 0h-2V7h2v10zm4 0h-2v-4h2v4z\"/>\n",
              "    </g>\n",
              "</svg>\n",
              "      </button>\n",
              "\n",
              "<style>\n",
              "  .colab-df-quickchart {\n",
              "      --bg-color: #E8F0FE;\n",
              "      --fill-color: #1967D2;\n",
              "      --hover-bg-color: #E2EBFA;\n",
              "      --hover-fill-color: #174EA6;\n",
              "      --disabled-fill-color: #AAA;\n",
              "      --disabled-bg-color: #DDD;\n",
              "  }\n",
              "\n",
              "  [theme=dark] .colab-df-quickchart {\n",
              "      --bg-color: #3B4455;\n",
              "      --fill-color: #D2E3FC;\n",
              "      --hover-bg-color: #434B5C;\n",
              "      --hover-fill-color: #FFFFFF;\n",
              "      --disabled-bg-color: #3B4455;\n",
              "      --disabled-fill-color: #666;\n",
              "  }\n",
              "\n",
              "  .colab-df-quickchart {\n",
              "    background-color: var(--bg-color);\n",
              "    border: none;\n",
              "    border-radius: 50%;\n",
              "    cursor: pointer;\n",
              "    display: none;\n",
              "    fill: var(--fill-color);\n",
              "    height: 32px;\n",
              "    padding: 0;\n",
              "    width: 32px;\n",
              "  }\n",
              "\n",
              "  .colab-df-quickchart:hover {\n",
              "    background-color: var(--hover-bg-color);\n",
              "    box-shadow: 0 1px 2px rgba(60, 64, 67, 0.3), 0 1px 3px 1px rgba(60, 64, 67, 0.15);\n",
              "    fill: var(--button-hover-fill-color);\n",
              "  }\n",
              "\n",
              "  .colab-df-quickchart-complete:disabled,\n",
              "  .colab-df-quickchart-complete:disabled:hover {\n",
              "    background-color: var(--disabled-bg-color);\n",
              "    fill: var(--disabled-fill-color);\n",
              "    box-shadow: none;\n",
              "  }\n",
              "\n",
              "  .colab-df-spinner {\n",
              "    border: 2px solid var(--fill-color);\n",
              "    border-color: transparent;\n",
              "    border-bottom-color: var(--fill-color);\n",
              "    animation:\n",
              "      spin 1s steps(1) infinite;\n",
              "  }\n",
              "\n",
              "  @keyframes spin {\n",
              "    0% {\n",
              "      border-color: transparent;\n",
              "      border-bottom-color: var(--fill-color);\n",
              "      border-left-color: var(--fill-color);\n",
              "    }\n",
              "    20% {\n",
              "      border-color: transparent;\n",
              "      border-left-color: var(--fill-color);\n",
              "      border-top-color: var(--fill-color);\n",
              "    }\n",
              "    30% {\n",
              "      border-color: transparent;\n",
              "      border-left-color: var(--fill-color);\n",
              "      border-top-color: var(--fill-color);\n",
              "      border-right-color: var(--fill-color);\n",
              "    }\n",
              "    40% {\n",
              "      border-color: transparent;\n",
              "      border-right-color: var(--fill-color);\n",
              "      border-top-color: var(--fill-color);\n",
              "    }\n",
              "    60% {\n",
              "      border-color: transparent;\n",
              "      border-right-color: var(--fill-color);\n",
              "    }\n",
              "    80% {\n",
              "      border-color: transparent;\n",
              "      border-right-color: var(--fill-color);\n",
              "      border-bottom-color: var(--fill-color);\n",
              "    }\n",
              "    90% {\n",
              "      border-color: transparent;\n",
              "      border-bottom-color: var(--fill-color);\n",
              "    }\n",
              "  }\n",
              "</style>\n",
              "\n",
              "      <script>\n",
              "        async function quickchart(key) {\n",
              "          const quickchartButtonEl =\n",
              "            document.querySelector('#' + key + ' button');\n",
              "          quickchartButtonEl.disabled = true;  // To prevent multiple clicks.\n",
              "          quickchartButtonEl.classList.add('colab-df-spinner');\n",
              "          try {\n",
              "            const charts = await google.colab.kernel.invokeFunction(\n",
              "                'suggestCharts', [key], {});\n",
              "          } catch (error) {\n",
              "            console.error('Error during call to suggestCharts:', error);\n",
              "          }\n",
              "          quickchartButtonEl.classList.remove('colab-df-spinner');\n",
              "          quickchartButtonEl.classList.add('colab-df-quickchart-complete');\n",
              "        }\n",
              "        (() => {\n",
              "          let quickchartButtonEl =\n",
              "            document.querySelector('#df-62a96d44-d5bf-4500-82ac-dfacc0ede534 button');\n",
              "          quickchartButtonEl.style.display =\n",
              "            google.colab.kernel.accessAllowed ? 'block' : 'none';\n",
              "        })();\n",
              "      </script>\n",
              "    </div>\n",
              "\n",
              "  <div id=\"id_8edc5141-0ee6-4e9e-a64c-97346803403b\">\n",
              "    <style>\n",
              "      .colab-df-generate {\n",
              "        background-color: #E8F0FE;\n",
              "        border: none;\n",
              "        border-radius: 50%;\n",
              "        cursor: pointer;\n",
              "        display: none;\n",
              "        fill: #1967D2;\n",
              "        height: 32px;\n",
              "        padding: 0 0 0 0;\n",
              "        width: 32px;\n",
              "      }\n",
              "\n",
              "      .colab-df-generate:hover {\n",
              "        background-color: #E2EBFA;\n",
              "        box-shadow: 0px 1px 2px rgba(60, 64, 67, 0.3), 0px 1px 3px 1px rgba(60, 64, 67, 0.15);\n",
              "        fill: #174EA6;\n",
              "      }\n",
              "\n",
              "      [theme=dark] .colab-df-generate {\n",
              "        background-color: #3B4455;\n",
              "        fill: #D2E3FC;\n",
              "      }\n",
              "\n",
              "      [theme=dark] .colab-df-generate:hover {\n",
              "        background-color: #434B5C;\n",
              "        box-shadow: 0px 1px 3px 1px rgba(0, 0, 0, 0.15);\n",
              "        filter: drop-shadow(0px 1px 2px rgba(0, 0, 0, 0.3));\n",
              "        fill: #FFFFFF;\n",
              "      }\n",
              "    </style>\n",
              "    <button class=\"colab-df-generate\" onclick=\"generateWithVariable('imdb_df')\"\n",
              "            title=\"Generate code using this dataframe.\"\n",
              "            style=\"display:none;\">\n",
              "\n",
              "  <svg xmlns=\"http://www.w3.org/2000/svg\" height=\"24px\"viewBox=\"0 0 24 24\"\n",
              "       width=\"24px\">\n",
              "    <path d=\"M7,19H8.4L18.45,9,17,7.55,7,17.6ZM5,21V16.75L18.45,3.32a2,2,0,0,1,2.83,0l1.4,1.43a1.91,1.91,0,0,1,.58,1.4,1.91,1.91,0,0,1-.58,1.4L9.25,21ZM18.45,9,17,7.55Zm-12,3A5.31,5.31,0,0,0,4.9,8.1,5.31,5.31,0,0,0,1,6.5,5.31,5.31,0,0,0,4.9,4.9,5.31,5.31,0,0,0,6.5,1,5.31,5.31,0,0,0,8.1,4.9,5.31,5.31,0,0,0,12,6.5,5.46,5.46,0,0,0,6.5,12Z\"/>\n",
              "  </svg>\n",
              "    </button>\n",
              "    <script>\n",
              "      (() => {\n",
              "      const buttonEl =\n",
              "        document.querySelector('#id_8edc5141-0ee6-4e9e-a64c-97346803403b button.colab-df-generate');\n",
              "      buttonEl.style.display =\n",
              "        google.colab.kernel.accessAllowed ? 'block' : 'none';\n",
              "\n",
              "      buttonEl.onclick = () => {\n",
              "        google.colab.notebook.generateWithVariable('imdb_df');\n",
              "      }\n",
              "      })();\n",
              "    </script>\n",
              "  </div>\n",
              "\n",
              "    </div>\n",
              "  </div>\n"
            ],
            "application/vnd.google.colaboratory.intrinsic+json": {
              "type": "dataframe",
              "variable_name": "imdb_df",
              "summary": "{\n  \"name\": \"imdb_df\",\n  \"rows\": 40000,\n  \"fields\": [\n    {\n      \"column\": \"text\",\n      \"properties\": {\n        \"dtype\": \"string\",\n        \"num_unique_values\": 39723,\n        \"samples\": [\n          \"There are similarities between Ray Lawrence's \\\"Jindabyne\\\" and his last movie \\\"Lantana\\\" \\u0096 a dead body and its repercussions for already dysfunctional lives. But whereas \\\"Lantana\\\" offered some hope and resolution, \\\"Jindabyne\\\" leaves everything unresolved in a bleak way that will leave most viewers unsatisfied, perhaps even cheated.<br /><br />The storyline - the aftermath of a fisherman's discovery of a corpse floating in a remote river - is based on a short story by Raymond Carver. It became an element in Robert Altman's classic 1993 ensemble \\\"Short Cuts\\\". Lawrence uses this theme for an exploration and exposition of relationships within a small Australian community under stress. The movie poses some moral questions \\\"Would you let the discovery of a dead body ruin your good weekend?\\\" and more poignantly for Australians \\\"Would it make any difference if the dead person was an aboriginal?\\\" The acting, especially by Gabriel Byrne and Laura Linney, is commendable. And there are elements of mysticism reinforced by haunting music, not unlike \\\"Picnic at Hanging Rock\\\".<br /><br />If all this sounds like the basis for a great movie - be prepared for a let down, the pace is very slow and the murder is shown near the beginning, thereby eliminating the element of mystery. And so we are left with these desolate lives and a blank finale.\",\n          \"Hammer House of Horror: Witching Time is set in rural England on Woodstock farm where stressed musician David Winter (Jon Finch) lives with his actress wife Mary (Prunella Gee) & is currently composing the music for a horror film. One night while looking for his dog Billy David finds a mysterious woman in his barn, calling herself Lucinda Jessop (Patricia Quinn) she claims to be a witch who has transported herself from 300 years in the past to now. Obviously rather sceptical David has a hard time believing her so he locks her in a room in his farmhouse & calls his doctor Charles (Ian McCulloch) to come examine her, however once he arrives & they enter the room Lucinda has disappeared. Charles puts it down to David drinking too much but over the next few day strange & disturbing things begin to happen to David & Mary...<br /><br />Witching Time was episode 1 from the short lived British anthology horror series produced by Hammer studios for TV & originally aired here in the UK during September 1980, the first of two Hammer House of Horror episodes to be directed by Don Leaver (episode 13 The Mark of Satan being the other) I actually rather liked this. As a series Hammer House of Horror dealt with various different themes & were all unconnected to each other except in name & unsurprisingly Watching Time is a sinister & effective little tale about a witch, the script by Anthony Read benefits from it's slight 50 odd minute duration & moves along at a nice pace. The character's are pretty good as is the dialogue, there are some nice scenes here & I liked the way it never quite reveals whether David & Mary are going crazy or not. I think it's a well structured, entertaining & reasonably creepy horror themed TV show that I enjoyed more than I thought I would.<br /><br />Being made for British TV meant the boys at Hammer had a lower budget than usual, if that was even possible, & as such there is no gorgeous period settings here as in their most well know Frankenstein & Dracula films although the contemporary English setting does give it a certain atmosphere that you can relate to a bit more. Another TV based restriction is that the exploitation levels are lower than you might hope for, there's some nudity & gore but not much although I didn't mind too much as the story here is pretty good. It's well made for what it is & Hammer's experience on their feature films probably helped make these look pretty good, the acting is good as well with genre favourite Ian McCulloch making a bit-part appearance.<br /><br />Witching Time is a good start to the Hammer House of Horror series, as a 50 minute piece of British TV it's pretty damned good, now why don't they make show's like this over here anymore?\",\n          \"What a great cast for this movie. The timing was excellent and there were so many clever lines-several times I was still laughing minutes after they were delivered. I found Manna From Heaven to have some surprising moments and while there were things I was thinking would happen, the way they came together was anything but predictable. This movie is about hope and righting wrongs. I left the theater feeling inspired to do the right thing. Bravo to the Five Sisters.\"\n        ],\n        \"semantic_type\": \"\",\n        \"description\": \"\"\n      }\n    },\n    {\n      \"column\": \"label\",\n      \"properties\": {\n        \"dtype\": \"number\",\n        \"std\": 0,\n        \"min\": 0,\n        \"max\": 1,\n        \"num_unique_values\": 2,\n        \"samples\": [\n          1,\n          0\n        ],\n        \"semantic_type\": \"\",\n        \"description\": \"\"\n      }\n    }\n  ]\n}"
            }
          },
          "metadata": {},
          "execution_count": 4
        }
      ]
    },
    {
      "cell_type": "code",
      "source": [
        "imdb_df.shape"
      ],
      "metadata": {
        "id": "t8h-mUNwOJFw",
        "colab": {
          "base_uri": "https://localhost:8080/"
        },
        "outputId": "e254c1a8-adc8-4a02-e72d-7f952bf45fe0"
      },
      "execution_count": 5,
      "outputs": [
        {
          "output_type": "execute_result",
          "data": {
            "text/plain": [
              "(40000, 2)"
            ]
          },
          "metadata": {},
          "execution_count": 5
        }
      ]
    },
    {
      "cell_type": "code",
      "source": [
        "imdb_df.info()"
      ],
      "metadata": {
        "id": "4ZMrdjdsOOq5",
        "colab": {
          "base_uri": "https://localhost:8080/"
        },
        "outputId": "5742134c-6efb-4019-bcad-f0a1d65a0348"
      },
      "execution_count": 6,
      "outputs": [
        {
          "output_type": "stream",
          "name": "stdout",
          "text": [
            "<class 'pandas.core.frame.DataFrame'>\n",
            "RangeIndex: 40000 entries, 0 to 39999\n",
            "Data columns (total 2 columns):\n",
            " #   Column  Non-Null Count  Dtype \n",
            "---  ------  --------------  ----- \n",
            " 0   text    40000 non-null  object\n",
            " 1   label   40000 non-null  int64 \n",
            "dtypes: int64(1), object(1)\n",
            "memory usage: 625.1+ KB\n"
          ]
        }
      ]
    },
    {
      "cell_type": "code",
      "source": [
        "imdb_df.describe()"
      ],
      "metadata": {
        "id": "mjY8pBN8OTEJ",
        "colab": {
          "base_uri": "https://localhost:8080/",
          "height": 300
        },
        "outputId": "64a3e700-dc69-470f-bfbb-dff65ecd758b"
      },
      "execution_count": 7,
      "outputs": [
        {
          "output_type": "execute_result",
          "data": {
            "text/plain": [
              "              label\n",
              "count  40000.000000\n",
              "mean       0.499525\n",
              "std        0.500006\n",
              "min        0.000000\n",
              "25%        0.000000\n",
              "50%        0.000000\n",
              "75%        1.000000\n",
              "max        1.000000"
            ],
            "text/html": [
              "\n",
              "  <div id=\"df-74b9e8e7-3937-46d8-9905-3d13518a65f8\" class=\"colab-df-container\">\n",
              "    <div>\n",
              "<style scoped>\n",
              "    .dataframe tbody tr th:only-of-type {\n",
              "        vertical-align: middle;\n",
              "    }\n",
              "\n",
              "    .dataframe tbody tr th {\n",
              "        vertical-align: top;\n",
              "    }\n",
              "\n",
              "    .dataframe thead th {\n",
              "        text-align: right;\n",
              "    }\n",
              "</style>\n",
              "<table border=\"1\" class=\"dataframe\">\n",
              "  <thead>\n",
              "    <tr style=\"text-align: right;\">\n",
              "      <th></th>\n",
              "      <th>label</th>\n",
              "    </tr>\n",
              "  </thead>\n",
              "  <tbody>\n",
              "    <tr>\n",
              "      <th>count</th>\n",
              "      <td>40000.000000</td>\n",
              "    </tr>\n",
              "    <tr>\n",
              "      <th>mean</th>\n",
              "      <td>0.499525</td>\n",
              "    </tr>\n",
              "    <tr>\n",
              "      <th>std</th>\n",
              "      <td>0.500006</td>\n",
              "    </tr>\n",
              "    <tr>\n",
              "      <th>min</th>\n",
              "      <td>0.000000</td>\n",
              "    </tr>\n",
              "    <tr>\n",
              "      <th>25%</th>\n",
              "      <td>0.000000</td>\n",
              "    </tr>\n",
              "    <tr>\n",
              "      <th>50%</th>\n",
              "      <td>0.000000</td>\n",
              "    </tr>\n",
              "    <tr>\n",
              "      <th>75%</th>\n",
              "      <td>1.000000</td>\n",
              "    </tr>\n",
              "    <tr>\n",
              "      <th>max</th>\n",
              "      <td>1.000000</td>\n",
              "    </tr>\n",
              "  </tbody>\n",
              "</table>\n",
              "</div>\n",
              "    <div class=\"colab-df-buttons\">\n",
              "\n",
              "  <div class=\"colab-df-container\">\n",
              "    <button class=\"colab-df-convert\" onclick=\"convertToInteractive('df-74b9e8e7-3937-46d8-9905-3d13518a65f8')\"\n",
              "            title=\"Convert this dataframe to an interactive table.\"\n",
              "            style=\"display:none;\">\n",
              "\n",
              "  <svg xmlns=\"http://www.w3.org/2000/svg\" height=\"24px\" viewBox=\"0 -960 960 960\">\n",
              "    <path d=\"M120-120v-720h720v720H120Zm60-500h600v-160H180v160Zm220 220h160v-160H400v160Zm0 220h160v-160H400v160ZM180-400h160v-160H180v160Zm440 0h160v-160H620v160ZM180-180h160v-160H180v160Zm440 0h160v-160H620v160Z\"/>\n",
              "  </svg>\n",
              "    </button>\n",
              "\n",
              "  <style>\n",
              "    .colab-df-container {\n",
              "      display:flex;\n",
              "      gap: 12px;\n",
              "    }\n",
              "\n",
              "    .colab-df-convert {\n",
              "      background-color: #E8F0FE;\n",
              "      border: none;\n",
              "      border-radius: 50%;\n",
              "      cursor: pointer;\n",
              "      display: none;\n",
              "      fill: #1967D2;\n",
              "      height: 32px;\n",
              "      padding: 0 0 0 0;\n",
              "      width: 32px;\n",
              "    }\n",
              "\n",
              "    .colab-df-convert:hover {\n",
              "      background-color: #E2EBFA;\n",
              "      box-shadow: 0px 1px 2px rgba(60, 64, 67, 0.3), 0px 1px 3px 1px rgba(60, 64, 67, 0.15);\n",
              "      fill: #174EA6;\n",
              "    }\n",
              "\n",
              "    .colab-df-buttons div {\n",
              "      margin-bottom: 4px;\n",
              "    }\n",
              "\n",
              "    [theme=dark] .colab-df-convert {\n",
              "      background-color: #3B4455;\n",
              "      fill: #D2E3FC;\n",
              "    }\n",
              "\n",
              "    [theme=dark] .colab-df-convert:hover {\n",
              "      background-color: #434B5C;\n",
              "      box-shadow: 0px 1px 3px 1px rgba(0, 0, 0, 0.15);\n",
              "      filter: drop-shadow(0px 1px 2px rgba(0, 0, 0, 0.3));\n",
              "      fill: #FFFFFF;\n",
              "    }\n",
              "  </style>\n",
              "\n",
              "    <script>\n",
              "      const buttonEl =\n",
              "        document.querySelector('#df-74b9e8e7-3937-46d8-9905-3d13518a65f8 button.colab-df-convert');\n",
              "      buttonEl.style.display =\n",
              "        google.colab.kernel.accessAllowed ? 'block' : 'none';\n",
              "\n",
              "      async function convertToInteractive(key) {\n",
              "        const element = document.querySelector('#df-74b9e8e7-3937-46d8-9905-3d13518a65f8');\n",
              "        const dataTable =\n",
              "          await google.colab.kernel.invokeFunction('convertToInteractive',\n",
              "                                                    [key], {});\n",
              "        if (!dataTable) return;\n",
              "\n",
              "        const docLinkHtml = 'Like what you see? Visit the ' +\n",
              "          '<a target=\"_blank\" href=https://colab.research.google.com/notebooks/data_table.ipynb>data table notebook</a>'\n",
              "          + ' to learn more about interactive tables.';\n",
              "        element.innerHTML = '';\n",
              "        dataTable['output_type'] = 'display_data';\n",
              "        await google.colab.output.renderOutput(dataTable, element);\n",
              "        const docLink = document.createElement('div');\n",
              "        docLink.innerHTML = docLinkHtml;\n",
              "        element.appendChild(docLink);\n",
              "      }\n",
              "    </script>\n",
              "  </div>\n",
              "\n",
              "\n",
              "    <div id=\"df-ad55c6c7-4588-48f5-84fb-4257952a0c69\">\n",
              "      <button class=\"colab-df-quickchart\" onclick=\"quickchart('df-ad55c6c7-4588-48f5-84fb-4257952a0c69')\"\n",
              "                title=\"Suggest charts\"\n",
              "                style=\"display:none;\">\n",
              "\n",
              "<svg xmlns=\"http://www.w3.org/2000/svg\" height=\"24px\"viewBox=\"0 0 24 24\"\n",
              "     width=\"24px\">\n",
              "    <g>\n",
              "        <path d=\"M19 3H5c-1.1 0-2 .9-2 2v14c0 1.1.9 2 2 2h14c1.1 0 2-.9 2-2V5c0-1.1-.9-2-2-2zM9 17H7v-7h2v7zm4 0h-2V7h2v10zm4 0h-2v-4h2v4z\"/>\n",
              "    </g>\n",
              "</svg>\n",
              "      </button>\n",
              "\n",
              "<style>\n",
              "  .colab-df-quickchart {\n",
              "      --bg-color: #E8F0FE;\n",
              "      --fill-color: #1967D2;\n",
              "      --hover-bg-color: #E2EBFA;\n",
              "      --hover-fill-color: #174EA6;\n",
              "      --disabled-fill-color: #AAA;\n",
              "      --disabled-bg-color: #DDD;\n",
              "  }\n",
              "\n",
              "  [theme=dark] .colab-df-quickchart {\n",
              "      --bg-color: #3B4455;\n",
              "      --fill-color: #D2E3FC;\n",
              "      --hover-bg-color: #434B5C;\n",
              "      --hover-fill-color: #FFFFFF;\n",
              "      --disabled-bg-color: #3B4455;\n",
              "      --disabled-fill-color: #666;\n",
              "  }\n",
              "\n",
              "  .colab-df-quickchart {\n",
              "    background-color: var(--bg-color);\n",
              "    border: none;\n",
              "    border-radius: 50%;\n",
              "    cursor: pointer;\n",
              "    display: none;\n",
              "    fill: var(--fill-color);\n",
              "    height: 32px;\n",
              "    padding: 0;\n",
              "    width: 32px;\n",
              "  }\n",
              "\n",
              "  .colab-df-quickchart:hover {\n",
              "    background-color: var(--hover-bg-color);\n",
              "    box-shadow: 0 1px 2px rgba(60, 64, 67, 0.3), 0 1px 3px 1px rgba(60, 64, 67, 0.15);\n",
              "    fill: var(--button-hover-fill-color);\n",
              "  }\n",
              "\n",
              "  .colab-df-quickchart-complete:disabled,\n",
              "  .colab-df-quickchart-complete:disabled:hover {\n",
              "    background-color: var(--disabled-bg-color);\n",
              "    fill: var(--disabled-fill-color);\n",
              "    box-shadow: none;\n",
              "  }\n",
              "\n",
              "  .colab-df-spinner {\n",
              "    border: 2px solid var(--fill-color);\n",
              "    border-color: transparent;\n",
              "    border-bottom-color: var(--fill-color);\n",
              "    animation:\n",
              "      spin 1s steps(1) infinite;\n",
              "  }\n",
              "\n",
              "  @keyframes spin {\n",
              "    0% {\n",
              "      border-color: transparent;\n",
              "      border-bottom-color: var(--fill-color);\n",
              "      border-left-color: var(--fill-color);\n",
              "    }\n",
              "    20% {\n",
              "      border-color: transparent;\n",
              "      border-left-color: var(--fill-color);\n",
              "      border-top-color: var(--fill-color);\n",
              "    }\n",
              "    30% {\n",
              "      border-color: transparent;\n",
              "      border-left-color: var(--fill-color);\n",
              "      border-top-color: var(--fill-color);\n",
              "      border-right-color: var(--fill-color);\n",
              "    }\n",
              "    40% {\n",
              "      border-color: transparent;\n",
              "      border-right-color: var(--fill-color);\n",
              "      border-top-color: var(--fill-color);\n",
              "    }\n",
              "    60% {\n",
              "      border-color: transparent;\n",
              "      border-right-color: var(--fill-color);\n",
              "    }\n",
              "    80% {\n",
              "      border-color: transparent;\n",
              "      border-right-color: var(--fill-color);\n",
              "      border-bottom-color: var(--fill-color);\n",
              "    }\n",
              "    90% {\n",
              "      border-color: transparent;\n",
              "      border-bottom-color: var(--fill-color);\n",
              "    }\n",
              "  }\n",
              "</style>\n",
              "\n",
              "      <script>\n",
              "        async function quickchart(key) {\n",
              "          const quickchartButtonEl =\n",
              "            document.querySelector('#' + key + ' button');\n",
              "          quickchartButtonEl.disabled = true;  // To prevent multiple clicks.\n",
              "          quickchartButtonEl.classList.add('colab-df-spinner');\n",
              "          try {\n",
              "            const charts = await google.colab.kernel.invokeFunction(\n",
              "                'suggestCharts', [key], {});\n",
              "          } catch (error) {\n",
              "            console.error('Error during call to suggestCharts:', error);\n",
              "          }\n",
              "          quickchartButtonEl.classList.remove('colab-df-spinner');\n",
              "          quickchartButtonEl.classList.add('colab-df-quickchart-complete');\n",
              "        }\n",
              "        (() => {\n",
              "          let quickchartButtonEl =\n",
              "            document.querySelector('#df-ad55c6c7-4588-48f5-84fb-4257952a0c69 button');\n",
              "          quickchartButtonEl.style.display =\n",
              "            google.colab.kernel.accessAllowed ? 'block' : 'none';\n",
              "        })();\n",
              "      </script>\n",
              "    </div>\n",
              "\n",
              "    </div>\n",
              "  </div>\n"
            ],
            "application/vnd.google.colaboratory.intrinsic+json": {
              "type": "dataframe",
              "summary": "{\n  \"name\": \"imdb_df\",\n  \"rows\": 8,\n  \"fields\": [\n    {\n      \"column\": \"label\",\n      \"properties\": {\n        \"dtype\": \"number\",\n        \"std\": 14141.984130668903,\n        \"min\": 0.0,\n        \"max\": 40000.0,\n        \"num_unique_values\": 5,\n        \"samples\": [\n          0.499525,\n          1.0,\n          0.5000060244893213\n        ],\n        \"semantic_type\": \"\",\n        \"description\": \"\"\n      }\n    }\n  ]\n}"
            }
          },
          "metadata": {},
          "execution_count": 7
        }
      ]
    },
    {
      "cell_type": "code",
      "source": [
        "etiquetas_unicas = imdb_df['label'].unique()\n",
        "etiquetas_unicas"
      ],
      "metadata": {
        "id": "wVlZKNVbOpM_",
        "colab": {
          "base_uri": "https://localhost:8080/"
        },
        "outputId": "cbbd8380-fdd4-44df-9d22-72894b1c14f7"
      },
      "execution_count": 8,
      "outputs": [
        {
          "output_type": "execute_result",
          "data": {
            "text/plain": [
              "array([0, 1])"
            ]
          },
          "metadata": {},
          "execution_count": 8
        }
      ]
    },
    {
      "cell_type": "code",
      "source": [
        "print(f\"Cantidad de datos duplicados: {imdb_df.duplicated().sum()}\")\n",
        "print(f\"Cantidad de datos nulos: {imdb_df.isnull().sum().sum()}\")"
      ],
      "metadata": {
        "id": "BU11zPI9YdF5",
        "colab": {
          "base_uri": "https://localhost:8080/"
        },
        "outputId": "4c49bf57-9be7-475c-ef02-b7772b06fa1b"
      },
      "execution_count": 9,
      "outputs": [
        {
          "output_type": "stream",
          "name": "stdout",
          "text": [
            "Cantidad de datos duplicados: 277\n",
            "Cantidad de datos nulos: 0\n"
          ]
        }
      ]
    },
    {
      "cell_type": "code",
      "source": [
        "duplicated_rows = imdb_df[imdb_df.duplicated(keep='first')]\n",
        "print(duplicated_rows)"
      ],
      "metadata": {
        "id": "BFzNTpz-Ysts",
        "colab": {
          "base_uri": "https://localhost:8080/"
        },
        "outputId": "6f337069-8f9e-4eb5-8dfc-4ed88165aee1"
      },
      "execution_count": 10,
      "outputs": [
        {
          "output_type": "stream",
          "name": "stdout",
          "text": [
            "                                                    text  label\n",
            "2164   I find it rather useless to comment on this \"m...      0\n",
            "3236   An absolutely atrocious adaptation of the wond...      0\n",
            "3428   When I first saw this film it was not an impre...      0\n",
            "3652   Before I watched this tv movie I did not know ...      1\n",
            "3787   What a clunker!<br /><br />It MUST have been m...      0\n",
            "...                                                  ...    ...\n",
            "39229  I Enjoyed Watching This Well Acted Movie Very ...      1\n",
            "39246  You do realize that you've been watching the E...      0\n",
            "39508  (Spoilers)<br /><br />Oh sure it's based on Mo...      0\n",
            "39681  It's been a long time since I last saw a movie...      0\n",
            "39746  Goodnight, Mister Tom begins in an impossibly ...      0\n",
            "\n",
            "[277 rows x 2 columns]\n"
          ]
        }
      ]
    },
    {
      "cell_type": "code",
      "source": [
        "imdb_df.drop_duplicates(inplace=True)"
      ],
      "metadata": {
        "id": "X-pNi2NzZCv8"
      },
      "execution_count": 11,
      "outputs": []
    },
    {
      "cell_type": "markdown",
      "source": [
        "En la celda de abajo podemos ver que 277 registros han sido eliminados del dataset, dado que eran duplicados."
      ],
      "metadata": {
        "id": "nQO5VdePZYzj"
      }
    },
    {
      "cell_type": "code",
      "source": [
        "imdb_df.shape"
      ],
      "metadata": {
        "id": "LV1n_LIKZTXi",
        "colab": {
          "base_uri": "https://localhost:8080/"
        },
        "outputId": "5ed453b8-d775-4b5d-ae5e-def34b5ec96b"
      },
      "execution_count": 12,
      "outputs": [
        {
          "output_type": "execute_result",
          "data": {
            "text/plain": [
              "(39723, 2)"
            ]
          },
          "metadata": {},
          "execution_count": 12
        }
      ]
    },
    {
      "cell_type": "markdown",
      "source": [
        "En la siguiente celda vemos que los labels están bien distribuidos entre los grupos etiquetados como sentimiento positivo y negativo desde el data set original."
      ],
      "metadata": {
        "id": "sIDZ5sDUaBrM"
      }
    },
    {
      "cell_type": "code",
      "source": [
        "imdb_df.label.value_counts().plot(kind='bar', title='Distribución de etiquetas')"
      ],
      "metadata": {
        "id": "Gm8_fAINZ-KM",
        "colab": {
          "base_uri": "https://localhost:8080/",
          "height": 484
        },
        "outputId": "95eaf445-05c3-4153-d945-804664825b72"
      },
      "execution_count": 13,
      "outputs": [
        {
          "output_type": "execute_result",
          "data": {
            "text/plain": [
              "<Axes: title={'center': 'Distribución de etiquetas'}, xlabel='label'>"
            ]
          },
          "metadata": {},
          "execution_count": 13
        },
        {
          "output_type": "display_data",
          "data": {
            "text/plain": [
              "<Figure size 640x480 with 1 Axes>"
            ],
            "image/png": "[encoded data removed]"
          },
          "metadata": {}
        }
      ]
    },
    {
      "cell_type": "code",
      "source": [
        "imdb_df.columns"
      ],
      "metadata": {
        "id": "cKmgIGY9a-Sp",
        "colab": {
          "base_uri": "https://localhost:8080/"
        },
        "outputId": "339ba8ca-52c7-4d7e-e017-768946c91931"
      },
      "execution_count": 14,
      "outputs": [
        {
          "output_type": "execute_result",
          "data": {
            "text/plain": [
              "Index(['text', 'label'], dtype='object')"
            ]
          },
          "metadata": {},
          "execution_count": 14
        }
      ]
    },
    {
      "cell_type": "markdown",
      "source": [
        "# Análisis del Problema"
      ],
      "metadata": {
        "id": "Tn9KAOacbQpl"
      }
    },
    {
      "cell_type": "markdown",
      "source": [
        "### Objetivo"
      ],
      "metadata": {
        "id": "sR7LEfEWbyo9"
      }
    },
    {
      "cell_type": "markdown",
      "source": [
        "Desarrollar un método basado en redes neuronales recurrentes que permita\n",
        "clasificar con precisión las reseñas de películas en IMDb en una de las dos\n",
        "categorías: positiva o negativa."
      ],
      "metadata": {
        "id": "3WtEc-YXbZo4"
      }
    },
    {
      "cell_type": "markdown",
      "source": [
        "### Actividades por realizar"
      ],
      "metadata": {
        "id": "dMKdfVC8c8Uj"
      }
    },
    {
      "cell_type": "markdown",
      "source": [
        "1. **Preprocesamiento de las reseñas:** Construir un pipeline que permita limpiar y\n",
        "tokenizar las reseñas de texto, convirtiéndolas en secuencias numéricas\n",
        "utilizando embeddings (por ejemplo, Word2Vec o GloVe).\n",
        "\n",
        "2. **Desarrollo de la arquitectura de red neuronal recurrente:** Implementar una\n",
        "RNN (por ejemplo, LSTM o GRU) para la clasificación de las reseñas en dos\n",
        "categorías. La arquitectura de la red es de libre elección, pero se sugiere incluir\n",
        "capas de embedding, capas recurrentes y una capa densa de salida con\n",
        "activación sigmoide. Justificar la elección de cada capa del modelo.\n",
        "\n",
        "3. **Entrenamiento y evaluación del modelo:** Dividir el dataset en conjuntos de\n",
        "entrenamiento, validación y prueba. Entrenar el modelo utilizando el conjunto de\n",
        "entrenamiento y evaluar su rendimiento con el conjunto de prueba, reportando"
      ],
      "metadata": {
        "id": "sDl0pi1IdHUK"
      }
    },
    {
      "cell_type": "code",
      "source": [],
      "metadata": {
        "id": "hJAfI5Mbb3Ik"
      },
      "execution_count": 14,
      "outputs": []
    },
    {
      "cell_type": "markdown",
      "source": [
        "# Preprocesamiento de  las reseñas"
      ],
      "metadata": {
        "id": "KVukHn7NdPjB"
      }
    },
    {
      "cell_type": "markdown",
      "source": [
        "Vamos a utilizar Word2Vec como transformer y generar posteriormente un pipeline modular para trabajar con él.\n"
      ],
      "metadata": {
        "id": "tvfv46mBeg-o"
      }
    },
    {
      "cell_type": "code",
      "source": [
        "!pip uninstall -y numpy\n",
        "!pip install numpy==1.26.4 --force-reinstall"
      ],
      "metadata": {
        "colab": {
          "base_uri": "https://localhost:8080/"
        },
        "id": "5cvLSyKUXipS",
        "outputId": "abe9c4f7-bdcf-4688-8311-7e782b62f28c"
      },
      "execution_count": 15,
      "outputs": [
        {
          "output_type": "stream",
          "name": "stdout",
          "text": [
            "Found existing installation: numpy 1.26.4\n",
            "Uninstalling numpy-1.26.4:\n",
            "  Successfully uninstalled numpy-1.26.4\n",
            "Collecting numpy==1.26.4\n",
            "  Using cached numpy-1.26.4-cp311-cp311-manylinux_2_17_x86_64.manylinux2014_x86_64.whl.metadata (61 kB)\n",
            "Using cached numpy-1.26.4-cp311-cp311-manylinux_2_17_x86_64.manylinux2014_x86_64.whl (18.3 MB)\n",
            "Installing collected packages: numpy\n",
            "\u001b[31mERROR: pip's dependency resolver does not currently take into account all the packages that are installed. This behaviour is the source of the following dependency conflicts.\n",
            "thinc 8.3.6 requires numpy<3.0.0,>=2.0.0, but you have numpy 1.26.4 which is incompatible.\n",
            "tsfresh 0.21.0 requires scipy>=1.14.0; python_version >= \"3.10\", but you have scipy 1.13.1 which is incompatible.\u001b[0m\u001b[31m\n",
            "\u001b[0mSuccessfully installed numpy-1.26.4\n"
          ]
        }
      ]
    },
    {
      "cell_type": "code",
      "source": [
        "!pip install gensim --force-reinstall"
      ],
      "metadata": {
        "colab": {
          "base_uri": "https://localhost:8080/"
        },
        "id": "f7sndVrWYdoZ",
        "outputId": "3d1980a6-a566-40bb-a687-f568d7ddf9f9"
      },
      "execution_count": 16,
      "outputs": [
        {
          "output_type": "stream",
          "name": "stdout",
          "text": [
            "Collecting gensim\n",
            "  Using cached gensim-4.3.3-cp311-cp311-manylinux_2_17_x86_64.manylinux2014_x86_64.whl.metadata (8.1 kB)\n",
            "Collecting numpy<2.0,>=1.18.5 (from gensim)\n",
            "  Using cached numpy-1.26.4-cp311-cp311-manylinux_2_17_x86_64.manylinux2014_x86_64.whl.metadata (61 kB)\n",
            "Collecting scipy<1.14.0,>=1.7.0 (from gensim)\n",
            "  Using cached scipy-1.13.1-cp311-cp311-manylinux_2_17_x86_64.manylinux2014_x86_64.whl.metadata (60 kB)\n",
            "Collecting smart-open>=1.8.1 (from gensim)\n",
            "  Using cached smart_open-7.1.0-py3-none-any.whl.metadata (24 kB)\n",
            "Collecting wrapt (from smart-open>=1.8.1->gensim)\n",
            "  Using cached wrapt-1.17.2-cp311-cp311-manylinux_2_5_x86_64.manylinux1_x86_64.manylinux_2_17_x86_64.manylinux2014_x86_64.whl.metadata (6.4 kB)\n",
            "Using cached gensim-4.3.3-cp311-cp311-manylinux_2_17_x86_64.manylinux2014_x86_64.whl (26.7 MB)\n",
            "Using cached numpy-1.26.4-cp311-cp311-manylinux_2_17_x86_64.manylinux2014_x86_64.whl (18.3 MB)\n",
            "Using cached scipy-1.13.1-cp311-cp311-manylinux_2_17_x86_64.manylinux2014_x86_64.whl (38.6 MB)\n",
            "Using cached smart_open-7.1.0-py3-none-any.whl (61 kB)\n",
            "Using cached wrapt-1.17.2-cp311-cp311-manylinux_2_5_x86_64.manylinux1_x86_64.manylinux_2_17_x86_64.manylinux2014_x86_64.whl (83 kB)\n",
            "Installing collected packages: wrapt, numpy, smart-open, scipy, gensim\n",
            "  Attempting uninstall: wrapt\n",
            "    Found existing installation: wrapt 1.17.2\n",
            "    Uninstalling wrapt-1.17.2:\n",
            "      Successfully uninstalled wrapt-1.17.2\n",
            "  Attempting uninstall: numpy\n",
            "    Found existing installation: numpy 1.26.4\n",
            "    Uninstalling numpy-1.26.4:\n",
            "      Successfully uninstalled numpy-1.26.4\n",
            "  Attempting uninstall: smart-open\n",
            "    Found existing installation: smart-open 7.1.0\n",
            "    Uninstalling smart-open-7.1.0:\n",
            "      Successfully uninstalled smart-open-7.1.0\n",
            "  Attempting uninstall: scipy\n",
            "    Found existing installation: scipy 1.13.1\n",
            "    Uninstalling scipy-1.13.1:\n",
            "      Successfully uninstalled scipy-1.13.1\n",
            "  Attempting uninstall: gensim\n",
            "    Found existing installation: gensim 4.3.3\n",
            "    Uninstalling gensim-4.3.3:\n",
            "      Successfully uninstalled gensim-4.3.3\n",
            "\u001b[31mERROR: pip's dependency resolver does not currently take into account all the packages that are installed. This behaviour is the source of the following dependency conflicts.\n",
            "thinc 8.3.6 requires numpy<3.0.0,>=2.0.0, but you have numpy 1.26.4 which is incompatible.\n",
            "tsfresh 0.21.0 requires scipy>=1.14.0; python_version >= \"3.10\", but you have scipy 1.13.1 which is incompatible.\u001b[0m\u001b[31m\n",
            "\u001b[0mSuccessfully installed gensim-4.3.3 numpy-1.26.4 scipy-1.13.1 smart-open-7.1.0 wrapt-1.17.2\n"
          ]
        }
      ]
    },
    {
      "cell_type": "code",
      "source": [],
      "metadata": {
        "id": "Uqsb5k48Xcv1"
      },
      "execution_count": 16,
      "outputs": []
    },
    {
      "cell_type": "code",
      "source": [
        "import gensim.models.word2vec as w2v\n",
        "import multiprocessing"
      ],
      "metadata": {
        "id": "eqc7rJHDj10Y"
      },
      "execution_count": 17,
      "outputs": []
    },
    {
      "cell_type": "code",
      "source": [
        "import re\n",
        "import string\n",
        "import numpy as np\n",
        "import pandas as pd\n",
        "import torch\n",
        "import torch.nn as nn\n",
        "from torch.utils.data import Dataset, DataLoader\n",
        "from gensim.models import KeyedVectors\n",
        "import nltk\n",
        "from nltk.tokenize import word_tokenize\n",
        "from nltk.stem import WordNetLemmatizer\n",
        "from nltk.corpus import stopwords\n",
        "\n",
        "nltk.download('punkt')\n",
        "nltk.download('stopwords')\n",
        "nltk.download('wordnet')\n",
        "nltk.download('punkt_tab')"
      ],
      "metadata": {
        "id": "gIFKv8EYfGc6",
        "colab": {
          "base_uri": "https://localhost:8080/"
        },
        "outputId": "f563c16a-cb53-45a5-e061-81811d1225ab"
      },
      "execution_count": 18,
      "outputs": [
        {
          "output_type": "stream",
          "name": "stderr",
          "text": [
            "[nltk_data] Downloading package punkt to /root/nltk_data...\n",
            "[nltk_data]   Package punkt is already up-to-date!\n",
            "[nltk_data] Downloading package stopwords to /root/nltk_data...\n",
            "[nltk_data]   Package stopwords is already up-to-date!\n",
            "[nltk_data] Downloading package wordnet to /root/nltk_data...\n",
            "[nltk_data]   Package wordnet is already up-to-date!\n",
            "[nltk_data] Downloading package punkt_tab to /root/nltk_data...\n",
            "[nltk_data]   Package punkt_tab is already up-to-date!\n"
          ]
        },
        {
          "output_type": "execute_result",
          "data": {
            "text/plain": [
              "True"
            ]
          },
          "metadata": {},
          "execution_count": 18
        }
      ]
    },
    {
      "cell_type": "markdown",
      "source": [
        "# Clase de Preprocesamiento"
      ],
      "metadata": {
        "id": "Ote4Rgf0mQUJ"
      }
    },
    {
      "cell_type": "code",
      "source": [
        "class TextPreprocessor:\n",
        "    def __init__(self):\n",
        "        self.stop_words = set(stopwords.words('english'))\n",
        "        self.lemmatizer = WordNetLemmatizer()\n",
        "\n",
        "    def preprocess(self, text):\n",
        "        text = text.lower()\n",
        "        text = re.sub(r'\\d+', '', text)\n",
        "        text = text.translate(str.maketrans('', '', string.punctuation))\n",
        "        tokens = word_tokenize(text)\n",
        "        tokens = [self.lemmatizer.lemmatize(t) for t in tokens if t not in self.stop_words]\n",
        "        return tokens\n"
      ],
      "metadata": {
        "id": "cLQxSYF4mBcg"
      },
      "execution_count": 19,
      "outputs": []
    },
    {
      "cell_type": "markdown",
      "source": [
        "# Tokenización y Vocabulario"
      ],
      "metadata": {
        "id": "Up-24QwymV72"
      }
    },
    {
      "cell_type": "code",
      "source": [
        "class VocabBuilder():\n",
        "    def __init__(self, min_freq=1):\n",
        "        self.vocab = {'<PAD>': 0, '<UNK>': 1}\n",
        "\n",
        "    def build(self, tokenized_texts):\n",
        "        for tokens in tokenized_texts:\n",
        "            for token in tokens:\n",
        "                if token not in self.vocab:\n",
        "                    self.vocab[token] = len(self.vocab)\n",
        "        return self.vocab\n",
        "\n",
        "    def encode(self, tokens, max_len):\n",
        "        ids = [self.vocab.get(t, self.vocab['<UNK>']) for t in tokens]\n",
        "        ids = ids[:max_len] + [self.vocab['<PAD>']] * max(0, max_len - len(ids))\n",
        "        return ids"
      ],
      "metadata": {
        "id": "nK6-0xlPmKna"
      },
      "execution_count": 20,
      "outputs": []
    },
    {
      "cell_type": "markdown",
      "source": [
        "# Clase para crear los tensores para el dataset"
      ],
      "metadata": {
        "id": "X11_ZCOsneFU"
      }
    },
    {
      "cell_type": "code",
      "source": [
        "class PrepareDataset(Dataset):\n",
        "    def __init__(self, encoded_reviews, labels):\n",
        "        self.X = torch.tensor(encoded_reviews, dtype=torch.long)\n",
        "        self.y = torch.tensor(labels.tolist(), dtype=torch.float)\n",
        "\n",
        "    def __len__(self):\n",
        "        return len(self.y)\n",
        "\n",
        "    def __getitem__(self, idx):\n",
        "        return self.X[idx], self.y[idx]"
      ],
      "metadata": {
        "id": "RWlV7q-wnOgD"
      },
      "execution_count": 21,
      "outputs": []
    },
    {
      "cell_type": "markdown",
      "source": [
        "# Crear la matriz de Embeddings"
      ],
      "metadata": {
        "id": "a_c2nb0Yq1jf"
      }
    },
    {
      "cell_type": "code",
      "source": [
        "def build_embedding_matrix(w2v_model, vocab, embedding_dim):\n",
        "    matrix = np.random.normal(scale=0.6, size=(len(vocab), embedding_dim))\n",
        "    matrix[vocab['<PAD>']] = np.zeros(embedding_dim)\n",
        "    for word, idx in vocab.items():\n",
        "        if word in w2v_model:\n",
        "            matrix[idx] = w2v_model[word]\n",
        "    return torch.tensor(matrix, dtype=torch.float)\n"
      ],
      "metadata": {
        "id": "HMCpqE75qR2P"
      },
      "execution_count": 22,
      "outputs": []
    },
    {
      "cell_type": "markdown",
      "source": [
        "# Arquitectura RNN"
      ],
      "metadata": {
        "id": "wcIOBxkpqLk8"
      }
    },
    {
      "cell_type": "markdown",
      "source": [
        "### Justificación"
      ],
      "metadata": {
        "id": "OTeslIiY20oX"
      }
    },
    {
      "cell_type": "markdown",
      "source": [
        "En esta clase creamos una arquitectura RNN configurable. La arquitectura tiene las siguientes componentes:\n",
        "\n",
        "1. Parámetros de la red:\n",
        "\n",
        "*  **Un número de capas** que es configurable, pero por defecto tenemos una capa.\n",
        "*  **La direccionalidad de la red** también va a ser configurable. Por defecto es unidireccional. Esto nos va a servir para comparar qué conviene más para el análisis de sentimiento con RNN.\n",
        "\n",
        "* **El tipo de red RNN** es configurable y puede ser 'ltsm' o 'gru'. Esta configuración es configurable. Por defecto se utilizará ltsm y lo podremos cambiar dentro de las ablaciones para ver cuál nos conviene más para este caso de uso.\n",
        "\n",
        "2. Tipos de capas:\n",
        "\n",
        "Explicamos aquí los tipos de capas de la red, ya que van a ser configurables dentro de las ablaciones.\n",
        "\n",
        "*   **Una capa de embedding** la cual es la entrada al modelo y en la cual podemos recibir por parámetro, ya que podemos utilizar un modelo pre-entrenado y sus embeddings en un tamaño específico\n",
        "*   **Una serie de capas ocultas** cuya dimensión es configurable y esto nos servirá para configurarlo en nuestras ablaciones. El tipo de red y las dimensiones dependerán de los parámetros de la ablación en concreto.\n",
        "* **Una capa de salida sigmoide** dado que el problema es de clasificación binaria, esta capa nos permitirá generar la respuesta (Positiva/Negativa)\n",
        "\n",
        "\n",
        "\n",
        "\n",
        "\n",
        "\n",
        "---\n",
        "\n",
        "\n",
        "| Acrónimo | Significado            |\n",
        "| -------- | ---------------------- |\n",
        "| **LSTM** | Long Short-Term Memory |\n",
        "| **GRU**  | Gated Recurrent Unit   |\n",
        "\n",
        "\n"
      ],
      "metadata": {
        "id": "Yku5lEcs23RQ"
      }
    },
    {
      "cell_type": "code",
      "source": [],
      "metadata": {
        "id": "R4Q_Ejx398M8"
      },
      "execution_count": 22,
      "outputs": []
    },
    {
      "cell_type": "markdown",
      "source": [],
      "metadata": {
        "id": "lrSmr0H620ms"
      }
    },
    {
      "cell_type": "code",
      "source": [
        "class SentimentRNN(nn.Module):\n",
        "    def __init__(self, embedding_matrix, hidden_dim, num_layers=1, bidirectional=False, rnn_type='lstm', dropout=0.3):\n",
        "        super().__init__()\n",
        "        num_embeddings, emb_dim = embedding_matrix.shape\n",
        "        self.embedding = nn.Embedding.from_pretrained(embedding_matrix, freeze=True)\n",
        "\n",
        "        rnn_cls = nn.LSTM if rnn_type == 'lstm' else nn.GRU\n",
        "        self.rnn = rnn_cls(\n",
        "            input_size=emb_dim,\n",
        "            hidden_size=hidden_dim,\n",
        "            num_layers=num_layers,\n",
        "            batch_first=True,\n",
        "            bidirectional=bidirectional,\n",
        "            dropout=dropout if num_layers > 1 else 0.0\n",
        "        )\n",
        "\n",
        "        direction_factor = 2 if bidirectional else 1\n",
        "        self.dropout = nn.Dropout(dropout)\n",
        "        self.fc = nn.Linear(hidden_dim * direction_factor, 1)\n",
        "        self.sigmoid = nn.Sigmoid()\n",
        "\n",
        "    def forward(self, x):\n",
        "        embedded = self.embedding(x)\n",
        "        _, hidden = self.rnn(embedded)\n",
        "        if isinstance(hidden, tuple):  # LSTM\n",
        "            hidden = hidden[0]\n",
        "\n",
        "        if hidden.dim() == 3:\n",
        "            if self.rnn.bidirectional and hidden.shape[0] >= 2:\n",
        "                last_hidden = torch.cat((hidden[-2], hidden[-1]), dim=1)\n",
        "            else:\n",
        "                last_hidden = hidden[-1]\n",
        "        else:\n",
        "            last_hidden = hidden.squeeze(0)\n",
        "\n",
        "        return self.sigmoid(self.fc(self.dropout(last_hidden))).squeeze(1)\n",
        "\n",
        "\n",
        "    def extra_repr(self):\n",
        "        return f\"RNN(hidden_dim={self.rnn.hidden_size}, bidirectional={self.rnn.bidirectional})\"\n",
        "\n"
      ],
      "metadata": {
        "id": "zNkvgaeUqG7Y"
      },
      "execution_count": 23,
      "outputs": []
    },
    {
      "cell_type": "markdown",
      "source": [
        "# Clase que representa el Pipeline para Análisis de Sentimiento"
      ],
      "metadata": {
        "id": "TmhihvG8rLYJ"
      }
    },
    {
      "cell_type": "markdown",
      "source": [
        "Vamos a utilizar Optuna para encontrar los mejores hiperparámetros para la red y el modelo. Por otra parte, crearemos una clase que represente el pipeline, de tal manera que podemos cargar flexiblemente el modelo preentrenado y podamos configurar los modelos y arquitecturas para hacer las ablaciones y optimizaciones en cada caso."
      ],
      "metadata": {
        "id": "GJBVTwcttfgO"
      }
    },
    {
      "cell_type": "code",
      "source": [
        "!pip install optuna"
      ],
      "metadata": {
        "id": "yGL6ZPxvvVuL",
        "colab": {
          "base_uri": "https://localhost:8080/"
        },
        "outputId": "e324de09-7c46-453e-ba8d-5f1f845ef718"
      },
      "execution_count": 24,
      "outputs": [
        {
          "output_type": "stream",
          "name": "stdout",
          "text": [
            "Requirement already satisfied: optuna in /usr/local/lib/python3.11/dist-packages (4.3.0)\n",
            "Requirement already satisfied: alembic>=1.5.0 in /usr/local/lib/python3.11/dist-packages (from optuna) (1.15.2)\n",
            "Requirement already satisfied: colorlog in /usr/local/lib/python3.11/dist-packages (from optuna) (6.9.0)\n",
            "Requirement already satisfied: numpy in /usr/local/lib/python3.11/dist-packages (from optuna) (1.26.4)\n",
            "Requirement already satisfied: packaging>=20.0 in /usr/local/lib/python3.11/dist-packages (from optuna) (24.2)\n",
            "Requirement already satisfied: sqlalchemy>=1.4.2 in /usr/local/lib/python3.11/dist-packages (from optuna) (2.0.40)\n",
            "Requirement already satisfied: tqdm in /usr/local/lib/python3.11/dist-packages (from optuna) (4.67.1)\n",
            "Requirement already satisfied: PyYAML in /usr/local/lib/python3.11/dist-packages (from optuna) (6.0.2)\n",
            "Requirement already satisfied: Mako in /usr/lib/python3/dist-packages (from alembic>=1.5.0->optuna) (1.1.3)\n",
            "Requirement already satisfied: typing-extensions>=4.12 in /usr/local/lib/python3.11/dist-packages (from alembic>=1.5.0->optuna) (4.13.2)\n",
            "Requirement already satisfied: greenlet>=1 in /usr/local/lib/python3.11/dist-packages (from sqlalchemy>=1.4.2->optuna) (3.2.1)\n"
          ]
        }
      ]
    },
    {
      "cell_type": "code",
      "source": [
        "import optuna"
      ],
      "metadata": {
        "id": "1vlLirfcvQsX"
      },
      "execution_count": 25,
      "outputs": []
    },
    {
      "cell_type": "code",
      "source": [
        "from sklearn.metrics import accuracy_score, precision_score, recall_score, f1_score\n",
        "from sklearn.model_selection import train_test_split"
      ],
      "metadata": {
        "id": "C3Qr6jZJyHz3"
      },
      "execution_count": 26,
      "outputs": []
    },
    {
      "cell_type": "code",
      "source": [
        "import matplotlib.pyplot as plt"
      ],
      "metadata": {
        "id": "MfbZ2F9a8D0l"
      },
      "execution_count": 27,
      "outputs": []
    },
    {
      "cell_type": "code",
      "source": [
        "import matplotlib.ticker as mtick"
      ],
      "metadata": {
        "id": "iDN4D7Dc21PV"
      },
      "execution_count": 28,
      "outputs": []
    },
    {
      "cell_type": "code",
      "source": [
        "from tqdm import tqdm"
      ],
      "metadata": {
        "id": "C8fgZBLQgDpX"
      },
      "execution_count": 29,
      "outputs": []
    },
    {
      "cell_type": "code",
      "source": [
        "import nltk"
      ],
      "metadata": {
        "id": "q8mUl2FOa09M"
      },
      "execution_count": 30,
      "outputs": []
    },
    {
      "cell_type": "code",
      "source": [
        "from sklearn.metrics import classification_report, confusion_matrix, ConfusionMatrixDisplay"
      ],
      "metadata": {
        "id": "v7tKsVQb2E8S"
      },
      "execution_count": 31,
      "outputs": []
    },
    {
      "cell_type": "code",
      "source": [
        "import torch\n",
        "import torch.nn as nn\n",
        "from torch.utils.data import DataLoader\n",
        "from torch import optim"
      ],
      "metadata": {
        "id": "aHjQJhAX5uPc"
      },
      "execution_count": 32,
      "outputs": []
    },
    {
      "cell_type": "code",
      "source": [
        "class SentimentPipeline:\n",
        "    def __init__(self, w2v_model, embedding_dim=300, max_len=50, search_space=None, default_archs=None, default_hparams=None):\n",
        "      self.preprocessor = TextPreprocessor()\n",
        "      self.tokenizer = VocabBuilder()\n",
        "      self.max_len = max_len\n",
        "      self.embedding_dim = embedding_dim\n",
        "      self.w2v = w2v_model\n",
        "      self.model = None\n",
        "      self.vocab = None\n",
        "      self.search_space = search_space\n",
        "      self.default_archs = default_archs\n",
        "      self.default_hparams = default_hparams\n",
        "      self.study = None\n",
        "      self.best_params = None\n",
        "      self.best_score = None\n",
        "      self.best_model = None\n",
        "      self.results = []\n",
        "      self.best_result = None\n",
        "\n",
        "        # Espacio de búsqueda de hiperparámetros (por defecto)\n",
        "      self.search_space = search_space or {\n",
        "          \"hidden_dim\": (32, 128),\n",
        "          \"lr\": (1e-4, 1e-2),\n",
        "          \"freeze\": [True, False]\n",
        "      }\n",
        "\n",
        "      # Arquitecturas por defecto para ablación\n",
        "      self.default_archs = default_archs or [\n",
        "          {\"rnn_type\": \"gru\", \"num_layers\": 1, \"bidirectional\": False},\n",
        "          {\"rnn_type\": \"gru\", \"num_layers\": 2, \"bidirectional\": True},\n",
        "          {\"rnn_type\": \"lstm\", \"num_layers\": 1, \"bidirectional\": False}\n",
        "      ]\n",
        "\n",
        "      # Hiperparámetros fijos por defecto\n",
        "      self.default_hparams = default_hparams or {\n",
        "          \"n_trials\": 5,\n",
        "          \"epochs\": 3,\n",
        "          \"batch_size\": 4\n",
        "      }\n",
        "      return None\n",
        "\n",
        "    def preprocess_and_tokenize(self, df, build_vocab=True):\n",
        "        df['tokens'] = df['text'].apply(self.preprocessor.preprocess)\n",
        "        if build_vocab:\n",
        "            self.vocab = self.tokenizer.build(df['tokens'])\n",
        "        df['encoded'] = df['tokens'].apply(lambda x: self.tokenizer.encode(x, self.max_len))\n",
        "        return df\n",
        "\n",
        "    def create_dataset(self, df):\n",
        "      return PrepareDataset(df['encoded'].tolist(), df['label'])\n",
        "\n",
        "    def train_test_split(self, df, test_size=0.2):\n",
        "      return train_test_split(df, test_size=test_size, stratify=df['label'], random_state=42)\n",
        "\n",
        "\n",
        "\n",
        "    def evaluate(self, dataset, device=None):\n",
        "        device = device or torch.device(\"cuda\" if torch.cuda.is_available() else \"cpu\")\n",
        "        print(f\"Evaluating on device: {device}\")\n",
        "        dataloader = DataLoader(dataset, batch_size=2)\n",
        "        self.model.eval()\n",
        "        all_preds = []\n",
        "        all_labels = []\n",
        "        with torch.no_grad():\n",
        "            for X_batch, y_batch in dataloader:\n",
        "                X_batch = X_batch.to(device)\n",
        "                y_batch = y_batch.to(device)\n",
        "                preds = self.model(X_batch)\n",
        "                predicted = (preds >= 0.5).float()\n",
        "                all_preds.extend(predicted.tolist())\n",
        "                all_labels.extend(y_batch.tolist())\n",
        "\n",
        "        acc = accuracy_score(all_labels, all_preds)\n",
        "        prec = precision_score(all_labels, all_preds)\n",
        "        rec = recall_score(all_labels, all_preds)\n",
        "        f1 = f1_score(all_labels, all_preds)\n",
        "\n",
        "        print(f\"Accuracy:  {acc:.2f}\")\n",
        "        print(f\"Precision: {prec:.2f}\")\n",
        "        print(f\"Recall:    {rec:.2f}\")\n",
        "        print(f\"F1-score:  {f1:.2f}\")\n",
        "\n",
        "        return {\"accuracy\": acc, \"precision\": prec, \"recall\": rec, \"f1\": f1}\n",
        "\n",
        "    def train(self, dataset, hidden_dim=64, lr=0.001, freeze=True, epochs=3,\n",
        "        num_layers=1, bidirectional=False, rnn_type='lstm',\n",
        "        batch_size=4, dropout=0.3, device=None):\n",
        "\n",
        "\n",
        "\n",
        "      device = device or torch.device(\"cuda\" if torch.cuda.is_available() else \"cpu\")\n",
        "      print(f\"Training on device: {device}\")\n",
        "\n",
        "      dataloader = DataLoader(dataset, batch_size=batch_size, shuffle=True)\n",
        "\n",
        "      embedding_matrix = build_embedding_matrix(self.w2v, self.vocab, self.embedding_dim)\n",
        "\n",
        "      # Asegurar compatibilidad bidireccional\n",
        "      if bidirectional and hidden_dim % 2 != 0:\n",
        "          print(f\"Adjusted hidden_dim from {hidden_dim} to {hidden_dim + 1} for bidirectionality.\")\n",
        "          hidden_dim += 1\n",
        "\n",
        "      # Crear el modelo con dropout configurable\n",
        "      self.model = SentimentRNN(\n",
        "          embedding_matrix,\n",
        "          hidden_dim=hidden_dim,\n",
        "          num_layers=num_layers,\n",
        "          bidirectional=bidirectional,\n",
        "          rnn_type=rnn_type,\n",
        "          dropout=dropout if num_layers > 1 else 0.0\n",
        "      ).to(device)\n",
        "\n",
        "      self.model.embedding.weight.requires_grad = not freeze\n",
        "\n",
        "      optimizer = optim.Adam(self.model.parameters(), lr=lr)\n",
        "      criterion = nn.BCELoss()\n",
        "\n",
        "      self.model.train()\n",
        "      for epoch in range(epochs):\n",
        "          total_loss = 0\n",
        "          correct = 0\n",
        "          total = 0\n",
        "\n",
        "          for X_batch, y_batch in dataloader:\n",
        "              X_batch, y_batch = X_batch.to(device), y_batch.to(device)\n",
        "              optimizer.zero_grad()\n",
        "              preds = self.model(X_batch)\n",
        "              loss = criterion(preds, y_batch)\n",
        "              loss.backward()\n",
        "              optimizer.step()\n",
        "\n",
        "              total_loss += loss.item()\n",
        "              predicted = (preds >= 0.5).float()\n",
        "              correct += (predicted == y_batch).sum().item()\n",
        "              total += y_batch.size(0)\n",
        "\n",
        "          acc = correct / total\n",
        "          print(f\"Epoch {epoch + 1} | Loss: {total_loss:.4f} | Accuracy: {acc:.2f}\")\n",
        "\n",
        "\n",
        "\n",
        "    def evaluate_model(self, model, dataset, batch_size):\n",
        "      dataloader = DataLoader(dataset, batch_size=batch_size)\n",
        "      model.eval()\n",
        "      all_preds, all_labels = [], []\n",
        "      with torch.no_grad():\n",
        "          for X_batch, y_batch in dataloader:\n",
        "              preds = model(X_batch)\n",
        "              predicted = (preds >= 0.5).float()\n",
        "              all_preds.extend(predicted.tolist())\n",
        "              all_labels.extend(y_batch.tolist())\n",
        "      f1 = f1_score(all_labels, all_preds)\n",
        "      return f1\n",
        "\n",
        "    def predict(self, text, device=None):\n",
        "        device = device or torch.device(\"cuda\" if torch.cuda.is_available() else \"cpu\")\n",
        "        print(f\"Predicting on device: {device}\")\n",
        "        tokens = self.preprocessor.preprocess(text)\n",
        "        encoded = self.tokenizer.encode(tokens, self.max_len)\n",
        "        input_tensor = torch.tensor([encoded], dtype=torch.long).to(device)\n",
        "        self.model.eval()\n",
        "        with torch.no_grad():\n",
        "            output = self.model(input_tensor)\n",
        "        return \"Positive\" if output.item() >= 0.5 else \"Negative\"\n",
        "\n",
        "    def optimize(self, df, n_trials=10):\n",
        "      df_train, df_val = train_test_split(df, test_size=0.2, random_state=42)\n",
        "      df_train = self.preprocess_and_tokenize(df_train, build_vocab=True)\n",
        "      df_val = self.preprocess_and_tokenize(df_val, build_vocab=False)\n",
        "\n",
        "      train_dataset = self.create_dataset(df_train)\n",
        "      val_dataset = self.create_dataset(df_val)\n",
        "\n",
        "      def objective(trial):\n",
        "          hidden_dim = trial.suggest_int(\"hidden_dim\", 32, 256)\n",
        "          lr = trial.suggest_float(\"lr\", 1e-4, 1e-2, log=True)\n",
        "          freeze = trial.suggest_categorical(\"freeze\", [True, False])\n",
        "          dropout = trial.suggest_float(\"dropout\", 0.1, 0.5)\n",
        "          num_layers = trial.suggest_int(\"num_layers\", 1, 3)\n",
        "          bidirectional = trial.suggest_categorical(\"bidirectional\", [True, False])\n",
        "          rnn_type = trial.suggest_categorical(\"rnn_type\", [\"gru\", \"lstm\"])\n",
        "\n",
        "          self.train(\n",
        "              train_dataset,\n",
        "              hidden_dim=hidden_dim,\n",
        "              lr=lr,\n",
        "              freeze=freeze,\n",
        "              dropout=dropout,\n",
        "              num_layers=num_layers,\n",
        "              bidirectional=bidirectional,\n",
        "              rnn_type=rnn_type,\n",
        "              epochs=3,\n",
        "              batch_size=4\n",
        "          )\n",
        "\n",
        "          metrics = self.evaluate(val_dataset)\n",
        "          return metrics[\"f1\"]  # Optimizamos F1\n",
        "\n",
        "      study = optuna.create_study(direction=\"maximize\")\n",
        "      study.optimize(objective, n_trials=n_trials)\n",
        "\n",
        "      print(\" Mejores hiperparámetros encontrados:\")\n",
        "      print(study.best_params)\n",
        "\n",
        "      # Guardar configuración completa\n",
        "      self.best_config = {\n",
        "          **study.best_params,\n",
        "          \"batch_size\": 4,\n",
        "          \"epochs\": 3\n",
        "      }\n",
        "      self.best_model = self.model\n",
        "      return study.best_params\n",
        "\n",
        "\n",
        "\n",
        "    def run_ablation(self, df, configs, visualize=False, parallel=False):\n",
        "        import concurrent.futures\n",
        "        from functools import partial\n",
        "\n",
        "        device = torch.device(\"cuda\" if torch.cuda.is_available() else \"cpu\")\n",
        "\n",
        "        df_train, df_val = self.train_test_split(df)\n",
        "        df_train = self.preprocess_and_tokenize(df_train, build_vocab=True)\n",
        "        df_val = self.preprocess_and_tokenize(df_val, build_vocab=False)\n",
        "        train_dataset = self.create_dataset(df_train)\n",
        "        val_dataset = self.create_dataset(df_val)\n",
        "\n",
        "        def run_config(config):\n",
        "            print(f\"\\nProbando Configuración: {config}\")\n",
        "            self.train(\n",
        "                train_dataset,\n",
        "                hidden_dim=self.search_space.get(\"hidden_dim\", 64),\n",
        "                lr=self.default_hparams.get(\"lr\", 0.001),\n",
        "                freeze=self.default_hparams.get(\"freeze\", True),\n",
        "                epochs=self.default_hparams.get(\"epochs\", 5),\n",
        "                num_layers=config.get(\"num_layers\", 1),\n",
        "                bidirectional=config.get(\"bidirectional\", False),\n",
        "                rnn_type=config.get(\"rnn_type\", \"lstm\"),\n",
        "                dropout=config.get(\"dropout\", 0.3),\n",
        "                batch_size=self.default_hparams.get(\"batch_size\", 4),\n",
        "                device=device\n",
        "            )\n",
        "            metrics = self.evaluate(val_dataset, device=device)\n",
        "            return {\"config\": config, **metrics}\n",
        "\n",
        "        if parallel:\n",
        "            with concurrent.futures.ProcessPoolExecutor() as executor:\n",
        "                results = list(tqdm(executor.map(partial(run_config), configs), total=len(configs), desc=\"Corriendo ablación en paralelo\"))\n",
        "        else:\n",
        "            results = [run_config(config) for config in tqdm(configs, desc=\"Corriendo Ablación\")]\n",
        "\n",
        "        results = sorted(results, key=lambda r: r['f1'], reverse=True)\n",
        "\n",
        "        if visualize:\n",
        "            self.visualize_results(results)\n",
        "\n",
        "        return results\n",
        "\n",
        "\n",
        "    def visualize_results(self, results):\n",
        "        import matplotlib.pyplot as plt\n",
        "        import matplotlib.ticker as mtick\n",
        "\n",
        "        if not results:\n",
        "            print(\"No hay resultados para visualizar.\")\n",
        "            return\n",
        "\n",
        "        df = pd.DataFrame(results)\n",
        "        #df['label'] = df['architecture'].apply(lambda x: f\"{x['rnn_type']}-{x['num_layers']}x{'bi' if x['bidirectional'] else 'uni'}\")\n",
        "        df = df.sort_values(by=\"f1\", ascending=False)\n",
        "\n",
        "        plt.figure(figsize=(10, 5))\n",
        "        bars = plt.bar(df['label'], df['f1'], color='skyblue')\n",
        "        plt.title(\"F1-score por arquitectura optimizada\")\n",
        "        plt.ylabel(\"F1-score\")\n",
        "        plt.ylim(0, 1)\n",
        "        plt.gca().yaxis.set_major_formatter(mtick.PercentFormatter(1.0))\n",
        "        plt.xticks(rotation=45)\n",
        "\n",
        "        for bar, f1 in zip(bars, df['f1']):\n",
        "            plt.text(bar.get_x() + bar.get_width()/2, bar.get_height(), f\"{f1:.2f}\", ha='center', va='bottom')\n",
        "\n",
        "        plt.tight_layout()\n",
        "        plt.show()\n",
        "\n",
        "    def optimize_from_ablation(self, df, ablated_archs, n_trials=5, epochs=3, save_path=None, batch_size=2):\n",
        "        import time\n",
        "        if not hasattr(self.w2v, '__contains__'):\n",
        "            raise TypeError(\"El modelo de embeddings proporcionado no es válido. Asegúrate de usar api.load(...) y no el módulo gensim.downloader.\")\n",
        "\n",
        "        df_train, df_val = self.train_test_split(df)\n",
        "        df_train = self.preprocess_and_tokenize(df_train, build_vocab=True)\n",
        "        df_val = self.preprocess_and_tokenize(df_val, build_vocab=False)\n",
        "        train_dataset = self.create_dataset(df_train)\n",
        "        val_dataset = self.create_dataset(df_val)\n",
        "\n",
        "        all_results = []\n",
        "\n",
        "        for arch in tqdm(ablated_archs, desc=\"Architectures\"):\n",
        "            print(f\"\\nOptimizing for architecture: {arch}\")\n",
        "\n",
        "            def objective(trial):\n",
        "                hidden_dim = trial.suggest_int(\"hidden_dim\", 32, 128)\n",
        "                lr = trial.suggest_float(\"lr\", 1e-4, 1e-2, log=True)\n",
        "                freeze = trial.suggest_categorical(\"freeze\", [True, False])\n",
        "\n",
        "                model = self.train_model(\n",
        "                    train_dataset,\n",
        "                    hidden_dim=hidden_dim,\n",
        "                    lr=lr,\n",
        "                    freeze=freeze,\n",
        "                    epochs=epochs,\n",
        "                    num_layers=arch[\"num_layers\"],\n",
        "                    bidirectional=arch[\"bidirectional\"],\n",
        "                    rnn_type=arch[\"rnn_type\"],\n",
        "                    dropout=arch[\"dropout\"],\n",
        "                    batch_size=batch_size\n",
        "                )\n",
        "                f1 = self.evaluate_model(model, val_dataset, batch_size=batch_size)\n",
        "                return f1\n",
        "\n",
        "            start_time = time.time()\n",
        "            study = optuna.create_study(direction=\"maximize\")\n",
        "            study.optimize(objective, n_trials=n_trials, show_progress_bar=True)\n",
        "            elapsed_time = time.time() - start_time\n",
        "\n",
        "            best_params = study.best_params\n",
        "            best_score = study.best_value\n",
        "\n",
        "            result = {\n",
        "               # \"architecture\": arch,\n",
        "                **best_params,\n",
        "                \"f1\": best_score,\n",
        "                \"time_sec\": round(elapsed_time, 2)\n",
        "            }\n",
        "            all_results.append(result)\n",
        "            print(f\"Mejor resultado para la arquitectura {arch}: {result}\")\n",
        "\n",
        "        if save_path:\n",
        "            pd.DataFrame(all_results).to_csv(save_path, index=False)\n",
        "            print(f\"Resultados guardados en: {save_path}\")\n",
        "\n",
        "        return all_results\n",
        "\n",
        "    def visualize_ablation_results(self,results):\n",
        "\n",
        "      if not results:\n",
        "          print(\"No hay resultados para visualizar.\")\n",
        "          return\n",
        "\n",
        "      df = pd.DataFrame(results)\n",
        "      df['label'] = df['config'].apply(lambda cfg: f\"{cfg.get('rnn_type', '')}-{cfg.get('num_layers', '')}x{'bi' if cfg.get('bidirectional', False) else 'uni'}\")\n",
        "\n",
        "      df = df.sort_values(by=\"f1\", ascending=False)\n",
        "\n",
        "      plt.figure(figsize=(10, 5))\n",
        "      bars = plt.bar(df['label'], df['f1'], color='skyblue')\n",
        "      plt.title(\"F1-score por configuración (ablation)\")\n",
        "      plt.ylabel(\"F1-score\")\n",
        "      plt.ylim(0, 1)\n",
        "      plt.gca().yaxis.set_major_formatter(mtick.PercentFormatter(1.0))\n",
        "      plt.xticks(rotation=45)\n",
        "\n",
        "      for bar, f1 in zip(bars, df['f1']):\n",
        "          plt.text(bar.get_x() + bar.get_width()/2, bar.get_height(), f\"{f1:.2f}\", ha='center', va='bottom')\n",
        "\n",
        "      plt.tight_layout()\n",
        "      plt.show()\n",
        "\n",
        "    def run_and_compare(self, df, configs, epochs=3, batch_size=4):\n",
        "        \"\"\"\n",
        "        Ejecuta el pipeline para cada configuración y guarda métricas.\n",
        "        \"\"\"\n",
        "        df_train, df_val = self.train_test_split(df)\n",
        "        df_train = self.preprocess_and_tokenize(df_train, build_vocab=True)\n",
        "        df_val = self.preprocess_and_tokenize(df_val, build_vocab=False)\n",
        "        train_dataset = self.create_dataset(df_train)\n",
        "        val_dataset = self.create_dataset(df_val)\n",
        "\n",
        "        device = torch.device(\"cuda\" if torch.cuda.is_available() else \"cpu\")\n",
        "        print(f\"Running on device: {device}\")\n",
        "\n",
        "        results = []\n",
        "        best_score = -1\n",
        "        best_model = None\n",
        "        best_config = None\n",
        "\n",
        "        for cfg in configs:\n",
        "            print(f\"\\nProbando configuración: {cfg}\")\n",
        "            hidden_dim = cfg.get(\"hidden_dim\", 64)\n",
        "\n",
        "            if cfg.get(\"bidirectional\") and hidden_dim % 2 != 0:\n",
        "                print(f\"hidden_dim ajustado de {hidden_dim} a {hidden_dim + 1}\")\n",
        "                hidden_dim += 1\n",
        "\n",
        "            self.train(\n",
        "                train_dataset,\n",
        "                hidden_dim=hidden_dim,\n",
        "                lr=cfg.get(\"lr\", 0.001),\n",
        "                freeze=cfg.get(\"freeze\", True),\n",
        "                epochs=epochs,\n",
        "                num_layers=cfg.get(\"num_layers\", 1),\n",
        "                bidirectional=cfg.get(\"bidirectional\", False),\n",
        "                rnn_type=cfg.get(\"rnn_type\", \"lstm\"),\n",
        "                dropout=cfg.get(\"dropout\", 0.3),\n",
        "                batch_size=batch_size,\n",
        "                device=device\n",
        "            )\n",
        "\n",
        "            metrics = self.evaluate(val_dataset, device=device)\n",
        "            metrics[\"config\"] = cfg\n",
        "            results.append(metrics)\n",
        "\n",
        "            if metrics[\"f1\"] > best_score:\n",
        "                best_score = metrics[\"f1\"]\n",
        "                best_model = self.model\n",
        "                best_config = cfg\n",
        "\n",
        "        self.plot_comparison(results)\n",
        "\n",
        "        return {\n",
        "            \"results\": results,\n",
        "            \"best_model\": best_model,\n",
        "            \"best_config\": best_config\n",
        "        }\n",
        "\n",
        "    def evaluate_with_confusion(self, dataset, device=None):\n",
        "      device = device or torch.device(\"cuda\" if torch.cuda.is_available() else \"cpu\")\n",
        "      print(f\"Evaluating on device: {device}\")\n",
        "\n",
        "      dataloader = DataLoader(dataset, batch_size=2)\n",
        "      self.model.eval()\n",
        "      all_preds = []\n",
        "      all_labels = []\n",
        "\n",
        "      with torch.no_grad():\n",
        "          for X_batch, y_batch in dataloader:\n",
        "              X_batch, y_batch = X_batch.to(device), y_batch.to(device)\n",
        "              preds = self.model(X_batch)\n",
        "              predicted = (preds >= 0.5).float()\n",
        "              all_preds.extend(predicted.cpu().numpy())\n",
        "              all_labels.extend(y_batch.cpu().numpy())\n",
        "\n",
        "      print(classification_report(all_labels, all_preds))\n",
        "      cm = confusion_matrix(all_labels, all_preds)\n",
        "      disp = ConfusionMatrixDisplay(confusion_matrix=cm)\n",
        "      disp.plot()\n",
        "\n",
        "    def plot_comparison(self, results):\n",
        "        import matplotlib.pyplot as plt\n",
        "        import pandas as pd\n",
        "\n",
        "        if not results:\n",
        "            print(\"No hay resultados para graficar.\")\n",
        "            return\n",
        "\n",
        "        # Convertir resultados a DataFrame\n",
        "        df = pd.DataFrame(results)\n",
        "        df[\"config_str\"] = df[\"config\"].apply(\n",
        "            lambda cfg: f\"{cfg['rnn_type']}-{cfg['num_layers']}x{'bi' if cfg['bidirectional'] else 'uni'}\"\n",
        "        )\n",
        "\n",
        "        metrics = [\"accuracy\", \"f1\", \"recall\", \"precision\"]\n",
        "        x_labels = df[\"config_str\"]\n",
        "        x = range(len(x_labels))\n",
        "        width = 0.2\n",
        "\n",
        "        plt.figure(figsize=(12, 6))\n",
        "        for i, metric in enumerate(metrics):\n",
        "            values = df[metric]\n",
        "            bar_positions = [p + i * width for p in x]\n",
        "            plt.bar(bar_positions, values, width=width, label=metric)\n",
        "\n",
        "        plt.xticks([p + width * 1.5 for p in x], x_labels, rotation=45)\n",
        "        plt.ylabel(\"Score\")\n",
        "        plt.ylim(0, 1.05)\n",
        "        plt.title(\"Comparación de métricas por arquitectura\")\n",
        "        plt.legend()\n",
        "        plt.grid(axis='y', linestyle='--', alpha=0.6)\n",
        "        plt.tight_layout()\n",
        "        plt.show()\n",
        "\n",
        "        # Guardar como atributo del pipeline\n",
        "        self.last_comparison_df = df\n",
        "\n",
        "\n"
      ],
      "metadata": {
        "id": "4w_iw7ujrTYQ"
      },
      "execution_count": 37,
      "outputs": []
    },
    {
      "cell_type": "markdown",
      "source": [
        "# Entrenamiento del modelo con el Pipeline"
      ],
      "metadata": {
        "id": "nJvTGt4AwR2T"
      }
    },
    {
      "cell_type": "code",
      "source": [
        "df = imdb_df.copy()"
      ],
      "metadata": {
        "id": "WNg_UajjxcOh"
      },
      "execution_count": 34,
      "outputs": []
    },
    {
      "cell_type": "markdown",
      "source": [
        "Bajamos el modelo pre-entrenado de glove para agregar nuestro entrenamiento posteriormente."
      ],
      "metadata": {
        "id": "-uHEbxjOywaR"
      }
    },
    {
      "cell_type": "code",
      "source": [
        "import gensim.downloader as api\n",
        "w2v= api.load(\"glove-wiki-gigaword-100\")  # 130 MB"
      ],
      "metadata": {
        "id": "nxza2VWXyqmG"
      },
      "execution_count": 35,
      "outputs": []
    },
    {
      "cell_type": "markdown",
      "source": [
        "Utilizamos el modelo Glove para utilizar con 100 dimensiones de embedding (esto va en nuestros parámetros del pipeline). Dado que encontrar los mejores parámetros con optuna nos está tardando demasiado, vamos hacer dos \"trials\". Con estos esperamos optimizar los hiperparámetros y Hemos equipado al pipeline con un método para correr la ablación, el cual estaremos utilizando más adelante."
      ],
      "metadata": {
        "id": "KUbmXBRu8OgZ"
      }
    },
    {
      "cell_type": "code",
      "source": [
        "# 1. Inicializar pipeline\n",
        "pipeline = SentimentPipeline(w2v_model=w2v, embedding_dim=100, max_len=50)\n",
        "\n",
        "# 2. Buscar mejores hiperparámetros\n",
        "best_params = pipeline.optimize(df, n_trials=2)\n",
        "\n"
      ],
      "metadata": {
        "id": "5HYovZepwbNR",
        "colab": {
          "base_uri": "https://localhost:8080/"
        },
        "outputId": "c0b4fd36-af60-41d3-fcd7-54d6a87990b5"
      },
      "execution_count": 38,
      "outputs": [
        {
          "output_type": "stream",
          "name": "stderr",
          "text": [
            "[I 2025-05-13 18:57:08,861] A new study created in memory with name: no-name-d32447c2-d725-4197-834f-4a392dbdae53\n"
          ]
        },
        {
          "output_type": "stream",
          "name": "stdout",
          "text": [
            "Training on device: cuda\n",
            "Epoch 1 | Loss: 3466.9128 | Accuracy: 0.79\n",
            "Epoch 2 | Loss: 1733.8123 | Accuracy: 0.92\n",
            "Epoch 3 | Loss: 717.7205 | Accuracy: 0.97\n",
            "Evaluating on device: cuda\n"
          ]
        },
        {
          "output_type": "stream",
          "name": "stderr",
          "text": [
            "[I 2025-05-13 19:00:11,722] Trial 0 finished with value: 0.8163365727641776 and parameters: {'hidden_dim': 34, 'lr': 0.0014378372074395109, 'freeze': False, 'dropout': 0.11370806346918037, 'num_layers': 2, 'bidirectional': True, 'rnn_type': 'lstm'}. Best is trial 0 with value: 0.8163365727641776.\n"
          ]
        },
        {
          "output_type": "stream",
          "name": "stdout",
          "text": [
            "Accuracy:  0.81\n",
            "Precision: 0.79\n",
            "Recall:    0.84\n",
            "F1-score:  0.82\n",
            "Training on device: cuda\n",
            "Epoch 1 | Loss: 4073.4347 | Accuracy: 0.75\n",
            "Epoch 2 | Loss: 2280.8474 | Accuracy: 0.88\n",
            "Epoch 3 | Loss: 1189.2287 | Accuracy: 0.95\n",
            "Evaluating on device: cuda\n"
          ]
        },
        {
          "output_type": "stream",
          "name": "stderr",
          "text": [
            "[I 2025-05-13 19:02:52,104] Trial 1 finished with value: 0.7888467076842519 and parameters: {'hidden_dim': 84, 'lr': 0.0010280292129417384, 'freeze': False, 'dropout': 0.2670401734930037, 'num_layers': 2, 'bidirectional': False, 'rnn_type': 'lstm'}. Best is trial 0 with value: 0.8163365727641776.\n"
          ]
        },
        {
          "output_type": "stream",
          "name": "stdout",
          "text": [
            "Accuracy:  0.80\n",
            "Precision: 0.82\n",
            "Recall:    0.76\n",
            "F1-score:  0.79\n",
            " Mejores hiperparámetros encontrados:\n",
            "{'hidden_dim': 34, 'lr': 0.0014378372074395109, 'freeze': False, 'dropout': 0.11370806346918037, 'num_layers': 2, 'bidirectional': True, 'rnn_type': 'lstm'}\n"
          ]
        }
      ]
    },
    {
      "cell_type": "markdown",
      "source": [
        "Aunque en cada ejecución hemos visto que los \"trials\" ejecutan parámetros diferentes, quisimos guardar esta ejecución que funcionó particularmente bien al primer intento:\n",
        "\n",
        "\n",
        "```\n",
        "[I 2025-05-13 11:37:25,905] A new study created in memory with name: no-name-4fe41a2d-b69c-41e6-9b1d-30361e162e6c\n",
        "Training on device: cuda\n",
        "Epoch 1 | Loss: 3375.3602 | Accuracy: 0.80\n",
        "Epoch 2 | Loss: 1681.8996 | Accuracy: 0.92\n",
        "Epoch 3 | Loss: 544.4200 | Accuracy: 0.98\n",
        "Evaluating on device: cuda\n",
        "[I 2025-05-13 11:40:25,239] Trial 0 finished with value: 0.8155219439623109 and parameters: {'hidden_dim': 113, 'lr': 0.0011521998363690483, 'freeze': False, 'rnn_type': 'gru', 'num_layers': 2, 'bidirectional': True}. Best is trial 0 with value: 0.8155219439623109.\n",
        "Accuracy:  0.81\n",
        "Precision: 0.81\n",
        "Recall:    0.83\n",
        "F1-score:  0.82\n",
        "```\n",
        "\n"
      ],
      "metadata": {
        "id": "-PQd9RfwCFq8"
      }
    },
    {
      "cell_type": "code",
      "source": [
        "best_params"
      ],
      "metadata": {
        "colab": {
          "base_uri": "https://localhost:8080/"
        },
        "id": "k-6NgUuAkAUu",
        "outputId": "be8818aa-c604-4dc0-8c53-8436951f58de"
      },
      "execution_count": 39,
      "outputs": [
        {
          "output_type": "execute_result",
          "data": {
            "text/plain": [
              "{'hidden_dim': 34,\n",
              " 'lr': 0.0014378372074395109,\n",
              " 'freeze': False,\n",
              " 'dropout': 0.11370806346918037,\n",
              " 'num_layers': 2,\n",
              " 'bidirectional': True,\n",
              " 'rnn_type': 'lstm'}"
            ]
          },
          "metadata": {},
          "execution_count": 39
        }
      ]
    },
    {
      "cell_type": "markdown",
      "source": [
        "En estas celdas entrenamos el modelo con los mejores parámetros encontrados."
      ],
      "metadata": {
        "id": "daeIJbS03j02"
      }
    },
    {
      "cell_type": "code",
      "source": [
        "# 3. Preprocesar, codificar y crear dataset\n",
        "df = pipeline.preprocess_and_tokenize(df)\n",
        "dataset = pipeline.create_dataset(df)\n",
        "\n",
        "# 4. Entrenar modelo con mejores parámetros\n",
        "pipeline.train(\n",
        "    dataset,\n",
        "    hidden_dim=best_params[\"hidden_dim\"],\n",
        "    lr=best_params[\"lr\"],\n",
        "    num_layers=best_params[\"num_layers\"],\n",
        "    bidirectional=best_params[\"bidirectional\"],\n",
        "    rnn_type=best_params[\"rnn_type\"],\n",
        "    freeze=best_params[\"freeze\"],\n",
        "    dropout=best_params[\"dropout\"],\n",
        "    epochs=5\n",
        ")\n",
        "\n",
        "# 5. Evaluar el modelo\n",
        "pipeline.evaluate(dataset)\n",
        "\n",
        "# 6. Probar con nuevo texto\n",
        "print(pipeline.predict(\"This was a wonderful film with great characters\"))\n",
        "print(pipeline.predict(\"Awful movie, I couldn't even finish it\"))"
      ],
      "metadata": {
        "id": "bFsg888f67pj",
        "colab": {
          "base_uri": "https://localhost:8080/"
        },
        "outputId": "f86580b5-373a-48f6-8f3d-ab850ec1c72a"
      },
      "execution_count": 98,
      "outputs": [
        {
          "output_type": "stream",
          "name": "stdout",
          "text": [
            "Training on device: cuda\n",
            "Epoch 1 | Loss: 4295.3270 | Accuracy: 0.80\n",
            "Epoch 2 | Loss: 2273.9242 | Accuracy: 0.91\n",
            "Epoch 3 | Loss: 1062.6027 | Accuracy: 0.96\n",
            "Epoch 4 | Loss: 421.8243 | Accuracy: 0.99\n",
            "Epoch 5 | Loss: 151.5001 | Accuracy: 1.00\n",
            "Evaluating on device: cuda\n",
            "Accuracy:  1.00\n",
            "Precision: 1.00\n",
            "Recall:    1.00\n",
            "F1-score:  1.00\n",
            "Predicting on device: cuda\n",
            "Positive\n",
            "Predicting on device: cuda\n",
            "Negative\n"
          ]
        }
      ]
    },
    {
      "cell_type": "markdown",
      "source": [
        "Vemos que con los mejores hiper parámetros encontrados por optuna hemos logrado unas métricas buenas. Sin embargo vamos a intentar optimizar por medio de la ablación. Para esto vamos a generar una función para optimizar con respecto a esta ablación."
      ],
      "metadata": {
        "id": "S_rjcFhcB_Wc"
      }
    },
    {
      "cell_type": "markdown",
      "source": [
        "Guardamos el mejor modelo aquí para poder utilizarlo después si"
      ],
      "metadata": {
        "id": "mt87I44z94GW"
      }
    },
    {
      "cell_type": "code",
      "source": [
        "mejor_modelo = pipeline.model"
      ],
      "metadata": {
        "id": "pTCUl08I36gI"
      },
      "execution_count": 99,
      "outputs": []
    },
    {
      "cell_type": "code",
      "source": [
        "pipeline.evaluate_with_confusion(dataset)"
      ],
      "metadata": {
        "colab": {
          "base_uri": "https://localhost:8080/",
          "height": 623
        },
        "id": "tkyQulk9-Op-",
        "outputId": "36def959-6695-4025-82f4-f6814dd9ff74"
      },
      "execution_count": 42,
      "outputs": [
        {
          "output_type": "stream",
          "name": "stdout",
          "text": [
            "Evaluating on device: cuda\n",
            "              precision    recall  f1-score   support\n",
            "\n",
            "         0.0       1.00      1.00      1.00     19815\n",
            "         1.0       1.00      1.00      1.00     19908\n",
            "\n",
            "    accuracy                           1.00     39723\n",
            "   macro avg       1.00      1.00      1.00     39723\n",
            "weighted avg       1.00      1.00      1.00     39723\n",
            "\n"
          ]
        },
        {
          "output_type": "display_data",
          "data": {
            "text/plain": [
              "<Figure size 640x480 with 2 Axes>"
            ],
            "image/png": "[encoded data removed]"
          },
          "metadata": {}
        }
      ]
    },
    {
      "cell_type": "markdown",
      "source": [
        "Vemos que este modelo tiene un muy buen rendimiento sobre el dataset. Podemos utilizar este modelo para predecir cualquier nuevo texto para clasificarlo como Positivo o Negativo."
      ],
      "metadata": {
        "id": "p72FL0mG_Ndp"
      }
    },
    {
      "cell_type": "markdown",
      "source": [
        "# Ablaciones - Utilización del pipeline"
      ],
      "metadata": {
        "id": "uFUMotsXzHts"
      }
    },
    {
      "cell_type": "markdown",
      "source": [
        "# Arquitectura 1 - GRU - 1 layer - unidirectional - hidden dimmensions"
      ],
      "metadata": {
        "id": "aj15l7BozRLT"
      }
    },
    {
      "cell_type": "markdown",
      "source": [
        "Vamos a crear una configuración de arquitectura. Pasamos el parámetro de dropout, pero no debe tener efecto en el entrenamiento, ya que la arquitectura tiene sólo una capa."
      ],
      "metadata": {
        "id": "2tFbV_puEaB0"
      }
    },
    {
      "cell_type": "code",
      "source": [
        "search_space = {\n",
        "    \"hidden_dim\": best_params['hidden_dim'],\n",
        "    \"lr\": best_params['lr'],\n",
        "    \"freeze\": best_params['freeze']\n",
        "}\n",
        "\n",
        "ablated_archs = [\n",
        "        {\"rnn_type\": \"gru\", \"num_layers\": 1, \"bidirectional\": False ,\"dropout\": 0.5},\n",
        "    ]\n",
        "\n",
        "pipeline = SentimentPipeline(\n",
        "    w2v_model=w2v,\n",
        "    embedding_dim=100,\n",
        "    search_space=search_space,\n",
        "    default_archs=ablated_archs,\n",
        "    default_hparams={\"n_trials\": 2, \"epochs\": 5, \"batch_size\": 4}\n",
        ")\n",
        "\n",
        "results = pipeline.run_ablation(df,configs=ablated_archs)  # usa todo lo parametrizado\n"
      ],
      "metadata": {
        "id": "vhqCaXo-TBAq",
        "colab": {
          "base_uri": "https://localhost:8080/"
        },
        "outputId": "2708b6bb-6cf6-4171-b796-d032aad2efde"
      },
      "execution_count": 43,
      "outputs": [
        {
          "output_type": "stream",
          "name": "stderr",
          "text": [
            "\rCorriendo Ablación:   0%|          | 0/1 [00:00<?, ?it/s]"
          ]
        },
        {
          "output_type": "stream",
          "name": "stdout",
          "text": [
            "\n",
            "Probando Configuración: {'rnn_type': 'gru', 'num_layers': 1, 'bidirectional': False, 'dropout': 0.5}\n",
            "Training on device: cuda\n",
            "Epoch 1 | Loss: 3915.9107 | Accuracy: 0.75\n",
            "Epoch 2 | Loss: 3306.4288 | Accuracy: 0.81\n",
            "Epoch 3 | Loss: 3050.6584 | Accuracy: 0.82\n",
            "Epoch 4 | Loss: 2836.8470 | Accuracy: 0.84\n",
            "Epoch 5 | Loss: 2635.7685 | Accuracy: 0.85\n",
            "Evaluating on device: cuda\n"
          ]
        },
        {
          "output_type": "stream",
          "name": "stderr",
          "text": [
            "Corriendo Ablación: 100%|██████████| 1/1 [01:34<00:00, 94.67s/it]"
          ]
        },
        {
          "output_type": "stream",
          "name": "stdout",
          "text": [
            "Accuracy:  0.81\n",
            "Precision: 0.78\n",
            "Recall:    0.86\n",
            "F1-score:  0.82\n"
          ]
        },
        {
          "output_type": "stream",
          "name": "stderr",
          "text": [
            "\n"
          ]
        }
      ]
    },
    {
      "cell_type": "code",
      "source": [
        "model1 = pipeline.model"
      ],
      "metadata": {
        "id": "nZwqYB_7t2v_"
      },
      "execution_count": 44,
      "outputs": []
    },
    {
      "cell_type": "code",
      "source": [
        "model1"
      ],
      "metadata": {
        "id": "hDexul-VueAb",
        "colab": {
          "base_uri": "https://localhost:8080/"
        },
        "outputId": "87b0572f-9494-482c-8bdf-81076e8119e2"
      },
      "execution_count": 45,
      "outputs": [
        {
          "output_type": "execute_result",
          "data": {
            "text/plain": [
              "SentimentRNN(\n",
              "  RNN(hidden_dim=34, bidirectional=False)\n",
              "  (embedding): Embedding(128180, 100)\n",
              "  (rnn): GRU(100, 34, batch_first=True)\n",
              "  (dropout): Dropout(p=0.0, inplace=False)\n",
              "  (fc): Linear(in_features=34, out_features=1, bias=True)\n",
              "  (sigmoid): Sigmoid()\n",
              ")"
            ]
          },
          "metadata": {},
          "execution_count": 45
        }
      ]
    },
    {
      "cell_type": "code",
      "source": [
        "print(\"\\nResumen de resultados:\")\n",
        "for r in results:\n",
        "    print(r)"
      ],
      "metadata": {
        "id": "GRP7wsY9KAmT",
        "colab": {
          "base_uri": "https://localhost:8080/"
        },
        "outputId": "168ff578-09dd-435e-e36e-483e7a4c1053"
      },
      "execution_count": 46,
      "outputs": [
        {
          "output_type": "stream",
          "name": "stdout",
          "text": [
            "\n",
            "Resumen de resultados:\n",
            "{'config': {'rnn_type': 'gru', 'num_layers': 1, 'bidirectional': False, 'dropout': 0.5}, 'accuracy': 0.81019509125236, 'precision': 0.7813921747042766, 'recall': 0.8626318432948267, 'f1': 0.8200047744091669}\n"
          ]
        }
      ]
    },
    {
      "cell_type": "code",
      "source": [],
      "metadata": {
        "id": "lRn_T4tiHpao"
      },
      "execution_count": null,
      "outputs": []
    },
    {
      "cell_type": "code",
      "source": [
        "pipeline.visualize_ablation_results(results)"
      ],
      "metadata": {
        "colab": {
          "base_uri": "https://localhost:8080/",
          "height": 414
        },
        "id": "7g7ggPGnATUz",
        "outputId": "e47861eb-e3b1-43e7-c397-c27a30674ead"
      },
      "execution_count": 47,
      "outputs": [
        {
          "output_type": "display_data",
          "data": {
            "text/plain": [
              "<Figure size 1000x500 with 1 Axes>"
            ],
            "image/png": "[encoded data removed]"
          },
          "metadata": {}
        }
      ]
    },
    {
      "cell_type": "code",
      "source": [
        "#pipeline.model = pipeline.best_model  # o el que quieras evaluar\n",
        "\n",
        "df_val = pipeline.preprocess_and_tokenize(df, build_vocab=False)\n",
        "val_dataset = pipeline.create_dataset(df_val)\n",
        "\n"
      ],
      "metadata": {
        "id": "R07I0fPYDFOx"
      },
      "execution_count": 48,
      "outputs": []
    },
    {
      "cell_type": "code",
      "source": [
        "pipeline.evaluate_with_confusion(val_dataset)"
      ],
      "metadata": {
        "colab": {
          "base_uri": "https://localhost:8080/",
          "height": 623
        },
        "id": "bGcMAdAsJlVY",
        "outputId": "2cb50c0b-add0-4d1b-f85c-ff7e65cd3250"
      },
      "execution_count": 49,
      "outputs": [
        {
          "output_type": "stream",
          "name": "stdout",
          "text": [
            "Evaluating on device: cuda\n",
            "              precision    recall  f1-score   support\n",
            "\n",
            "         0.0       0.89      0.82      0.86     19815\n",
            "         1.0       0.84      0.90      0.87     19908\n",
            "\n",
            "    accuracy                           0.86     39723\n",
            "   macro avg       0.87      0.86      0.86     39723\n",
            "weighted avg       0.87      0.86      0.86     39723\n",
            "\n"
          ]
        },
        {
          "output_type": "display_data",
          "data": {
            "text/plain": [
              "<Figure size 640x480 with 2 Axes>"
            ],
            "image/png": "[encoded data removed]"
          },
          "metadata": {}
        }
      ]
    },
    {
      "cell_type": "code",
      "source": [
        "pipeline.best_model = model1"
      ],
      "metadata": {
        "id": "OI9D6ywi8CS4"
      },
      "execution_count": 50,
      "outputs": []
    },
    {
      "cell_type": "markdown",
      "source": [
        "# Arquitectura 2 - GRU - 2 layers - Bidirectional  (68 hidden- units)"
      ],
      "metadata": {
        "id": "IDIWBViDyfca"
      }
    },
    {
      "cell_type": "code",
      "source": [
        "ablated_archs = [\n",
        "        {\"rnn_type\": \"gru\", \"num_layers\": 2, \"bidirectional\": True,\"dropout\": 0.3},\n",
        "    ]\n"
      ],
      "metadata": {
        "id": "W7VhgdjGu4K4"
      },
      "execution_count": 60,
      "outputs": []
    },
    {
      "cell_type": "markdown",
      "source": [
        "En esta ablación colocamos las dimensiones manualmente dado que hubo problemas al tener un número de unidades impar. Seleccionamos 68, dado que fue uno de los valores que encontramos en una de las iteraciones de optimización anteriormente. Cabe anotar que **cada vez que se corren las iteraciones de optimización, las unidades pueden cambiar, por lo que estos parámetros no son fijos** seleccionamos 68 sólo para colocar un valor que pueda funcionar en la ablación."
      ],
      "metadata": {
        "id": "07vnpXswA2An"
      }
    },
    {
      "cell_type": "code",
      "source": [
        "search_space = {\n",
        "    \"hidden_dim\": 68,\n",
        "    #\"hidden_dim\": best_params['hidden_dim'],\n",
        "    \"lr\": best_params['lr'],\n",
        "    \"freeze\": best_params['freeze']\n",
        "}"
      ],
      "metadata": {
        "id": "xAR6QyDDIATQ"
      },
      "execution_count": 61,
      "outputs": []
    },
    {
      "cell_type": "code",
      "source": [
        "pipeline = SentimentPipeline(\n",
        "    w2v_model=w2v,\n",
        "    embedding_dim=100,\n",
        "    search_space=search_space,\n",
        "    default_archs=ablated_archs,\n",
        "    default_hparams={\"n_trials\": 2, \"epochs\": 5, \"batch_size\": 4}\n",
        ")\n",
        "\n",
        "results_2 = pipeline.run_ablation(df,configs=ablated_archs)\n"
      ],
      "metadata": {
        "id": "lFnEzfHau9BV",
        "colab": {
          "base_uri": "https://localhost:8080/"
        },
        "outputId": "f12892da-dc12-4efe-c294-c4c8bd0cbca3"
      },
      "execution_count": 53,
      "outputs": [
        {
          "output_type": "stream",
          "name": "stderr",
          "text": [
            "\rCorriendo Ablación:   0%|          | 0/1 [00:00<?, ?it/s]"
          ]
        },
        {
          "output_type": "stream",
          "name": "stdout",
          "text": [
            "\n",
            "Probando Configuración: {'rnn_type': 'gru', 'num_layers': 2, 'bidirectional': True, 'dropout': 0.3}\n",
            "Training on device: cuda\n",
            "Epoch 1 | Loss: 3895.6390 | Accuracy: 0.76\n",
            "Epoch 2 | Loss: 3277.9461 | Accuracy: 0.81\n",
            "Epoch 3 | Loss: 2913.6971 | Accuracy: 0.83\n",
            "Epoch 4 | Loss: 2489.1013 | Accuracy: 0.86\n",
            "Epoch 5 | Loss: 2066.4372 | Accuracy: 0.89\n",
            "Evaluating on device: cuda\n"
          ]
        },
        {
          "output_type": "stream",
          "name": "stderr",
          "text": [
            "Corriendo Ablación: 100%|██████████| 1/1 [02:27<00:00, 147.08s/it]"
          ]
        },
        {
          "output_type": "stream",
          "name": "stdout",
          "text": [
            "Accuracy:  0.80\n",
            "Precision: 0.81\n",
            "Recall:    0.79\n",
            "F1-score:  0.80\n"
          ]
        },
        {
          "output_type": "stream",
          "name": "stderr",
          "text": [
            "\n"
          ]
        }
      ]
    },
    {
      "cell_type": "code",
      "source": [
        "model2 = pipeline.model"
      ],
      "metadata": {
        "id": "Xr5Ll7iGvQmt"
      },
      "execution_count": 54,
      "outputs": []
    },
    {
      "cell_type": "code",
      "source": [
        "model2"
      ],
      "metadata": {
        "colab": {
          "base_uri": "https://localhost:8080/"
        },
        "id": "dtccLnLbDxWJ",
        "outputId": "c988457f-71ee-42b1-db5e-3648b45c5c07"
      },
      "execution_count": 55,
      "outputs": [
        {
          "output_type": "execute_result",
          "data": {
            "text/plain": [
              "SentimentRNN(\n",
              "  RNN(hidden_dim=68, bidirectional=True)\n",
              "  (embedding): Embedding(128180, 100)\n",
              "  (rnn): GRU(100, 68, num_layers=2, batch_first=True, dropout=0.3, bidirectional=True)\n",
              "  (dropout): Dropout(p=0.3, inplace=False)\n",
              "  (fc): Linear(in_features=136, out_features=1, bias=True)\n",
              "  (sigmoid): Sigmoid()\n",
              ")"
            ]
          },
          "metadata": {},
          "execution_count": 55
        }
      ]
    },
    {
      "cell_type": "code",
      "source": [
        "print(\"\\nResumen de resultados 3ra arquitectura:\")\n",
        "for r in results_2:\n",
        "    print(r)"
      ],
      "metadata": {
        "id": "XvhJmwbCvSzX",
        "colab": {
          "base_uri": "https://localhost:8080/"
        },
        "outputId": "d128ec95-0afe-4cdd-8f63-7befacff0220"
      },
      "execution_count": 56,
      "outputs": [
        {
          "output_type": "stream",
          "name": "stdout",
          "text": [
            "\n",
            "Resumen de resultados 3ra arquitectura:\n",
            "{'config': {'rnn_type': 'gru', 'num_layers': 2, 'bidirectional': True, 'dropout': 0.3}, 'accuracy': 0.8013845185651353, 'precision': 0.8122077922077922, 'recall': 0.7852837769964842, 'f1': 0.7985188968335035}\n"
          ]
        }
      ]
    },
    {
      "cell_type": "code",
      "source": [
        "pipeline.visualize_ablation_results(results_2)"
      ],
      "metadata": {
        "id": "w0cr6vGeyUmJ",
        "colab": {
          "base_uri": "https://localhost:8080/",
          "height": 414
        },
        "outputId": "055a568e-8954-4e52-c96a-b68d8c7f1ed6"
      },
      "execution_count": 57,
      "outputs": [
        {
          "output_type": "display_data",
          "data": {
            "text/plain": [
              "<Figure size 1000x500 with 1 Axes>"
            ],
            "image/png": "[encoded data removed]"
          },
          "metadata": {}
        }
      ]
    },
    {
      "cell_type": "code",
      "source": [
        "pipeline.evaluate_with_confusion(val_dataset)"
      ],
      "metadata": {
        "colab": {
          "base_uri": "https://localhost:8080/",
          "height": 623
        },
        "id": "5nOY3DJNJzqQ",
        "outputId": "8954cb5f-a226-4aed-8bf8-4b00b79e275d"
      },
      "execution_count": 58,
      "outputs": [
        {
          "output_type": "stream",
          "name": "stdout",
          "text": [
            "Evaluating on device: cuda\n",
            "              precision    recall  f1-score   support\n",
            "\n",
            "         0.0       0.89      0.93      0.91     19815\n",
            "         1.0       0.93      0.89      0.91     19908\n",
            "\n",
            "    accuracy                           0.91     39723\n",
            "   macro avg       0.91      0.91      0.91     39723\n",
            "weighted avg       0.91      0.91      0.91     39723\n",
            "\n"
          ]
        },
        {
          "output_type": "display_data",
          "data": {
            "text/plain": [
              "<Figure size 640x480 with 2 Axes>"
            ],
            "image/png": "[encoded data removed]"
          },
          "metadata": {}
        }
      ]
    },
    {
      "cell_type": "markdown",
      "source": [
        "# Arquitectura 3 : LSTM - 1 layer - Unidirectional -  Optimal Hidden Units"
      ],
      "metadata": {
        "id": "Ekt1EF_KzD71"
      }
    },
    {
      "cell_type": "code",
      "source": [
        "search_space = {\n",
        "    \"hidden_dim\": best_params['hidden_dim'],\n",
        "    \"lr\": best_params['lr'],\n",
        "    \"freeze\": best_params['freeze']\n",
        "}"
      ],
      "metadata": {
        "id": "Uk-tEJqJNVmV"
      },
      "execution_count": 62,
      "outputs": []
    },
    {
      "cell_type": "code",
      "source": [
        "ablated_archs = [\n",
        "        {\"rnn_type\": \"lstm\", \"num_layers\": 1, \"bidirectional\": False,\"dropout\": 0.3},\n",
        "    ]\n"
      ],
      "metadata": {
        "id": "sbjAh-nxlJO2"
      },
      "execution_count": 63,
      "outputs": []
    },
    {
      "cell_type": "code",
      "source": [
        "pipeline = SentimentPipeline(\n",
        "    w2v_model=w2v,\n",
        "    embedding_dim=100,\n",
        "    search_space=search_space,\n",
        "    default_archs=ablated_archs,\n",
        "    default_hparams={\"n_trials\": 2, \"epochs\": 5, \"batch_size\": 4}\n",
        ")\n",
        "\n",
        "results_3 = pipeline.run_ablation(df,configs=ablated_archs)  # usa todo lo parametrizado\n"
      ],
      "metadata": {
        "id": "H_iOkicXlT2V",
        "colab": {
          "base_uri": "https://localhost:8080/"
        },
        "outputId": "ad6b284a-26d6-433a-fe86-8e6b67f2b6e0"
      },
      "execution_count": 64,
      "outputs": [
        {
          "output_type": "stream",
          "name": "stderr",
          "text": [
            "\rCorriendo Ablación:   0%|          | 0/1 [00:00<?, ?it/s]"
          ]
        },
        {
          "output_type": "stream",
          "name": "stdout",
          "text": [
            "\n",
            "Probando Configuración: {'rnn_type': 'lstm', 'num_layers': 1, 'bidirectional': False, 'dropout': 0.3}\n",
            "Training on device: cuda\n",
            "Epoch 1 | Loss: 4463.8450 | Accuracy: 0.71\n",
            "Epoch 2 | Loss: 3608.4780 | Accuracy: 0.78\n",
            "Epoch 3 | Loss: 3353.7401 | Accuracy: 0.80\n",
            "Epoch 4 | Loss: 3144.1335 | Accuracy: 0.82\n",
            "Epoch 5 | Loss: 2946.6841 | Accuracy: 0.83\n",
            "Evaluating on device: cuda\n"
          ]
        },
        {
          "output_type": "stream",
          "name": "stderr",
          "text": [
            "Corriendo Ablación: 100%|██████████| 1/1 [01:39<00:00, 99.67s/it]"
          ]
        },
        {
          "output_type": "stream",
          "name": "stdout",
          "text": [
            "Accuracy:  0.79\n",
            "Precision: 0.76\n",
            "Recall:    0.84\n",
            "F1-score:  0.80\n"
          ]
        },
        {
          "output_type": "stream",
          "name": "stderr",
          "text": [
            "\n"
          ]
        }
      ]
    },
    {
      "cell_type": "code",
      "source": [
        "model3 = pipeline.model"
      ],
      "metadata": {
        "id": "pVEyZ82nuIii"
      },
      "execution_count": 65,
      "outputs": []
    },
    {
      "cell_type": "code",
      "source": [
        "model3"
      ],
      "metadata": {
        "id": "O_157T-ivo7t",
        "colab": {
          "base_uri": "https://localhost:8080/"
        },
        "outputId": "be632ac8-a704-4c1d-90ca-0a0d778c418e"
      },
      "execution_count": 66,
      "outputs": [
        {
          "output_type": "execute_result",
          "data": {
            "text/plain": [
              "SentimentRNN(\n",
              "  RNN(hidden_dim=34, bidirectional=False)\n",
              "  (embedding): Embedding(128180, 100)\n",
              "  (rnn): LSTM(100, 34, batch_first=True)\n",
              "  (dropout): Dropout(p=0.0, inplace=False)\n",
              "  (fc): Linear(in_features=34, out_features=1, bias=True)\n",
              "  (sigmoid): Sigmoid()\n",
              ")"
            ]
          },
          "metadata": {},
          "execution_count": 66
        }
      ]
    },
    {
      "cell_type": "code",
      "source": [
        "print(\"\\nResumen de resultados 3ra arquitectura:\")\n",
        "for r in results_3:\n",
        "    print(r)"
      ],
      "metadata": {
        "id": "v484lA2Qq5um",
        "colab": {
          "base_uri": "https://localhost:8080/"
        },
        "outputId": "b3f4a935-2628-4fcf-b2f3-a042e6e1d1e0"
      },
      "execution_count": 67,
      "outputs": [
        {
          "output_type": "stream",
          "name": "stdout",
          "text": [
            "\n",
            "Resumen de resultados 3ra arquitectura:\n",
            "{'config': {'rnn_type': 'lstm', 'num_layers': 1, 'bidirectional': False, 'dropout': 0.3}, 'accuracy': 0.7899307740717433, 'precision': 0.7648271124341653, 'recall': 0.838774485183325, 'f1': 0.8000958198586657}\n"
          ]
        }
      ]
    },
    {
      "cell_type": "code",
      "source": [
        "pipeline.visualize_ablation_results(results_3)"
      ],
      "metadata": {
        "id": "_FBo6rsCtTgp",
        "colab": {
          "base_uri": "https://localhost:8080/",
          "height": 414
        },
        "outputId": "1cc5cef6-0ac2-4990-e787-ca0c234c395d"
      },
      "execution_count": 68,
      "outputs": [
        {
          "output_type": "display_data",
          "data": {
            "text/plain": [
              "<Figure size 1000x500 with 1 Axes>"
            ],
            "image/png": "[encoded data removed]"
          },
          "metadata": {}
        }
      ]
    },
    {
      "cell_type": "code",
      "source": [
        "pipeline.evaluate_with_confusion(val_dataset)"
      ],
      "metadata": {
        "colab": {
          "base_uri": "https://localhost:8080/",
          "height": 623
        },
        "id": "for9wGohMI8I",
        "outputId": "5fe4cca0-45c2-4809-ee52-5fd76a772bb8"
      },
      "execution_count": 69,
      "outputs": [
        {
          "output_type": "stream",
          "name": "stdout",
          "text": [
            "Evaluating on device: cuda\n",
            "              precision    recall  f1-score   support\n",
            "\n",
            "         0.0       0.84      0.84      0.84     19815\n",
            "         1.0       0.84      0.84      0.84     19908\n",
            "\n",
            "    accuracy                           0.84     39723\n",
            "   macro avg       0.84      0.84      0.84     39723\n",
            "weighted avg       0.84      0.84      0.84     39723\n",
            "\n"
          ]
        },
        {
          "output_type": "display_data",
          "data": {
            "text/plain": [
              "<Figure size 640x480 with 2 Axes>"
            ],
            "image/png": "[encoded data removed]"
          },
          "metadata": {}
        }
      ]
    },
    {
      "cell_type": "markdown",
      "source": [
        "# Arquitectura 4 - LSTM - layers-2 - Bidirectional - Optimal Hidden Units"
      ],
      "metadata": {
        "id": "gADpL4L2zwq_"
      }
    },
    {
      "cell_type": "code",
      "source": [
        "search_space = {\n",
        "    \"hidden_dim\": best_params['hidden_dim'],\n",
        "    \"lr\": best_params['lr'],\n",
        "    \"freeze\": best_params['freeze']\n",
        "}"
      ],
      "metadata": {
        "id": "8Skue7nqOS1e"
      },
      "execution_count": 70,
      "outputs": []
    },
    {
      "cell_type": "code",
      "source": [
        "ablated_archs = [\n",
        "        {\"rnn_type\": \"lstm\", \"num_layers\": 2, \"bidirectional\": True,\"dropout\": 0.5}\n",
        "    ]"
      ],
      "metadata": {
        "id": "RCEUlHTNrFK7"
      },
      "execution_count": 71,
      "outputs": []
    },
    {
      "cell_type": "code",
      "source": [
        "pipeline = SentimentPipeline(\n",
        "    w2v_model=w2v,\n",
        "    embedding_dim=100,\n",
        "    search_space=search_space,\n",
        "    default_archs=ablated_archs,\n",
        "    default_hparams={\"n_trials\": 2, \"epochs\": 5, \"batch_size\": 4}\n",
        ")\n",
        "\n",
        "results_4 = pipeline.run_ablation(df,configs=ablated_archs)\n"
      ],
      "metadata": {
        "id": "KftF5AZLrK60",
        "colab": {
          "base_uri": "https://localhost:8080/"
        },
        "outputId": "b0d0ee67-15e8-46a8-ce37-22ea9739c07e"
      },
      "execution_count": 72,
      "outputs": [
        {
          "output_type": "stream",
          "name": "stderr",
          "text": [
            "\rCorriendo Ablación:   0%|          | 0/1 [00:00<?, ?it/s]"
          ]
        },
        {
          "output_type": "stream",
          "name": "stdout",
          "text": [
            "\n",
            "Probando Configuración: {'rnn_type': 'lstm', 'num_layers': 2, 'bidirectional': True, 'dropout': 0.5}\n",
            "Training on device: cuda\n",
            "Epoch 1 | Loss: 4252.6807 | Accuracy: 0.73\n",
            "Epoch 2 | Loss: 3612.0360 | Accuracy: 0.79\n",
            "Epoch 3 | Loss: 3348.6101 | Accuracy: 0.81\n",
            "Epoch 4 | Loss: 3120.1562 | Accuracy: 0.82\n",
            "Epoch 5 | Loss: 2905.4197 | Accuracy: 0.84\n",
            "Evaluating on device: cuda\n"
          ]
        },
        {
          "output_type": "stream",
          "name": "stderr",
          "text": [
            "Corriendo Ablación: 100%|██████████| 1/1 [02:36<00:00, 156.39s/it]"
          ]
        },
        {
          "output_type": "stream",
          "name": "stdout",
          "text": [
            "Accuracy:  0.81\n",
            "Precision: 0.79\n",
            "Recall:    0.85\n",
            "F1-score:  0.82\n"
          ]
        },
        {
          "output_type": "stream",
          "name": "stderr",
          "text": [
            "\n"
          ]
        }
      ]
    },
    {
      "cell_type": "code",
      "source": [
        "model4 = pipeline.model"
      ],
      "metadata": {
        "id": "43C76e7CuPRq"
      },
      "execution_count": 73,
      "outputs": []
    },
    {
      "cell_type": "code",
      "source": [
        "model4"
      ],
      "metadata": {
        "id": "7K7_hY7av5zJ",
        "colab": {
          "base_uri": "https://localhost:8080/"
        },
        "outputId": "7664e6af-b1c2-447c-ddea-c0eac197f2cf"
      },
      "execution_count": 74,
      "outputs": [
        {
          "output_type": "execute_result",
          "data": {
            "text/plain": [
              "SentimentRNN(\n",
              "  RNN(hidden_dim=34, bidirectional=True)\n",
              "  (embedding): Embedding(128180, 100)\n",
              "  (rnn): LSTM(100, 34, num_layers=2, batch_first=True, dropout=0.5, bidirectional=True)\n",
              "  (dropout): Dropout(p=0.5, inplace=False)\n",
              "  (fc): Linear(in_features=68, out_features=1, bias=True)\n",
              "  (sigmoid): Sigmoid()\n",
              ")"
            ]
          },
          "metadata": {},
          "execution_count": 74
        }
      ]
    },
    {
      "cell_type": "code",
      "source": [
        "print(\"\\nResumen de resultados 4a arquitectura:\")\n",
        "for r in results_4:\n",
        "    print(r)"
      ],
      "metadata": {
        "id": "sDjbj1fjrR84",
        "colab": {
          "base_uri": "https://localhost:8080/"
        },
        "outputId": "463dd1f4-d626-4989-f22c-a905407a6ea7"
      },
      "execution_count": 75,
      "outputs": [
        {
          "output_type": "stream",
          "name": "stdout",
          "text": [
            "\n",
            "Resumen de resultados 4a arquitectura:\n",
            "{'config': {'rnn_type': 'lstm', 'num_layers': 2, 'bidirectional': True, 'dropout': 0.5}, 'accuracy': 0.811453744493392, 'precision': 0.7904583723105706, 'recall': 0.8488196885986942, 'f1': 0.8186001453136352}\n"
          ]
        }
      ]
    },
    {
      "cell_type": "code",
      "source": [
        "pipeline.visualize_ablation_results(results_4)"
      ],
      "metadata": {
        "id": "zx-Q8aIptadR",
        "colab": {
          "base_uri": "https://localhost:8080/",
          "height": 414
        },
        "outputId": "6dd41a75-c6f0-4f8f-80b5-df2720bb3204"
      },
      "execution_count": 76,
      "outputs": [
        {
          "output_type": "display_data",
          "data": {
            "text/plain": [
              "<Figure size 1000x500 with 1 Axes>"
            ],
            "image/png": "[encoded data removed]"
          },
          "metadata": {}
        }
      ]
    },
    {
      "cell_type": "code",
      "source": [
        "pipeline.evaluate_with_confusion(val_dataset)"
      ],
      "metadata": {
        "id": "Nm63JAK66jCc",
        "colab": {
          "base_uri": "https://localhost:8080/",
          "height": 623
        },
        "outputId": "82a0ec43-11a8-470b-b89b-1bf54b595669"
      },
      "execution_count": 77,
      "outputs": [
        {
          "output_type": "stream",
          "name": "stdout",
          "text": [
            "Evaluating on device: cuda\n",
            "              precision    recall  f1-score   support\n",
            "\n",
            "         0.0       0.87      0.84      0.85     19815\n",
            "         1.0       0.84      0.88      0.86     19908\n",
            "\n",
            "    accuracy                           0.86     39723\n",
            "   macro avg       0.86      0.86      0.86     39723\n",
            "weighted avg       0.86      0.86      0.86     39723\n",
            "\n"
          ]
        },
        {
          "output_type": "display_data",
          "data": {
            "text/plain": [
              "<Figure size 640x480 with 2 Axes>"
            ],
            "image/png": "[encoded data removed]"
          },
          "metadata": {}
        }
      ]
    },
    {
      "cell_type": "markdown",
      "source": [
        "# Arquitectura 5 - GRU- layers-2- Bidirectional - Optimal Hidden Units"
      ],
      "metadata": {
        "id": "Ifs2SJ0P6jxn"
      }
    },
    {
      "cell_type": "code",
      "source": [
        "ablated_archs = [\n",
        "        {\"rnn_type\": \"gru\", \"num_layers\": 2, \"bidirectional\": True,\"dropout\": 0.3},\n",
        "    ]"
      ],
      "metadata": {
        "id": "tKgA4lr06swC"
      },
      "execution_count": 78,
      "outputs": []
    },
    {
      "cell_type": "code",
      "source": [
        "search_space = {\n",
        "    \"hidden_dim\": best_params['hidden_dim'],\n",
        "    \"lr\": best_params['lr'],\n",
        "    \"freeze\": best_params['freeze']\n",
        "}\n",
        "\n",
        "pipeline = SentimentPipeline(\n",
        "    w2v_model=w2v,\n",
        "    embedding_dim=100,\n",
        "    search_space=search_space,\n",
        "    default_archs=ablated_archs,\n",
        "    default_hparams={\"n_trials\": 2, \"epochs\": 5, \"batch_size\": 4}\n",
        ")\n",
        "\n",
        "results_5 = pipeline.run_ablation(df,configs=ablated_archs)  # usa todo lo parametrizado"
      ],
      "metadata": {
        "id": "elzOg_Gy60y7",
        "colab": {
          "base_uri": "https://localhost:8080/"
        },
        "outputId": "37e77305-b10b-471c-c05e-7997a679eb62"
      },
      "execution_count": 79,
      "outputs": [
        {
          "output_type": "stream",
          "name": "stderr",
          "text": [
            "\rCorriendo Ablación:   0%|          | 0/1 [00:00<?, ?it/s]"
          ]
        },
        {
          "output_type": "stream",
          "name": "stdout",
          "text": [
            "\n",
            "Probando Configuración: {'rnn_type': 'gru', 'num_layers': 2, 'bidirectional': True, 'dropout': 0.3}\n",
            "Training on device: cuda\n",
            "Epoch 1 | Loss: 3870.6594 | Accuracy: 0.76\n",
            "Epoch 2 | Loss: 3296.0612 | Accuracy: 0.81\n",
            "Epoch 3 | Loss: 2985.0865 | Accuracy: 0.83\n",
            "Epoch 4 | Loss: 2713.9291 | Accuracy: 0.85\n",
            "Epoch 5 | Loss: 2424.0472 | Accuracy: 0.87\n",
            "Evaluating on device: cuda\n"
          ]
        },
        {
          "output_type": "stream",
          "name": "stderr",
          "text": [
            "Corriendo Ablación: 100%|██████████| 1/1 [02:25<00:00, 145.95s/it]"
          ]
        },
        {
          "output_type": "stream",
          "name": "stdout",
          "text": [
            "Accuracy:  0.80\n",
            "Precision: 0.83\n",
            "Recall:    0.76\n",
            "F1-score:  0.80\n"
          ]
        },
        {
          "output_type": "stream",
          "name": "stderr",
          "text": [
            "\n"
          ]
        }
      ]
    },
    {
      "cell_type": "code",
      "source": [
        "model5 = pipeline.model"
      ],
      "metadata": {
        "id": "qR-CPuiP63eg"
      },
      "execution_count": 80,
      "outputs": []
    },
    {
      "cell_type": "code",
      "source": [
        "model5"
      ],
      "metadata": {
        "colab": {
          "base_uri": "https://localhost:8080/"
        },
        "id": "AT96viDCTFEI",
        "outputId": "e4eb90f8-039d-4e1f-a911-b581d8524977"
      },
      "execution_count": 81,
      "outputs": [
        {
          "output_type": "execute_result",
          "data": {
            "text/plain": [
              "SentimentRNN(\n",
              "  RNN(hidden_dim=34, bidirectional=True)\n",
              "  (embedding): Embedding(128180, 100)\n",
              "  (rnn): GRU(100, 34, num_layers=2, batch_first=True, dropout=0.3, bidirectional=True)\n",
              "  (dropout): Dropout(p=0.3, inplace=False)\n",
              "  (fc): Linear(in_features=68, out_features=1, bias=True)\n",
              "  (sigmoid): Sigmoid()\n",
              ")"
            ]
          },
          "metadata": {},
          "execution_count": 81
        }
      ]
    },
    {
      "cell_type": "code",
      "source": [
        "print(\"\\nResumen de resultados 4a arquitectura:\")\n",
        "for r in results_5:\n",
        "    print(r)"
      ],
      "metadata": {
        "colab": {
          "base_uri": "https://localhost:8080/"
        },
        "id": "JC3-wo4JRFLp",
        "outputId": "fd788039-6ff5-4617-9edb-088b24f93bdb"
      },
      "execution_count": 82,
      "outputs": [
        {
          "output_type": "stream",
          "name": "stdout",
          "text": [
            "\n",
            "Resumen de resultados 4a arquitectura:\n",
            "{'config': {'rnn_type': 'gru', 'num_layers': 2, 'bidirectional': True, 'dropout': 0.3}, 'accuracy': 0.8028949024543738, 'precision': 0.8291553133514986, 'recall': 0.764188849824209, 'f1': 0.7953476215368531}\n"
          ]
        }
      ]
    },
    {
      "cell_type": "code",
      "source": [
        "pipeline.visualize_ablation_results(results_5)"
      ],
      "metadata": {
        "colab": {
          "base_uri": "https://localhost:8080/",
          "height": 414
        },
        "id": "X3Ylku51RFnI",
        "outputId": "7c34afae-20d6-4034-f96e-583e4385c30b"
      },
      "execution_count": 83,
      "outputs": [
        {
          "output_type": "display_data",
          "data": {
            "text/plain": [
              "<Figure size 1000x500 with 1 Axes>"
            ],
            "image/png": "[encoded data removed]"
          },
          "metadata": {}
        }
      ]
    },
    {
      "cell_type": "code",
      "source": [
        "pipeline.evaluate_with_confusion(val_dataset)"
      ],
      "metadata": {
        "colab": {
          "base_uri": "https://localhost:8080/",
          "height": 626
        },
        "id": "1EDvuVKUTfPx",
        "outputId": "0727c81c-7f3d-4a4b-e573-3e227d15cdd8"
      },
      "execution_count": 84,
      "outputs": [
        {
          "output_type": "stream",
          "name": "stdout",
          "text": [
            "Evaluating on device: cuda\n",
            "              precision    recall  f1-score   support\n",
            "\n",
            "         0.0       0.86      0.92      0.88     19815\n",
            "         1.0       0.91      0.85      0.88     19908\n",
            "\n",
            "    accuracy                           0.88     39723\n",
            "   macro avg       0.88      0.88      0.88     39723\n",
            "weighted avg       0.88      0.88      0.88     39723\n",
            "\n"
          ]
        },
        {
          "output_type": "display_data",
          "data": {
            "text/plain": [
              "<Figure size 640x480 with 2 Axes>"
            ],
            "image/png": "[encoded data removed]"
          },
          "metadata": {}
        }
      ]
    },
    {
      "cell_type": "markdown",
      "source": [
        "# Comparativos de Arquitecturas y Modelos encontrados"
      ],
      "metadata": {
        "id": "JIdc4uqWpxyF"
      }
    },
    {
      "cell_type": "code",
      "source": [
        "data = {\n",
        "    'Architecture': ['GRU-1xuni', 'GRU-2xuni', 'LSTM-1xuni', 'LSTM-2xuni', 'GRU-2xbi'],\n",
        "    'F1-score': [results[0]['f1'], results_2[0]['f1'], results_3[0]['f1'], results_4[0]['f1'], results_5[0]['f1']],\n",
        "    'Accuracy': [results[0]['accuracy'], results_2[0]['accuracy'], results_3[0]['accuracy'], results_4[0]['accuracy'], results_5[0]['accuracy']],\n",
        "    'Precision': [results[0]['precision'], results_2[0]['precision'], results_3[0]['precision'], results_4[0]['precision'], results_5[0]['precision']],\n",
        "    'Recall': [results[0]['recall'], results_2[0]['recall'], results_3[0]['recall'], results_4[0]['recall'], results_5[0]['recall']]\n",
        "}\n",
        "\n",
        "df_comparison = pd.DataFrame(data)\n",
        "df_comparison = df_comparison.sort_values(by='F1-score', ascending=False)\n",
        "display(df_comparison)\n"
      ],
      "metadata": {
        "colab": {
          "base_uri": "https://localhost:8080/",
          "height": 206
        },
        "id": "DHIIAr825ekL",
        "outputId": "4de31085-586a-41d5-b623-ee7824e0573e"
      },
      "execution_count": 85,
      "outputs": [
        {
          "output_type": "display_data",
          "data": {
            "text/plain": [
              "  Architecture  F1-score  Accuracy  Precision    Recall\n",
              "0    GRU-1xuni  0.820005  0.810195   0.781392  0.862632\n",
              "3   LSTM-2xuni  0.818600  0.811454   0.790458  0.848820\n",
              "2   LSTM-1xuni  0.800096  0.789931   0.764827  0.838774\n",
              "1    GRU-2xuni  0.798519  0.801385   0.812208  0.785284\n",
              "4     GRU-2xbi  0.795348  0.802895   0.829155  0.764189"
            ],
            "text/html": [
              "\n",
              "  <div id=\"df-78bf6501-fe25-433b-8f0f-f15bb88c8d56\" class=\"colab-df-container\">\n",
              "    <div>\n",
              "<style scoped>\n",
              "    .dataframe tbody tr th:only-of-type {\n",
              "        vertical-align: middle;\n",
              "    }\n",
              "\n",
              "    .dataframe tbody tr th {\n",
              "        vertical-align: top;\n",
              "    }\n",
              "\n",
              "    .dataframe thead th {\n",
              "        text-align: right;\n",
              "    }\n",
              "</style>\n",
              "<table border=\"1\" class=\"dataframe\">\n",
              "  <thead>\n",
              "    <tr style=\"text-align: right;\">\n",
              "      <th></th>\n",
              "      <th>Architecture</th>\n",
              "      <th>F1-score</th>\n",
              "      <th>Accuracy</th>\n",
              "      <th>Precision</th>\n",
              "      <th>Recall</th>\n",
              "    </tr>\n",
              "  </thead>\n",
              "  <tbody>\n",
              "    <tr>\n",
              "      <th>0</th>\n",
              "      <td>GRU-1xuni</td>\n",
              "      <td>0.820005</td>\n",
              "      <td>0.810195</td>\n",
              "      <td>0.781392</td>\n",
              "      <td>0.862632</td>\n",
              "    </tr>\n",
              "    <tr>\n",
              "      <th>3</th>\n",
              "      <td>LSTM-2xuni</td>\n",
              "      <td>0.818600</td>\n",
              "      <td>0.811454</td>\n",
              "      <td>0.790458</td>\n",
              "      <td>0.848820</td>\n",
              "    </tr>\n",
              "    <tr>\n",
              "      <th>2</th>\n",
              "      <td>LSTM-1xuni</td>\n",
              "      <td>0.800096</td>\n",
              "      <td>0.789931</td>\n",
              "      <td>0.764827</td>\n",
              "      <td>0.838774</td>\n",
              "    </tr>\n",
              "    <tr>\n",
              "      <th>1</th>\n",
              "      <td>GRU-2xuni</td>\n",
              "      <td>0.798519</td>\n",
              "      <td>0.801385</td>\n",
              "      <td>0.812208</td>\n",
              "      <td>0.785284</td>\n",
              "    </tr>\n",
              "    <tr>\n",
              "      <th>4</th>\n",
              "      <td>GRU-2xbi</td>\n",
              "      <td>0.795348</td>\n",
              "      <td>0.802895</td>\n",
              "      <td>0.829155</td>\n",
              "      <td>0.764189</td>\n",
              "    </tr>\n",
              "  </tbody>\n",
              "</table>\n",
              "</div>\n",
              "    <div class=\"colab-df-buttons\">\n",
              "\n",
              "  <div class=\"colab-df-container\">\n",
              "    <button class=\"colab-df-convert\" onclick=\"convertToInteractive('df-78bf6501-fe25-433b-8f0f-f15bb88c8d56')\"\n",
              "            title=\"Convert this dataframe to an interactive table.\"\n",
              "            style=\"display:none;\">\n",
              "\n",
              "  <svg xmlns=\"http://www.w3.org/2000/svg\" height=\"24px\" viewBox=\"0 -960 960 960\">\n",
              "    <path d=\"M120-120v-720h720v720H120Zm60-500h600v-160H180v160Zm220 220h160v-160H400v160Zm0 220h160v-160H400v160ZM180-400h160v-160H180v160Zm440 0h160v-160H620v160ZM180-180h160v-160H180v160Zm440 0h160v-160H620v160Z\"/>\n",
              "  </svg>\n",
              "    </button>\n",
              "\n",
              "  <style>\n",
              "    .colab-df-container {\n",
              "      display:flex;\n",
              "      gap: 12px;\n",
              "    }\n",
              "\n",
              "    .colab-df-convert {\n",
              "      background-color: #E8F0FE;\n",
              "      border: none;\n",
              "      border-radius: 50%;\n",
              "      cursor: pointer;\n",
              "      display: none;\n",
              "      fill: #1967D2;\n",
              "      height: 32px;\n",
              "      padding: 0 0 0 0;\n",
              "      width: 32px;\n",
              "    }\n",
              "\n",
              "    .colab-df-convert:hover {\n",
              "      background-color: #E2EBFA;\n",
              "      box-shadow: 0px 1px 2px rgba(60, 64, 67, 0.3), 0px 1px 3px 1px rgba(60, 64, 67, 0.15);\n",
              "      fill: #174EA6;\n",
              "    }\n",
              "\n",
              "    .colab-df-buttons div {\n",
              "      margin-bottom: 4px;\n",
              "    }\n",
              "\n",
              "    [theme=dark] .colab-df-convert {\n",
              "      background-color: #3B4455;\n",
              "      fill: #D2E3FC;\n",
              "    }\n",
              "\n",
              "    [theme=dark] .colab-df-convert:hover {\n",
              "      background-color: #434B5C;\n",
              "      box-shadow: 0px 1px 3px 1px rgba(0, 0, 0, 0.15);\n",
              "      filter: drop-shadow(0px 1px 2px rgba(0, 0, 0, 0.3));\n",
              "      fill: #FFFFFF;\n",
              "    }\n",
              "  </style>\n",
              "\n",
              "    <script>\n",
              "      const buttonEl =\n",
              "        document.querySelector('#df-78bf6501-fe25-433b-8f0f-f15bb88c8d56 button.colab-df-convert');\n",
              "      buttonEl.style.display =\n",
              "        google.colab.kernel.accessAllowed ? 'block' : 'none';\n",
              "\n",
              "      async function convertToInteractive(key) {\n",
              "        const element = document.querySelector('#df-78bf6501-fe25-433b-8f0f-f15bb88c8d56');\n",
              "        const dataTable =\n",
              "          await google.colab.kernel.invokeFunction('convertToInteractive',\n",
              "                                                    [key], {});\n",
              "        if (!dataTable) return;\n",
              "\n",
              "        const docLinkHtml = 'Like what you see? Visit the ' +\n",
              "          '<a target=\"_blank\" href=https://colab.research.google.com/notebooks/data_table.ipynb>data table notebook</a>'\n",
              "          + ' to learn more about interactive tables.';\n",
              "        element.innerHTML = '';\n",
              "        dataTable['output_type'] = 'display_data';\n",
              "        await google.colab.output.renderOutput(dataTable, element);\n",
              "        const docLink = document.createElement('div');\n",
              "        docLink.innerHTML = docLinkHtml;\n",
              "        element.appendChild(docLink);\n",
              "      }\n",
              "    </script>\n",
              "  </div>\n",
              "\n",
              "\n",
              "    <div id=\"df-ba4de50d-e76f-4ba9-8e4f-f8ba36f0889c\">\n",
              "      <button class=\"colab-df-quickchart\" onclick=\"quickchart('df-ba4de50d-e76f-4ba9-8e4f-f8ba36f0889c')\"\n",
              "                title=\"Suggest charts\"\n",
              "                style=\"display:none;\">\n",
              "\n",
              "<svg xmlns=\"http://www.w3.org/2000/svg\" height=\"24px\"viewBox=\"0 0 24 24\"\n",
              "     width=\"24px\">\n",
              "    <g>\n",
              "        <path d=\"M19 3H5c-1.1 0-2 .9-2 2v14c0 1.1.9 2 2 2h14c1.1 0 2-.9 2-2V5c0-1.1-.9-2-2-2zM9 17H7v-7h2v7zm4 0h-2V7h2v10zm4 0h-2v-4h2v4z\"/>\n",
              "    </g>\n",
              "</svg>\n",
              "      </button>\n",
              "\n",
              "<style>\n",
              "  .colab-df-quickchart {\n",
              "      --bg-color: #E8F0FE;\n",
              "      --fill-color: #1967D2;\n",
              "      --hover-bg-color: #E2EBFA;\n",
              "      --hover-fill-color: #174EA6;\n",
              "      --disabled-fill-color: #AAA;\n",
              "      --disabled-bg-color: #DDD;\n",
              "  }\n",
              "\n",
              "  [theme=dark] .colab-df-quickchart {\n",
              "      --bg-color: #3B4455;\n",
              "      --fill-color: #D2E3FC;\n",
              "      --hover-bg-color: #434B5C;\n",
              "      --hover-fill-color: #FFFFFF;\n",
              "      --disabled-bg-color: #3B4455;\n",
              "      --disabled-fill-color: #666;\n",
              "  }\n",
              "\n",
              "  .colab-df-quickchart {\n",
              "    background-color: var(--bg-color);\n",
              "    border: none;\n",
              "    border-radius: 50%;\n",
              "    cursor: pointer;\n",
              "    display: none;\n",
              "    fill: var(--fill-color);\n",
              "    height: 32px;\n",
              "    padding: 0;\n",
              "    width: 32px;\n",
              "  }\n",
              "\n",
              "  .colab-df-quickchart:hover {\n",
              "    background-color: var(--hover-bg-color);\n",
              "    box-shadow: 0 1px 2px rgba(60, 64, 67, 0.3), 0 1px 3px 1px rgba(60, 64, 67, 0.15);\n",
              "    fill: var(--button-hover-fill-color);\n",
              "  }\n",
              "\n",
              "  .colab-df-quickchart-complete:disabled,\n",
              "  .colab-df-quickchart-complete:disabled:hover {\n",
              "    background-color: var(--disabled-bg-color);\n",
              "    fill: var(--disabled-fill-color);\n",
              "    box-shadow: none;\n",
              "  }\n",
              "\n",
              "  .colab-df-spinner {\n",
              "    border: 2px solid var(--fill-color);\n",
              "    border-color: transparent;\n",
              "    border-bottom-color: var(--fill-color);\n",
              "    animation:\n",
              "      spin 1s steps(1) infinite;\n",
              "  }\n",
              "\n",
              "  @keyframes spin {\n",
              "    0% {\n",
              "      border-color: transparent;\n",
              "      border-bottom-color: var(--fill-color);\n",
              "      border-left-color: var(--fill-color);\n",
              "    }\n",
              "    20% {\n",
              "      border-color: transparent;\n",
              "      border-left-color: var(--fill-color);\n",
              "      border-top-color: var(--fill-color);\n",
              "    }\n",
              "    30% {\n",
              "      border-color: transparent;\n",
              "      border-left-color: var(--fill-color);\n",
              "      border-top-color: var(--fill-color);\n",
              "      border-right-color: var(--fill-color);\n",
              "    }\n",
              "    40% {\n",
              "      border-color: transparent;\n",
              "      border-right-color: var(--fill-color);\n",
              "      border-top-color: var(--fill-color);\n",
              "    }\n",
              "    60% {\n",
              "      border-color: transparent;\n",
              "      border-right-color: var(--fill-color);\n",
              "    }\n",
              "    80% {\n",
              "      border-color: transparent;\n",
              "      border-right-color: var(--fill-color);\n",
              "      border-bottom-color: var(--fill-color);\n",
              "    }\n",
              "    90% {\n",
              "      border-color: transparent;\n",
              "      border-bottom-color: var(--fill-color);\n",
              "    }\n",
              "  }\n",
              "</style>\n",
              "\n",
              "      <script>\n",
              "        async function quickchart(key) {\n",
              "          const quickchartButtonEl =\n",
              "            document.querySelector('#' + key + ' button');\n",
              "          quickchartButtonEl.disabled = true;  // To prevent multiple clicks.\n",
              "          quickchartButtonEl.classList.add('colab-df-spinner');\n",
              "          try {\n",
              "            const charts = await google.colab.kernel.invokeFunction(\n",
              "                'suggestCharts', [key], {});\n",
              "          } catch (error) {\n",
              "            console.error('Error during call to suggestCharts:', error);\n",
              "          }\n",
              "          quickchartButtonEl.classList.remove('colab-df-spinner');\n",
              "          quickchartButtonEl.classList.add('colab-df-quickchart-complete');\n",
              "        }\n",
              "        (() => {\n",
              "          let quickchartButtonEl =\n",
              "            document.querySelector('#df-ba4de50d-e76f-4ba9-8e4f-f8ba36f0889c button');\n",
              "          quickchartButtonEl.style.display =\n",
              "            google.colab.kernel.accessAllowed ? 'block' : 'none';\n",
              "        })();\n",
              "      </script>\n",
              "    </div>\n",
              "\n",
              "  <div id=\"id_ac51b92e-4d24-4957-b81a-e0eeb5489bd2\">\n",
              "    <style>\n",
              "      .colab-df-generate {\n",
              "        background-color: #E8F0FE;\n",
              "        border: none;\n",
              "        border-radius: 50%;\n",
              "        cursor: pointer;\n",
              "        display: none;\n",
              "        fill: #1967D2;\n",
              "        height: 32px;\n",
              "        padding: 0 0 0 0;\n",
              "        width: 32px;\n",
              "      }\n",
              "\n",
              "      .colab-df-generate:hover {\n",
              "        background-color: #E2EBFA;\n",
              "        box-shadow: 0px 1px 2px rgba(60, 64, 67, 0.3), 0px 1px 3px 1px rgba(60, 64, 67, 0.15);\n",
              "        fill: #174EA6;\n",
              "      }\n",
              "\n",
              "      [theme=dark] .colab-df-generate {\n",
              "        background-color: #3B4455;\n",
              "        fill: #D2E3FC;\n",
              "      }\n",
              "\n",
              "      [theme=dark] .colab-df-generate:hover {\n",
              "        background-color: #434B5C;\n",
              "        box-shadow: 0px 1px 3px 1px rgba(0, 0, 0, 0.15);\n",
              "        filter: drop-shadow(0px 1px 2px rgba(0, 0, 0, 0.3));\n",
              "        fill: #FFFFFF;\n",
              "      }\n",
              "    </style>\n",
              "    <button class=\"colab-df-generate\" onclick=\"generateWithVariable('df_comparison')\"\n",
              "            title=\"Generate code using this dataframe.\"\n",
              "            style=\"display:none;\">\n",
              "\n",
              "  <svg xmlns=\"http://www.w3.org/2000/svg\" height=\"24px\"viewBox=\"0 0 24 24\"\n",
              "       width=\"24px\">\n",
              "    <path d=\"M7,19H8.4L18.45,9,17,7.55,7,17.6ZM5,21V16.75L18.45,3.32a2,2,0,0,1,2.83,0l1.4,1.43a1.91,1.91,0,0,1,.58,1.4,1.91,1.91,0,0,1-.58,1.4L9.25,21ZM18.45,9,17,7.55Zm-12,3A5.31,5.31,0,0,0,4.9,8.1,5.31,5.31,0,0,0,1,6.5,5.31,5.31,0,0,0,4.9,4.9,5.31,5.31,0,0,0,6.5,1,5.31,5.31,0,0,0,8.1,4.9,5.31,5.31,0,0,0,12,6.5,5.46,5.46,0,0,0,6.5,12Z\"/>\n",
              "  </svg>\n",
              "    </button>\n",
              "    <script>\n",
              "      (() => {\n",
              "      const buttonEl =\n",
              "        document.querySelector('#id_ac51b92e-4d24-4957-b81a-e0eeb5489bd2 button.colab-df-generate');\n",
              "      buttonEl.style.display =\n",
              "        google.colab.kernel.accessAllowed ? 'block' : 'none';\n",
              "\n",
              "      buttonEl.onclick = () => {\n",
              "        google.colab.notebook.generateWithVariable('df_comparison');\n",
              "      }\n",
              "      })();\n",
              "    </script>\n",
              "  </div>\n",
              "\n",
              "    </div>\n",
              "  </div>\n"
            ],
            "application/vnd.google.colaboratory.intrinsic+json": {
              "type": "dataframe",
              "variable_name": "df_comparison",
              "summary": "{\n  \"name\": \"df_comparison\",\n  \"rows\": 5,\n  \"fields\": [\n    {\n      \"column\": \"Architecture\",\n      \"properties\": {\n        \"dtype\": \"string\",\n        \"num_unique_values\": 5,\n        \"samples\": [\n          \"LSTM-2xuni\",\n          \"GRU-2xbi\",\n          \"LSTM-1xuni\"\n        ],\n        \"semantic_type\": \"\",\n        \"description\": \"\"\n      }\n    },\n    {\n      \"column\": \"F1-score\",\n      \"properties\": {\n        \"dtype\": \"number\",\n        \"std\": 0.011809727136447125,\n        \"min\": 0.7953476215368531,\n        \"max\": 0.8200047744091669,\n        \"num_unique_values\": 5,\n        \"samples\": [\n          0.8186001453136352,\n          0.7953476215368531,\n          0.8000958198586657\n        ],\n        \"semantic_type\": \"\",\n        \"description\": \"\"\n      }\n    },\n    {\n      \"column\": \"Accuracy\",\n      \"properties\": {\n        \"dtype\": \"number\",\n        \"std\": 0.008609776992144824,\n        \"min\": 0.7899307740717433,\n        \"max\": 0.811453744493392,\n        \"num_unique_values\": 5,\n        \"samples\": [\n          0.811453744493392,\n          0.8028949024543738,\n          0.7899307740717433\n        ],\n        \"semantic_type\": \"\",\n        \"description\": \"\"\n      }\n    },\n    {\n      \"column\": \"Precision\",\n      \"properties\": {\n        \"dtype\": \"number\",\n        \"std\": 0.02538231041418063,\n        \"min\": 0.7648271124341653,\n        \"max\": 0.8291553133514986,\n        \"num_unique_values\": 5,\n        \"samples\": [\n          0.7904583723105706,\n          0.8291553133514986,\n          0.7648271124341653\n        ],\n        \"semantic_type\": \"\",\n        \"description\": \"\"\n      }\n    },\n    {\n      \"column\": \"Recall\",\n      \"properties\": {\n        \"dtype\": \"number\",\n        \"std\": 0.04278028829967631,\n        \"min\": 0.764188849824209,\n        \"max\": 0.8626318432948267,\n        \"num_unique_values\": 5,\n        \"samples\": [\n          0.8488196885986942,\n          0.764188849824209,\n          0.838774485183325\n        ],\n        \"semantic_type\": \"\",\n        \"description\": \"\"\n      }\n    }\n  ]\n}"
            }
          },
          "metadata": {}
        }
      ]
    },
    {
      "cell_type": "markdown",
      "source": [
        "A continuación, tenemos una gráfica de comparación de resultados, tanto los de la ablación, como los hallados con el pipeline."
      ],
      "metadata": {
        "id": "CPpStLEkS9fS"
      }
    },
    {
      "cell_type": "markdown",
      "source": [
        "Vamos a tener varios subplots con las métricas de cada arquitectura."
      ],
      "metadata": {
        "id": "RxdlL5QPW5I2"
      }
    },
    {
      "cell_type": "code",
      "source": [
        "fig, axs = plt.subplots(1, 4, figsize=(15, 5))\n",
        "\n",
        "\n",
        "# Plot bar charts for each dataframe\n",
        "axs[0].bar(df_comparison['Architecture'], df_comparison['F1-score'], alpha=0.7)\n",
        "axs[0].set_title('F1 Score')\n",
        "axs[0].set_xticklabels(df_comparison['Architecture'], rotation=45, ha='right')\n",
        "axs[0].cmap = 'viridis'\n",
        "for p in axs[0].patches:\n",
        "    x = p.get_x() + p.get_width() / 2\n",
        "    y = p.get_height()\n",
        "    # Agregar el texto con el valor\n",
        "    axs[0].annotate(f\"{y * 100:.2f}%\", (x,y),ha='center', va='bottom', fontsize=8)\n",
        "\n",
        "axs[1].bar(df_comparison['Architecture'], df_comparison['Recall'], color='r', alpha=0.7)\n",
        "axs[1].set_title('Recall')\n",
        "axs[1].set_xticklabels(df_comparison['Architecture'], rotation=45, ha='right')\n",
        "for p in axs[1].patches:\n",
        "    x = p.get_x() + p.get_width() / 2\n",
        "    y = p.get_height()\n",
        "    # Agregar el texto con el valor\n",
        "    axs[1].annotate(f\"{y * 100:.2f}%\", (x,y),ha='center', va='bottom', fontsize=8)\n",
        "\n",
        "\n",
        "axs[2].bar(df_comparison['Architecture'], df_comparison['Precision'], color='y', alpha=0.7)\n",
        "axs[2].set_title('Precision')\n",
        "axs[2].set_xticklabels(df_comparison['Architecture'], rotation=45, ha='right')\n",
        "for p in axs[2].patches:\n",
        "    x = p.get_x() + p.get_width() / 2\n",
        "    y = p.get_height()\n",
        "    # Agregar el texto con el valor\n",
        "    axs[2].annotate(f\"{y * 100:.2f}%\", (x,y),ha='center', va='bottom', fontsize=8)\n",
        "\n",
        "\n",
        "axs[3].bar(df_comparison['Architecture'], df_comparison['Accuracy'], color='g', alpha=0.7)\n",
        "axs[3].set_title('Accuracy')\n",
        "axs[3].set_xticklabels(df_comparison['Architecture'], rotation=45, ha='right')\n",
        "for p in axs[3].patches:\n",
        "    x = p.get_x() + p.get_width() / 2\n",
        "    y = p.get_height()\n",
        "    # Agregar el texto con el valor\n",
        "    axs[3].annotate(f\"{y * 100:.2f}%\", (x,y),ha='center', va='bottom', fontsize=8)\n",
        "\n",
        "\n",
        "\n",
        "plt.tight_layout()\n",
        "\n",
        "\n",
        "# Adjust layout and display the plot\n",
        "\n",
        "plt.show()\n",
        "\n",
        "plt.savefig('/content/drive/MyDrive/MasterIA/DeepLearning/Microproy2/comparison.png')"
      ],
      "metadata": {
        "colab": {
          "base_uri": "https://localhost:8080/",
          "height": 457
        },
        "id": "uC8ZGr1uW-RX",
        "outputId": "29f103c2-947d-446c-921e-baeee14b13f9"
      },
      "execution_count": 86,
      "outputs": [
        {
          "output_type": "stream",
          "name": "stderr",
          "text": [
            "<ipython-input-86-9e57d0225477>:7: UserWarning: set_ticklabels() should only be used with a fixed number of ticks, i.e. after set_ticks() or using a FixedLocator.\n",
            "  axs[0].set_xticklabels(df_comparison['Architecture'], rotation=45, ha='right')\n",
            "<ipython-input-86-9e57d0225477>:17: UserWarning: set_ticklabels() should only be used with a fixed number of ticks, i.e. after set_ticks() or using a FixedLocator.\n",
            "  axs[1].set_xticklabels(df_comparison['Architecture'], rotation=45, ha='right')\n",
            "<ipython-input-86-9e57d0225477>:27: UserWarning: set_ticklabels() should only be used with a fixed number of ticks, i.e. after set_ticks() or using a FixedLocator.\n",
            "  axs[2].set_xticklabels(df_comparison['Architecture'], rotation=45, ha='right')\n",
            "<ipython-input-86-9e57d0225477>:37: UserWarning: set_ticklabels() should only be used with a fixed number of ticks, i.e. after set_ticks() or using a FixedLocator.\n",
            "  axs[3].set_xticklabels(df_comparison['Architecture'], rotation=45, ha='right')\n"
          ]
        },
        {
          "output_type": "display_data",
          "data": {
            "text/plain": [
              "<Figure size 1500x500 with 4 Axes>"
            ],
            "image/png": "[encoded data removed]"
          },
          "metadata": {}
        },
        {
          "output_type": "display_data",
          "data": {
            "text/plain": [
              "<Figure size 640x480 with 0 Axes>"
            ]
          },
          "metadata": {}
        }
      ]
    },
    {
      "cell_type": "markdown",
      "source": [
        "De acuerdo con los resultados, la mejor arquitectura es la GRU, con una capa oculta y Unidireccional. Esto lo vemos en el F1_score, que nos da una medida más equitativa. Hay otras métricas en las que incluso otras arquitecturas podrían ser adecuadas también, como es el caso de la arquitectura LSTM- de 2 capas ocultas y unidireccional, la cual tiene incluso un mejor Accuracy. En las celdas posteriores, vamos a utilizar el mejor modelo para entrenarlo por 6 épocas y generar la clasificación correspondiente."
      ],
      "metadata": {
        "id": "zMn1AO6aUL18"
      }
    },
    {
      "cell_type": "code",
      "source": [],
      "metadata": {
        "id": "Vv8-bg4vg4b6"
      },
      "execution_count": null,
      "outputs": []
    },
    {
      "cell_type": "markdown",
      "source": [
        "# Una última prueba del Pipeline"
      ],
      "metadata": {
        "id": "-U_aJlZiw6zt"
      }
    },
    {
      "cell_type": "markdown",
      "source": [
        "En esta sección, hemos hecho una demostración de la comparación del pipeline directamente. Arriba quisimos hacer unos casos de ablación bastante claros, pero aquí mostramos el hecho de que podemos hacer la comparación automática de varias configuraciones si quisiéramos."
      ],
      "metadata": {
        "id": "ZMUvYsMjxBdp"
      }
    },
    {
      "cell_type": "code",
      "source": [
        "ablated_archs = [\n",
        "    {\"rnn_type\": \"gru\", \"num_layers\": 1, \"bidirectional\": False, \"hidden_dim\": 64, \"lr\": 0.001, \"freeze\": True},\n",
        "    {\"rnn_type\": \"lstm\", \"num_layers\": 2, \"bidirectional\": True, \"hidden_dim\": 128, \"lr\": 0.0005,\"dropout\":0.3, \"freeze\": False},\n",
        "    {\"rnn_type\": \"gru\", \"num_layers\": 2, \"bidirectional\": True, \"hidden_dim\": 96, \"lr\": 0.0008, \"dropout\":0.5,\"freeze\": True}\n",
        "]\n",
        "\n",
        "summary = pipeline.run_and_compare(df, configs=ablated_archs)\n"
      ],
      "metadata": {
        "colab": {
          "base_uri": "https://localhost:8080/",
          "height": 1000
        },
        "id": "r7n2SgmVwfde",
        "outputId": "f72ebb4d-be3c-4e6d-d521-a47ff5591d2e"
      },
      "execution_count": 88,
      "outputs": [
        {
          "output_type": "stream",
          "name": "stdout",
          "text": [
            "Running on device: cuda\n",
            "\n",
            "Probando configuración: {'rnn_type': 'gru', 'num_layers': 1, 'bidirectional': False, 'hidden_dim': 64, 'lr': 0.001, 'freeze': True}\n",
            "Training on device: cuda\n",
            "Epoch 1 | Loss: 3905.7121 | Accuracy: 0.75\n",
            "Epoch 2 | Loss: 3251.2047 | Accuracy: 0.81\n",
            "Epoch 3 | Loss: 2942.3021 | Accuracy: 0.83\n",
            "Evaluating on device: cuda\n",
            "Accuracy:  0.81\n",
            "Precision: 0.79\n",
            "Recall:    0.85\n",
            "F1-score:  0.82\n",
            "\n",
            "Probando configuración: {'rnn_type': 'lstm', 'num_layers': 2, 'bidirectional': True, 'hidden_dim': 128, 'lr': 0.0005, 'dropout': 0.3, 'freeze': False}\n",
            "Training on device: cuda\n",
            "Epoch 1 | Loss: 3869.0640 | Accuracy: 0.76\n",
            "Epoch 2 | Loss: 2442.3917 | Accuracy: 0.87\n",
            "Epoch 3 | Loss: 1574.2095 | Accuracy: 0.92\n",
            "Evaluating on device: cuda\n",
            "Accuracy:  0.83\n",
            "Precision: 0.81\n",
            "Recall:    0.85\n",
            "F1-score:  0.83\n",
            "\n",
            "Probando configuración: {'rnn_type': 'gru', 'num_layers': 2, 'bidirectional': True, 'hidden_dim': 96, 'lr': 0.0008, 'dropout': 0.5, 'freeze': True}\n",
            "Training on device: cuda\n",
            "Epoch 1 | Loss: 3983.1966 | Accuracy: 0.75\n",
            "Epoch 2 | Loss: 3378.7670 | Accuracy: 0.80\n",
            "Epoch 3 | Loss: 3042.2518 | Accuracy: 0.83\n",
            "Evaluating on device: cuda\n",
            "Accuracy:  0.81\n",
            "Precision: 0.79\n",
            "Recall:    0.84\n",
            "F1-score:  0.82\n"
          ]
        },
        {
          "output_type": "display_data",
          "data": {
            "text/plain": [
              "<Figure size 1200x600 with 1 Axes>"
            ],
            "image/png": "[encoded data removed]"
          },
          "metadata": {}
        }
      ]
    },
    {
      "cell_type": "markdown",
      "source": [
        "Esta comparación automática nos genera un resumen de la ejecución para poder reportar nuestros resultados en esta variable llamada summary:\n",
        "\n",
        "\n",
        "```\n",
        "summary\n",
        "```\n",
        "\n"
      ],
      "metadata": {
        "id": "5S_cyOnJhWZ5"
      }
    },
    {
      "cell_type": "code",
      "source": [
        "summary"
      ],
      "metadata": {
        "colab": {
          "base_uri": "https://localhost:8080/"
        },
        "id": "WukQQk-FVH2i",
        "outputId": "4942b836-f76d-46ff-f4e4-4b81eb8aae06"
      },
      "execution_count": 89,
      "outputs": [
        {
          "output_type": "execute_result",
          "data": {
            "text/plain": [
              "{'results': [{'accuracy': 0.8083071113908118,\n",
              "   'precision': 0.7857308854287707,\n",
              "   'recall': 0.8490708186840783,\n",
              "   'f1': 0.8161738080869041,\n",
              "   'config': {'rnn_type': 'gru',\n",
              "    'num_layers': 1,\n",
              "    'bidirectional': False,\n",
              "    'hidden_dim': 64,\n",
              "    'lr': 0.001,\n",
              "    'freeze': True}},\n",
              "  {'accuracy': 0.8271869100062933,\n",
              "   'precision': 0.814413111593155,\n",
              "   'recall': 0.8485685585133099,\n",
              "   'f1': 0.8311400811708277,\n",
              "   'config': {'rnn_type': 'lstm',\n",
              "    'num_layers': 2,\n",
              "    'bidirectional': True,\n",
              "    'hidden_dim': 128,\n",
              "    'lr': 0.0005,\n",
              "    'dropout': 0.3,\n",
              "    'freeze': False}},\n",
              "  {'accuracy': 0.8109502831969793,\n",
              "   'precision': 0.7924528301886793,\n",
              "   'recall': 0.8437970868910095,\n",
              "   'f1': 0.8173193870104597,\n",
              "   'config': {'rnn_type': 'gru',\n",
              "    'num_layers': 2,\n",
              "    'bidirectional': True,\n",
              "    'hidden_dim': 96,\n",
              "    'lr': 0.0008,\n",
              "    'dropout': 0.5,\n",
              "    'freeze': True}}],\n",
              " 'best_model': SentimentRNN(\n",
              "   RNN(hidden_dim=128, bidirectional=True)\n",
              "   (embedding): Embedding(128180, 100)\n",
              "   (rnn): LSTM(100, 128, num_layers=2, batch_first=True, dropout=0.3, bidirectional=True)\n",
              "   (dropout): Dropout(p=0.3, inplace=False)\n",
              "   (fc): Linear(in_features=256, out_features=1, bias=True)\n",
              "   (sigmoid): Sigmoid()\n",
              " ),\n",
              " 'best_config': {'rnn_type': 'lstm',\n",
              "  'num_layers': 2,\n",
              "  'bidirectional': True,\n",
              "  'hidden_dim': 128,\n",
              "  'lr': 0.0005,\n",
              "  'dropout': 0.3,\n",
              "  'freeze': False}}"
            ]
          },
          "metadata": {},
          "execution_count": 89
        }
      ]
    },
    {
      "cell_type": "code",
      "source": [
        "best_model = summary[\"best_model\"]"
      ],
      "metadata": {
        "id": "BJEWIjbi08ZC"
      },
      "execution_count": 96,
      "outputs": []
    },
    {
      "cell_type": "code",
      "source": [
        "best_model"
      ],
      "metadata": {
        "colab": {
          "base_uri": "https://localhost:8080/"
        },
        "id": "dop5z0zXN9TP",
        "outputId": "2adcf4e0-1be4-41bd-c92a-026c5d6e0112"
      },
      "execution_count": 97,
      "outputs": [
        {
          "output_type": "execute_result",
          "data": {
            "text/plain": [
              "SentimentRNN(\n",
              "  RNN(hidden_dim=128, bidirectional=True)\n",
              "  (embedding): Embedding(128180, 100)\n",
              "  (rnn): LSTM(100, 128, num_layers=2, batch_first=True, dropout=0.3, bidirectional=True)\n",
              "  (dropout): Dropout(p=0.3, inplace=False)\n",
              "  (fc): Linear(in_features=256, out_features=1, bias=True)\n",
              "  (sigmoid): Sigmoid()\n",
              ")"
            ]
          },
          "metadata": {},
          "execution_count": 97
        }
      ]
    },
    {
      "cell_type": "code",
      "source": [
        "df_results = pd.DataFrame(summary[\"results\"])\n",
        "df_results"
      ],
      "metadata": {
        "colab": {
          "base_uri": "https://localhost:8080/",
          "height": 143
        },
        "id": "bLBuCQdUKrN1",
        "outputId": "41b05f4c-5dce-4544-f5ac-20fe6f6edd36"
      },
      "execution_count": 93,
      "outputs": [
        {
          "output_type": "execute_result",
          "data": {
            "text/plain": [
              "   accuracy  precision    recall        f1  \\\n",
              "0  0.808307   0.785731  0.849071  0.816174   \n",
              "1  0.827187   0.814413  0.848569  0.831140   \n",
              "2  0.810950   0.792453  0.843797  0.817319   \n",
              "\n",
              "                                              config  \n",
              "0  {'rnn_type': 'gru', 'num_layers': 1, 'bidirect...  \n",
              "1  {'rnn_type': 'lstm', 'num_layers': 2, 'bidirec...  \n",
              "2  {'rnn_type': 'gru', 'num_layers': 2, 'bidirect...  "
            ],
            "text/html": [
              "\n",
              "  <div id=\"df-9a6582ea-e4fd-464d-8525-d1329cba0569\" class=\"colab-df-container\">\n",
              "    <div>\n",
              "<style scoped>\n",
              "    .dataframe tbody tr th:only-of-type {\n",
              "        vertical-align: middle;\n",
              "    }\n",
              "\n",
              "    .dataframe tbody tr th {\n",
              "        vertical-align: top;\n",
              "    }\n",
              "\n",
              "    .dataframe thead th {\n",
              "        text-align: right;\n",
              "    }\n",
              "</style>\n",
              "<table border=\"1\" class=\"dataframe\">\n",
              "  <thead>\n",
              "    <tr style=\"text-align: right;\">\n",
              "      <th></th>\n",
              "      <th>accuracy</th>\n",
              "      <th>precision</th>\n",
              "      <th>recall</th>\n",
              "      <th>f1</th>\n",
              "      <th>config</th>\n",
              "    </tr>\n",
              "  </thead>\n",
              "  <tbody>\n",
              "    <tr>\n",
              "      <th>0</th>\n",
              "      <td>0.808307</td>\n",
              "      <td>0.785731</td>\n",
              "      <td>0.849071</td>\n",
              "      <td>0.816174</td>\n",
              "      <td>{'rnn_type': 'gru', 'num_layers': 1, 'bidirect...</td>\n",
              "    </tr>\n",
              "    <tr>\n",
              "      <th>1</th>\n",
              "      <td>0.827187</td>\n",
              "      <td>0.814413</td>\n",
              "      <td>0.848569</td>\n",
              "      <td>0.831140</td>\n",
              "      <td>{'rnn_type': 'lstm', 'num_layers': 2, 'bidirec...</td>\n",
              "    </tr>\n",
              "    <tr>\n",
              "      <th>2</th>\n",
              "      <td>0.810950</td>\n",
              "      <td>0.792453</td>\n",
              "      <td>0.843797</td>\n",
              "      <td>0.817319</td>\n",
              "      <td>{'rnn_type': 'gru', 'num_layers': 2, 'bidirect...</td>\n",
              "    </tr>\n",
              "  </tbody>\n",
              "</table>\n",
              "</div>\n",
              "    <div class=\"colab-df-buttons\">\n",
              "\n",
              "  <div class=\"colab-df-container\">\n",
              "    <button class=\"colab-df-convert\" onclick=\"convertToInteractive('df-9a6582ea-e4fd-464d-8525-d1329cba0569')\"\n",
              "            title=\"Convert this dataframe to an interactive table.\"\n",
              "            style=\"display:none;\">\n",
              "\n",
              "  <svg xmlns=\"http://www.w3.org/2000/svg\" height=\"24px\" viewBox=\"0 -960 960 960\">\n",
              "    <path d=\"M120-120v-720h720v720H120Zm60-500h600v-160H180v160Zm220 220h160v-160H400v160Zm0 220h160v-160H400v160ZM180-400h160v-160H180v160Zm440 0h160v-160H620v160ZM180-180h160v-160H180v160Zm440 0h160v-160H620v160Z\"/>\n",
              "  </svg>\n",
              "    </button>\n",
              "\n",
              "  <style>\n",
              "    .colab-df-container {\n",
              "      display:flex;\n",
              "      gap: 12px;\n",
              "    }\n",
              "\n",
              "    .colab-df-convert {\n",
              "      background-color: #E8F0FE;\n",
              "      border: none;\n",
              "      border-radius: 50%;\n",
              "      cursor: pointer;\n",
              "      display: none;\n",
              "      fill: #1967D2;\n",
              "      height: 32px;\n",
              "      padding: 0 0 0 0;\n",
              "      width: 32px;\n",
              "    }\n",
              "\n",
              "    .colab-df-convert:hover {\n",
              "      background-color: #E2EBFA;\n",
              "      box-shadow: 0px 1px 2px rgba(60, 64, 67, 0.3), 0px 1px 3px 1px rgba(60, 64, 67, 0.15);\n",
              "      fill: #174EA6;\n",
              "    }\n",
              "\n",
              "    .colab-df-buttons div {\n",
              "      margin-bottom: 4px;\n",
              "    }\n",
              "\n",
              "    [theme=dark] .colab-df-convert {\n",
              "      background-color: #3B4455;\n",
              "      fill: #D2E3FC;\n",
              "    }\n",
              "\n",
              "    [theme=dark] .colab-df-convert:hover {\n",
              "      background-color: #434B5C;\n",
              "      box-shadow: 0px 1px 3px 1px rgba(0, 0, 0, 0.15);\n",
              "      filter: drop-shadow(0px 1px 2px rgba(0, 0, 0, 0.3));\n",
              "      fill: #FFFFFF;\n",
              "    }\n",
              "  </style>\n",
              "\n",
              "    <script>\n",
              "      const buttonEl =\n",
              "        document.querySelector('#df-9a6582ea-e4fd-464d-8525-d1329cba0569 button.colab-df-convert');\n",
              "      buttonEl.style.display =\n",
              "        google.colab.kernel.accessAllowed ? 'block' : 'none';\n",
              "\n",
              "      async function convertToInteractive(key) {\n",
              "        const element = document.querySelector('#df-9a6582ea-e4fd-464d-8525-d1329cba0569');\n",
              "        const dataTable =\n",
              "          await google.colab.kernel.invokeFunction('convertToInteractive',\n",
              "                                                    [key], {});\n",
              "        if (!dataTable) return;\n",
              "\n",
              "        const docLinkHtml = 'Like what you see? Visit the ' +\n",
              "          '<a target=\"_blank\" href=https://colab.research.google.com/notebooks/data_table.ipynb>data table notebook</a>'\n",
              "          + ' to learn more about interactive tables.';\n",
              "        element.innerHTML = '';\n",
              "        dataTable['output_type'] = 'display_data';\n",
              "        await google.colab.output.renderOutput(dataTable, element);\n",
              "        const docLink = document.createElement('div');\n",
              "        docLink.innerHTML = docLinkHtml;\n",
              "        element.appendChild(docLink);\n",
              "      }\n",
              "    </script>\n",
              "  </div>\n",
              "\n",
              "\n",
              "    <div id=\"df-705aca93-8896-42bc-bc6c-785afe8435d2\">\n",
              "      <button class=\"colab-df-quickchart\" onclick=\"quickchart('df-705aca93-8896-42bc-bc6c-785afe8435d2')\"\n",
              "                title=\"Suggest charts\"\n",
              "                style=\"display:none;\">\n",
              "\n",
              "<svg xmlns=\"http://www.w3.org/2000/svg\" height=\"24px\"viewBox=\"0 0 24 24\"\n",
              "     width=\"24px\">\n",
              "    <g>\n",
              "        <path d=\"M19 3H5c-1.1 0-2 .9-2 2v14c0 1.1.9 2 2 2h14c1.1 0 2-.9 2-2V5c0-1.1-.9-2-2-2zM9 17H7v-7h2v7zm4 0h-2V7h2v10zm4 0h-2v-4h2v4z\"/>\n",
              "    </g>\n",
              "</svg>\n",
              "      </button>\n",
              "\n",
              "<style>\n",
              "  .colab-df-quickchart {\n",
              "      --bg-color: #E8F0FE;\n",
              "      --fill-color: #1967D2;\n",
              "      --hover-bg-color: #E2EBFA;\n",
              "      --hover-fill-color: #174EA6;\n",
              "      --disabled-fill-color: #AAA;\n",
              "      --disabled-bg-color: #DDD;\n",
              "  }\n",
              "\n",
              "  [theme=dark] .colab-df-quickchart {\n",
              "      --bg-color: #3B4455;\n",
              "      --fill-color: #D2E3FC;\n",
              "      --hover-bg-color: #434B5C;\n",
              "      --hover-fill-color: #FFFFFF;\n",
              "      --disabled-bg-color: #3B4455;\n",
              "      --disabled-fill-color: #666;\n",
              "  }\n",
              "\n",
              "  .colab-df-quickchart {\n",
              "    background-color: var(--bg-color);\n",
              "    border: none;\n",
              "    border-radius: 50%;\n",
              "    cursor: pointer;\n",
              "    display: none;\n",
              "    fill: var(--fill-color);\n",
              "    height: 32px;\n",
              "    padding: 0;\n",
              "    width: 32px;\n",
              "  }\n",
              "\n",
              "  .colab-df-quickchart:hover {\n",
              "    background-color: var(--hover-bg-color);\n",
              "    box-shadow: 0 1px 2px rgba(60, 64, 67, 0.3), 0 1px 3px 1px rgba(60, 64, 67, 0.15);\n",
              "    fill: var(--button-hover-fill-color);\n",
              "  }\n",
              "\n",
              "  .colab-df-quickchart-complete:disabled,\n",
              "  .colab-df-quickchart-complete:disabled:hover {\n",
              "    background-color: var(--disabled-bg-color);\n",
              "    fill: var(--disabled-fill-color);\n",
              "    box-shadow: none;\n",
              "  }\n",
              "\n",
              "  .colab-df-spinner {\n",
              "    border: 2px solid var(--fill-color);\n",
              "    border-color: transparent;\n",
              "    border-bottom-color: var(--fill-color);\n",
              "    animation:\n",
              "      spin 1s steps(1) infinite;\n",
              "  }\n",
              "\n",
              "  @keyframes spin {\n",
              "    0% {\n",
              "      border-color: transparent;\n",
              "      border-bottom-color: var(--fill-color);\n",
              "      border-left-color: var(--fill-color);\n",
              "    }\n",
              "    20% {\n",
              "      border-color: transparent;\n",
              "      border-left-color: var(--fill-color);\n",
              "      border-top-color: var(--fill-color);\n",
              "    }\n",
              "    30% {\n",
              "      border-color: transparent;\n",
              "      border-left-color: var(--fill-color);\n",
              "      border-top-color: var(--fill-color);\n",
              "      border-right-color: var(--fill-color);\n",
              "    }\n",
              "    40% {\n",
              "      border-color: transparent;\n",
              "      border-right-color: var(--fill-color);\n",
              "      border-top-color: var(--fill-color);\n",
              "    }\n",
              "    60% {\n",
              "      border-color: transparent;\n",
              "      border-right-color: var(--fill-color);\n",
              "    }\n",
              "    80% {\n",
              "      border-color: transparent;\n",
              "      border-right-color: var(--fill-color);\n",
              "      border-bottom-color: var(--fill-color);\n",
              "    }\n",
              "    90% {\n",
              "      border-color: transparent;\n",
              "      border-bottom-color: var(--fill-color);\n",
              "    }\n",
              "  }\n",
              "</style>\n",
              "\n",
              "      <script>\n",
              "        async function quickchart(key) {\n",
              "          const quickchartButtonEl =\n",
              "            document.querySelector('#' + key + ' button');\n",
              "          quickchartButtonEl.disabled = true;  // To prevent multiple clicks.\n",
              "          quickchartButtonEl.classList.add('colab-df-spinner');\n",
              "          try {\n",
              "            const charts = await google.colab.kernel.invokeFunction(\n",
              "                'suggestCharts', [key], {});\n",
              "          } catch (error) {\n",
              "            console.error('Error during call to suggestCharts:', error);\n",
              "          }\n",
              "          quickchartButtonEl.classList.remove('colab-df-spinner');\n",
              "          quickchartButtonEl.classList.add('colab-df-quickchart-complete');\n",
              "        }\n",
              "        (() => {\n",
              "          let quickchartButtonEl =\n",
              "            document.querySelector('#df-705aca93-8896-42bc-bc6c-785afe8435d2 button');\n",
              "          quickchartButtonEl.style.display =\n",
              "            google.colab.kernel.accessAllowed ? 'block' : 'none';\n",
              "        })();\n",
              "      </script>\n",
              "    </div>\n",
              "\n",
              "  <div id=\"id_ca899afe-3a3b-45a0-865c-caf3eba6f706\">\n",
              "    <style>\n",
              "      .colab-df-generate {\n",
              "        background-color: #E8F0FE;\n",
              "        border: none;\n",
              "        border-radius: 50%;\n",
              "        cursor: pointer;\n",
              "        display: none;\n",
              "        fill: #1967D2;\n",
              "        height: 32px;\n",
              "        padding: 0 0 0 0;\n",
              "        width: 32px;\n",
              "      }\n",
              "\n",
              "      .colab-df-generate:hover {\n",
              "        background-color: #E2EBFA;\n",
              "        box-shadow: 0px 1px 2px rgba(60, 64, 67, 0.3), 0px 1px 3px 1px rgba(60, 64, 67, 0.15);\n",
              "        fill: #174EA6;\n",
              "      }\n",
              "\n",
              "      [theme=dark] .colab-df-generate {\n",
              "        background-color: #3B4455;\n",
              "        fill: #D2E3FC;\n",
              "      }\n",
              "\n",
              "      [theme=dark] .colab-df-generate:hover {\n",
              "        background-color: #434B5C;\n",
              "        box-shadow: 0px 1px 3px 1px rgba(0, 0, 0, 0.15);\n",
              "        filter: drop-shadow(0px 1px 2px rgba(0, 0, 0, 0.3));\n",
              "        fill: #FFFFFF;\n",
              "      }\n",
              "    </style>\n",
              "    <button class=\"colab-df-generate\" onclick=\"generateWithVariable('df_results')\"\n",
              "            title=\"Generate code using this dataframe.\"\n",
              "            style=\"display:none;\">\n",
              "\n",
              "  <svg xmlns=\"http://www.w3.org/2000/svg\" height=\"24px\"viewBox=\"0 0 24 24\"\n",
              "       width=\"24px\">\n",
              "    <path d=\"M7,19H8.4L18.45,9,17,7.55,7,17.6ZM5,21V16.75L18.45,3.32a2,2,0,0,1,2.83,0l1.4,1.43a1.91,1.91,0,0,1,.58,1.4,1.91,1.91,0,0,1-.58,1.4L9.25,21ZM18.45,9,17,7.55Zm-12,3A5.31,5.31,0,0,0,4.9,8.1,5.31,5.31,0,0,0,1,6.5,5.31,5.31,0,0,0,4.9,4.9,5.31,5.31,0,0,0,6.5,1,5.31,5.31,0,0,0,8.1,4.9,5.31,5.31,0,0,0,12,6.5,5.46,5.46,0,0,0,6.5,12Z\"/>\n",
              "  </svg>\n",
              "    </button>\n",
              "    <script>\n",
              "      (() => {\n",
              "      const buttonEl =\n",
              "        document.querySelector('#id_ca899afe-3a3b-45a0-865c-caf3eba6f706 button.colab-df-generate');\n",
              "      buttonEl.style.display =\n",
              "        google.colab.kernel.accessAllowed ? 'block' : 'none';\n",
              "\n",
              "      buttonEl.onclick = () => {\n",
              "        google.colab.notebook.generateWithVariable('df_results');\n",
              "      }\n",
              "      })();\n",
              "    </script>\n",
              "  </div>\n",
              "\n",
              "    </div>\n",
              "  </div>\n"
            ],
            "application/vnd.google.colaboratory.intrinsic+json": {
              "type": "dataframe",
              "variable_name": "df_results",
              "summary": "{\n  \"name\": \"df_results\",\n  \"rows\": 3,\n  \"fields\": [\n    {\n      \"column\": \"accuracy\",\n      \"properties\": {\n        \"dtype\": \"number\",\n        \"std\": 0.010223023061558903,\n        \"min\": 0.8083071113908118,\n        \"max\": 0.8271869100062933,\n        \"num_unique_values\": 3,\n        \"samples\": [\n          0.8083071113908118,\n          0.8271869100062933,\n          0.8109502831969793\n        ],\n        \"semantic_type\": \"\",\n        \"description\": \"\"\n      }\n    },\n    {\n      \"column\": \"precision\",\n      \"properties\": {\n        \"dtype\": \"number\",\n        \"std\": 0.015000603312666663,\n        \"min\": 0.7857308854287707,\n        \"max\": 0.814413111593155,\n        \"num_unique_values\": 3,\n        \"samples\": [\n          0.7857308854287707,\n          0.814413111593155,\n          0.7924528301886793\n        ],\n        \"semantic_type\": \"\",\n        \"description\": \"\"\n      }\n    },\n    {\n      \"column\": \"recall\",\n      \"properties\": {\n        \"dtype\": \"number\",\n        \"std\": 0.0029106543865249843,\n        \"min\": 0.8437970868910095,\n        \"max\": 0.8490708186840783,\n        \"num_unique_values\": 3,\n        \"samples\": [\n          0.8490708186840783,\n          0.8485685585133099,\n          0.8437970868910095\n        ],\n        \"semantic_type\": \"\",\n        \"description\": \"\"\n      }\n    },\n    {\n      \"column\": \"f1\",\n      \"properties\": {\n        \"dtype\": \"number\",\n        \"std\": 0.008329798598676743,\n        \"min\": 0.8161738080869041,\n        \"max\": 0.8311400811708277,\n        \"num_unique_values\": 3,\n        \"samples\": [\n          0.8161738080869041,\n          0.8311400811708277,\n          0.8173193870104597\n        ],\n        \"semantic_type\": \"\",\n        \"description\": \"\"\n      }\n    },\n    {\n      \"column\": \"config\",\n      \"properties\": {\n        \"dtype\": \"object\",\n        \"semantic_type\": \"\",\n        \"description\": \"\"\n      }\n    }\n  ]\n}"
            }
          },
          "metadata": {},
          "execution_count": 93
        }
      ]
    },
    {
      "cell_type": "markdown",
      "source": [
        "Aquí podemos comparar los resultados gráficamente entre las diferentes arquitecturas, de manera más evidente."
      ],
      "metadata": {
        "id": "C2pkhxvqhqO6"
      }
    },
    {
      "cell_type": "code",
      "source": [
        "import matplotlib.cm as cm\n",
        "from matplotlib.patches import Patch"
      ],
      "metadata": {
        "id": "H_5R6riAaYxf"
      },
      "execution_count": 94,
      "outputs": []
    },
    {
      "cell_type": "code",
      "source": [
        "fig, axs = plt.subplots(1, 4, figsize=(10,5 ))\n",
        "\n",
        "configs = df_results['config']\n",
        "num_configs = len(configs)\n",
        "colors = cm.get_cmap('tab10', num_configs)(np.arange(num_configs))\n",
        "\n",
        "axs[0].bar(df_results.index, df_results['f1'], alpha=0.7, color=colors)\n",
        "axs[0].set_title('F1 Score')\n",
        "#axs[0].set_xticklabels(df_results['config'], rotation=45, ha='right')\n",
        "for p in axs[0].patches:\n",
        "    x = p.get_x() + p.get_width() / 2\n",
        "    y = p.get_height()\n",
        "\n",
        "    axs[0].annotate(f\"{y * 100:.2f}%\", (x,y),ha='center', va='bottom', fontsize=8)\n",
        "\n",
        "axs[1].bar(df_results.index, df_results['recall'], alpha=0.7,color=colors)\n",
        "axs[1].set_title('Recall')\n",
        "#axs[1].set_xticklabels(df_results['config'], rotation=45, ha='right')\n",
        "for p in axs[1].patches:\n",
        "    x = p.get_x() + p.get_width() / 2\n",
        "    y = p.get_height()\n",
        "    axs[1].annotate(f\"{y * 100:.2f}%\", (x,y),ha='center', va='bottom', fontsize=8)\n",
        "\n",
        "axs[2].bar(df_results.index, df_results['precision'], alpha=0.7,color=colors)\n",
        "axs[2].set_title('Precision')\n",
        "#axs[2].set_xticklabels(df_results['config'], rotation=45, ha='right')\n",
        "for p in axs[2].patches:\n",
        "    x = p.get_x() + p.get_width() / 2\n",
        "    y = p.get_height()\n",
        "    axs[2].annotate(f\"{y * 100:.2f}%\", (x,y),ha='center', va='bottom', fontsize=8)\n",
        "\n",
        "axs[3].bar(df_results.index, df_results['accuracy'], alpha=0.7,color=colors)\n",
        "axs[3].set_title('Accuracy')\n",
        "#axs[3].set_xticklabels(df_results['config'], rotation=45, ha='right')\n",
        "for p in axs[3].patches:\n",
        "    x = p.get_x() + p.get_width() / 2\n",
        "    y = p.get_height()\n",
        "    axs[3].annotate(f\"{y * 100:.2f}%\", (x,y),ha='center', va='bottom', fontsize=8)\n",
        "\n",
        "legend_patches = [\n",
        "    Patch(color=colors[i], label=configs.iloc[i])\n",
        "    for i in range(num_configs)\n",
        "]\n",
        "\n",
        "fig.legend(handles=legend_patches, loc='center',\n",
        "           ncol=1, bbox_to_anchor=(1, 1.05))\n",
        "plt.tight_layout()\n",
        "\n",
        "\n",
        "plt.show()\n",
        "\n"
      ],
      "metadata": {
        "colab": {
          "base_uri": "https://localhost:8080/",
          "height": 386
        },
        "id": "a1YPNau7p7pC",
        "outputId": "1d01a188-918d-428c-f978-9392ad2cc6aa"
      },
      "execution_count": 95,
      "outputs": [
        {
          "output_type": "stream",
          "name": "stderr",
          "text": [
            "<ipython-input-95-d0e751fbc4c6>:5: MatplotlibDeprecationWarning: The get_cmap function was deprecated in Matplotlib 3.7 and will be removed in 3.11. Use ``matplotlib.colormaps[name]`` or ``matplotlib.colormaps.get_cmap()`` or ``pyplot.get_cmap()`` instead.\n",
            "  colors = cm.get_cmap('tab10', num_configs)(np.arange(num_configs))\n"
          ]
        },
        {
          "output_type": "display_data",
          "data": {
            "text/plain": [
              "<Figure size 1000x500 with 4 Axes>"
            ],
            "image/png": "[encoded data removed]"
          },
          "metadata": {}
        }
      ]
    },
    {
      "cell_type": "markdown",
      "source": [
        "# Entrenando el mejor modelo"
      ],
      "metadata": {
        "id": "eE3emKs2Wr6v"
      }
    },
    {
      "cell_type": "markdown",
      "source": [
        "En esta sección, y dadas las ablaciones anteriores, seleccionamos la mejor combinación modelo - arquitectura,    con los mejores parámetros encontrados en la optimización, para entrenar y mostrar los resultados. Al final del notebook, hemos añadido una aplicación con Gradio que permite correr interactivamente el modelo y hacer el análisis de sentimiento respectivo."
      ],
      "metadata": {
        "id": "5lC8IwIzh455"
      }
    },
    {
      "cell_type": "code",
      "source": [
        "pipeline.model = mejor_modelo"
      ],
      "metadata": {
        "id": "ALOROYVoV49k"
      },
      "execution_count": 100,
      "outputs": []
    },
    {
      "cell_type": "code",
      "source": [
        "df = imdb_df.copy()"
      ],
      "metadata": {
        "id": "xQzl7eJbWQSR"
      },
      "execution_count": 101,
      "outputs": []
    },
    {
      "cell_type": "code",
      "source": [
        "# 1. Asegurarse de tener datos de entrenamiento preprocesados\n",
        "df_train = pipeline.preprocess_and_tokenize(df, build_vocab=True)\n",
        "train_dataset = pipeline.create_dataset(df_train)"
      ],
      "metadata": {
        "id": "3J5kY_HDWH72"
      },
      "execution_count": 102,
      "outputs": []
    },
    {
      "cell_type": "code",
      "source": [
        "# 2. Obtener la mejor configuración encontrada previamente\n",
        "#cfg =pipeline. best_params\n",
        "cfg = best_params\n",
        "\n"
      ],
      "metadata": {
        "id": "5eVNCGXqW37U"
      },
      "execution_count": 103,
      "outputs": []
    },
    {
      "cell_type": "code",
      "source": [
        "mejor_modelo"
      ],
      "metadata": {
        "colab": {
          "base_uri": "https://localhost:8080/"
        },
        "id": "f3UFe3FHXbWP",
        "outputId": "f76e8c83-fc40-4437-9571-75ff442fba3c"
      },
      "execution_count": 104,
      "outputs": [
        {
          "output_type": "execute_result",
          "data": {
            "text/plain": [
              "SentimentRNN(\n",
              "  RNN(hidden_dim=34, bidirectional=True)\n",
              "  (embedding): Embedding(145675, 100)\n",
              "  (rnn): LSTM(100, 34, num_layers=2, batch_first=True, dropout=0.11370806346918037, bidirectional=True)\n",
              "  (dropout): Dropout(p=0.11370806346918037, inplace=False)\n",
              "  (fc): Linear(in_features=68, out_features=1, bias=True)\n",
              "  (sigmoid): Sigmoid()\n",
              ")"
            ]
          },
          "metadata": {},
          "execution_count": 104
        }
      ]
    },
    {
      "cell_type": "markdown",
      "source": [
        "Ya que encontramos el mejor modelo,vamos a entrenarlo por 6 épocas  esto nos debe garantizar un buen desempeño."
      ],
      "metadata": {
        "id": "R_6Cwp3cYPOq"
      }
    },
    {
      "cell_type": "code",
      "source": [
        "# 3. Entrenar el modelo usando esa configuración, pero con 10 épocas\n",
        "trained_model = pipeline.train(\n",
        "    train_dataset,\n",
        "    hidden_dim=best_params['hidden_dim'],\n",
        "    lr=best_params[\"lr\"],\n",
        "    freeze=best_params[\"freeze\"],\n",
        "    epochs=6,  # Número de épocas ajustado\n",
        "    num_layers=2,\n",
        "    bidirectional=True,\n",
        "    rnn_type='lstm',\n",
        "    batch_size=4\n",
        ")"
      ],
      "metadata": {
        "colab": {
          "base_uri": "https://localhost:8080/"
        },
        "id": "2TywZqV7W5nY",
        "outputId": "225756d5-7626-4394-95cb-61751cd138ba"
      },
      "execution_count": 105,
      "outputs": [
        {
          "output_type": "stream",
          "name": "stdout",
          "text": [
            "Training on device: cuda\n",
            "Epoch 1 | Loss: 4227.3157 | Accuracy: 0.80\n",
            "Epoch 2 | Loss: 2244.6225 | Accuracy: 0.91\n",
            "Epoch 3 | Loss: 1031.9880 | Accuracy: 0.96\n",
            "Epoch 4 | Loss: 419.5093 | Accuracy: 0.99\n",
            "Epoch 5 | Loss: 164.1466 | Accuracy: 0.99\n",
            "Epoch 6 | Loss: 69.2920 | Accuracy: 1.00\n"
          ]
        }
      ]
    },
    {
      "cell_type": "code",
      "source": [
        "pipeline.evaluate_with_confusion(train_dataset)"
      ],
      "metadata": {
        "colab": {
          "base_uri": "https://localhost:8080/",
          "height": 623
        },
        "id": "_Lqsbj-eZzlO",
        "outputId": "48fb121e-a825-4bdc-843c-22fbe3b325e4"
      },
      "execution_count": 106,
      "outputs": [
        {
          "output_type": "stream",
          "name": "stdout",
          "text": [
            "Evaluating on device: cuda\n",
            "              precision    recall  f1-score   support\n",
            "\n",
            "         0.0       1.00      1.00      1.00     19815\n",
            "         1.0       1.00      1.00      1.00     19908\n",
            "\n",
            "    accuracy                           1.00     39723\n",
            "   macro avg       1.00      1.00      1.00     39723\n",
            "weighted avg       1.00      1.00      1.00     39723\n",
            "\n"
          ]
        },
        {
          "output_type": "display_data",
          "data": {
            "text/plain": [
              "<Figure size 640x480 with 2 Axes>"
            ],
            "image/png": "[encoded data removed]"
          },
          "metadata": {}
        }
      ]
    },
    {
      "cell_type": "markdown",
      "source": [
        "# Visualización de la Mejor Arquitectura"
      ],
      "metadata": {
        "id": "YspwbX8eTAq_"
      }
    },
    {
      "cell_type": "markdown",
      "source": [
        "Esta librería nos permite visualizar la arquitectura empleada en el entrenamiento del mejor modelo."
      ],
      "metadata": {
        "id": "zTirusRjTKgh"
      }
    },
    {
      "cell_type": "code",
      "source": [
        "!pip install torchview"
      ],
      "metadata": {
        "colab": {
          "base_uri": "https://localhost:8080/"
        },
        "id": "a-Zh5nFAvmNX",
        "outputId": "51fc661c-c9f1-4ecc-84da-ca607ba531ef"
      },
      "execution_count": 107,
      "outputs": [
        {
          "output_type": "stream",
          "name": "stdout",
          "text": [
            "Requirement already satisfied: torchview in /usr/local/lib/python3.11/dist-packages (0.2.7)\n",
            "Requirement already satisfied: graphviz in /usr/local/lib/python3.11/dist-packages (from torchview) (0.20.3)\n"
          ]
        }
      ]
    },
    {
      "cell_type": "code",
      "source": [
        "from torchview import draw_graph\n",
        "import torch\n",
        "\n",
        "# Asegúrate de tener el modelo cargado\n",
        "mejor_modelo = pipeline.model\n",
        "mejor_modelo_cpu = mejor_modelo.to(\"cpu\").eval()\n",
        "\n",
        "tensor_auxiliar = torch.randint(0, len(pipeline.vocab), (1, pipeline.max_len))\n",
        "tensor_auxiliar = tensor_auxiliar.to(\"cpu\")\n",
        "\n",
        "# Generar visualización del modelo\n",
        "model_graph = draw_graph(\n",
        "    mejor_modelo,\n",
        "    input_data=tensor_auxiliar,\n",
        "    expand_nested=True,\n",
        "    save_graph=False,\n",
        "    filename=\"SentimentRNN_architecture\",\n",
        "    graph_dir=\".\",  # carpeta actual,\n",
        "\n",
        ")\n",
        "\n"
      ],
      "metadata": {
        "id": "JQ6bx481vop2"
      },
      "execution_count": 108,
      "outputs": []
    },
    {
      "cell_type": "code",
      "source": [
        "model_graph.visual_graph.render(\"SentimentRNN_architecture\", format=\"png\")"
      ],
      "metadata": {
        "colab": {
          "base_uri": "https://localhost:8080/",
          "height": 36
        },
        "id": "ckdkTx-tVOCG",
        "outputId": "357278dd-36d9-403b-9554-c0ee0e122e93"
      },
      "execution_count": 111,
      "outputs": [
        {
          "output_type": "execute_result",
          "data": {
            "text/plain": [
              "'SentimentRNN_architecture.png'"
            ],
            "application/vnd.google.colaboratory.intrinsic+json": {
              "type": "string"
            }
          },
          "metadata": {},
          "execution_count": 111
        }
      ]
    },
    {
      "cell_type": "code",
      "source": [
        "model_graph.visual_graph"
      ],
      "metadata": {
        "colab": {
          "base_uri": "https://localhost:8080/",
          "height": 998
        },
        "id": "cT8tbZyLxDdu",
        "outputId": "80bbc616-a42f-4b81-d009-47d4c6fae48e"
      },
      "execution_count": 112,
      "outputs": [
        {
          "output_type": "execute_result",
          "data": {
            "image/svg+xml": "<?xml version=\"1.0\" encoding=\"UTF-8\" standalone=\"no\"?>\n<!DOCTYPE svg PUBLIC \"-//W3C//DTD SVG 1.1//EN\"\n \"http://www.w3.org/Graphics/SVG/1.1/DTD/svg11.dtd\">\n<!-- Generated by graphviz version 2.43.0 (0)\n -->\n<!-- Title: model Pages: 1 -->\n<svg width=\"452pt\" height=\"732pt\"\n viewBox=\"0.00 0.00 452.00 732.00\" xmlns=\"http://www.w3.org/2000/svg\" xmlns:xlink=\"http://www.w3.org/1999/xlink\">\n<g id=\"graph0\" class=\"graph\" transform=\"scale(1 1) rotate(0) translate(4 728)\">\n<title>model</title>\n<polygon fill=\"white\" stroke=\"transparent\" points=\"-4,4 -4,-728 448,-728 448,4 -4,4\"/>\n<!-- 0 -->\n<g id=\"node1\" class=\"node\">\n<title>0</title>\n<polygon fill=\"lightyellow\" stroke=\"transparent\" points=\"289.5,-724 153.5,-724 153.5,-692 289.5,-692 289.5,-724\"/>\n<polygon fill=\"none\" stroke=\"black\" points=\"153.5,-692 153.5,-724 236.5,-724 236.5,-692 153.5,-692\"/>\n<text text-anchor=\"start\" x=\"158.5\" y=\"-711\" font-family=\"Linux libertine\" font-size=\"10.00\">input&#45;tensor</text>\n<text text-anchor=\"start\" x=\"173.5\" y=\"-700\" font-family=\"Linux libertine\" font-size=\"10.00\">depth:0</text>\n<polygon fill=\"none\" stroke=\"black\" points=\"236.5,-692 236.5,-724 289.5,-724 289.5,-692 236.5,-692\"/>\n<text text-anchor=\"start\" x=\"241.5\" y=\"-705.5\" font-family=\"Linux libertine\" font-size=\"10.00\">(1, 50)</text>\n</g>\n<!-- 1 -->\n<g id=\"node2\" class=\"node\">\n<title>1</title>\n<polygon fill=\"#c1ffc1\" stroke=\"transparent\" points=\"328,-656 115,-656 115,-614 328,-614 328,-656\"/>\n<polygon fill=\"none\" stroke=\"black\" points=\"115.5,-614 115.5,-656 180.5,-656 180.5,-614 115.5,-614\"/>\n<text text-anchor=\"start\" x=\"120.5\" y=\"-638\" font-family=\"Linux libertine\" font-size=\"10.00\">Embedding</text>\n<text text-anchor=\"start\" x=\"126.5\" y=\"-627\" font-family=\"Linux libertine\" font-size=\"10.00\">depth:1</text>\n<polygon fill=\"none\" stroke=\"black\" points=\"180.5,-635 180.5,-656 239.5,-656 239.5,-635 180.5,-635\"/>\n<text text-anchor=\"start\" x=\"191.5\" y=\"-643\" font-family=\"Linux libertine\" font-size=\"10.00\">input:</text>\n<polygon fill=\"none\" stroke=\"black\" points=\"239.5,-635 239.5,-656 328.5,-656 328.5,-635 239.5,-635\"/>\n<text text-anchor=\"start\" x=\"259.5\" y=\"-643\" font-family=\"Linux libertine\" font-size=\"10.00\">(1, 50) </text>\n<polygon fill=\"none\" stroke=\"black\" points=\"180.5,-614 180.5,-635 239.5,-635 239.5,-614 180.5,-614\"/>\n<text text-anchor=\"start\" x=\"185.5\" y=\"-622\" font-family=\"Linux libertine\" font-size=\"10.00\">output: </text>\n<polygon fill=\"none\" stroke=\"black\" points=\"239.5,-614 239.5,-635 328.5,-635 328.5,-614 239.5,-614\"/>\n<text text-anchor=\"start\" x=\"244.5\" y=\"-622\" font-family=\"Linux libertine\" font-size=\"10.00\">(1, 50, 100) </text>\n</g>\n<!-- 0&#45;&gt;1 -->\n<g id=\"edge1\" class=\"edge\">\n<title>0&#45;&gt;1</title>\n<path fill=\"none\" stroke=\"black\" d=\"M221.5,-691.94C221.5,-684.45 221.5,-675.12 221.5,-666.24\"/>\n<polygon fill=\"black\" stroke=\"black\" points=\"225,-666.16 221.5,-656.16 218,-666.16 225,-666.16\"/>\n</g>\n<!-- 2 -->\n<g id=\"node3\" class=\"node\">\n<title>2</title>\n<polygon fill=\"#c1ffc1\" stroke=\"transparent\" points=\"367,-578 76,-578 76,-536 367,-536 367,-578\"/>\n<polygon fill=\"none\" stroke=\"black\" points=\"76.5,-536 76.5,-578 129.5,-578 129.5,-536 76.5,-536\"/>\n<text text-anchor=\"start\" x=\"90.5\" y=\"-560\" font-family=\"Linux libertine\" font-size=\"10.00\">LSTM</text>\n<text text-anchor=\"start\" x=\"81.5\" y=\"-549\" font-family=\"Linux libertine\" font-size=\"10.00\">depth:1</text>\n<polygon fill=\"none\" stroke=\"black\" points=\"129.5,-557 129.5,-578 188.5,-578 188.5,-557 129.5,-557\"/>\n<text text-anchor=\"start\" x=\"140.5\" y=\"-565\" font-family=\"Linux libertine\" font-size=\"10.00\">input:</text>\n<polygon fill=\"none\" stroke=\"black\" points=\"188.5,-557 188.5,-578 367.5,-578 367.5,-557 188.5,-557\"/>\n<text text-anchor=\"start\" x=\"238.5\" y=\"-565\" font-family=\"Linux libertine\" font-size=\"10.00\">(1, 50, 100) </text>\n<polygon fill=\"none\" stroke=\"black\" points=\"129.5,-536 129.5,-557 188.5,-557 188.5,-536 129.5,-536\"/>\n<text text-anchor=\"start\" x=\"134.5\" y=\"-544\" font-family=\"Linux libertine\" font-size=\"10.00\">output: </text>\n<polygon fill=\"none\" stroke=\"black\" points=\"188.5,-536 188.5,-557 367.5,-557 367.5,-536 188.5,-536\"/>\n<text text-anchor=\"start\" x=\"193.5\" y=\"-544\" font-family=\"Linux libertine\" font-size=\"10.00\">(1, 50, 68), 2 x (4, 1, 34) </text>\n</g>\n<!-- 1&#45;&gt;2 -->\n<g id=\"edge2\" class=\"edge\">\n<title>1&#45;&gt;2</title>\n<path fill=\"none\" stroke=\"black\" d=\"M221.5,-613.63C221.5,-605.82 221.5,-596.73 221.5,-588.18\"/>\n<polygon fill=\"black\" stroke=\"black\" points=\"225,-588.16 221.5,-578.16 218,-588.16 225,-588.16\"/>\n</g>\n<!-- 3 -->\n<g id=\"node4\" class=\"node\">\n<title>3</title>\n<polygon fill=\"aliceblue\" stroke=\"transparent\" points=\"213,-500 0,-500 0,-458 213,-458 213,-500\"/>\n<polygon fill=\"none\" stroke=\"black\" points=\"0.5,-458 0.5,-500 77.5,-500 77.5,-458 0.5,-458\"/>\n<text text-anchor=\"start\" x=\"5.5\" y=\"-482\" font-family=\"Linux libertine\" font-size=\"10.00\">__getitem__</text>\n<text text-anchor=\"start\" x=\"17.5\" y=\"-471\" font-family=\"Linux libertine\" font-size=\"10.00\">depth:1</text>\n<polygon fill=\"none\" stroke=\"black\" points=\"77.5,-479 77.5,-500 136.5,-500 136.5,-479 77.5,-479\"/>\n<text text-anchor=\"start\" x=\"88.5\" y=\"-487\" font-family=\"Linux libertine\" font-size=\"10.00\">input:</text>\n<polygon fill=\"none\" stroke=\"black\" points=\"136.5,-479 136.5,-500 213.5,-500 213.5,-479 136.5,-479\"/>\n<text text-anchor=\"start\" x=\"141.5\" y=\"-487\" font-family=\"Linux libertine\" font-size=\"10.00\">(4, 1, 34) </text>\n<polygon fill=\"none\" stroke=\"black\" points=\"77.5,-458 77.5,-479 136.5,-479 136.5,-458 77.5,-458\"/>\n<text text-anchor=\"start\" x=\"82.5\" y=\"-466\" font-family=\"Linux libertine\" font-size=\"10.00\">output: </text>\n<polygon fill=\"none\" stroke=\"black\" points=\"136.5,-458 136.5,-479 213.5,-479 213.5,-458 136.5,-458\"/>\n<text text-anchor=\"start\" x=\"150.5\" y=\"-466\" font-family=\"Linux libertine\" font-size=\"10.00\">(1, 34) </text>\n</g>\n<!-- 2&#45;&gt;3 -->\n<g id=\"edge3\" class=\"edge\">\n<title>2&#45;&gt;3</title>\n<path fill=\"none\" stroke=\"black\" d=\"M190.98,-535.83C177.08,-526.64 160.45,-515.65 145.64,-505.86\"/>\n<polygon fill=\"black\" stroke=\"black\" points=\"147.43,-502.85 137.16,-500.26 143.57,-508.69 147.43,-502.85\"/>\n</g>\n<!-- 4 -->\n<g id=\"node5\" class=\"node\">\n<title>4</title>\n<polygon fill=\"aliceblue\" stroke=\"transparent\" points=\"444,-500 231,-500 231,-458 444,-458 444,-500\"/>\n<polygon fill=\"none\" stroke=\"black\" points=\"231.5,-458 231.5,-500 308.5,-500 308.5,-458 231.5,-458\"/>\n<text text-anchor=\"start\" x=\"236.5\" y=\"-482\" font-family=\"Linux libertine\" font-size=\"10.00\">__getitem__</text>\n<text text-anchor=\"start\" x=\"248.5\" y=\"-471\" font-family=\"Linux libertine\" font-size=\"10.00\">depth:1</text>\n<polygon fill=\"none\" stroke=\"black\" points=\"308.5,-479 308.5,-500 367.5,-500 367.5,-479 308.5,-479\"/>\n<text text-anchor=\"start\" x=\"319.5\" y=\"-487\" font-family=\"Linux libertine\" font-size=\"10.00\">input:</text>\n<polygon fill=\"none\" stroke=\"black\" points=\"367.5,-479 367.5,-500 444.5,-500 444.5,-479 367.5,-479\"/>\n<text text-anchor=\"start\" x=\"372.5\" y=\"-487\" font-family=\"Linux libertine\" font-size=\"10.00\">(4, 1, 34) </text>\n<polygon fill=\"none\" stroke=\"black\" points=\"308.5,-458 308.5,-479 367.5,-479 367.5,-458 308.5,-458\"/>\n<text text-anchor=\"start\" x=\"313.5\" y=\"-466\" font-family=\"Linux libertine\" font-size=\"10.00\">output: </text>\n<polygon fill=\"none\" stroke=\"black\" points=\"367.5,-458 367.5,-479 444.5,-479 444.5,-458 367.5,-458\"/>\n<text text-anchor=\"start\" x=\"381.5\" y=\"-466\" font-family=\"Linux libertine\" font-size=\"10.00\">(1, 34) </text>\n</g>\n<!-- 2&#45;&gt;4 -->\n<g id=\"edge4\" class=\"edge\">\n<title>2&#45;&gt;4</title>\n<path fill=\"none\" stroke=\"black\" d=\"M252.28,-535.83C266.31,-526.64 283.08,-515.65 298.02,-505.86\"/>\n<polygon fill=\"black\" stroke=\"black\" points=\"300.13,-508.67 306.57,-500.26 296.29,-502.81 300.13,-508.67\"/>\n</g>\n<!-- 5 -->\n<g id=\"node6\" class=\"node\">\n<title>5</title>\n<polygon fill=\"aliceblue\" stroke=\"transparent\" points=\"319,-422 124,-422 124,-380 319,-380 319,-422\"/>\n<polygon fill=\"none\" stroke=\"black\" points=\"124.5,-380 124.5,-422 177.5,-422 177.5,-380 124.5,-380\"/>\n<text text-anchor=\"start\" x=\"141.5\" y=\"-404\" font-family=\"Linux libertine\" font-size=\"10.00\">cat</text>\n<text text-anchor=\"start\" x=\"129.5\" y=\"-393\" font-family=\"Linux libertine\" font-size=\"10.00\">depth:1</text>\n<polygon fill=\"none\" stroke=\"black\" points=\"177.5,-401 177.5,-422 236.5,-422 236.5,-401 177.5,-401\"/>\n<text text-anchor=\"start\" x=\"188.5\" y=\"-409\" font-family=\"Linux libertine\" font-size=\"10.00\">input:</text>\n<polygon fill=\"none\" stroke=\"black\" points=\"236.5,-401 236.5,-422 319.5,-422 319.5,-401 236.5,-401\"/>\n<text text-anchor=\"start\" x=\"241.5\" y=\"-409\" font-family=\"Linux libertine\" font-size=\"10.00\">2 x (1, 34) </text>\n<polygon fill=\"none\" stroke=\"black\" points=\"177.5,-380 177.5,-401 236.5,-401 236.5,-380 177.5,-380\"/>\n<text text-anchor=\"start\" x=\"182.5\" y=\"-388\" font-family=\"Linux libertine\" font-size=\"10.00\">output: </text>\n<polygon fill=\"none\" stroke=\"black\" points=\"236.5,-380 236.5,-401 319.5,-401 319.5,-380 236.5,-380\"/>\n<text text-anchor=\"start\" x=\"253.5\" y=\"-388\" font-family=\"Linux libertine\" font-size=\"10.00\">(1, 68) </text>\n</g>\n<!-- 3&#45;&gt;5 -->\n<g id=\"edge5\" class=\"edge\">\n<title>3&#45;&gt;5</title>\n<path fill=\"none\" stroke=\"black\" d=\"M137.02,-457.83C150.92,-448.64 167.55,-437.65 182.36,-427.86\"/>\n<polygon fill=\"black\" stroke=\"black\" points=\"184.43,-430.69 190.84,-422.26 180.57,-424.85 184.43,-430.69\"/>\n</g>\n<!-- 4&#45;&gt;5 -->\n<g id=\"edge6\" class=\"edge\">\n<title>4&#45;&gt;5</title>\n<path fill=\"none\" stroke=\"black\" d=\"M306.72,-457.83C292.69,-448.64 275.92,-437.65 260.98,-427.86\"/>\n<polygon fill=\"black\" stroke=\"black\" points=\"262.71,-424.81 252.43,-422.26 258.87,-430.67 262.71,-424.81\"/>\n</g>\n<!-- 6 -->\n<g id=\"node7\" class=\"node\">\n<title>6</title>\n<polygon fill=\"#c1ffc1\" stroke=\"transparent\" points=\"307,-344 136,-344 136,-302 307,-302 307,-344\"/>\n<polygon fill=\"none\" stroke=\"black\" points=\"136.5,-302 136.5,-344 189.5,-344 189.5,-302 136.5,-302\"/>\n<text text-anchor=\"start\" x=\"141.5\" y=\"-326\" font-family=\"Linux libertine\" font-size=\"10.00\">Dropout</text>\n<text text-anchor=\"start\" x=\"141.5\" y=\"-315\" font-family=\"Linux libertine\" font-size=\"10.00\">depth:1</text>\n<polygon fill=\"none\" stroke=\"black\" points=\"189.5,-323 189.5,-344 248.5,-344 248.5,-323 189.5,-323\"/>\n<text text-anchor=\"start\" x=\"200.5\" y=\"-331\" font-family=\"Linux libertine\" font-size=\"10.00\">input:</text>\n<polygon fill=\"none\" stroke=\"black\" points=\"248.5,-323 248.5,-344 307.5,-344 307.5,-323 248.5,-323\"/>\n<text text-anchor=\"start\" x=\"253.5\" y=\"-331\" font-family=\"Linux libertine\" font-size=\"10.00\">(1, 68) </text>\n<polygon fill=\"none\" stroke=\"black\" points=\"189.5,-302 189.5,-323 248.5,-323 248.5,-302 189.5,-302\"/>\n<text text-anchor=\"start\" x=\"194.5\" y=\"-310\" font-family=\"Linux libertine\" font-size=\"10.00\">output: </text>\n<polygon fill=\"none\" stroke=\"black\" points=\"248.5,-302 248.5,-323 307.5,-323 307.5,-302 248.5,-302\"/>\n<text text-anchor=\"start\" x=\"253.5\" y=\"-310\" font-family=\"Linux libertine\" font-size=\"10.00\">(1, 68) </text>\n</g>\n<!-- 5&#45;&gt;6 -->\n<g id=\"edge7\" class=\"edge\">\n<title>5&#45;&gt;6</title>\n<path fill=\"none\" stroke=\"black\" d=\"M221.5,-379.63C221.5,-371.82 221.5,-362.73 221.5,-354.18\"/>\n<polygon fill=\"black\" stroke=\"black\" points=\"225,-354.16 221.5,-344.16 218,-354.16 225,-354.16\"/>\n</g>\n<!-- 7 -->\n<g id=\"node8\" class=\"node\">\n<title>7</title>\n<polygon fill=\"#c1ffc1\" stroke=\"transparent\" points=\"307,-266 136,-266 136,-224 307,-224 307,-266\"/>\n<polygon fill=\"none\" stroke=\"black\" points=\"136.5,-224 136.5,-266 189.5,-266 189.5,-224 136.5,-224\"/>\n<text text-anchor=\"start\" x=\"144.5\" y=\"-248\" font-family=\"Linux libertine\" font-size=\"10.00\">Linear</text>\n<text text-anchor=\"start\" x=\"141.5\" y=\"-237\" font-family=\"Linux libertine\" font-size=\"10.00\">depth:1</text>\n<polygon fill=\"none\" stroke=\"black\" points=\"189.5,-245 189.5,-266 248.5,-266 248.5,-245 189.5,-245\"/>\n<text text-anchor=\"start\" x=\"200.5\" y=\"-253\" font-family=\"Linux libertine\" font-size=\"10.00\">input:</text>\n<polygon fill=\"none\" stroke=\"black\" points=\"248.5,-245 248.5,-266 307.5,-266 307.5,-245 248.5,-245\"/>\n<text text-anchor=\"start\" x=\"253.5\" y=\"-253\" font-family=\"Linux libertine\" font-size=\"10.00\">(1, 68) </text>\n<polygon fill=\"none\" stroke=\"black\" points=\"189.5,-224 189.5,-245 248.5,-245 248.5,-224 189.5,-224\"/>\n<text text-anchor=\"start\" x=\"194.5\" y=\"-232\" font-family=\"Linux libertine\" font-size=\"10.00\">output: </text>\n<polygon fill=\"none\" stroke=\"black\" points=\"248.5,-224 248.5,-245 307.5,-245 307.5,-224 248.5,-224\"/>\n<text text-anchor=\"start\" x=\"256.5\" y=\"-232\" font-family=\"Linux libertine\" font-size=\"10.00\">(1, 1) </text>\n</g>\n<!-- 6&#45;&gt;7 -->\n<g id=\"edge8\" class=\"edge\">\n<title>6&#45;&gt;7</title>\n<path fill=\"none\" stroke=\"black\" d=\"M221.5,-301.63C221.5,-293.82 221.5,-284.73 221.5,-276.18\"/>\n<polygon fill=\"black\" stroke=\"black\" points=\"225,-276.16 221.5,-266.16 218,-276.16 225,-276.16\"/>\n</g>\n<!-- 8 -->\n<g id=\"node9\" class=\"node\">\n<title>8</title>\n<polygon fill=\"#c1ffc1\" stroke=\"transparent\" points=\"304,-188 139,-188 139,-146 304,-146 304,-188\"/>\n<polygon fill=\"none\" stroke=\"black\" points=\"139.5,-146 139.5,-188 192.5,-188 192.5,-146 139.5,-146\"/>\n<text text-anchor=\"start\" x=\"144.5\" y=\"-170\" font-family=\"Linux libertine\" font-size=\"10.00\">Sigmoid</text>\n<text text-anchor=\"start\" x=\"144.5\" y=\"-159\" font-family=\"Linux libertine\" font-size=\"10.00\">depth:1</text>\n<polygon fill=\"none\" stroke=\"black\" points=\"192.5,-167 192.5,-188 251.5,-188 251.5,-167 192.5,-167\"/>\n<text text-anchor=\"start\" x=\"203.5\" y=\"-175\" font-family=\"Linux libertine\" font-size=\"10.00\">input:</text>\n<polygon fill=\"none\" stroke=\"black\" points=\"251.5,-167 251.5,-188 304.5,-188 304.5,-167 251.5,-167\"/>\n<text text-anchor=\"start\" x=\"256.5\" y=\"-175\" font-family=\"Linux libertine\" font-size=\"10.00\">(1, 1) </text>\n<polygon fill=\"none\" stroke=\"black\" points=\"192.5,-146 192.5,-167 251.5,-167 251.5,-146 192.5,-146\"/>\n<text text-anchor=\"start\" x=\"197.5\" y=\"-154\" font-family=\"Linux libertine\" font-size=\"10.00\">output: </text>\n<polygon fill=\"none\" stroke=\"black\" points=\"251.5,-146 251.5,-167 304.5,-167 304.5,-146 251.5,-146\"/>\n<text text-anchor=\"start\" x=\"256.5\" y=\"-154\" font-family=\"Linux libertine\" font-size=\"10.00\">(1, 1) </text>\n</g>\n<!-- 7&#45;&gt;8 -->\n<g id=\"edge9\" class=\"edge\">\n<title>7&#45;&gt;8</title>\n<path fill=\"none\" stroke=\"black\" d=\"M221.5,-223.63C221.5,-215.82 221.5,-206.73 221.5,-198.18\"/>\n<polygon fill=\"black\" stroke=\"black\" points=\"225,-198.16 221.5,-188.16 218,-198.16 225,-198.16\"/>\n</g>\n<!-- 9 -->\n<g id=\"node10\" class=\"node\">\n<title>9</title>\n<polygon fill=\"aliceblue\" stroke=\"transparent\" points=\"304,-110 139,-110 139,-68 304,-68 304,-110\"/>\n<polygon fill=\"none\" stroke=\"black\" points=\"139.5,-68 139.5,-110 192.5,-110 192.5,-68 139.5,-68\"/>\n<text text-anchor=\"start\" x=\"144.5\" y=\"-92\" font-family=\"Linux libertine\" font-size=\"10.00\">squeeze</text>\n<text text-anchor=\"start\" x=\"144.5\" y=\"-81\" font-family=\"Linux libertine\" font-size=\"10.00\">depth:1</text>\n<polygon fill=\"none\" stroke=\"black\" points=\"192.5,-89 192.5,-110 251.5,-110 251.5,-89 192.5,-89\"/>\n<text text-anchor=\"start\" x=\"203.5\" y=\"-97\" font-family=\"Linux libertine\" font-size=\"10.00\">input:</text>\n<polygon fill=\"none\" stroke=\"black\" points=\"251.5,-89 251.5,-110 304.5,-110 304.5,-89 251.5,-89\"/>\n<text text-anchor=\"start\" x=\"256.5\" y=\"-97\" font-family=\"Linux libertine\" font-size=\"10.00\">(1, 1) </text>\n<polygon fill=\"none\" stroke=\"black\" points=\"192.5,-68 192.5,-89 251.5,-89 251.5,-68 192.5,-68\"/>\n<text text-anchor=\"start\" x=\"197.5\" y=\"-76\" font-family=\"Linux libertine\" font-size=\"10.00\">output: </text>\n<polygon fill=\"none\" stroke=\"black\" points=\"251.5,-68 251.5,-89 304.5,-89 304.5,-68 251.5,-68\"/>\n<text text-anchor=\"start\" x=\"262.5\" y=\"-76\" font-family=\"Linux libertine\" font-size=\"10.00\">(1,) </text>\n</g>\n<!-- 8&#45;&gt;9 -->\n<g id=\"edge10\" class=\"edge\">\n<title>8&#45;&gt;9</title>\n<path fill=\"none\" stroke=\"black\" d=\"M221.5,-145.63C221.5,-137.82 221.5,-128.73 221.5,-120.18\"/>\n<polygon fill=\"black\" stroke=\"black\" points=\"225,-120.16 221.5,-110.16 218,-120.16 225,-120.16\"/>\n</g>\n<!-- 10 -->\n<g id=\"node11\" class=\"node\">\n<title>10</title>\n<polygon fill=\"lightyellow\" stroke=\"transparent\" points=\"283.5,-32 159.5,-32 159.5,0 283.5,0 283.5,-32\"/>\n<polygon fill=\"none\" stroke=\"black\" points=\"159.5,0 159.5,-32 248.5,-32 248.5,0 159.5,0\"/>\n<text text-anchor=\"start\" x=\"164.5\" y=\"-19\" font-family=\"Linux libertine\" font-size=\"10.00\">output&#45;tensor</text>\n<text text-anchor=\"start\" x=\"182.5\" y=\"-8\" font-family=\"Linux libertine\" font-size=\"10.00\">depth:0</text>\n<polygon fill=\"none\" stroke=\"black\" points=\"248.5,0 248.5,-32 283.5,-32 283.5,0 248.5,0\"/>\n<text text-anchor=\"start\" x=\"253.5\" y=\"-13.5\" font-family=\"Linux libertine\" font-size=\"10.00\">(1,)</text>\n</g>\n<!-- 9&#45;&gt;10 -->\n<g id=\"edge11\" class=\"edge\">\n<title>9&#45;&gt;10</title>\n<path fill=\"none\" stroke=\"black\" d=\"M221.5,-67.84C221.5,-59.89 221.5,-50.66 221.5,-42.26\"/>\n<polygon fill=\"black\" stroke=\"black\" points=\"225,-42.24 221.5,-32.24 218,-42.24 225,-42.24\"/>\n</g>\n</g>\n</svg>\n",
            "text/plain": [
              "<graphviz.graphs.Digraph at 0x78c975562790>"
            ]
          },
          "metadata": {},
          "execution_count": 112
        }
      ]
    },
    {
      "cell_type": "code",
      "source": [
        "model_graph.visual_graph.graph_attr[\"rankdir\"] = \"LR\""
      ],
      "metadata": {
        "id": "Z2_9ZdFZxwJE"
      },
      "execution_count": 113,
      "outputs": []
    },
    {
      "cell_type": "code",
      "source": [
        "model_graph.visual_graph.render(\"/content/drive/MyDrive/MasterIA/DeepLearning/Microproy2/SentimentRNN_LR_architecture\", format=\"png\")"
      ],
      "metadata": {
        "colab": {
          "base_uri": "https://localhost:8080/",
          "height": 36
        },
        "id": "NIKQC5TeV145",
        "outputId": "a2531f93-de05-407a-af36-f7c205b2ae50"
      },
      "execution_count": 114,
      "outputs": [
        {
          "output_type": "execute_result",
          "data": {
            "text/plain": [
              "'/content/drive/MyDrive/MasterIA/DeepLearning/Microproy2/SentimentRNN_LR_architecture.png'"
            ],
            "application/vnd.google.colaboratory.intrinsic+json": {
              "type": "string"
            }
          },
          "metadata": {},
          "execution_count": 114
        }
      ]
    },
    {
      "cell_type": "code",
      "source": [
        "df_results = pd.DataFrame(summary[\"results\"])\n",
        "df_results[\"config_str\"] = df_results[\"config\"].apply(\n",
        "    lambda cfg: f\"{cfg['rnn_type']}-{cfg['num_layers']}x{'bi' if cfg['bidirectional'] else 'uni'}\"\n",
        ")\n",
        "\n",
        "df_results.to_csv(\"comparacion_modelos.csv\", index=False)\n",
        "print(\" Resultados exportados a comparacion_modelos.csv\")"
      ],
      "metadata": {
        "colab": {
          "base_uri": "https://localhost:8080/"
        },
        "id": "ypkm1hppw08j",
        "outputId": "bef0038a-517a-46e3-d610-0a8dc28733c9"
      },
      "execution_count": 115,
      "outputs": [
        {
          "output_type": "stream",
          "name": "stdout",
          "text": [
            " Resultados exportados a comparacion_modelos.csv\n"
          ]
        }
      ]
    },
    {
      "cell_type": "code",
      "source": [
        "!pip freeze > '/content/drive/MyDrive/MasterIA/DeepLearning/Microproy2/requirements.txt'"
      ],
      "metadata": {
        "id": "Q5fubdwkftZB"
      },
      "execution_count": 116,
      "outputs": []
    },
    {
      "cell_type": "markdown",
      "source": [
        "# Resultados y Conclusiones"
      ],
      "metadata": {
        "id": "k-ojIVKpxeWo"
      }
    },
    {
      "cell_type": "markdown",
      "source": [
        "\n",
        "\n",
        "1.   **Incidencia de los hiperparámetros**: En la primera parte de este notebook corrimos una optimización de hiperparámetros sobre una arquitectura fija. Pudimos obtener una buen desempeño del modelo, sin embargo esta optimización no nos dio información sobre cómo se comportaba la arquitectura RNN y sus tipos, capas escondidas, bidireccionalidad, etc.\n",
        "2.   **Incidencia de la Arquitectura**: En cuanto a la información de cada arquitectura, cada ablación que hicimos paso a paso nos mostró que la mejor arquitectura fue en la que usamos RNN tipo GRU, con los siguientes parámetros:\n",
        "\n",
        "\n",
        "```\n",
        "{'hidden_dim': 74,\n",
        " 'lr': 0.0006205974133218978,\n",
        " 'freeze': False,\n",
        " 'rnn_type': 'gru',\n",
        " 'num_layers': 1,\n",
        " 'bidirectional': True}\n",
        "```\n",
        "Vimos que la arquitectura y tipo de la RNN influyen bastante en el rendimiento del modelo época a época, dado que para otras arquitecturas, aunque las métricas fueran similares, el avance de Accuracy empezaba bastante alto para la arquitectura adecuada con los parámetros optimizados.\n",
        "\n",
        "3.   **Ayuda de Optuna**: La utilización de Optuna en la optimización nos guió en encontrar los mejores hiperparámetros. Partiendo de esta base nos concentramos en la comparación de arquitecturas que nos llevaran al mejor modelo.\n",
        "4.   **Ventajas y Desventajas de utilizar RNN para Análisis de sentimiento**\n",
        "\n",
        "**Ventajas**\n",
        "1. En este modelo, RNN sirvió como una red que puede recordar los tokens utilizados en un texto para comprender el sentimiento del review.\n",
        "2. Utilizando un modelo pre-entrenado como word2vec se puede alcanzar un buen rendimiento del modelo, al menos en un conjunto de datos pequeño como el de este ejemplo, si se evalúa la arquitectura adecuada.\n",
        "3. Se necesitan sólo unas pocas capas ocultas para lograr un buen resultado.\n",
        "\n",
        "**Desventajas**\n",
        "1. Una RNN unidireccional no capta realmente el sentido de una oración, especialmente si apenas recuerda los tokens anteriores, es probable que dependa de la construcción de las oraciones, por lo tanto puede fallar para ejemplos complejos.\n",
        "\n",
        "**Resultados**\n",
        "* La red con mayor rendimiento ha sido una unidireccional. Este es un resultado que no se esperaba, ya que una red bidireccional puede tener mayor contexto en cuanto al sentido de un texto. Es probable  que esto se deba al tamaño del dataset.\n",
        "* El mejor modelo tuvo un rendimiento bastante alto. Cuando se volvía a correr el notebook el porcentaje del mejor modelo incrementaba, por lo que es posible que hubiéramos llegado a un sobreajuste. Hemos dejado este punto fuera del alcance de este proyecto.\n",
        "\n",
        "\n"
      ],
      "metadata": {
        "id": "90EJllhbxjic"
      }
    },
    {
      "cell_type": "markdown",
      "source": [
        "# Creando una aplicación con Gradio para Análisis de Sentimiento para Reviews de Películas"
      ],
      "metadata": {
        "id": "3EWZ695EC3kc"
      }
    },
    {
      "cell_type": "code",
      "source": [
        "!pip install gradio"
      ],
      "metadata": {
        "colab": {
          "base_uri": "https://localhost:8080/"
        },
        "id": "Kt0i8fJL_xCS",
        "outputId": "c73fc238-4a33-43a1-f8d9-4d2516747abd"
      },
      "execution_count": 117,
      "outputs": [
        {
          "output_type": "stream",
          "name": "stdout",
          "text": [
            "Requirement already satisfied: gradio in /usr/local/lib/python3.11/dist-packages (5.29.0)\n",
            "Requirement already satisfied: aiofiles<25.0,>=22.0 in /usr/local/lib/python3.11/dist-packages (from gradio) (24.1.0)\n",
            "Requirement already satisfied: anyio<5.0,>=3.0 in /usr/local/lib/python3.11/dist-packages (from gradio) (4.9.0)\n",
            "Requirement already satisfied: fastapi<1.0,>=0.115.2 in /usr/local/lib/python3.11/dist-packages (from gradio) (0.115.12)\n",
            "Requirement already satisfied: ffmpy in /usr/local/lib/python3.11/dist-packages (from gradio) (0.5.0)\n",
            "Requirement already satisfied: gradio-client==1.10.0 in /usr/local/lib/python3.11/dist-packages (from gradio) (1.10.0)\n",
            "Requirement already satisfied: groovy~=0.1 in /usr/local/lib/python3.11/dist-packages (from gradio) (0.1.2)\n",
            "Requirement already satisfied: httpx>=0.24.1 in /usr/local/lib/python3.11/dist-packages (from gradio) (0.28.1)\n",
            "Requirement already satisfied: huggingface-hub>=0.28.1 in /usr/local/lib/python3.11/dist-packages (from gradio) (0.31.1)\n",
            "Requirement already satisfied: jinja2<4.0 in /usr/local/lib/python3.11/dist-packages (from gradio) (3.1.6)\n",
            "Requirement already satisfied: markupsafe<4.0,>=2.0 in /usr/local/lib/python3.11/dist-packages (from gradio) (3.0.2)\n",
            "Requirement already satisfied: numpy<3.0,>=1.0 in /usr/local/lib/python3.11/dist-packages (from gradio) (1.26.4)\n",
            "Requirement already satisfied: orjson~=3.0 in /usr/local/lib/python3.11/dist-packages (from gradio) (3.10.18)\n",
            "Requirement already satisfied: packaging in /usr/local/lib/python3.11/dist-packages (from gradio) (24.2)\n",
            "Requirement already satisfied: pandas<3.0,>=1.0 in /usr/local/lib/python3.11/dist-packages (from gradio) (2.2.2)\n",
            "Requirement already satisfied: pillow<12.0,>=8.0 in /usr/local/lib/python3.11/dist-packages (from gradio) (11.2.1)\n",
            "Requirement already satisfied: pydantic<2.12,>=2.0 in /usr/local/lib/python3.11/dist-packages (from gradio) (2.11.4)\n",
            "Requirement already satisfied: pydub in /usr/local/lib/python3.11/dist-packages (from gradio) (0.25.1)\n",
            "Requirement already satisfied: python-multipart>=0.0.18 in /usr/local/lib/python3.11/dist-packages (from gradio) (0.0.20)\n",
            "Requirement already satisfied: pyyaml<7.0,>=5.0 in /usr/local/lib/python3.11/dist-packages (from gradio) (6.0.2)\n",
            "Requirement already satisfied: ruff>=0.9.3 in /usr/local/lib/python3.11/dist-packages (from gradio) (0.11.9)\n",
            "Requirement already satisfied: safehttpx<0.2.0,>=0.1.6 in /usr/local/lib/python3.11/dist-packages (from gradio) (0.1.6)\n",
            "Requirement already satisfied: semantic-version~=2.0 in /usr/local/lib/python3.11/dist-packages (from gradio) (2.10.0)\n",
            "Requirement already satisfied: starlette<1.0,>=0.40.0 in /usr/local/lib/python3.11/dist-packages (from gradio) (0.46.2)\n",
            "Requirement already satisfied: tomlkit<0.14.0,>=0.12.0 in /usr/local/lib/python3.11/dist-packages (from gradio) (0.13.2)\n",
            "Requirement already satisfied: typer<1.0,>=0.12 in /usr/local/lib/python3.11/dist-packages (from gradio) (0.15.3)\n",
            "Requirement already satisfied: typing-extensions~=4.0 in /usr/local/lib/python3.11/dist-packages (from gradio) (4.13.2)\n",
            "Requirement already satisfied: uvicorn>=0.14.0 in /usr/local/lib/python3.11/dist-packages (from gradio) (0.34.2)\n",
            "Requirement already satisfied: fsspec in /usr/local/lib/python3.11/dist-packages (from gradio-client==1.10.0->gradio) (2025.3.2)\n",
            "Requirement already satisfied: websockets<16.0,>=10.0 in /usr/local/lib/python3.11/dist-packages (from gradio-client==1.10.0->gradio) (15.0.1)\n",
            "Requirement already satisfied: idna>=2.8 in /usr/local/lib/python3.11/dist-packages (from anyio<5.0,>=3.0->gradio) (3.10)\n",
            "Requirement already satisfied: sniffio>=1.1 in /usr/local/lib/python3.11/dist-packages (from anyio<5.0,>=3.0->gradio) (1.3.1)\n",
            "Requirement already satisfied: certifi in /usr/local/lib/python3.11/dist-packages (from httpx>=0.24.1->gradio) (2025.4.26)\n",
            "Requirement already satisfied: httpcore==1.* in /usr/local/lib/python3.11/dist-packages (from httpx>=0.24.1->gradio) (1.0.9)\n",
            "Requirement already satisfied: h11>=0.16 in /usr/local/lib/python3.11/dist-packages (from httpcore==1.*->httpx>=0.24.1->gradio) (0.16.0)\n",
            "Requirement already satisfied: filelock in /usr/local/lib/python3.11/dist-packages (from huggingface-hub>=0.28.1->gradio) (3.18.0)\n",
            "Requirement already satisfied: requests in /usr/local/lib/python3.11/dist-packages (from huggingface-hub>=0.28.1->gradio) (2.32.3)\n",
            "Requirement already satisfied: tqdm>=4.42.1 in /usr/local/lib/python3.11/dist-packages (from huggingface-hub>=0.28.1->gradio) (4.67.1)\n",
            "Requirement already satisfied: hf-xet<2.0.0,>=1.1.0 in /usr/local/lib/python3.11/dist-packages (from huggingface-hub>=0.28.1->gradio) (1.1.0)\n",
            "Requirement already satisfied: python-dateutil>=2.8.2 in /usr/local/lib/python3.11/dist-packages (from pandas<3.0,>=1.0->gradio) (2.9.0.post0)\n",
            "Requirement already satisfied: pytz>=2020.1 in /usr/local/lib/python3.11/dist-packages (from pandas<3.0,>=1.0->gradio) (2025.2)\n",
            "Requirement already satisfied: tzdata>=2022.7 in /usr/local/lib/python3.11/dist-packages (from pandas<3.0,>=1.0->gradio) (2025.2)\n",
            "Requirement already satisfied: annotated-types>=0.6.0 in /usr/local/lib/python3.11/dist-packages (from pydantic<2.12,>=2.0->gradio) (0.7.0)\n",
            "Requirement already satisfied: pydantic-core==2.33.2 in /usr/local/lib/python3.11/dist-packages (from pydantic<2.12,>=2.0->gradio) (2.33.2)\n",
            "Requirement already satisfied: typing-inspection>=0.4.0 in /usr/local/lib/python3.11/dist-packages (from pydantic<2.12,>=2.0->gradio) (0.4.0)\n",
            "Requirement already satisfied: click>=8.0.0 in /usr/local/lib/python3.11/dist-packages (from typer<1.0,>=0.12->gradio) (8.1.8)\n",
            "Requirement already satisfied: shellingham>=1.3.0 in /usr/local/lib/python3.11/dist-packages (from typer<1.0,>=0.12->gradio) (1.5.4)\n",
            "Requirement already satisfied: rich>=10.11.0 in /usr/local/lib/python3.11/dist-packages (from typer<1.0,>=0.12->gradio) (13.9.4)\n",
            "Requirement already satisfied: six>=1.5 in /usr/local/lib/python3.11/dist-packages (from python-dateutil>=2.8.2->pandas<3.0,>=1.0->gradio) (1.17.0)\n",
            "Requirement already satisfied: markdown-it-py>=2.2.0 in /usr/local/lib/python3.11/dist-packages (from rich>=10.11.0->typer<1.0,>=0.12->gradio) (3.0.0)\n",
            "Requirement already satisfied: pygments<3.0.0,>=2.13.0 in /usr/local/lib/python3.11/dist-packages (from rich>=10.11.0->typer<1.0,>=0.12->gradio) (2.19.1)\n",
            "Requirement already satisfied: charset-normalizer<4,>=2 in /usr/local/lib/python3.11/dist-packages (from requests->huggingface-hub>=0.28.1->gradio) (3.4.2)\n",
            "Requirement already satisfied: urllib3<3,>=1.21.1 in /usr/local/lib/python3.11/dist-packages (from requests->huggingface-hub>=0.28.1->gradio) (2.4.0)\n",
            "Requirement already satisfied: mdurl~=0.1 in /usr/local/lib/python3.11/dist-packages (from markdown-it-py>=2.2.0->rich>=10.11.0->typer<1.0,>=0.12->gradio) (0.1.2)\n"
          ]
        }
      ]
    },
    {
      "cell_type": "code",
      "source": [
        "import gradio"
      ],
      "metadata": {
        "id": "8jZdOFyH_uxu"
      },
      "execution_count": 118,
      "outputs": []
    },
    {
      "cell_type": "code",
      "source": [
        "gradio.Interface(fn=pipeline.predict, inputs=\"text\", outputs=\"text\").launch(debug=True,share=True)"
      ],
      "metadata": {
        "colab": {
          "base_uri": "https://localhost:8080/",
          "height": 698
        },
        "id": "tzoN2u_t_204",
        "outputId": "ef6137bf-d634-4398-b845-2ce50c4f9814"
      },
      "execution_count": 119,
      "outputs": [
        {
          "output_type": "stream",
          "name": "stdout",
          "text": [
            "Colab notebook detected. This cell will run indefinitely so that you can see errors and logs. To turn off, set debug=False in launch().\n",
            "* Running on public URL: https://14341a71bbab3d5203.gradio.live\n",
            "\n",
            "This share link expires in 1 week. For free permanent hosting and GPU upgrades, run `gradio deploy` from the terminal in the working directory to deploy to Hugging Face Spaces (https://huggingface.co/spaces)\n"
          ]
        },
        {
          "output_type": "display_data",
          "data": {
            "text/plain": [
              "<IPython.core.display.HTML object>"
            ],
            "text/html": [
              "<div><iframe src=\"https://14341a71bbab3d5203.gradio.live\" width=\"100%\" height=\"500\" allow=\"autoplay; camera; microphone; clipboard-read; clipboard-write;\" frameborder=\"0\" allowfullscreen></iframe></div>"
            ]
          },
          "metadata": {}
        },
        {
          "output_type": "stream",
          "name": "stdout",
          "text": [
            "Predicting on device: cuda\n",
            "Predicting on device: cuda\n",
            "Predicting on device: cuda\n",
            "Keyboard interruption in main thread... closing server.\n",
            "Killing tunnel 127.0.0.1:7860 <> https://14341a71bbab3d5203.gradio.live\n"
          ]
        },
        {
          "output_type": "execute_result",
          "data": {
            "text/plain": []
          },
          "metadata": {},
          "execution_count": 119
        }
      ]
    }
  ]
}